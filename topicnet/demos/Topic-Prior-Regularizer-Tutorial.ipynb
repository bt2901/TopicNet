{
 "cells": [
  {
   "cell_type": "markdown",
   "metadata": {},
   "source": [
    "# Topic Prior Regularizer Tutorial \n",
    "\n",
    "The notebook contains the application and impact of `TopicPriorRegularizer` and its version with sampling a priori probabilities $\\varphi_t$ from the Dirichlet distribution.\n",
    "\n",
    "---\n",
    "\n",
    "# Пример работы с TopicPriorRegularizer.\n",
    "\n",
    "В ноутбуке рассматривается применение и влияние на тематические модели регуляризатора `TopicPriorRegularizer` и его версии с семплированием априорных вероятностей $\\varphi_t$ из распределения Дирихле."
   ]
  },
  {
   "cell_type": "markdown",
   "metadata": {},
   "source": [
    "# Contents<a id=\"contents\"></a>\n",
    "\n",
    "* [Formula](#formula)\n",
    "* [Data Preparation](#data)\n",
    "    * [Topics Filtering (so as to Keep Only Two of Them)](#topics-filtering)\n",
    "    * [Disbalance](#disbalance)\n",
    "    * [Dataset Initialization](#dataset-init)\n",
    "* [Model Training](#model-training)\n",
    "* [Looking at the Models](#exploring-models)\n",
    "    * [Plots](#plots)\n",
    "    * [Viewers](#viewers)\n",
    "* [Semantic Radius Score Computation](#semantic-radius-score)"
   ]
  },
  {
   "cell_type": "code",
   "execution_count": 1,
   "metadata": {},
   "outputs": [],
   "source": [
    "import csv\n",
    "import numpy as np\n",
    "import os\n",
    "import pandas as pd\n",
    "import shutil\n",
    "import tempfile\n",
    "import tqdm\n",
    "\n",
    "from numpy import random\n",
    "from matplotlib import pyplot as plt"
   ]
  },
  {
   "cell_type": "code",
   "execution_count": 3,
   "metadata": {},
   "outputs": [],
   "source": [
    "import artm\n",
    "import topicnet\n",
    "\n",
    "from topicnet.dataset_manager import load_dataset\n",
    "from topicnet.cooking_machine.dataset import Dataset\n",
    "\n",
    "from topicnet.cooking_machine.models import TopicModel\n",
    "from topicnet.cooking_machine.models.semantic_radius_score import SemanticRadiusScore\n",
    "from topicnet.cooking_machine.models.topic_prior_regularizer import TopicPriorRegularizer\n",
    "from topicnet.cooking_machine.models.topic_prior_regularizer import TopicPriorSampledRegularizer\n",
    "\n",
    "from topicnet.viewers.top_documents_viewer import TopDocumentsViewer\n",
    "from topicnet.viewers.top_tokens_viewer import TopTokensViewer"
   ]
  },
  {
   "cell_type": "markdown",
   "metadata": {},
   "source": [
    "## Formula<a id=\"formula\"></a>\n",
    "\n",
    "<div style=\"text-align: right\">Back to <a href=#contents>Contents</a></div>\n",
    "\n",
    "$$R(\\Phi,\\Theta) = \\sum_t\\sum_w\\beta_t\\ln\\phi_{wt}$$\n",
    "$$\\frac{\\partial R}{\\partial\\Phi_{wt}} = \\frac{\\beta_t}{\\varphi_{wt}}$$"
   ]
  },
  {
   "cell_type": "markdown",
   "metadata": {},
   "source": [
    "## Data Preparation<a id=\"data\"></a>\n",
    "\n",
    "<div style=\"text-align: right\">Back to <a href=#contents>Contents</a></div>"
   ]
  },
  {
   "cell_type": "markdown",
   "metadata": {},
   "source": [
    "### Data Loading<a id=\"data-loading\"></a>\n",
    "\n",
    "<div style=\"text-align: right\">Back to <a href=#contents>Contents</a></div>"
   ]
  },
  {
   "cell_type": "markdown",
   "metadata": {},
   "source": [
    "The collection to be used for modeling is going to contain 1000 documents on the topic \"Business\" and 100 documents on the topic \"Music\".\n",
    "First, we need to download the full dataset (where there are many tags).\n",
    "And then we will do a little filtering to make an ubalanced dataset with two tags (i.e. topics)."
   ]
  },
  {
   "cell_type": "code",
   "execution_count": 4,
   "metadata": {},
   "outputs": [],
   "source": [
    "DATASET_NAME = 'lenta'\n",
    "DATASET_FILE_NAME = f'{DATASET_NAME}.csv'\n",
    "\n",
    "# Folder, where all downloaded TopicNet's datasets reside\n",
    "DATASETS_FOLDER_PATH = os.path.join(\n",
    "    os.path.dirname(topicnet.__file__),\n",
    "    'dataset_manager',\n",
    ")"
   ]
  },
  {
   "cell_type": "code",
   "execution_count": 5,
   "metadata": {},
   "outputs": [
    {
     "data": {
      "text/plain": [
       "['__pycache__',\n",
       " 'postnauka.csv',\n",
       " 'api.py',\n",
       " '__init__.py',\n",
       " 'postnauka__internals',\n",
       " 'DemoDataset.ipynb']"
      ]
     },
     "execution_count": 5,
     "metadata": {},
     "output_type": "execute_result"
    }
   ],
   "source": [
    "os.listdir(DATASETS_FOLDER_PATH)"
   ]
  },
  {
   "cell_type": "markdown",
   "metadata": {},
   "source": [
    "If dataset not yet on the machine, we'll download it"
   ]
  },
  {
   "cell_type": "code",
   "execution_count": null,
   "metadata": {},
   "outputs": [
    {
     "name": "stdout",
     "output_type": "stream",
     "text": [
      "Downloading the \"lenta\" dataset...\n",
      "100%|██████████| 462M/462M [00:06<00:00, 73.2MiB/s] \n",
      "Dataset downloaded! Save path is: \"/home/alekseev/topicnet/dataset_manager/lenta.csv\"\n"
     ]
    }
   ],
   "source": [
    "if DATASET_FILE_NAME not in os.listdir(DATASETS_FOLDER_PATH):\n",
    "    _ = load_dataset(DATASET_NAME)"
   ]
  },
  {
   "cell_type": "code",
   "execution_count": 6,
   "metadata": {},
   "outputs": [],
   "source": [
    "assert DATASET_FILE_NAME in os.listdir(DATASETS_FOLDER_PATH)"
   ]
  },
  {
   "cell_type": "code",
   "execution_count": 7,
   "metadata": {},
   "outputs": [],
   "source": [
    "DATASET_FILE_PATH = os.path.join(\n",
    "    DATASETS_FOLDER_PATH,\n",
    "    DATASET_FILE_NAME,\n",
    ")"
   ]
  },
  {
   "cell_type": "markdown",
   "metadata": {},
   "source": [
    "The dataset is big, so reading it all like `pd.read_csv()` may lead to memory crash.\n",
    "Let's look at the header and some row."
   ]
  },
  {
   "cell_type": "code",
   "execution_count": 8,
   "metadata": {},
   "outputs": [],
   "source": [
    "df = pd.read_csv(DATASET_FILE_PATH, nrows=1, index_col=0)"
   ]
  },
  {
   "cell_type": "code",
   "execution_count": 9,
   "metadata": {},
   "outputs": [
    {
     "data": {
      "text/html": [
       "<div>\n",
       "<style scoped>\n",
       "    .dataframe tbody tr th:only-of-type {\n",
       "        vertical-align: middle;\n",
       "    }\n",
       "\n",
       "    .dataframe tbody tr th {\n",
       "        vertical-align: top;\n",
       "    }\n",
       "\n",
       "    .dataframe thead th {\n",
       "        text-align: right;\n",
       "    }\n",
       "</style>\n",
       "<table border=\"1\" class=\"dataframe\">\n",
       "  <thead>\n",
       "    <tr style=\"text-align: right;\">\n",
       "      <th></th>\n",
       "      <th>url</th>\n",
       "      <th>title</th>\n",
       "      <th>text</th>\n",
       "      <th>topic</th>\n",
       "      <th>tags</th>\n",
       "      <th>lemmatized</th>\n",
       "      <th>year</th>\n",
       "      <th>month</th>\n",
       "      <th>day</th>\n",
       "      <th>time_n</th>\n",
       "      <th>lemmatized_title</th>\n",
       "      <th>topmine</th>\n",
       "      <th>vw_text</th>\n",
       "      <th>id</th>\n",
       "    </tr>\n",
       "    <tr>\n",
       "      <th>Unnamed: 0</th>\n",
       "      <th></th>\n",
       "      <th></th>\n",
       "      <th></th>\n",
       "      <th></th>\n",
       "      <th></th>\n",
       "      <th></th>\n",
       "      <th></th>\n",
       "      <th></th>\n",
       "      <th></th>\n",
       "      <th></th>\n",
       "      <th></th>\n",
       "      <th></th>\n",
       "      <th></th>\n",
       "      <th></th>\n",
       "    </tr>\n",
       "  </thead>\n",
       "  <tbody>\n",
       "    <tr>\n",
       "      <th>449272</th>\n",
       "      <td>https://lenta.ru/news/2013/01/01/fire2/</td>\n",
       "      <td>В ЮАР четыре тысячи человек остались без крова...</td>\n",
       "      <td>В ЮАР произошел пожар, в результате которого п...</td>\n",
       "      <td>Мир</td>\n",
       "      <td>Все</td>\n",
       "      <td>юар произойти пожар результат погибнуть ожог т...</td>\n",
       "      <td>2013</td>\n",
       "      <td>1</td>\n",
       "      <td>1</td>\n",
       "      <td>449272</td>\n",
       "      <td>в юар четыре тысяча человек остаться без кров ...</td>\n",
       "      <td>место_настоящее состояние_алкогольный_опьянени...</td>\n",
       "      <td>0 |@word юар произойти пожар результат погибну...</td>\n",
       "      <td>0</td>\n",
       "    </tr>\n",
       "  </tbody>\n",
       "</table>\n",
       "</div>"
      ],
      "text/plain": [
       "                                                url  \\\n",
       "Unnamed: 0                                            \n",
       "449272      https://lenta.ru/news/2013/01/01/fire2/   \n",
       "\n",
       "                                                        title  \\\n",
       "Unnamed: 0                                                      \n",
       "449272      В ЮАР четыре тысячи человек остались без крова...   \n",
       "\n",
       "                                                         text topic tags  \\\n",
       "Unnamed: 0                                                                 \n",
       "449272      В ЮАР произошел пожар, в результате которого п...   Мир  Все   \n",
       "\n",
       "                                                   lemmatized  year  month  \\\n",
       "Unnamed: 0                                                                   \n",
       "449272      юар произойти пожар результат погибнуть ожог т...  2013      1   \n",
       "\n",
       "            day  time_n                                   lemmatized_title  \\\n",
       "Unnamed: 0                                                                   \n",
       "449272        1  449272  в юар четыре тысяча человек остаться без кров ...   \n",
       "\n",
       "                                                      topmine  \\\n",
       "Unnamed: 0                                                      \n",
       "449272      место_настоящее состояние_алкогольный_опьянени...   \n",
       "\n",
       "                                                      vw_text  id  \n",
       "Unnamed: 0                                                         \n",
       "449272      0 |@word юар произойти пожар результат погибну...   0  "
      ]
     },
     "execution_count": 9,
     "metadata": {},
     "output_type": "execute_result"
    }
   ],
   "source": [
    "df.head()"
   ]
  },
  {
   "cell_type": "markdown",
   "metadata": {},
   "source": [
    "Tags we are interested in"
   ]
  },
  {
   "cell_type": "code",
   "execution_count": 10,
   "metadata": {},
   "outputs": [],
   "source": [
    "TAG_BUSINESS = 'Бизнес'\n",
    "TAG_MUSIC = 'Музыка'\n",
    "TAGS_OF_INTEREST = [TAG_MUSIC, TAG_BUSINESS]\n",
    "\n",
    "COLUMN_NAME_TAGS = 'tags'"
   ]
  },
  {
   "cell_type": "code",
   "execution_count": 11,
   "metadata": {},
   "outputs": [],
   "source": [
    "WORKING_FOLDER_PATH = tempfile.mkdtemp()"
   ]
  },
  {
   "cell_type": "code",
   "execution_count": 12,
   "metadata": {},
   "outputs": [
    {
     "data": {
      "text/plain": [
       "'/tmp/tmpaix3v962'"
      ]
     },
     "execution_count": 12,
     "metadata": {},
     "output_type": "execute_result"
    }
   ],
   "source": [
    "WORKING_FOLDER_PATH"
   ]
  },
  {
   "cell_type": "markdown",
   "metadata": {},
   "source": [
    "### Topics Filtering (so as to Keep Only Two of Them)<a id=\"topics-filtering\"></a>\n",
    "\n",
    "<div style=\"text-align: right\">Back to <a href=#contents>Contents</a></div>"
   ]
  },
  {
   "cell_type": "markdown",
   "metadata": {},
   "source": [
    "New dataset which we are going to make: with two topics & unbalanced."
   ]
  },
  {
   "cell_type": "code",
   "execution_count": 13,
   "metadata": {},
   "outputs": [],
   "source": [
    "NEW_DATASET_FILE_PATH = os.path.join(WORKING_FOLDER_PATH, DATASET_FILE_NAME)"
   ]
  },
  {
   "cell_type": "code",
   "execution_count": 14,
   "metadata": {},
   "outputs": [],
   "source": [
    "total_num_rows = None"
   ]
  },
  {
   "cell_type": "code",
   "execution_count": 16,
   "metadata": {},
   "outputs": [
    {
     "name": "stdout",
     "output_type": "stream",
     "text": [
      "Writing new dataset...\n",
      "100%|██████████| 263558/263558 [00:25<00:00, 10431.68it/s]\n"
     ]
    }
   ],
   "source": [
    "if total_num_rows is None:\n",
    "    total_num_rows = 0\n",
    "\n",
    "    print('Counting rows...')\n",
    "\n",
    "    with open(DATASET_FILE_PATH, 'r') as f:\n",
    "        for i, _ in tqdm.tqdm(enumerate(csv.reader(f)), file=sys.stdout):\n",
    "            total_num_rows += 1\n",
    "\n",
    "\n",
    "print('Writing new dataset...')\n",
    "\n",
    "tags_column_index = None\n",
    "num_rows_of_interest = 0\n",
    "\n",
    "with open(DATASET_FILE_PATH, 'r') as file_in, open(NEW_DATASET_FILE_PATH, 'w') as file_out:\n",
    "    reader = csv.reader(file_in)\n",
    "    writer = csv.writer(file_out)\n",
    "\n",
    "    for i, row in tqdm.tqdm(enumerate(reader), total=total_num_rows, file=sys.stdout):\n",
    "        if i == 0:\n",
    "            tags_column_index = row.index(COLUMN_NAME_TAGS)\n",
    "            writer.writerow(row)\n",
    "\n",
    "            continue\n",
    "        \n",
    "        if row[tags_column_index] in TAGS_OF_INTEREST:\n",
    "            writer.writerow(row)\n",
    "            num_rows_of_interest += 1"
   ]
  },
  {
   "cell_type": "code",
   "execution_count": 17,
   "metadata": {},
   "outputs": [
    {
     "name": "stdout",
     "output_type": "stream",
     "text": [
      "Number of rows in newly created dataset: 14044\n"
     ]
    }
   ],
   "source": [
    "print(f'Number of rows in newly created dataset: {num_rows_of_interest}')"
   ]
  },
  {
   "cell_type": "markdown",
   "metadata": {},
   "source": [
    "Let's see what we have"
   ]
  },
  {
   "cell_type": "code",
   "execution_count": 18,
   "metadata": {},
   "outputs": [],
   "source": [
    "df = pd.read_csv(NEW_DATASET_FILE_PATH, index_col=0)"
   ]
  },
  {
   "cell_type": "code",
   "execution_count": 19,
   "metadata": {},
   "outputs": [
    {
     "data": {
      "text/html": [
       "<div>\n",
       "<style scoped>\n",
       "    .dataframe tbody tr th:only-of-type {\n",
       "        vertical-align: middle;\n",
       "    }\n",
       "\n",
       "    .dataframe tbody tr th {\n",
       "        vertical-align: top;\n",
       "    }\n",
       "\n",
       "    .dataframe thead th {\n",
       "        text-align: right;\n",
       "    }\n",
       "</style>\n",
       "<table border=\"1\" class=\"dataframe\">\n",
       "  <thead>\n",
       "    <tr style=\"text-align: right;\">\n",
       "      <th></th>\n",
       "      <th>url</th>\n",
       "      <th>title</th>\n",
       "      <th>text</th>\n",
       "      <th>topic</th>\n",
       "      <th>tags</th>\n",
       "      <th>lemmatized</th>\n",
       "      <th>year</th>\n",
       "      <th>month</th>\n",
       "      <th>day</th>\n",
       "      <th>time_n</th>\n",
       "      <th>lemmatized_title</th>\n",
       "      <th>topmine</th>\n",
       "      <th>vw_text</th>\n",
       "      <th>id</th>\n",
       "    </tr>\n",
       "    <tr>\n",
       "      <th>Unnamed: 0</th>\n",
       "      <th></th>\n",
       "      <th></th>\n",
       "      <th></th>\n",
       "      <th></th>\n",
       "      <th></th>\n",
       "      <th></th>\n",
       "      <th></th>\n",
       "      <th></th>\n",
       "      <th></th>\n",
       "      <th></th>\n",
       "      <th></th>\n",
       "      <th></th>\n",
       "      <th></th>\n",
       "      <th></th>\n",
       "    </tr>\n",
       "  </thead>\n",
       "  <tbody>\n",
       "    <tr>\n",
       "      <th>450186</th>\n",
       "      <td>https://lenta.ru/news/2013/01/11/simon/</td>\n",
       "      <td>Руководитель Берлинского филармонического орке...</td>\n",
       "      <td>Английский маэстро сэр Саймон Рэттл покинет по...</td>\n",
       "      <td>Культура</td>\n",
       "      <td>Музыка</td>\n",
       "      <td>английский маэстро сэр саймон рэттл покинуть п...</td>\n",
       "      <td>2013</td>\n",
       "      <td>1</td>\n",
       "      <td>11</td>\n",
       "      <td>450186</td>\n",
       "      <td>руководитель берлинский филармонический оркест...</td>\n",
       "      <td>имя_руководить симфонический_оркестр симфониче...</td>\n",
       "      <td>914 |@word английский маэстро сэр саймон рэттл...</td>\n",
       "      <td>914</td>\n",
       "    </tr>\n",
       "    <tr>\n",
       "      <th>450389</th>\n",
       "      <td>https://lenta.ru/news/2013/01/14/kubana/</td>\n",
       "      <td>Хедлайнером фестиваля KUBANA-2013 станет Syste...</td>\n",
       "      <td>Одним из хедлайнеров фестиваля KUBANA, который...</td>\n",
       "      <td>Культура</td>\n",
       "      <td>Музыка</td>\n",
       "      <td>хедлайнер фестиваль kubana пройти черноморский...</td>\n",
       "      <td>2013</td>\n",
       "      <td>1</td>\n",
       "      <td>14</td>\n",
       "      <td>450389</td>\n",
       "      <td>хедлайнер фестиваль kubana стать system of a down</td>\n",
       "      <td>группа_system российский_концерт обещать_поздн...</td>\n",
       "      <td>1117 |@word хедлайнер фестиваль kubana пройти ...</td>\n",
       "      <td>1117</td>\n",
       "    </tr>\n",
       "    <tr>\n",
       "      <th>450399</th>\n",
       "      <td>https://lenta.ru/news/2013/01/14/kogan/</td>\n",
       "      <td>Бывший глава Госстроя нацелился на долю в круп...</td>\n",
       "      <td>Компания \"Нефтегазиндустрия\", принадлежащая бы...</td>\n",
       "      <td>Экономика</td>\n",
       "      <td>Бизнес</td>\n",
       "      <td>компания нефтегазиндустрия принадлежащий бывши...</td>\n",
       "      <td>2013</td>\n",
       "      <td>1</td>\n",
       "      <td>14</td>\n",
       "      <td>450399</td>\n",
       "      <td>бывший глава госстрой нацелиться на доля в кру...</td>\n",
       "      <td>часть_приходиться компания_контролировать уйти...</td>\n",
       "      <td>1127 |@word компания нефтегазиндустрия принадл...</td>\n",
       "      <td>1127</td>\n",
       "    </tr>\n",
       "    <tr>\n",
       "      <th>450419</th>\n",
       "      <td>https://lenta.ru/news/2013/01/14/deal/</td>\n",
       "      <td>Крупнейший производитель часов в мире купил ог...</td>\n",
       "      <td>Швейцарская Swatch Group, крупнейший в мире пр...</td>\n",
       "      <td>Экономика</td>\n",
       "      <td>Бизнес</td>\n",
       "      <td>швейцарский swatch group крупный производитель...</td>\n",
       "      <td>2013</td>\n",
       "      <td>1</td>\n",
       "      <td>14</td>\n",
       "      <td>450419</td>\n",
       "      <td>крупный производитель часы в мир купить огранщ...</td>\n",
       "      <td>договориться_покупка ювелирный_компания_tiffan...</td>\n",
       "      <td>1147 |@word швейцарский swatch group крупный п...</td>\n",
       "      <td>1147</td>\n",
       "    </tr>\n",
       "    <tr>\n",
       "      <th>450427</th>\n",
       "      <td>https://lenta.ru/news/2013/01/14/sabbath/</td>\n",
       "      <td>Black Sabbath придумали название новому альбому</td>\n",
       "      <td>Новый альбом рок-группы Black Sabbath выйдет в...</td>\n",
       "      <td>Культура</td>\n",
       "      <td>Музыка</td>\n",
       "      <td>новый альбом рок группа black sabbath выйти на...</td>\n",
       "      <td>2013</td>\n",
       "      <td>1</td>\n",
       "      <td>14</td>\n",
       "      <td>450427</td>\n",
       "      <td>black sabbath придумать название новый альбом</td>\n",
       "      <td>запись_коллектив black_sabbath black_sabbath b...</td>\n",
       "      <td>1155 |@word новый альбом рок группа black sabb...</td>\n",
       "      <td>1155</td>\n",
       "    </tr>\n",
       "  </tbody>\n",
       "</table>\n",
       "</div>"
      ],
      "text/plain": [
       "                                                  url  \\\n",
       "Unnamed: 0                                              \n",
       "450186        https://lenta.ru/news/2013/01/11/simon/   \n",
       "450389       https://lenta.ru/news/2013/01/14/kubana/   \n",
       "450399        https://lenta.ru/news/2013/01/14/kogan/   \n",
       "450419         https://lenta.ru/news/2013/01/14/deal/   \n",
       "450427      https://lenta.ru/news/2013/01/14/sabbath/   \n",
       "\n",
       "                                                        title  \\\n",
       "Unnamed: 0                                                      \n",
       "450186      Руководитель Берлинского филармонического орке...   \n",
       "450389      Хедлайнером фестиваля KUBANA-2013 станет Syste...   \n",
       "450399      Бывший глава Госстроя нацелился на долю в круп...   \n",
       "450419      Крупнейший производитель часов в мире купил ог...   \n",
       "450427        Black Sabbath придумали название новому альбому   \n",
       "\n",
       "                                                         text      topic  \\\n",
       "Unnamed: 0                                                                 \n",
       "450186      Английский маэстро сэр Саймон Рэттл покинет по...   Культура   \n",
       "450389      Одним из хедлайнеров фестиваля KUBANA, который...   Культура   \n",
       "450399      Компания \"Нефтегазиндустрия\", принадлежащая бы...  Экономика   \n",
       "450419      Швейцарская Swatch Group, крупнейший в мире пр...  Экономика   \n",
       "450427      Новый альбом рок-группы Black Sabbath выйдет в...   Культура   \n",
       "\n",
       "              tags                                         lemmatized  year  \\\n",
       "Unnamed: 0                                                                    \n",
       "450186      Музыка  английский маэстро сэр саймон рэттл покинуть п...  2013   \n",
       "450389      Музыка  хедлайнер фестиваль kubana пройти черноморский...  2013   \n",
       "450399      Бизнес  компания нефтегазиндустрия принадлежащий бывши...  2013   \n",
       "450419      Бизнес  швейцарский swatch group крупный производитель...  2013   \n",
       "450427      Музыка  новый альбом рок группа black sabbath выйти на...  2013   \n",
       "\n",
       "            month  day  time_n  \\\n",
       "Unnamed: 0                       \n",
       "450186          1   11  450186   \n",
       "450389          1   14  450389   \n",
       "450399          1   14  450399   \n",
       "450419          1   14  450419   \n",
       "450427          1   14  450427   \n",
       "\n",
       "                                             lemmatized_title  \\\n",
       "Unnamed: 0                                                      \n",
       "450186      руководитель берлинский филармонический оркест...   \n",
       "450389      хедлайнер фестиваль kubana стать system of a down   \n",
       "450399      бывший глава госстрой нацелиться на доля в кру...   \n",
       "450419      крупный производитель часы в мир купить огранщ...   \n",
       "450427          black sabbath придумать название новый альбом   \n",
       "\n",
       "                                                      topmine  \\\n",
       "Unnamed: 0                                                      \n",
       "450186      имя_руководить симфонический_оркестр симфониче...   \n",
       "450389      группа_system российский_концерт обещать_поздн...   \n",
       "450399      часть_приходиться компания_контролировать уйти...   \n",
       "450419      договориться_покупка ювелирный_компания_tiffan...   \n",
       "450427      запись_коллектив black_sabbath black_sabbath b...   \n",
       "\n",
       "                                                      vw_text    id  \n",
       "Unnamed: 0                                                           \n",
       "450186      914 |@word английский маэстро сэр саймон рэттл...   914  \n",
       "450389      1117 |@word хедлайнер фестиваль kubana пройти ...  1117  \n",
       "450399      1127 |@word компания нефтегазиндустрия принадл...  1127  \n",
       "450419      1147 |@word швейцарский swatch group крупный п...  1147  \n",
       "450427      1155 |@word новый альбом рок группа black sabb...  1155  "
      ]
     },
     "execution_count": 19,
     "metadata": {},
     "output_type": "execute_result"
    }
   ],
   "source": [
    "df.head()"
   ]
  },
  {
   "cell_type": "markdown",
   "metadata": {},
   "source": [
    "Just two tags: as we need"
   ]
  },
  {
   "cell_type": "code",
   "execution_count": 20,
   "metadata": {},
   "outputs": [
    {
     "data": {
      "text/plain": [
       "tags\n",
       "Бизнес    8222\n",
       "Музыка    5822\n",
       "Name: id, dtype: int64"
      ]
     },
     "execution_count": 20,
     "metadata": {},
     "output_type": "execute_result"
    }
   ],
   "source": [
    "df.groupby(COLUMN_NAME_TAGS).count()['id']"
   ]
  },
  {
   "cell_type": "markdown",
   "metadata": {},
   "source": [
    "### Disbalance<a id=\"disbalance\"></a>\n",
    "\n",
    "<div style=\"text-align: right\">Back to <a href=#contents>Contents</a></div>"
   ]
  },
  {
   "cell_type": "markdown",
   "metadata": {},
   "source": [
    "Now let's provide a big disbalance of topics"
   ]
  },
  {
   "cell_type": "code",
   "execution_count": 23,
   "metadata": {},
   "outputs": [],
   "source": [
    "MAX_NUM_ROWS_FIRST_TAG = 100\n",
    "DISBALANCE_COEFFICIENT = 10\n",
    "\n",
    "NUM_TAG_ROWS = list()\n",
    "\n",
    "NUM_TAG_ROWS.append(min(\n",
    "    MAX_NUM_ROWS_FIRST_TAG,\n",
    "    df.groupby(COLUMN_NAME_TAGS).count()['id'][TAGS_OF_INTEREST[0]]\n",
    "))\n",
    "\n",
    "NUM_TAG_ROWS.append(\n",
    "    DISBALANCE_COEFFICIENT * NUM_TAG_ROWS[0]\n",
    ")"
   ]
  },
  {
   "cell_type": "code",
   "execution_count": 24,
   "metadata": {},
   "outputs": [],
   "source": [
    "indices_to_drop = []\n",
    "\n",
    "for tag, num_tag_rows in zip(TAGS_OF_INTEREST, NUM_TAG_ROWS):\n",
    "    indices_to_drop += list(df[df[COLUMN_NAME_TAGS] == tag].index)[num_tag_rows:]"
   ]
  },
  {
   "cell_type": "code",
   "execution_count": 25,
   "metadata": {},
   "outputs": [],
   "source": [
    "df.drop(index=indices_to_drop, inplace=True)"
   ]
  },
  {
   "cell_type": "markdown",
   "metadata": {},
   "source": [
    "Now we are done: we have a disbalanced collection"
   ]
  },
  {
   "cell_type": "code",
   "execution_count": 26,
   "metadata": {},
   "outputs": [
    {
     "data": {
      "text/plain": [
       "tags\n",
       "Бизнес    1000\n",
       "Музыка     100\n",
       "Name: id, dtype: int64"
      ]
     },
     "execution_count": 26,
     "metadata": {},
     "output_type": "execute_result"
    }
   ],
   "source": [
    "df.groupby(COLUMN_NAME_TAGS).count()['id']"
   ]
  },
  {
   "cell_type": "code",
   "execution_count": 27,
   "metadata": {},
   "outputs": [],
   "source": [
    "df.to_csv(NEW_DATASET_FILE_PATH, index=False)"
   ]
  },
  {
   "cell_type": "code",
   "execution_count": 28,
   "metadata": {},
   "outputs": [],
   "source": [
    "del df"
   ]
  },
  {
   "cell_type": "markdown",
   "metadata": {},
   "source": [
    "### Dataset Initialization<a id=\"dataset-init\"></a>\n",
    "\n",
    "<div style=\"text-align: right\">Back to <a href=#contents>Contents</a></div>"
   ]
  },
  {
   "cell_type": "code",
   "execution_count": 29,
   "metadata": {},
   "outputs": [],
   "source": [
    "DATASET = Dataset(NEW_DATASET_FILE_PATH, batch_size=10)\n",
    "DICTIONARY = DATASET.get_dictionary()\n",
    "BATCH_VECTORIZER = DATASET.get_batch_vectorizer()"
   ]
  },
  {
   "cell_type": "code",
   "execution_count": 30,
   "metadata": {},
   "outputs": [
    {
     "data": {
      "text/plain": [
       "tags\n",
       "Бизнес    1000\n",
       "Музыка     100\n",
       "Name: id, dtype: int64"
      ]
     },
     "execution_count": 30,
     "metadata": {},
     "output_type": "execute_result"
    }
   ],
   "source": [
    "DATASET._data.groupby(COLUMN_NAME_TAGS).count()['id']"
   ]
  },
  {
   "cell_type": "markdown",
   "metadata": {},
   "source": [
    "## Model Training<a id=\"model-training\"></a>\n",
    "\n",
    "<div style=\"text-align: right\">Back to <a href=#contents>Contents</a></div>"
   ]
  },
  {
   "cell_type": "markdown",
   "metadata": {},
   "source": [
    "Here we are going to create topic models and explore some of their properties"
   ]
  },
  {
   "cell_type": "code",
   "execution_count": 31,
   "metadata": {},
   "outputs": [],
   "source": [
    "topic_prior_reg = TopicPriorRegularizer(\n",
    "    name='topic_prior', tau=5, num_topics=2, beta=[10, 1]\n",
    ")"
   ]
  },
  {
   "cell_type": "markdown",
   "metadata": {},
   "source": [
    "Core ARTM models"
   ]
  },
  {
   "cell_type": "code",
   "execution_count": 37,
   "metadata": {},
   "outputs": [],
   "source": [
    "model_lenta = artm.ARTM(num_topics=2, cache_theta=True)\n",
    "model_lenta.scores.add(artm.scores.PerplexityScore(name='perplexity'))\n",
    "model_lenta.initialize(DICTIONARY)\n",
    "\n",
    "model_lenta_unbalanced = artm.ARTM(num_topics=2, cache_theta=True)\n",
    "model_lenta_unbalanced.scores.add(artm.scores.PerplexityScore(name='perplexity'))\n",
    "model_lenta_unbalanced.initialize(DICTIONARY)"
   ]
  },
  {
   "cell_type": "markdown",
   "metadata": {},
   "source": [
    "TopicNet models"
   ]
  },
  {
   "cell_type": "code",
   "execution_count": 38,
   "metadata": {},
   "outputs": [],
   "source": [
    "topic_model_lenta = TopicModel(\n",
    "    artm_model=model_lenta, model_id='model_lenta'\n",
    ")\n",
    "topic_model_lenta_unbalanced = TopicModel(\n",
    "    artm_model=model_lenta_unbalanced, model_id='model_lenta_unbalanced'\n",
    ")"
   ]
  },
  {
   "cell_type": "code",
   "execution_count": 39,
   "metadata": {},
   "outputs": [],
   "source": [
    "NUM_FIT_ITERATIONS = 10"
   ]
  },
  {
   "cell_type": "code",
   "execution_count": 40,
   "metadata": {},
   "outputs": [
    {
     "name": "stdout",
     "output_type": "stream",
     "text": [
      "CPU times: user 22.3 s, sys: 2.73 s, total: 25 s\n",
      "Wall time: 14.8 s\n"
     ]
    }
   ],
   "source": [
    "%%time\n",
    "\n",
    "topic_model_lenta._fit(\n",
    "    BATCH_VECTORIZER,\n",
    "    num_iterations=NUM_FIT_ITERATIONS,\n",
    "    custom_regularizers={\n",
    "        topic_prior_reg.name: topic_prior_reg\n",
    "    },\n",
    ")"
   ]
  },
  {
   "cell_type": "code",
   "execution_count": 41,
   "metadata": {},
   "outputs": [
    {
     "name": "stdout",
     "output_type": "stream",
     "text": [
      "CPU times: user 11.1 s, sys: 1 s, total: 12.1 s\n",
      "Wall time: 4.61 s\n"
     ]
    }
   ],
   "source": [
    "%%time\n",
    "\n",
    "topic_model_lenta_unbalanced._fit(\n",
    "    BATCH_VECTORIZER,\n",
    "    num_iterations=NUM_FIT_ITERATIONS,\n",
    ")"
   ]
  },
  {
   "cell_type": "markdown",
   "metadata": {},
   "source": [
    "Fitting the regularized model took more time"
   ]
  },
  {
   "cell_type": "markdown",
   "metadata": {},
   "source": [
    "## Looking at the Models<a id=\"exploring-models\"></a>\n",
    "\n",
    "<div style=\"text-align: right\">Back to <a href=#contents>Contents</a></div>"
   ]
  },
  {
   "cell_type": "code",
   "execution_count": 42,
   "metadata": {},
   "outputs": [
    {
     "name": "stdout",
     "output_type": "stream",
     "text": [
      "Balance of documents in a model WITH a regularizer:\n",
      "topic_1    941\n",
      "topic_0    159\n",
      "dtype: int64\n",
      "\n",
      "Balance of documents in a model WITHOUT a regularizer:\n",
      "topic_1    514\n",
      "topic_0    586\n",
      "dtype: int64\n"
     ]
    }
   ],
   "source": [
    "print('Balance of documents in a model WITH a regularizer:\\n{}\\n'.format(\n",
    "    topic_model_lenta.get_theta().idxmax().value_counts(sort=False)\n",
    "))\n",
    "\n",
    "print('Balance of documents in a model WITHOUT a regularizer:\\n{}'.format(\n",
    "    topic_model_lenta_unbalanced.get_theta().idxmax().value_counts(sort=False)\n",
    "))"
   ]
  },
  {
   "cell_type": "markdown",
   "metadata": {},
   "source": [
    "We can see that the model without regularizer failed to catch the disbalance.\n",
    "However, this is not the case for the regularized model!"
   ]
  },
  {
   "cell_type": "markdown",
   "metadata": {},
   "source": [
    "### Plots<a id=\"plots\"></a>\n",
    "\n",
    "<div style=\"text-align: right\">Back to <a href=#contents>Contents</a></div>"
   ]
  },
  {
   "cell_type": "code",
   "execution_count": 47,
   "metadata": {},
   "outputs": [
    {
     "data": {
      "image/png": "[encoded data removed]",
      "text/plain": [
       "<Figure size 1008x288 with 2 Axes>"
      ]
     },
     "metadata": {
      "needs_background": "light"
     },
     "output_type": "display_data"
    }
   ],
   "source": [
    "plt.figure(figsize=(14, 4))\n",
    "\n",
    "LINE_WIDTH = 3\n",
    "LABEL_X = 'Iteration'\n",
    "LABEL_Y = 'Perplexity'\n",
    "\n",
    "plt.subplot(1,2,1)\n",
    "\n",
    "values = np.array(model_lenta.score_tracker['perplexity'].value)\n",
    "med = np.median(values)\n",
    "values[values > 5 * med] = np.nan\n",
    "\n",
    "plt.title('Perplexity for the model WITH a regularizer')\n",
    "plt.xlabel(LABEL_X)\n",
    "plt.ylabel(LABEL_Y)\n",
    "plt.plot(values, lw=LINE_WIDTH)\n",
    "\n",
    "\n",
    "plt.subplot(1,2,2)\n",
    "\n",
    "values = np.array(model_lenta_unbalanced.score_tracker['perplexity'].value)\n",
    "med = np.median(values)\n",
    "values[values > 5 * med] = np.nan\n",
    "\n",
    "plt.title('Perplexity for the model WITHOUT a regularizer')\n",
    "plt.xlabel(LABEL_X)\n",
    "plt.plot(values, lw=LINE_WIDTH)\n",
    "\n",
    "plt.show()"
   ]
  },
  {
   "cell_type": "markdown",
   "metadata": {},
   "source": [
    "### Viewers<a id=\"viewers\"></a>\n",
    "\n",
    "<div style=\"text-align: right\">Back to <a href=#contents>Contents</a></div>"
   ]
  },
  {
   "cell_type": "markdown",
   "metadata": {},
   "source": [
    "Top-tokens for models' topics:"
   ]
  },
  {
   "cell_type": "code",
   "execution_count": 48,
   "metadata": {
    "scrolled": true
   },
   "outputs": [],
   "source": [
    "tokens_viewer = TopTokensViewer(model=topic_model_lenta, num_top_tokens=10)"
   ]
  },
  {
   "cell_type": "code",
   "execution_count": 49,
   "metadata": {},
   "outputs": [
    {
     "data": {
      "text/html": [
       "<style>\n",
       "    div.output_html {\n",
       "        white-space: nowrap;\n",
       "    }\n",
       "    div .output_subarea > pre {\n",
       "        white-space: pre;\n",
       "        word-wrap: normal;\n",
       "    }\n",
       "    div .output_stdout > pre {\n",
       "        white-space: pre-wrap !important;\n",
       "        word-wrap:  break-word !important;\n",
       "    }\n",
       "    </style>"
      ],
      "text/plain": [
       "<IPython.core.display.HTML object>"
      ]
     },
     "metadata": {},
     "output_type": "display_data"
    },
    {
     "data": {
      "text/html": [
       "<style  type=\"text/css\" >\n",
       "</style><table id=\"T_3e3a5566_8622_11ea_82d4_3207db5affc5\" style='display:inline'><thead>    <tr>        <th class=\"blank\" ></th>        <th class=\"blank level0\" ></th>        <th class=\"col_heading level0 col0\" >topic_0</th>    </tr>    <tr>        <th class=\"index_name level0\" >modality</th>        <th class=\"index_name level1\" >token</th>        <th class=\"blank\" ></th>    </tr></thead><tbody>\n",
       "                <tr>\n",
       "                        <th id=\"T_3e3a5566_8622_11ea_82d4_3207db5affc5level0_row0\" class=\"row_heading level0 row0\" rowspan=10>@ngramm</th>\n",
       "                        <th id=\"T_3e3a5566_8622_11ea_82d4_3207db5affc5level1_row0\" class=\"row_heading level1 row0\" >depeche_mode</th>\n",
       "                        <td id=\"T_3e3a5566_8622_11ea_82d4_3207db5affc5row0_col0\" class=\"data row0 col0\" >0.000460</td>\n",
       "            </tr>\n",
       "            <tr>\n",
       "                                <th id=\"T_3e3a5566_8622_11ea_82d4_3207db5affc5level1_row1\" class=\"row_heading level1 row1\" >новый_альбом</th>\n",
       "                        <td id=\"T_3e3a5566_8622_11ea_82d4_3207db5affc5row1_col0\" class=\"data row1 col0\" >0.000250</td>\n",
       "            </tr>\n",
       "            <tr>\n",
       "                                <th id=\"T_3e3a5566_8622_11ea_82d4_3207db5affc5level1_row2\" class=\"row_heading level1 row2\" >студийный_альбом</th>\n",
       "                        <td id=\"T_3e3a5566_8622_11ea_82d4_3207db5affc5row2_col0\" class=\"data row2 col0\" >0.000240</td>\n",
       "            </tr>\n",
       "            <tr>\n",
       "                                <th id=\"T_3e3a5566_8622_11ea_82d4_3207db5affc5level1_row3\" class=\"row_heading level1 row3\" >новое_альбом</th>\n",
       "                        <td id=\"T_3e3a5566_8622_11ea_82d4_3207db5affc5row3_col0\" class=\"data row3 col0\" >0.000210</td>\n",
       "            </tr>\n",
       "            <tr>\n",
       "                                <th id=\"T_3e3a5566_8622_11ea_82d4_3207db5affc5level1_row4\" class=\"row_heading level1 row4\" >поступить_продажа</th>\n",
       "                        <td id=\"T_3e3a5566_8622_11ea_82d4_3207db5affc5row4_col0\" class=\"data row4 col0\" >0.000170</td>\n",
       "            </tr>\n",
       "            <tr>\n",
       "                                <th id=\"T_3e3a5566_8622_11ea_82d4_3207db5affc5level1_row5\" class=\"row_heading level1 row5\" >альбом_группа</th>\n",
       "                        <td id=\"T_3e3a5566_8622_11ea_82d4_3207db5affc5row5_col0\" class=\"data row5 col0\" >0.000130</td>\n",
       "            </tr>\n",
       "            <tr>\n",
       "                                <th id=\"T_3e3a5566_8622_11ea_82d4_3207db5affc5level1_row6\" class=\"row_heading level1 row6\" >симфонический_оркестр</th>\n",
       "                        <td id=\"T_3e3a5566_8622_11ea_82d4_3207db5affc5row6_col0\" class=\"data row6 col0\" >0.000110</td>\n",
       "            </tr>\n",
       "            <tr>\n",
       "                                <th id=\"T_3e3a5566_8622_11ea_82d4_3207db5affc5level1_row7\" class=\"row_heading level1 row7\" >филармонический_оркестр</th>\n",
       "                        <td id=\"T_3e3a5566_8622_11ea_82d4_3207db5affc5row7_col0\" class=\"data row7 col0\" >0.000110</td>\n",
       "            </tr>\n",
       "            <tr>\n",
       "                                <th id=\"T_3e3a5566_8622_11ea_82d4_3207db5affc5level1_row8\" class=\"row_heading level1 row8\" >альбом_запись</th>\n",
       "                        <td id=\"T_3e3a5566_8622_11ea_82d4_3207db5affc5row8_col0\" class=\"data row8 col0\" >0.000100</td>\n",
       "            </tr>\n",
       "            <tr>\n",
       "                                <th id=\"T_3e3a5566_8622_11ea_82d4_3207db5affc5level1_row9\" class=\"row_heading level1 row9\" >хит_парад</th>\n",
       "                        <td id=\"T_3e3a5566_8622_11ea_82d4_3207db5affc5row9_col0\" class=\"data row9 col0\" >0.000100</td>\n",
       "            </tr>\n",
       "    </tbody></table><style  type=\"text/css\" >\n",
       "</style><table id=\"T_3e3a5567_8622_11ea_82d4_3207db5affc5\" style='display:inline'><thead>    <tr>        <th class=\"blank\" ></th>        <th class=\"blank level0\" ></th>        <th class=\"col_heading level0 col0\" >topic_0</th>    </tr>    <tr>        <th class=\"index_name level0\" >modality</th>        <th class=\"index_name level1\" >token</th>        <th class=\"blank\" ></th>    </tr></thead><tbody>\n",
       "                <tr>\n",
       "                        <th id=\"T_3e3a5567_8622_11ea_82d4_3207db5affc5level0_row0\" class=\"row_heading level0 row0\" rowspan=10>@word</th>\n",
       "                        <th id=\"T_3e3a5567_8622_11ea_82d4_3207db5affc5level1_row0\" class=\"row_heading level1 row0\" >альбом</th>\n",
       "                        <td id=\"T_3e3a5567_8622_11ea_82d4_3207db5affc5row0_col0\" class=\"data row0 col0\" >0.012980</td>\n",
       "            </tr>\n",
       "            <tr>\n",
       "                                <th id=\"T_3e3a5567_8622_11ea_82d4_3207db5affc5level1_row1\" class=\"row_heading level1 row1\" >группа</th>\n",
       "                        <td id=\"T_3e3a5567_8622_11ea_82d4_3207db5affc5row1_col0\" class=\"data row1 col0\" >0.012390</td>\n",
       "            </tr>\n",
       "            <tr>\n",
       "                                <th id=\"T_3e3a5567_8622_11ea_82d4_3207db5affc5level1_row2\" class=\"row_heading level1 row2\" >музыкант</th>\n",
       "                        <td id=\"T_3e3a5567_8622_11ea_82d4_3207db5affc5row2_col0\" class=\"data row2 col0\" >0.003990</td>\n",
       "            </tr>\n",
       "            <tr>\n",
       "                                <th id=\"T_3e3a5567_8622_11ea_82d4_3207db5affc5level1_row3\" class=\"row_heading level1 row3\" >концерт</th>\n",
       "                        <td id=\"T_3e3a5567_8622_11ea_82d4_3207db5affc5row3_col0\" class=\"data row3 col0\" >0.003380</td>\n",
       "            </tr>\n",
       "            <tr>\n",
       "                                <th id=\"T_3e3a5567_8622_11ea_82d4_3207db5affc5level1_row4\" class=\"row_heading level1 row4\" >новый</th>\n",
       "                        <td id=\"T_3e3a5567_8622_11ea_82d4_3207db5affc5row4_col0\" class=\"data row4 col0\" >0.003190</td>\n",
       "            </tr>\n",
       "            <tr>\n",
       "                                <th id=\"T_3e3a5567_8622_11ea_82d4_3207db5affc5level1_row5\" class=\"row_heading level1 row5\" >запись</th>\n",
       "                        <td id=\"T_3e3a5567_8622_11ea_82d4_3207db5affc5row5_col0\" class=\"data row5 col0\" >0.002590</td>\n",
       "            </tr>\n",
       "            <tr>\n",
       "                                <th id=\"T_3e3a5567_8622_11ea_82d4_3207db5affc5level1_row6\" class=\"row_heading level1 row6\" >пластинка</th>\n",
       "                        <td id=\"T_3e3a5567_8622_11ea_82d4_3207db5affc5row6_col0\" class=\"data row6 col0\" >0.002550</td>\n",
       "            </tr>\n",
       "            <tr>\n",
       "                                <th id=\"T_3e3a5567_8622_11ea_82d4_3207db5affc5level1_row7\" class=\"row_heading level1 row7\" >песня</th>\n",
       "                        <td id=\"T_3e3a5567_8622_11ea_82d4_3207db5affc5row7_col0\" class=\"data row7 col0\" >0.002540</td>\n",
       "            </tr>\n",
       "            <tr>\n",
       "                                <th id=\"T_3e3a5567_8622_11ea_82d4_3207db5affc5level1_row8\" class=\"row_heading level1 row8\" >песнь</th>\n",
       "                        <td id=\"T_3e3a5567_8622_11ea_82d4_3207db5affc5row8_col0\" class=\"data row8 col0\" >0.002230</td>\n",
       "            </tr>\n",
       "            <tr>\n",
       "                                <th id=\"T_3e3a5567_8622_11ea_82d4_3207db5affc5level1_row9\" class=\"row_heading level1 row9\" >выйти</th>\n",
       "                        <td id=\"T_3e3a5567_8622_11ea_82d4_3207db5affc5row9_col0\" class=\"data row9 col0\" >0.002060</td>\n",
       "            </tr>\n",
       "    </tbody></table>&nbsp;<style  type=\"text/css\" >\n",
       "</style><table id=\"T_3e3a5568_8622_11ea_82d4_3207db5affc5\" style='display:inline'><thead>    <tr>        <th class=\"blank\" ></th>        <th class=\"blank level0\" ></th>        <th class=\"col_heading level0 col0\" >topic_1</th>    </tr>    <tr>        <th class=\"index_name level0\" >modality</th>        <th class=\"index_name level1\" >token</th>        <th class=\"blank\" ></th>    </tr></thead><tbody>\n",
       "                <tr>\n",
       "                        <th id=\"T_3e3a5568_8622_11ea_82d4_3207db5affc5level0_row0\" class=\"row_heading level0 row0\" rowspan=10>@ngramm</th>\n",
       "                        <th id=\"T_3e3a5568_8622_11ea_82d4_3207db5affc5level1_row0\" class=\"row_heading level1 row0\" >миллиард_доллар</th>\n",
       "                        <td id=\"T_3e3a5568_8622_11ea_82d4_3207db5affc5row0_col0\" class=\"data row0 col0\" >0.049270</td>\n",
       "            </tr>\n",
       "            <tr>\n",
       "                                <th id=\"T_3e3a5568_8622_11ea_82d4_3207db5affc5level1_row1\" class=\"row_heading level1 row1\" >миллиард_рубль</th>\n",
       "                        <td id=\"T_3e3a5568_8622_11ea_82d4_3207db5affc5row1_col0\" class=\"data row1 col0\" >0.031270</td>\n",
       "            </tr>\n",
       "            <tr>\n",
       "                                <th id=\"T_3e3a5568_8622_11ea_82d4_3207db5affc5level1_row2\" class=\"row_heading level1 row2\" >миллион_доллар</th>\n",
       "                        <td id=\"T_3e3a5568_8622_11ea_82d4_3207db5affc5row2_col0\" class=\"data row2 col0\" >0.025500</td>\n",
       "            </tr>\n",
       "            <tr>\n",
       "                                <th id=\"T_3e3a5568_8622_11ea_82d4_3207db5affc5level1_row3\" class=\"row_heading level1 row3\" >процент_акция</th>\n",
       "                        <td id=\"T_3e3a5568_8622_11ea_82d4_3207db5affc5row3_col0\" class=\"data row3 col0\" >0.016930</td>\n",
       "            </tr>\n",
       "            <tr>\n",
       "                                <th id=\"T_3e3a5568_8622_11ea_82d4_3207db5affc5level1_row4\" class=\"row_heading level1 row4\" >совет_директор</th>\n",
       "                        <td id=\"T_3e3a5568_8622_11ea_82d4_3207db5affc5row4_col0\" class=\"data row4 col0\" >0.013430</td>\n",
       "            </tr>\n",
       "            <tr>\n",
       "                                <th id=\"T_3e3a5568_8622_11ea_82d4_3207db5affc5level1_row5\" class=\"row_heading level1 row5\" >тнк_вр</th>\n",
       "                        <td id=\"T_3e3a5568_8622_11ea_82d4_3207db5affc5row5_col0\" class=\"data row5 col0\" >0.009840</td>\n",
       "            </tr>\n",
       "            <tr>\n",
       "                                <th id=\"T_3e3a5568_8622_11ea_82d4_3207db5affc5level1_row6\" class=\"row_heading level1 row6\" >миллион_рубль</th>\n",
       "                        <td id=\"T_3e3a5568_8622_11ea_82d4_3207db5affc5row6_col0\" class=\"data row6 col0\" >0.008320</td>\n",
       "            </tr>\n",
       "            <tr>\n",
       "                                <th id=\"T_3e3a5568_8622_11ea_82d4_3207db5affc5level1_row7\" class=\"row_heading level1 row7\" >ценный_бумага</th>\n",
       "                        <td id=\"T_3e3a5568_8622_11ea_82d4_3207db5affc5row7_col0\" class=\"data row7 col0\" >0.007950</td>\n",
       "            </tr>\n",
       "            <tr>\n",
       "                                <th id=\"T_3e3a5568_8622_11ea_82d4_3207db5affc5level1_row8\" class=\"row_heading level1 row8\" >номер_писать</th>\n",
       "                        <td id=\"T_3e3a5568_8622_11ea_82d4_3207db5affc5row8_col0\" class=\"data row8 col0\" >0.007580</td>\n",
       "            </tr>\n",
       "            <tr>\n",
       "                                <th id=\"T_3e3a5568_8622_11ea_82d4_3207db5affc5level1_row9\" class=\"row_heading level1 row9\" >ссылка_неназванный</th>\n",
       "                        <td id=\"T_3e3a5568_8622_11ea_82d4_3207db5affc5row9_col0\" class=\"data row9 col0\" >0.007510</td>\n",
       "            </tr>\n",
       "    </tbody></table><style  type=\"text/css\" >\n",
       "</style><table id=\"T_3e3a5569_8622_11ea_82d4_3207db5affc5\" style='display:inline'><thead>    <tr>        <th class=\"blank\" ></th>        <th class=\"blank level0\" ></th>        <th class=\"col_heading level0 col0\" >topic_1</th>    </tr>    <tr>        <th class=\"index_name level0\" >modality</th>        <th class=\"index_name level1\" >token</th>        <th class=\"blank\" ></th>    </tr></thead><tbody>\n",
       "                <tr>\n",
       "                        <th id=\"T_3e3a5569_8622_11ea_82d4_3207db5affc5level0_row0\" class=\"row_heading level0 row0\" rowspan=10>@word</th>\n",
       "                        <th id=\"T_3e3a5569_8622_11ea_82d4_3207db5affc5level1_row0\" class=\"row_heading level1 row0\" >компания</th>\n",
       "                        <td id=\"T_3e3a5569_8622_11ea_82d4_3207db5affc5row0_col0\" class=\"data row0 col0\" >0.155430</td>\n",
       "            </tr>\n",
       "            <tr>\n",
       "                                <th id=\"T_3e3a5569_8622_11ea_82d4_3207db5affc5level1_row1\" class=\"row_heading level1 row1\" >процент</th>\n",
       "                        <td id=\"T_3e3a5569_8622_11ea_82d4_3207db5affc5row1_col0\" class=\"data row1 col0\" >0.070920</td>\n",
       "            </tr>\n",
       "            <tr>\n",
       "                                <th id=\"T_3e3a5569_8622_11ea_82d4_3207db5affc5level1_row2\" class=\"row_heading level1 row2\" >миллиард</th>\n",
       "                        <td id=\"T_3e3a5569_8622_11ea_82d4_3207db5affc5row2_col0\" class=\"data row2 col0\" >0.064040</td>\n",
       "            </tr>\n",
       "            <tr>\n",
       "                                <th id=\"T_3e3a5569_8622_11ea_82d4_3207db5affc5level1_row3\" class=\"row_heading level1 row3\" >доллар</th>\n",
       "                        <td id=\"T_3e3a5569_8622_11ea_82d4_3207db5affc5row3_col0\" class=\"data row3 col0\" >0.056240</td>\n",
       "            </tr>\n",
       "            <tr>\n",
       "                                <th id=\"T_3e3a5569_8622_11ea_82d4_3207db5affc5level1_row4\" class=\"row_heading level1 row4\" >миллион</th>\n",
       "                        <td id=\"T_3e3a5569_8622_11ea_82d4_3207db5affc5row4_col0\" class=\"data row4 col0\" >0.042930</td>\n",
       "            </tr>\n",
       "            <tr>\n",
       "                                <th id=\"T_3e3a5569_8622_11ea_82d4_3207db5affc5level1_row5\" class=\"row_heading level1 row5\" >россия</th>\n",
       "                        <td id=\"T_3e3a5569_8622_11ea_82d4_3207db5affc5row5_col0\" class=\"data row5 col0\" >0.038530</td>\n",
       "            </tr>\n",
       "            <tr>\n",
       "                                <th id=\"T_3e3a5569_8622_11ea_82d4_3207db5affc5level1_row6\" class=\"row_heading level1 row6\" >российский</th>\n",
       "                        <td id=\"T_3e3a5569_8622_11ea_82d4_3207db5affc5row6_col0\" class=\"data row6 col0\" >0.034680</td>\n",
       "            </tr>\n",
       "            <tr>\n",
       "                                <th id=\"T_3e3a5569_8622_11ea_82d4_3207db5affc5level1_row7\" class=\"row_heading level1 row7\" >акция</th>\n",
       "                        <td id=\"T_3e3a5569_8622_11ea_82d4_3207db5affc5row7_col0\" class=\"data row7 col0\" >0.031940</td>\n",
       "            </tr>\n",
       "            <tr>\n",
       "                                <th id=\"T_3e3a5569_8622_11ea_82d4_3207db5affc5level1_row8\" class=\"row_heading level1 row8\" >рубль</th>\n",
       "                        <td id=\"T_3e3a5569_8622_11ea_82d4_3207db5affc5row8_col0\" class=\"data row8 col0\" >0.031280</td>\n",
       "            </tr>\n",
       "            <tr>\n",
       "                                <th id=\"T_3e3a5569_8622_11ea_82d4_3207db5affc5level1_row9\" class=\"row_heading level1 row9\" >крупный</th>\n",
       "                        <td id=\"T_3e3a5569_8622_11ea_82d4_3207db5affc5row9_col0\" class=\"data row9 col0\" >0.024740</td>\n",
       "            </tr>\n",
       "    </tbody></table>"
      ]
     },
     "metadata": {},
     "output_type": "display_data"
    }
   ],
   "source": [
    "tokens_viewer.view_from_jupyter()"
   ]
  },
  {
   "cell_type": "code",
   "execution_count": 50,
   "metadata": {},
   "outputs": [],
   "source": [
    "tokens_viewer_unbalanced = TopTokensViewer(model=topic_model_lenta_unbalanced, num_top_tokens=10)"
   ]
  },
  {
   "cell_type": "code",
   "execution_count": 51,
   "metadata": {},
   "outputs": [
    {
     "data": {
      "text/html": [
       "<style>\n",
       "    div.output_html {\n",
       "        white-space: nowrap;\n",
       "    }\n",
       "    div .output_subarea > pre {\n",
       "        white-space: pre;\n",
       "        word-wrap: normal;\n",
       "    }\n",
       "    div .output_stdout > pre {\n",
       "        white-space: pre-wrap !important;\n",
       "        word-wrap:  break-word !important;\n",
       "    }\n",
       "    </style>"
      ],
      "text/plain": [
       "<IPython.core.display.HTML object>"
      ]
     },
     "metadata": {},
     "output_type": "display_data"
    },
    {
     "data": {
      "text/html": [
       "<style  type=\"text/css\" >\n",
       "</style><table id=\"T_3eeb0bae_8622_11ea_82d4_3207db5affc5\" style='display:inline'><thead>    <tr>        <th class=\"blank\" ></th>        <th class=\"blank level0\" ></th>        <th class=\"col_heading level0 col0\" >topic_0</th>    </tr>    <tr>        <th class=\"index_name level0\" >modality</th>        <th class=\"index_name level1\" >token</th>        <th class=\"blank\" ></th>    </tr></thead><tbody>\n",
       "                <tr>\n",
       "                        <th id=\"T_3eeb0bae_8622_11ea_82d4_3207db5affc5level0_row0\" class=\"row_heading level0 row0\" rowspan=10>@ngramm</th>\n",
       "                        <th id=\"T_3eeb0bae_8622_11ea_82d4_3207db5affc5level1_row0\" class=\"row_heading level1 row0\" >миллиард_доллар</th>\n",
       "                        <td id=\"T_3eeb0bae_8622_11ea_82d4_3207db5affc5row0_col0\" class=\"data row0 col0\" >0.405050</td>\n",
       "            </tr>\n",
       "            <tr>\n",
       "                                <th id=\"T_3eeb0bae_8622_11ea_82d4_3207db5affc5level1_row1\" class=\"row_heading level1 row1\" >миллиард_рубль</th>\n",
       "                        <td id=\"T_3eeb0bae_8622_11ea_82d4_3207db5affc5row1_col0\" class=\"data row1 col0\" >0.181520</td>\n",
       "            </tr>\n",
       "            <tr>\n",
       "                                <th id=\"T_3eeb0bae_8622_11ea_82d4_3207db5affc5level1_row2\" class=\"row_heading level1 row2\" >миллион_доллар</th>\n",
       "                        <td id=\"T_3eeb0bae_8622_11ea_82d4_3207db5affc5row2_col0\" class=\"data row2 col0\" >0.163270</td>\n",
       "            </tr>\n",
       "            <tr>\n",
       "                                <th id=\"T_3eeb0bae_8622_11ea_82d4_3207db5affc5level1_row3\" class=\"row_heading level1 row3\" >процент_акция</th>\n",
       "                        <td id=\"T_3eeb0bae_8622_11ea_82d4_3207db5affc5row3_col0\" class=\"data row3 col0\" >0.147350</td>\n",
       "            </tr>\n",
       "            <tr>\n",
       "                                <th id=\"T_3eeb0bae_8622_11ea_82d4_3207db5affc5level1_row4\" class=\"row_heading level1 row4\" >тнк_вр</th>\n",
       "                        <td id=\"T_3eeb0bae_8622_11ea_82d4_3207db5affc5row4_col0\" class=\"data row4 col0\" >0.104860</td>\n",
       "            </tr>\n",
       "            <tr>\n",
       "                                <th id=\"T_3eeb0bae_8622_11ea_82d4_3207db5affc5level1_row5\" class=\"row_heading level1 row5\" >ценный_бумага</th>\n",
       "                        <td id=\"T_3eeb0bae_8622_11ea_82d4_3207db5affc5row5_col0\" class=\"data row5 col0\" >0.086960</td>\n",
       "            </tr>\n",
       "            <tr>\n",
       "                                <th id=\"T_3eeb0bae_8622_11ea_82d4_3207db5affc5level1_row6\" class=\"row_heading level1 row6\" >совет_директор</th>\n",
       "                        <td id=\"T_3eeb0bae_8622_11ea_82d4_3207db5affc5row6_col0\" class=\"data row6 col0\" >0.086710</td>\n",
       "            </tr>\n",
       "            <tr>\n",
       "                                <th id=\"T_3eeb0bae_8622_11ea_82d4_3207db5affc5level1_row7\" class=\"row_heading level1 row7\" >миллион_тонна</th>\n",
       "                        <td id=\"T_3eeb0bae_8622_11ea_82d4_3207db5affc5row7_col0\" class=\"data row7 col0\" >0.059610</td>\n",
       "            </tr>\n",
       "            <tr>\n",
       "                                <th id=\"T_3eeb0bae_8622_11ea_82d4_3207db5affc5level1_row8\" class=\"row_heading level1 row8\" >ссылка_неназванный</th>\n",
       "                        <td id=\"T_3eeb0bae_8622_11ea_82d4_3207db5affc5row8_col0\" class=\"data row8 col0\" >0.055370</td>\n",
       "            </tr>\n",
       "            <tr>\n",
       "                                <th id=\"T_3eeb0bae_8622_11ea_82d4_3207db5affc5level1_row9\" class=\"row_heading level1 row9\" >нефтяной_компания</th>\n",
       "                        <td id=\"T_3eeb0bae_8622_11ea_82d4_3207db5affc5row9_col0\" class=\"data row9 col0\" >0.046830</td>\n",
       "            </tr>\n",
       "    </tbody></table><style  type=\"text/css\" >\n",
       "</style><table id=\"T_3eeb0baf_8622_11ea_82d4_3207db5affc5\" style='display:inline'><thead>    <tr>        <th class=\"blank\" ></th>        <th class=\"blank level0\" ></th>        <th class=\"col_heading level0 col0\" >topic_0</th>    </tr>    <tr>        <th class=\"index_name level0\" >modality</th>        <th class=\"index_name level1\" >token</th>        <th class=\"blank\" ></th>    </tr></thead><tbody>\n",
       "                <tr>\n",
       "                        <th id=\"T_3eeb0baf_8622_11ea_82d4_3207db5affc5level0_row0\" class=\"row_heading level0 row0\" rowspan=10>@word</th>\n",
       "                        <th id=\"T_3eeb0baf_8622_11ea_82d4_3207db5affc5level1_row0\" class=\"row_heading level1 row0\" >компания</th>\n",
       "                        <td id=\"T_3eeb0baf_8622_11ea_82d4_3207db5affc5row0_col0\" class=\"data row0 col0\" >0.703170</td>\n",
       "            </tr>\n",
       "            <tr>\n",
       "                                <th id=\"T_3eeb0baf_8622_11ea_82d4_3207db5affc5level1_row1\" class=\"row_heading level1 row1\" >процент</th>\n",
       "                        <td id=\"T_3eeb0baf_8622_11ea_82d4_3207db5affc5row1_col0\" class=\"data row1 col0\" >0.425250</td>\n",
       "            </tr>\n",
       "            <tr>\n",
       "                                <th id=\"T_3eeb0baf_8622_11ea_82d4_3207db5affc5level1_row2\" class=\"row_heading level1 row2\" >миллиард</th>\n",
       "                        <td id=\"T_3eeb0baf_8622_11ea_82d4_3207db5affc5row2_col0\" class=\"data row2 col0\" >0.384250</td>\n",
       "            </tr>\n",
       "            <tr>\n",
       "                                <th id=\"T_3eeb0baf_8622_11ea_82d4_3207db5affc5level1_row3\" class=\"row_heading level1 row3\" >доллар</th>\n",
       "                        <td id=\"T_3eeb0baf_8622_11ea_82d4_3207db5affc5row3_col0\" class=\"data row3 col0\" >0.349770</td>\n",
       "            </tr>\n",
       "            <tr>\n",
       "                                <th id=\"T_3eeb0baf_8622_11ea_82d4_3207db5affc5level1_row4\" class=\"row_heading level1 row4\" >акция</th>\n",
       "                        <td id=\"T_3eeb0baf_8622_11ea_82d4_3207db5affc5row4_col0\" class=\"data row4 col0\" >0.234230</td>\n",
       "            </tr>\n",
       "            <tr>\n",
       "                                <th id=\"T_3eeb0baf_8622_11ea_82d4_3207db5affc5level1_row5\" class=\"row_heading level1 row5\" >миллион</th>\n",
       "                        <td id=\"T_3eeb0baf_8622_11ea_82d4_3207db5affc5row5_col0\" class=\"data row5 col0\" >0.218830</td>\n",
       "            </tr>\n",
       "            <tr>\n",
       "                                <th id=\"T_3eeb0baf_8622_11ea_82d4_3207db5affc5level1_row6\" class=\"row_heading level1 row6\" >россия</th>\n",
       "                        <td id=\"T_3eeb0baf_8622_11ea_82d4_3207db5affc5row6_col0\" class=\"data row6 col0\" >0.167190</td>\n",
       "            </tr>\n",
       "            <tr>\n",
       "                                <th id=\"T_3eeb0baf_8622_11ea_82d4_3207db5affc5level1_row7\" class=\"row_heading level1 row7\" >роснефть</th>\n",
       "                        <td id=\"T_3eeb0baf_8622_11ea_82d4_3207db5affc5row7_col0\" class=\"data row7 col0\" >0.156400</td>\n",
       "            </tr>\n",
       "            <tr>\n",
       "                                <th id=\"T_3eeb0baf_8622_11ea_82d4_3207db5affc5level1_row8\" class=\"row_heading level1 row8\" >российский</th>\n",
       "                        <td id=\"T_3eeb0baf_8622_11ea_82d4_3207db5affc5row8_col0\" class=\"data row8 col0\" >0.155780</td>\n",
       "            </tr>\n",
       "            <tr>\n",
       "                                <th id=\"T_3eeb0baf_8622_11ea_82d4_3207db5affc5level1_row9\" class=\"row_heading level1 row9\" >сделка</th>\n",
       "                        <td id=\"T_3eeb0baf_8622_11ea_82d4_3207db5affc5row9_col0\" class=\"data row9 col0\" >0.149640</td>\n",
       "            </tr>\n",
       "    </tbody></table>&nbsp;<style  type=\"text/css\" >\n",
       "</style><table id=\"T_3eeb0bb0_8622_11ea_82d4_3207db5affc5\" style='display:inline'><thead>    <tr>        <th class=\"blank\" ></th>        <th class=\"blank level0\" ></th>        <th class=\"col_heading level0 col0\" >topic_1</th>    </tr>    <tr>        <th class=\"index_name level0\" >modality</th>        <th class=\"index_name level1\" >token</th>        <th class=\"blank\" ></th>    </tr></thead><tbody>\n",
       "                <tr>\n",
       "                        <th id=\"T_3eeb0bb0_8622_11ea_82d4_3207db5affc5level0_row0\" class=\"row_heading level0 row0\" rowspan=10>@ngramm</th>\n",
       "                        <th id=\"T_3eeb0bb0_8622_11ea_82d4_3207db5affc5level1_row0\" class=\"row_heading level1 row0\" >миллиард_рубль</th>\n",
       "                        <td id=\"T_3eeb0bb0_8622_11ea_82d4_3207db5affc5row0_col0\" class=\"data row0 col0\" >0.135660</td>\n",
       "            </tr>\n",
       "            <tr>\n",
       "                                <th id=\"T_3eeb0bb0_8622_11ea_82d4_3207db5affc5level1_row1\" class=\"row_heading level1 row1\" >миллион_доллар</th>\n",
       "                        <td id=\"T_3eeb0bb0_8622_11ea_82d4_3207db5affc5row1_col0\" class=\"data row1 col0\" >0.098070</td>\n",
       "            </tr>\n",
       "            <tr>\n",
       "                                <th id=\"T_3eeb0bb0_8622_11ea_82d4_3207db5affc5level1_row2\" class=\"row_heading level1 row2\" >лайнер_мечта</th>\n",
       "                        <td id=\"T_3eeb0bb0_8622_11ea_82d4_3207db5affc5row2_col0\" class=\"data row2 col0\" >0.087660</td>\n",
       "            </tr>\n",
       "            <tr>\n",
       "                                <th id=\"T_3eeb0bb0_8622_11ea_82d4_3207db5affc5level1_row3\" class=\"row_heading level1 row3\" >миллион_рубль</th>\n",
       "                        <td id=\"T_3eeb0bb0_8622_11ea_82d4_3207db5affc5row3_col0\" class=\"data row3 col0\" >0.082610</td>\n",
       "            </tr>\n",
       "            <tr>\n",
       "                                <th id=\"T_3eeb0bb0_8622_11ea_82d4_3207db5affc5level1_row4\" class=\"row_heading level1 row4\" >совет_директор</th>\n",
       "                        <td id=\"T_3eeb0bb0_8622_11ea_82d4_3207db5affc5row4_col0\" class=\"data row4 col0\" >0.065140</td>\n",
       "            </tr>\n",
       "            <tr>\n",
       "                                <th id=\"T_3eeb0bb0_8622_11ea_82d4_3207db5affc5level1_row5\" class=\"row_heading level1 row5\" >номер_писать</th>\n",
       "                        <td id=\"T_3eeb0bb0_8622_11ea_82d4_3207db5affc5row5_col0\" class=\"data row5 col0\" >0.050970</td>\n",
       "            </tr>\n",
       "            <tr>\n",
       "                                <th id=\"T_3eeb0bb0_8622_11ea_82d4_3207db5affc5level1_row6\" class=\"row_heading level1 row6\" >red_wings</th>\n",
       "                        <td id=\"T_3eeb0bb0_8622_11ea_82d4_3207db5affc5row6_col0\" class=\"data row6 col0\" >0.045470</td>\n",
       "            </tr>\n",
       "            <tr>\n",
       "                                <th id=\"T_3eeb0bb0_8622_11ea_82d4_3207db5affc5level1_row7\" class=\"row_heading level1 row7\" >тысяча_рубль</th>\n",
       "                        <td id=\"T_3eeb0bb0_8622_11ea_82d4_3207db5affc5row7_col0\" class=\"data row7 col0\" >0.040860</td>\n",
       "            </tr>\n",
       "            <tr>\n",
       "                                <th id=\"T_3eeb0bb0_8622_11ea_82d4_3207db5affc5level1_row8\" class=\"row_heading level1 row8\" >генеральный_директор</th>\n",
       "                        <td id=\"T_3eeb0bb0_8622_11ea_82d4_3207db5affc5row8_col0\" class=\"data row8 col0\" >0.040340</td>\n",
       "            </tr>\n",
       "            <tr>\n",
       "                                <th id=\"T_3eeb0bb0_8622_11ea_82d4_3207db5affc5level1_row9\" class=\"row_heading level1 row9\" >литий_ионный</th>\n",
       "                        <td id=\"T_3eeb0bb0_8622_11ea_82d4_3207db5affc5row9_col0\" class=\"data row9 col0\" >0.039930</td>\n",
       "            </tr>\n",
       "    </tbody></table><style  type=\"text/css\" >\n",
       "</style><table id=\"T_3eeb0bb1_8622_11ea_82d4_3207db5affc5\" style='display:inline'><thead>    <tr>        <th class=\"blank\" ></th>        <th class=\"blank level0\" ></th>        <th class=\"col_heading level0 col0\" >topic_1</th>    </tr>    <tr>        <th class=\"index_name level0\" >modality</th>        <th class=\"index_name level1\" >token</th>        <th class=\"blank\" ></th>    </tr></thead><tbody>\n",
       "                <tr>\n",
       "                        <th id=\"T_3eeb0bb1_8622_11ea_82d4_3207db5affc5level0_row0\" class=\"row_heading level0 row0\" rowspan=10>@word</th>\n",
       "                        <th id=\"T_3eeb0bb1_8622_11ea_82d4_3207db5affc5level1_row0\" class=\"row_heading level1 row0\" >компания</th>\n",
       "                        <td id=\"T_3eeb0bb1_8622_11ea_82d4_3207db5affc5row0_col0\" class=\"data row0 col0\" >0.382760</td>\n",
       "            </tr>\n",
       "            <tr>\n",
       "                                <th id=\"T_3eeb0bb1_8622_11ea_82d4_3207db5affc5level1_row1\" class=\"row_heading level1 row1\" >самолёт</th>\n",
       "                        <td id=\"T_3eeb0bb1_8622_11ea_82d4_3207db5affc5row1_col0\" class=\"data row1 col0\" >0.208040</td>\n",
       "            </tr>\n",
       "            <tr>\n",
       "                                <th id=\"T_3eeb0bb1_8622_11ea_82d4_3207db5affc5level1_row2\" class=\"row_heading level1 row2\" >россия</th>\n",
       "                        <td id=\"T_3eeb0bb1_8622_11ea_82d4_3207db5affc5row2_col0\" class=\"data row2 col0\" >0.154080</td>\n",
       "            </tr>\n",
       "            <tr>\n",
       "                                <th id=\"T_3eeb0bb1_8622_11ea_82d4_3207db5affc5level1_row3\" class=\"row_heading level1 row3\" >рубль</th>\n",
       "                        <td id=\"T_3eeb0bb1_8622_11ea_82d4_3207db5affc5row3_col0\" class=\"data row3 col0\" >0.140190</td>\n",
       "            </tr>\n",
       "            <tr>\n",
       "                                <th id=\"T_3eeb0bb1_8622_11ea_82d4_3207db5affc5level1_row4\" class=\"row_heading level1 row4\" >российский</th>\n",
       "                        <td id=\"T_3eeb0bb1_8622_11ea_82d4_3207db5affc5row4_col0\" class=\"data row4 col0\" >0.138450</td>\n",
       "            </tr>\n",
       "            <tr>\n",
       "                                <th id=\"T_3eeb0bb1_8622_11ea_82d4_3207db5affc5level1_row5\" class=\"row_heading level1 row5\" >авиакомпания</th>\n",
       "                        <td id=\"T_3eeb0bb1_8622_11ea_82d4_3207db5affc5row5_col0\" class=\"data row5 col0\" >0.135660</td>\n",
       "            </tr>\n",
       "            <tr>\n",
       "                                <th id=\"T_3eeb0bb1_8622_11ea_82d4_3207db5affc5level1_row6\" class=\"row_heading level1 row6\" >миллион</th>\n",
       "                        <td id=\"T_3eeb0bb1_8622_11ea_82d4_3207db5affc5row6_col0\" class=\"data row6 col0\" >0.124810</td>\n",
       "            </tr>\n",
       "            <tr>\n",
       "                                <th id=\"T_3eeb0bb1_8622_11ea_82d4_3207db5affc5level1_row7\" class=\"row_heading level1 row7\" >аэрофлот</th>\n",
       "                        <td id=\"T_3eeb0bb1_8622_11ea_82d4_3207db5affc5row7_col0\" class=\"data row7 col0\" >0.108880</td>\n",
       "            </tr>\n",
       "            <tr>\n",
       "                                <th id=\"T_3eeb0bb1_8622_11ea_82d4_3207db5affc5level1_row8\" class=\"row_heading level1 row8\" >альбом</th>\n",
       "                        <td id=\"T_3eeb0bb1_8622_11ea_82d4_3207db5affc5row8_col0\" class=\"data row8 col0\" >0.101750</td>\n",
       "            </tr>\n",
       "            <tr>\n",
       "                                <th id=\"T_3eeb0bb1_8622_11ea_82d4_3207db5affc5level1_row9\" class=\"row_heading level1 row9\" >группа</th>\n",
       "                        <td id=\"T_3eeb0bb1_8622_11ea_82d4_3207db5affc5row9_col0\" class=\"data row9 col0\" >0.095430</td>\n",
       "            </tr>\n",
       "    </tbody></table>"
      ]
     },
     "metadata": {},
     "output_type": "display_data"
    }
   ],
   "source": [
    "tokens_viewer_unbalanced.view_from_jupyter()"
   ]
  },
  {
   "cell_type": "markdown",
   "metadata": {},
   "source": [
    "## Semantic Radius Score Computation<a id=\"semantic-radius-score\"></a>\n",
    "\n",
    "<div style=\"text-align: right\">Back to <a href=#contents>Contents</a></div>\n",
    "\n",
    "This is another way to estimate disbalance of topics in a text collection.\n",
    "\n",
    "* Source file: [semantic_radius_score.py](https://github.com/machine-intelligence-laboratory/TopicNet/blob/master/topicnet/cooking_machine/models/semantic_radius_score.py)"
   ]
  },
  {
   "cell_type": "code",
   "execution_count": 52,
   "metadata": {},
   "outputs": [],
   "source": [
    "score = SemanticRadiusScore(batch_vectorizer=BATCH_VECTORIZER)"
   ]
  },
  {
   "cell_type": "markdown",
   "metadata": {},
   "source": [
    "Computing the radii of semantic homogeneity takes time!"
   ]
  },
  {
   "cell_type": "code",
   "execution_count": 53,
   "metadata": {},
   "outputs": [
    {
     "name": "stdout",
     "output_type": "stream",
     "text": [
      "CPU times: user 3min 50s, sys: 32.9 s, total: 4min 23s\n",
      "Wall time: 3min 25s\n"
     ]
    },
    {
     "data": {
      "text/plain": [
       "[207.5534817878585, 1014.1829269296856]"
      ]
     },
     "execution_count": 53,
     "metadata": {},
     "output_type": "execute_result"
    }
   ],
   "source": [
    "%%time\n",
    "\n",
    "score.call(topic_model_lenta)"
   ]
  },
  {
   "cell_type": "markdown",
   "metadata": {},
   "source": [
    "Radii differ significantly"
   ]
  },
  {
   "cell_type": "code",
   "execution_count": 54,
   "metadata": {},
   "outputs": [
    {
     "name": "stdout",
     "output_type": "stream",
     "text": [
      "CPU times: user 3min 36s, sys: 27 s, total: 4min 3s\n",
      "Wall time: 3min 15s\n"
     ]
    },
    {
     "data": {
      "text/plain": [
       "[681.5406127672389, 575.407280578223]"
      ]
     },
     "execution_count": 54,
     "metadata": {},
     "output_type": "execute_result"
    }
   ],
   "source": [
    "%%time\n",
    "\n",
    "score.call(topic_model_lenta_unbalanced)"
   ]
  },
  {
   "cell_type": "markdown",
   "metadata": {},
   "source": [
    "Here, on the other hand, radii are almost the same\n",
    "\n",
    "<div style=\"text-align: right\">&#8718;</div>"
   ]
  },
  {
   "cell_type": "markdown",
   "metadata": {},
   "source": [
    "---"
   ]
  },
  {
   "cell_type": "code",
   "execution_count": 55,
   "metadata": {},
   "outputs": [
    {
     "data": {
      "text/plain": [
       "['lenta.csv', 'lenta__internals']"
      ]
     },
     "execution_count": 55,
     "metadata": {},
     "output_type": "execute_result"
    }
   ],
   "source": [
    "os.listdir(WORKING_FOLDER_PATH)"
   ]
  },
  {
   "cell_type": "code",
   "execution_count": 56,
   "metadata": {},
   "outputs": [],
   "source": [
    "# Freeing disk space\n",
    "\n",
    "shutil.rmtree(WORKING_FOLDER_PATH)"
   ]
  }
 ],
 "metadata": {
  "kernelspec": {
   "display_name": "topicnet",
   "language": "python",
   "name": "topicnet"
  },
  "language_info": {
   "codemirror_mode": {
    "name": "ipython",
    "version": 3
   },
   "file_extension": ".py",
   "mimetype": "text/x-python",
   "name": "python",
   "nbconvert_exporter": "python",
   "pygments_lexer": "ipython3",
   "version": "3.6.10"
  }
 },
 "nbformat": 4,
 "nbformat_minor": 2
}
