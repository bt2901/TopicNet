{
 "cells": [
  {
   "cell_type": "markdown",
   "metadata": {},
   "source": [
    "# Coherence Maximization Recipe Demo\n",
    "\n",
    "The notebook describes how one can use the Coherence maximization recipe to build an experiment and train such a model which has high coherence value.\n",
    "\n",
    "* Recipes in TopicNet: [recipes](https://github.com/machine-intelligence-laboratory/TopicNet/tree/master/topicnet/cooking_machine/recipes)\n",
    "* Paper about coherence which is used in the recipe: [Intra-Text Coherence as a Measure of Topic Models' Interpretability](http://www.dialog-21.ru/media/4281/alekseevva.pdf)"
   ]
  },
  {
   "cell_type": "markdown",
   "metadata": {},
   "source": [
    "# Contents<a id=\"contents\"></a>\n",
    "\n",
    "* [Loading Dataset](#data)\n",
    "* [Formatting the Recipe](#formatting)\n",
    "* [Experiment](#experiment)\n",
    "* [Best Model](#best-model)\n",
    "    * [Exploring Best Model](#investigating)"
   ]
  },
  {
   "cell_type": "code",
   "execution_count": 1,
   "metadata": {},
   "outputs": [],
   "source": [
    "import os\n",
    "import numpy as np\n",
    "import shutil\n",
    "\n",
    "import matplotlib.pyplot as plt\n",
    "from matplotlib import cm\n",
    "\n",
    "%matplotlib inline"
   ]
  },
  {
   "cell_type": "code",
   "execution_count": 2,
   "metadata": {},
   "outputs": [],
   "source": [
    "from IPython.display import display_html"
   ]
  },
  {
   "cell_type": "code",
   "execution_count": 4,
   "metadata": {},
   "outputs": [],
   "source": [
    "from topicnet.dataset_manager import load_dataset\n",
    "from topicnet.cooking_machine import Dataset\n",
    "from topicnet.cooking_machine.pretty_output import make_notebook_pretty\n",
    "from topicnet.cooking_machine.recipes import IntratextCoherenceRecipe\n",
    "from topicnet.viewers.top_tokens_viewer import TopTokensViewer\n",
    "from topicnet.viewers.top_documents_viewer import TopDocumentsViewer"
   ]
  },
  {
   "cell_type": "code",
   "execution_count": 5,
   "metadata": {},
   "outputs": [
    {
     "data": {
      "text/html": [
       "<style>\n",
       "    div.output_html {\n",
       "        white-space: nowrap;\n",
       "    }\n",
       "    div .output_subarea > pre {\n",
       "        white-space: pre;\n",
       "        word-wrap: normal;\n",
       "    }\n",
       "    div .output_stdout > pre {\n",
       "        white-space: pre-wrap !important;\n",
       "        word-wrap:  break-word !important;\n",
       "    }\n",
       "    </style>"
      ],
      "text/plain": [
       "<IPython.core.display.HTML object>"
      ]
     },
     "metadata": {},
     "output_type": "display_data"
    }
   ],
   "source": [
    "make_notebook_pretty()"
   ]
  },
  {
   "cell_type": "markdown",
   "metadata": {},
   "source": [
    "## Loading Dataset<a id=\"data\"></a>\n",
    "\n",
    "<div style=\"text-align: right\">Back to <a href=#contents>Contents</a></div>"
   ]
  },
  {
   "cell_type": "markdown",
   "metadata": {},
   "source": [
    "Let's pick up a dataset from the [list of available for download](https://github.com/machine-intelligence-laboratory/TopicNet/blob/master/topicnet/dataset_manager/DemoDataset.ipynb)"
   ]
  },
  {
   "cell_type": "code",
   "execution_count": 6,
   "metadata": {},
   "outputs": [],
   "source": [
    "DATASET_NAME = 'postnauka'"
   ]
  },
  {
   "cell_type": "code",
   "execution_count": 7,
   "metadata": {},
   "outputs": [],
   "source": [
    "DATASET = load_dataset(DATASET_NAME)"
   ]
  },
  {
   "cell_type": "code",
   "execution_count": 8,
   "metadata": {},
   "outputs": [
    {
     "data": {
      "text/html": [
       "<div>\n",
       "<style scoped>\n",
       "    .dataframe tbody tr th:only-of-type {\n",
       "        vertical-align: middle;\n",
       "    }\n",
       "\n",
       "    .dataframe tbody tr th {\n",
       "        vertical-align: top;\n",
       "    }\n",
       "\n",
       "    .dataframe thead th {\n",
       "        text-align: right;\n",
       "    }\n",
       "</style>\n",
       "<table border=\"1\" class=\"dataframe\">\n",
       "  <thead>\n",
       "    <tr style=\"text-align: right;\">\n",
       "      <th></th>\n",
       "      <th>id</th>\n",
       "      <th>vw_text</th>\n",
       "      <th>raw_text</th>\n",
       "    </tr>\n",
       "    <tr>\n",
       "      <th>id</th>\n",
       "      <th></th>\n",
       "      <th></th>\n",
       "      <th></th>\n",
       "    </tr>\n",
       "  </thead>\n",
       "  <tbody>\n",
       "    <tr>\n",
       "      <th>1.txt</th>\n",
       "      <td>1.txt</td>\n",
       "      <td>1.txt |@author fuchs preobrazhensky tabachniko...</td>\n",
       "      <td>@title Автограф # «Математический дивертисмент...</td>\n",
       "    </tr>\n",
       "    <tr>\n",
       "      <th>2.txt</th>\n",
       "      <td>2.txt</td>\n",
       "      <td>2.txt |@word книга:2 лекция:3 рассматриваться:...</td>\n",
       "      <td>@title Главы: Маскулинности в российском конте...</td>\n",
       "    </tr>\n",
       "    <tr>\n",
       "      <th>3.txt</th>\n",
       "      <td>3.txt</td>\n",
       "      <td>3.txt |@word развитие появляться пиджина:4 бел...</td>\n",
       "      <td>@title Пиджины и креольские языки | @snippet Л...</td>\n",
       "    </tr>\n",
       "    <tr>\n",
       "      <th>4.txt</th>\n",
       "      <td>4.txt</td>\n",
       "      <td>4.txt |@word стандартный задача:3 состоять:4 р...</td>\n",
       "      <td>@title FAQ: Физиология микроводорослей | @snip...</td>\n",
       "    </tr>\n",
       "    <tr>\n",
       "      <th>5.txt</th>\n",
       "      <td>5.txt</td>\n",
       "      <td>5.txt |@2gramm повседневный_практика государст...</td>\n",
       "      <td>@title Русская государственная идеология | @sn...</td>\n",
       "    </tr>\n",
       "  </tbody>\n",
       "</table>\n",
       "</div>"
      ],
      "text/plain": [
       "          id                                            vw_text  \\\n",
       "id                                                                \n",
       "1.txt  1.txt  1.txt |@author fuchs preobrazhensky tabachniko...   \n",
       "2.txt  2.txt  2.txt |@word книга:2 лекция:3 рассматриваться:...   \n",
       "3.txt  3.txt  3.txt |@word развитие появляться пиджина:4 бел...   \n",
       "4.txt  4.txt  4.txt |@word стандартный задача:3 состоять:4 р...   \n",
       "5.txt  5.txt  5.txt |@2gramm повседневный_практика государст...   \n",
       "\n",
       "                                                raw_text  \n",
       "id                                                        \n",
       "1.txt  @title Автограф # «Математический дивертисмент...  \n",
       "2.txt  @title Главы: Маскулинности в российском конте...  \n",
       "3.txt  @title Пиджины и креольские языки | @snippet Л...  \n",
       "4.txt  @title FAQ: Физиология микроводорослей | @snip...  \n",
       "5.txt  @title Русская государственная идеология | @sn...  "
      ]
     },
     "execution_count": 8,
     "metadata": {},
     "output_type": "execute_result"
    }
   ],
   "source": [
    "DATASET._data.head()"
   ]
  },
  {
   "cell_type": "code",
   "execution_count": 9,
   "metadata": {},
   "outputs": [],
   "source": [
    "DATASET_PATH = DATASET._data_path"
   ]
  },
  {
   "cell_type": "code",
   "execution_count": 10,
   "metadata": {},
   "outputs": [
    {
     "data": {
      "text/plain": [
       "'/home/alekseev/topicnet/dataset_manager/postnauka.csv'"
      ]
     },
     "execution_count": 10,
     "metadata": {},
     "output_type": "execute_result"
    }
   ],
   "source": [
    "DATASET_PATH"
   ]
  },
  {
   "cell_type": "markdown",
   "metadata": {},
   "source": [
    "Let's see how big the dataset is"
   ]
  },
  {
   "cell_type": "code",
   "execution_count": 11,
   "metadata": {},
   "outputs": [
    {
     "data": {
      "text/plain": [
       "artm.Dictionary(name=f0d91fae-b8ef-453f-a918-9a1a5b5a7bc4, num_entries=53095)"
      ]
     },
     "execution_count": 11,
     "metadata": {},
     "output_type": "execute_result"
    }
   ],
   "source": [
    "DATASET.get_dictionary()"
   ]
  },
  {
   "cell_type": "code",
   "execution_count": 12,
   "metadata": {},
   "outputs": [
    {
     "data": {
      "text/plain": [
       "(3404, 3)"
      ]
     },
     "execution_count": 12,
     "metadata": {},
     "output_type": "execute_result"
    }
   ],
   "source": [
    "DATASET._data.shape"
   ]
  },
  {
   "cell_type": "markdown",
   "metadata": {},
   "source": [
    "Nearly 3000 documents — seems not many."
   ]
  },
  {
   "cell_type": "markdown",
   "metadata": {},
   "source": [
    "## Formatting the Recipe<a id=\"formatting\"></a>\n",
    "\n",
    "<div style=\"text-align: right\">Back to <a href=#contents>Contents</a></div>"
   ]
  },
  {
   "cell_type": "markdown",
   "metadata": {},
   "source": [
    "Let's use the flag below to reduce memory consumption in some places"
   ]
  },
  {
   "cell_type": "code",
   "execution_count": 13,
   "metadata": {},
   "outputs": [],
   "source": [
    "LOW_MEMORY = True"
   ]
  },
  {
   "cell_type": "markdown",
   "metadata": {},
   "source": [
    "Below is the main part: replacement of the placeholders in the recipe string with the real values."
   ]
  },
  {
   "cell_type": "code",
   "execution_count": 14,
   "metadata": {},
   "outputs": [],
   "source": [
    "training_pipeline = IntratextCoherenceRecipe()\n",
    "\n",
    "\n",
    "num_documents_to_compute_coherence = 100  # not many — in order to speed up a bit \n",
    "total_num_documents = DATASET._data.shape[0]\n",
    "documents_fraction = num_documents_to_compute_coherence / total_num_documents\n",
    "\n",
    "recipe_config = training_pipeline.format_recipe(\n",
    "    dataset_path=DATASET_PATH,\n",
    "    main_modality='@word',\n",
    "    modalities=['@word'],\n",
    "    keep_dataset_in_memory=True,  # better try keep this True for quicker computation\n",
    "    keep_dataset=not LOW_MEMORY,\n",
    "    documents_fraction=documents_fraction, \n",
    "    num_specific_topics=20,\n",
    "    num_background_topics=1,\n",
    "    one_stage_num_iter=20,\n",
    "    verbose=True,\n",
    ")"
   ]
  },
  {
   "cell_type": "code",
   "execution_count": 15,
   "metadata": {},
   "outputs": [
    {
     "name": "stdout",
     "output_type": "stream",
     "text": [
      "# The recipe mainly consists of basic cube stages,\n",
      "# such as Decorrelation, Sparsing and Smoothing.\n",
      "# In this way it is similar to ARTM baseline recipe.\n",
      "# The core difference is that models selected based on their IntratextCoherenceScore\n",
      "# (which is one of the scores included in TopicNet).\n",
      "# PerplexityScore is also calculated to assure that models don't have high perplexity,\n",
      "# but the main criteria is IntratextCoherenceScore.\n",
      "#\n",
      "# For more details about IntratextCoherence\n",
      "# one may see the paper http://www.dialog-21.ru/media/4281/alekseevva.pdf\n",
      "#\n",
      "# Recipe usage sample:\n",
      "#   file_contents_as_string = file_contents_as_string.format(\n",
      "#     modality_names=modality_names,\n",
      "#     main_modality=main_modality,\n",
      "#     dataset_path=dataset_file_path,\n",
      "#     keep_dataset_in_memory=True,\n",
      "#     keep_dataset=False,\n",
      "#     documents_fraction=documents_fraction,\n",
      "#     specific_topics=specific_topic_names,\n",
      "#     background_topics=background_topic_names,\n",
      "#     one_stage_num_iter=20,\n",
      "#     verbose=True,\n",
      "#   )\n",
      "#   experiment, dataset = build_experiment_environment_from_yaml_config(\n",
      "#     file_contents_as_string,\n",
      "#     experiment_id='experiment_maximize_intratext',\n",
      "#     save_path=save_path,\n",
      "#   )\n",
      "#\n",
      "#   There will be five stages, each with nearly 5-values-grid search.\n",
      "#   One such search lasts `one_stage_num_iter` iterations with coherence computation\n",
      "#   in the end.\n",
      "#   So, there is going to be `one_stage_num_iter` * 5 * 5 training iterations (not slow)\n",
      "#   and 5 * 5 coherence computations (here may be slow if `documents_fraction` is high)\n",
      "\n",
      "topics:\n",
      "    specific_topics: ['topic_0', 'topic_1', 'topic_2', 'topic_3', 'topic_4', 'topic_5', 'topic_6', 'topic_7', 'topic_8', 'topic_9', 'topic_10', 'topic_11', 'topic_12', 'topic_13', 'topic_14', 'topic_15', 'topic_16', 'topic_17', 'topic_18', 'topic_19']\n",
      "    background_topics: ['bcg_topic_20']\n",
      "\n",
      "regularizers:\n",
      "    - DecorrelatorPhiRegularizer:\n",
      "        name: decorrelate_phi\n",
      "        topic_names: specific_topics\n",
      "\n",
      "    - SmoothSparsePhiRegularizer:\n",
      "        name: sparse_phi_specific\n",
      "        topic_names: specific_topics\n",
      "\n",
      "    - SmoothSparsePhiRegularizer:\n",
      "        name: smooth_phi_background\n",
      "        topic_names: background_topics\n",
      "\n",
      "    - SmoothSparsePhiRegularizer:\n",
      "        name: smooth_phi_specific\n",
      "        topic_names: specific_topics\n",
      "\n",
      "scores:\n",
      "    - IntratextCoherenceScore:\n",
      "        dataset: /home/alekseev/topicnet/dataset_manager/postnauka.csv\n",
      "        keep_dataset_in_memory: True\n",
      "        keep_dataset: False\n",
      "        documents_fraction: 0.02937720329024677\n",
      "        start_fit_iteration: -1  # TODO: need this, because can't set fit_iteration_step = num_iter - 1 in .yml config\n",
      "        fit_iteration_step: 20\n",
      "        verbose: True\n",
      "\n",
      "model:\n",
      "    dataset_path: /home/alekseev/topicnet/dataset_manager/postnauka.csv\n",
      "    modalities_to_use: ['@word']\n",
      "    main_modality: '@word'\n",
      "\n",
      "stages:\n",
      "    - RegularizersModifierCube:\n",
      "        num_iter: 20\n",
      "        reg_search: mul\n",
      "        regularizer_parameters:\n",
      "            name: decorrelate_phi\n",
      "        selection:\n",
      "            - PerplexityScore@all < 1.1 * MINIMUM(PerplexityScore@all) and IntratextCoherenceScore -> max\n",
      "        strategy: PerplexityStrategy\n",
      "        strategy_params:\n",
      "            start_point: 0.025\n",
      "            step: 2\n",
      "            max_len: 6\n",
      "        tracked_score_function: PerplexityScore@all\n",
      "        verbose: false\n",
      "        use_relative_coefficients: true\n",
      "\n",
      "    - RegularizersModifierCube:\n",
      "        num_iter: 20\n",
      "        reg_search: add\n",
      "        regularizer_parameters:\n",
      "            name: sparse_phi_specific\n",
      "        selection:\n",
      "          - PerplexityScore@all < 1.1 * MINIMUM(PerplexityScore@all) and IntratextCoherenceScore -> max\n",
      "        strategy: PerplexityStrategy\n",
      "        strategy_params:\n",
      "            start_point: -0.00001\n",
      "            step: -0.1\n",
      "            max_len: 5\n",
      "        tracked_score_function: PerplexityScore@all\n",
      "        verbose: false\n",
      "        use_relative_coefficients: true\n",
      "\n",
      "    - RegularizersModifierCube:\n",
      "        num_iter: 20\n",
      "        reg_search: add\n",
      "        regularizer_parameters:\n",
      "            name: smooth_phi_background\n",
      "        selection:\n",
      "          - PerplexityScore@all < 1.1 * MINIMUM(PerplexityScore@all) and IntratextCoherenceScore -> max\n",
      "        strategy: PerplexityStrategy\n",
      "        strategy_params:\n",
      "            start_point: 0.00001\n",
      "            step: 0.1\n",
      "            max_len: 5\n",
      "        tracked_score_function: PerplexityScore@all\n",
      "        verbose: false\n",
      "        use_relative_coefficients: true\n",
      "\n",
      "    - RegularizersModifierCube:\n",
      "        num_iter: 20\n",
      "        reg_search: mul\n",
      "        regularizer_parameters:\n",
      "            name: decorrelate_phi\n",
      "        selection:\n",
      "          - PerplexityScore@all < 1.1 * MINIMUM(PerplexityScore@all) and IntratextCoherenceScore -> max\n",
      "        strategy: PerplexityStrategy\n",
      "        strategy_params:\n",
      "            start_point: 0.025\n",
      "            step: 2\n",
      "            max_len: 6\n",
      "        tracked_score_function: PerplexityScore@all\n",
      "        verbose: false\n",
      "        use_relative_coefficients: true\n",
      "\n",
      "    - RegularizersModifierCube:\n",
      "        num_iter: 20\n",
      "        reg_search: mul\n",
      "        regularizer_parameters:\n",
      "            name: smooth_phi_specific\n",
      "        selection:\n",
      "          - PerplexityScore@all < 1.1 * MINIMUM(PerplexityScore@all) and IntratextCoherenceScore -> max\n",
      "        strategy: PerplexityStrategy\n",
      "        strategy_params:\n",
      "            start_point: 0.00001\n",
      "            step: 10\n",
      "            max_len: 2\n",
      "        tracked_score_function: PerplexityScore@all\n",
      "        verbose: false\n",
      "        use_relative_coefficients: true\n",
      "\n"
     ]
    }
   ],
   "source": [
    "print(recipe_config)"
   ]
  },
  {
   "cell_type": "markdown",
   "metadata": {},
   "source": [
    "## Experiment<a id=\"experiment\"></a>\n",
    "\n",
    "<div style=\"text-align: right\">Back to <a href=#contents>Contents</a></div>"
   ]
  },
  {
   "cell_type": "markdown",
   "metadata": {},
   "source": [
    "Folder for future experiment"
   ]
  },
  {
   "cell_type": "code",
   "execution_count": 16,
   "metadata": {},
   "outputs": [],
   "source": [
    "EXPERIMENTS_FOLDER_PATH = os.path.join('..', 'experiments')"
   ]
  },
  {
   "cell_type": "code",
   "execution_count": 17,
   "metadata": {},
   "outputs": [],
   "source": [
    "os.makedirs(EXPERIMENTS_FOLDER_PATH, exist_ok=True)"
   ]
  },
  {
   "cell_type": "code",
   "execution_count": 18,
   "metadata": {},
   "outputs": [
    {
     "data": {
      "text/plain": [
       "['Maximize_Coherence2', 'Maximize_Coherence']"
      ]
     },
     "execution_count": 18,
     "metadata": {},
     "output_type": "execute_result"
    }
   ],
   "source": [
    "os.listdir(EXPERIMENTS_FOLDER_PATH)"
   ]
  },
  {
   "cell_type": "code",
   "execution_count": 19,
   "metadata": {},
   "outputs": [],
   "source": [
    "EXPERIMENT_ID = 'Maximize_Coherence'"
   ]
  },
  {
   "cell_type": "markdown",
   "metadata": {},
   "source": [
    "Removing the folder with the chosen experiment ID if it exists"
   ]
  },
  {
   "cell_type": "code",
   "execution_count": 20,
   "metadata": {},
   "outputs": [],
   "source": [
    "COHERENCE_EXPERIMENT_FOLDER_PATH = os.path.join(EXPERIMENTS_FOLDER_PATH, EXPERIMENT_ID)\n",
    "\n",
    "if os.path.isdir(COHERENCE_EXPERIMENT_FOLDER_PATH):\n",
    "    shutil.rmtree(COHERENCE_EXPERIMENT_FOLDER_PATH)"
   ]
  },
  {
   "cell_type": "code",
   "execution_count": 21,
   "metadata": {},
   "outputs": [
    {
     "name": "stdout",
     "output_type": "stream",
     "text": [
      "CPU times: user 2.85 s, sys: 294 ms, total: 3.14 s\n",
      "Wall time: 3.01 s\n"
     ]
    }
   ],
   "source": [
    "%%time\n",
    "\n",
    "experiment, dataset = training_pipeline.build_experiment_environment(\n",
    "    experiment_id=EXPERIMENT_ID,\n",
    "    save_path=EXPERIMENTS_FOLDER_PATH,\n",
    ")"
   ]
  },
  {
   "cell_type": "code",
   "execution_count": 22,
   "metadata": {},
   "outputs": [
    {
     "data": {
      "text/plain": [
       "artm.Dictionary(name=db8c7870-be41-411f-9dc1-c28d6d789fd6, num_entries=53095)"
      ]
     },
     "execution_count": 22,
     "metadata": {},
     "output_type": "execute_result"
    }
   ],
   "source": [
    "dataset.get_dictionary()"
   ]
  },
  {
   "cell_type": "markdown",
   "metadata": {},
   "source": [
    "There are too many words in the dictionary.\n",
    "Let's filter it (otherwise Phi matrix will be very huge)."
   ]
  },
  {
   "cell_type": "code",
   "execution_count": 23,
   "metadata": {},
   "outputs": [],
   "source": [
    "dictionary = dataset.get_dictionary()\n",
    "dictionary.filter(min_df_rate=0.01, max_df_rate=0.9)\n",
    "dataset._cached_dict = dictionary"
   ]
  },
  {
   "cell_type": "code",
   "execution_count": 24,
   "metadata": {},
   "outputs": [
    {
     "data": {
      "text/plain": [
       "artm.Dictionary(name=db8c7870-be41-411f-9dc1-c28d6d789fd6, num_entries=5441)"
      ]
     },
     "execution_count": 24,
     "metadata": {},
     "output_type": "execute_result"
    }
   ],
   "source": [
    "dataset.get_dictionary()"
   ]
  },
  {
   "cell_type": "markdown",
   "metadata": {},
   "source": [
    "Experiment's `low_memory` mode:"
   ]
  },
  {
   "cell_type": "code",
   "execution_count": 25,
   "metadata": {},
   "outputs": [],
   "source": [
    "experiment._low_memory = LOW_MEMORY"
   ]
  },
  {
   "cell_type": "code",
   "execution_count": 26,
   "metadata": {},
   "outputs": [
    {
     "data": {
      "text/plain": [
       "True"
      ]
     },
     "execution_count": 26,
     "metadata": {},
     "output_type": "execute_result"
    }
   ],
   "source": [
    "experiment._low_memory"
   ]
  },
  {
   "cell_type": "markdown",
   "metadata": {},
   "source": [
    "Go!"
   ]
  },
  {
   "cell_type": "code",
   "execution_count": 27,
   "metadata": {},
   "outputs": [
    {
     "name": "stdout",
     "output_type": "stream",
     "text": [
      "100%|██████████| 100/100 [00:24<00:00,  4.04it/s]\n",
      "100%|██████████| 100/100 [00:25<00:00,  3.92it/s]\n",
      "100%|██████████| 100/100 [00:24<00:00,  4.02it/s]\n",
      "100%|██████████| 100/100 [00:25<00:00,  3.97it/s]\n",
      "100%|██████████| 100/100 [00:26<00:00,  3.73it/s]\n",
      "100%|██████████| 100/100 [01:03<00:00,  1.58it/s]\n",
      "100%|██████████| 100/100 [00:26<00:00,  3.82it/s]\n"
     ]
    },
    {
     "name": "stderr",
     "output_type": "stream",
     "text": [
      "../../topicnet/cooking_machine/cubes/base_cube.py:219: UserWarning:\n",
      "\n",
      "Perplexity is too high for threshold 1.05\n",
      "\n"
     ]
    },
    {
     "name": "stdout",
     "output_type": "stream",
     "text": [
      "100%|██████████| 100/100 [00:26<00:00,  3.83it/s]\n",
      "100%|██████████| 100/100 [00:25<00:00,  3.94it/s]\n",
      "100%|██████████| 100/100 [00:25<00:00,  3.89it/s]\n",
      "100%|██████████| 100/100 [00:25<00:00,  3.97it/s]\n",
      "100%|██████████| 100/100 [00:26<00:00,  3.78it/s]\n",
      "100%|██████████| 100/100 [00:27<00:00,  3.64it/s]\n"
     ]
    },
    {
     "name": "stderr",
     "output_type": "stream",
     "text": [
      "../../topicnet/cooking_machine/cubes/base_cube.py:219: UserWarning:\n",
      "\n",
      "Max progression length exceeded\n",
      "\n"
     ]
    },
    {
     "name": "stdout",
     "output_type": "stream",
     "text": [
      "100%|██████████| 100/100 [00:26<00:00,  3.76it/s]\n",
      "100%|██████████| 100/100 [00:26<00:00,  3.84it/s]\n",
      "100%|██████████| 100/100 [00:24<00:00,  4.00it/s]\n"
     ]
    },
    {
     "name": "stderr",
     "output_type": "stream",
     "text": [
      "../../topicnet/cooking_machine/models/dummy_topic_model.py:160: UserWarning:\n",
      "\n",
      "Already dummy\n",
      "\n"
     ]
    },
    {
     "name": "stdout",
     "output_type": "stream",
     "text": [
      "100%|██████████| 100/100 [00:25<00:00,  3.92it/s]\n",
      "100%|██████████| 100/100 [00:24<00:00,  4.03it/s]\n",
      "100%|██████████| 100/100 [00:23<00:00,  4.17it/s]\n",
      "100%|██████████| 100/100 [00:23<00:00,  4.27it/s]\n",
      "100%|██████████| 100/100 [00:25<00:00,  3.85it/s]\n",
      "100%|██████████| 100/100 [00:25<00:00,  3.98it/s]\n",
      "100%|██████████| 100/100 [00:25<00:00,  3.99it/s]\n",
      "CPU times: user 2min 45s, sys: 2min 52s, total: 5min 37s\n",
      "Wall time: 29min 3s\n"
     ]
    },
    {
     "data": {
      "text/plain": [
       "{Model(id=--10h05m21s_23d04m2020y---, parent_id=--10h02m48s_23d04m2020y---, experiment_id=Maximize_Coherence)}"
      ]
     },
     "execution_count": 27,
     "metadata": {},
     "output_type": "execute_result"
    }
   ],
   "source": [
    "%%time\n",
    "\n",
    "experiment.run(dataset)"
   ]
  },
  {
   "cell_type": "markdown",
   "metadata": {},
   "source": [
    "## Best Model<a id=\"best-model\"></a>\n",
    "\n",
    "<div style=\"text-align: right\">Back to <a href=#contents>Contents</a></div>"
   ]
  },
  {
   "cell_type": "markdown",
   "metadata": {},
   "source": [
    "Let's find the best model of all (not only from the last stage of the experiment)."
   ]
  },
  {
   "cell_type": "code",
   "execution_count": 28,
   "metadata": {},
   "outputs": [
    {
     "name": "stderr",
     "output_type": "stream",
     "text": [
      "../../topicnet/cooking_machine/routine.py:455: UserWarning:\n",
      "\n",
      "Model \"Model(id=-----------root-----------, parent_id=None, experiment_id=Maximize_Coherence)\" has empty value list for score \"IntratextCoherenceScore\"\n",
      "\n",
      "../../topicnet/cooking_machine/routine.py:484: UserWarning:\n",
      "\n",
      "Can't return the requested number of models:\n",
      "\n"
     ]
    }
   ],
   "source": [
    "SCORE_NAME = 'IntratextCoherenceScore'\n",
    "\n",
    "BEST_MODEL = None\n",
    "levels = range(1, len(experiment.cubes) + 1)\n",
    "\n",
    "for level in levels:\n",
    "    best_model_candidates = experiment.select(\n",
    "        f'{SCORE_NAME} -> max',\n",
    "        level=level\n",
    "    )\n",
    "\n",
    "    if len(best_model_candidates) == 0:\n",
    "        continue\n",
    "\n",
    "    best_model_candidate = best_model_candidates[0]\n",
    "\n",
    "    if (BEST_MODEL is None or\n",
    "            BEST_MODEL.scores[SCORE_NAME][-1] <\n",
    "            best_model_candidate.scores[SCORE_NAME][-1]):\n",
    "\n",
    "        BEST_MODEL = best_model_candidate"
   ]
  },
  {
   "cell_type": "code",
   "execution_count": 29,
   "metadata": {},
   "outputs": [
    {
     "data": {
      "text/plain": [
       "Model(id=--10h05m21s_23d04m2020y---, parent_id=--10h02m48s_23d04m2020y---, experiment_id=Maximize_Coherence)"
      ]
     },
     "execution_count": 29,
     "metadata": {},
     "output_type": "execute_result"
    }
   ],
   "source": [
    "BEST_MODEL"
   ]
  },
  {
   "cell_type": "markdown",
   "metadata": {},
   "source": [
    "All other models (excluding the Root one):"
   ]
  },
  {
   "cell_type": "code",
   "execution_count": 30,
   "metadata": {},
   "outputs": [],
   "source": [
    "models_to_compare_with = [\n",
    "    m for m in experiment.models.values()\n",
    "    if len(m.scores[SCORE_NAME]) > 0\n",
    "]"
   ]
  },
  {
   "cell_type": "code",
   "execution_count": 31,
   "metadata": {},
   "outputs": [
    {
     "data": {
      "text/plain": [
       "23"
      ]
     },
     "execution_count": 31,
     "metadata": {},
     "output_type": "execute_result"
    }
   ],
   "source": [
    "len(models_to_compare_with)"
   ]
  },
  {
   "cell_type": "code",
   "execution_count": 32,
   "metadata": {},
   "outputs": [
    {
     "data": {
      "text/plain": [
       "24"
      ]
     },
     "execution_count": 32,
     "metadata": {},
     "output_type": "execute_result"
    }
   ],
   "source": [
    "len(experiment.models)  # plus Root"
   ]
  },
  {
   "cell_type": "markdown",
   "metadata": {},
   "source": [
    "Best model's ID and its score value"
   ]
  },
  {
   "cell_type": "code",
   "execution_count": 33,
   "metadata": {},
   "outputs": [
    {
     "name": "stdout",
     "output_type": "stream",
     "text": [
      "         ID: --10h05m21s_23d04m2020y---\n",
      "Score value: 0.01554\n"
     ]
    }
   ],
   "source": [
    "print(f'         ID: {BEST_MODEL.model_id}')\n",
    "print(f'Score value: {BEST_MODEL.scores[SCORE_NAME][-1]:.5f}')"
   ]
  },
  {
   "cell_type": "markdown",
   "metadata": {},
   "source": [
    "Other models' score value:"
   ]
  },
  {
   "cell_type": "code",
   "execution_count": 34,
   "metadata": {},
   "outputs": [
    {
     "name": "stdout",
     "output_type": "stream",
     "text": [
      "Level: 1\n",
      "-----------root-----------: nan\n",
      "\n",
      "Level: 2\n",
      "--09h40m13s_23d04m2020y---: 0.00135\n",
      "--09h41m07s_23d04m2020y---: 0.00068\n",
      "--09h42m03s_23d04m2020y---: 0.00068\n",
      "--09h43m01s_23d04m2020y---: 0.00069\n",
      "--09h44m02s_23d04m2020y---: 0.00081\n",
      "--09h45m06s_23d04m2020y---: 0.00054\n",
      "--09h48m50s_23d04m2020y---: 0.00013\n",
      "\n",
      "Level: 3\n",
      "--09h50m34s_23d04m2020y---: 0.00180\n",
      "--09h51m33s_23d04m2020y---: 0.00180\n",
      "--09h52m34s_23d04m2020y---: 0.00450\n",
      "--09h53m37s_23d04m2020y---: 0.00851\n",
      "--09h54m41s_23d04m2020y---: 0.00988\n",
      "--09h55m49s_23d04m2020y---: 0.01175\n",
      "\n",
      "Level: 4\n",
      "--09h57m16s_23d04m2020y---: 0.00991\n",
      "--09h58m18s_23d04m2020y---: 0.00991\n",
      "--09h59m22s_23d04m2020y---: 0.01048\n",
      "\n",
      "Level: 5\n",
      "--10h00m36s_23d04m2020y---: 0.01036\n",
      "--10h01m41s_23d04m2020y---: 0.01091\n",
      "--10h02m48s_23d04m2020y---: 0.01231\n",
      "--10h03m57s_23d04m2020y---: 0.00000\n",
      "\n",
      "Level: 6\n",
      "--10h05m21s_23d04m2020y---: 0.01554\n",
      "--10h06m33s_23d04m2020y---: 0.01554\n",
      "--10h07m47s_23d04m2020y---: 0.01554\n",
      "\n"
     ]
    }
   ],
   "source": [
    "for level in levels:\n",
    "    print('Level:', level)\n",
    "    \n",
    "    current_models = experiment.select(\n",
    "        '',\n",
    "        level=level\n",
    "    )\n",
    "    \n",
    "    for m in current_models:\n",
    "        if len(m.scores[SCORE_NAME]) == 0:\n",
    "            score_value = float('nan')\n",
    "        else:\n",
    "            score_value = m.scores[SCORE_NAME][-1]\n",
    "\n",
    "        print(f'{m.model_id}: {score_value:.5f}')\n",
    "    \n",
    "    print()"
   ]
  },
  {
   "cell_type": "markdown",
   "metadata": {},
   "source": [
    "## Exploring Best Model<a id=\"investigating\"></a>\n",
    "\n",
    "<div style=\"text-align: right\">Back to <a href=#contents>Contents</a></div>\n",
    "\n",
    "More detailed description of the best model goes here."
   ]
  },
  {
   "cell_type": "code",
   "execution_count": 35,
   "metadata": {},
   "outputs": [
    {
     "data": {
      "text/html": [
       "<div>\n",
       "<style scoped>\n",
       "    .dataframe tbody tr th:only-of-type {\n",
       "        vertical-align: middle;\n",
       "    }\n",
       "\n",
       "    .dataframe tbody tr th {\n",
       "        vertical-align: top;\n",
       "    }\n",
       "\n",
       "    .dataframe thead th {\n",
       "        text-align: right;\n",
       "    }\n",
       "</style>\n",
       "<table border=\"1\" class=\"dataframe\">\n",
       "  <thead>\n",
       "    <tr style=\"text-align: right;\">\n",
       "      <th></th>\n",
       "      <th></th>\n",
       "      <th>tau</th>\n",
       "      <th>gamma</th>\n",
       "      <th>class_ids</th>\n",
       "    </tr>\n",
       "    <tr>\n",
       "      <th>model_id</th>\n",
       "      <th>regularizer_name</th>\n",
       "      <th></th>\n",
       "      <th></th>\n",
       "      <th></th>\n",
       "    </tr>\n",
       "  </thead>\n",
       "  <tbody>\n",
       "    <tr>\n",
       "      <th rowspan=\"6\" valign=\"top\">--10h05m21s_23d04m2020y---</th>\n",
       "      <th>decorrelate_phi</th>\n",
       "      <td>0.050000</td>\n",
       "      <td>0.0</td>\n",
       "      <td>[]</td>\n",
       "    </tr>\n",
       "    <tr>\n",
       "      <th>smooth_phi_background</th>\n",
       "      <td>27.321693</td>\n",
       "      <td>NaN</td>\n",
       "      <td>[]</td>\n",
       "    </tr>\n",
       "    <tr>\n",
       "      <th>smooth_phi_bcg</th>\n",
       "      <td>0.000000</td>\n",
       "      <td>NaN</td>\n",
       "      <td>[@word]</td>\n",
       "    </tr>\n",
       "    <tr>\n",
       "      <th>smooth_phi_specific</th>\n",
       "      <td>0.000000</td>\n",
       "      <td>NaN</td>\n",
       "      <td>[]</td>\n",
       "    </tr>\n",
       "    <tr>\n",
       "      <th>smooth_theta_bcg</th>\n",
       "      <td>0.000000</td>\n",
       "      <td>NaN</td>\n",
       "      <td>None</td>\n",
       "    </tr>\n",
       "    <tr>\n",
       "      <th>sparse_phi_specific</th>\n",
       "      <td>-2.837010</td>\n",
       "      <td>NaN</td>\n",
       "      <td>[]</td>\n",
       "    </tr>\n",
       "  </tbody>\n",
       "</table>\n",
       "</div>"
      ],
      "text/plain": [
       "                                                        tau  gamma class_ids\n",
       "model_id                   regularizer_name                                 \n",
       "--10h05m21s_23d04m2020y--- decorrelate_phi         0.050000    0.0        []\n",
       "                           smooth_phi_background  27.321693    NaN        []\n",
       "                           smooth_phi_bcg          0.000000    NaN   [@word]\n",
       "                           smooth_phi_specific     0.000000    NaN        []\n",
       "                           smooth_theta_bcg        0.000000    NaN      None\n",
       "                           sparse_phi_specific    -2.837010    NaN        []"
      ]
     },
     "execution_count": 35,
     "metadata": {},
     "output_type": "execute_result"
    }
   ],
   "source": [
    "BEST_MODEL.describe_regularizers()"
   ]
  },
  {
   "cell_type": "code",
   "execution_count": 36,
   "metadata": {},
   "outputs": [
    {
     "data": {
      "text/html": [
       "<div>\n",
       "<style scoped>\n",
       "    .dataframe tbody tr th:only-of-type {\n",
       "        vertical-align: middle;\n",
       "    }\n",
       "\n",
       "    .dataframe tbody tr th {\n",
       "        vertical-align: top;\n",
       "    }\n",
       "\n",
       "    .dataframe thead th {\n",
       "        text-align: right;\n",
       "    }\n",
       "</style>\n",
       "<table border=\"1\" class=\"dataframe\">\n",
       "  <thead>\n",
       "    <tr style=\"text-align: right;\">\n",
       "      <th></th>\n",
       "      <th></th>\n",
       "      <th>last_value</th>\n",
       "    </tr>\n",
       "    <tr>\n",
       "      <th>model_id</th>\n",
       "      <th>score_name</th>\n",
       "      <th></th>\n",
       "    </tr>\n",
       "  </thead>\n",
       "  <tbody>\n",
       "    <tr>\n",
       "      <th rowspan=\"9\" valign=\"top\">--10h05m21s_23d04m2020y---</th>\n",
       "      <th>PerplexityScore@all</th>\n",
       "      <td>3795.78</td>\n",
       "    </tr>\n",
       "    <tr>\n",
       "      <th>SparsityThetaScore</th>\n",
       "      <td>0.32957</td>\n",
       "    </tr>\n",
       "    <tr>\n",
       "      <th>SparsityPhiScore@word</th>\n",
       "      <td>0.912853</td>\n",
       "    </tr>\n",
       "    <tr>\n",
       "      <th>PerplexityScore@word</th>\n",
       "      <td>3795.78</td>\n",
       "    </tr>\n",
       "    <tr>\n",
       "      <th>TopicKernel@word.average_coherence</th>\n",
       "      <td>0</td>\n",
       "    </tr>\n",
       "    <tr>\n",
       "      <th>TopicKernel@word.average_contrast</th>\n",
       "      <td>0.64136</td>\n",
       "    </tr>\n",
       "    <tr>\n",
       "      <th>TopicKernel@word.average_purity</th>\n",
       "      <td>0.856669</td>\n",
       "    </tr>\n",
       "    <tr>\n",
       "      <th>TopicKernel@word.average_size</th>\n",
       "      <td>1151.43</td>\n",
       "    </tr>\n",
       "    <tr>\n",
       "      <th>IntratextCoherenceScore</th>\n",
       "      <td>0.0155387</td>\n",
       "    </tr>\n",
       "  </tbody>\n",
       "</table>\n",
       "</div>"
      ],
      "text/plain": [
       "                                                              last_value\n",
       "model_id                   score_name                                   \n",
       "--10h05m21s_23d04m2020y--- PerplexityScore@all                   3795.78\n",
       "                           SparsityThetaScore                    0.32957\n",
       "                           SparsityPhiScore@word                0.912853\n",
       "                           PerplexityScore@word                  3795.78\n",
       "                           TopicKernel@word.average_coherence          0\n",
       "                           TopicKernel@word.average_contrast     0.64136\n",
       "                           TopicKernel@word.average_purity      0.856669\n",
       "                           TopicKernel@word.average_size         1151.43\n",
       "                           IntratextCoherenceScore             0.0155387"
      ]
     },
     "execution_count": 36,
     "metadata": {},
     "output_type": "execute_result"
    }
   ],
   "source": [
    "BEST_MODEL.describe_scores()"
   ]
  },
  {
   "cell_type": "markdown",
   "metadata": {},
   "source": [
    "Let's use some viewers:"
   ]
  },
  {
   "cell_type": "code",
   "execution_count": 37,
   "metadata": {},
   "outputs": [],
   "source": [
    "toptok_viewer = TopTokensViewer(BEST_MODEL, num_top_tokens=10, method='phi')\n",
    "topdoc_viewer = TopDocumentsViewer(BEST_MODEL, dataset=dataset)"
   ]
  },
  {
   "cell_type": "code",
   "execution_count": 41,
   "metadata": {},
   "outputs": [
    {
     "data": {
      "text/html": [
       "<style>\n",
       "    div.output_html {\n",
       "        white-space: nowrap;\n",
       "    }\n",
       "    div .output_subarea > pre {\n",
       "        white-space: pre;\n",
       "        word-wrap: normal;\n",
       "    }\n",
       "    div .output_stdout > pre {\n",
       "        white-space: pre-wrap !important;\n",
       "        word-wrap:  break-word !important;\n",
       "    }\n",
       "    </style>"
      ],
      "text/plain": [
       "<IPython.core.display.HTML object>"
      ]
     },
     "metadata": {},
     "output_type": "display_data"
    }
   ],
   "source": [
    "top_tokens_view = toptok_viewer.view_from_jupyter(\n",
    "    display_output=False,\n",
    "    give_html=True,\n",
    ")"
   ]
  },
  {
   "cell_type": "code",
   "execution_count": 42,
   "metadata": {},
   "outputs": [
    {
     "data": {
      "text/html": [
       "<style  type=\"text/css\" >\n",
       "</style><table id=\"T_69626904_854b_11ea_82d4_3207db5affc5\" style='display:inline'><thead>    <tr>        <th class=\"blank\" ></th>        <th class=\"blank level0\" ></th>        <th class=\"col_heading level0 col0\" >topic_0</th>    </tr>    <tr>        <th class=\"index_name level0\" >modality</th>        <th class=\"index_name level1\" >token</th>        <th class=\"blank\" ></th>    </tr></thead><tbody>\n",
       "                <tr>\n",
       "                        <th id=\"T_69626904_854b_11ea_82d4_3207db5affc5level0_row0\" class=\"row_heading level0 row0\" rowspan=10>@word</th>\n",
       "                        <th id=\"T_69626904_854b_11ea_82d4_3207db5affc5level1_row0\" class=\"row_heading level1 row0\" >работать</th>\n",
       "                        <td id=\"T_69626904_854b_11ea_82d4_3207db5affc5row0_col0\" class=\"data row0 col0\" >0.042580</td>\n",
       "            </tr>\n",
       "            <tr>\n",
       "                                <th id=\"T_69626904_854b_11ea_82d4_3207db5affc5level1_row1\" class=\"row_heading level1 row1\" >наука</th>\n",
       "                        <td id=\"T_69626904_854b_11ea_82d4_3207db5affc5row1_col0\" class=\"data row1 col0\" >0.042490</td>\n",
       "            </tr>\n",
       "            <tr>\n",
       "                                <th id=\"T_69626904_854b_11ea_82d4_3207db5affc5level1_row2\" class=\"row_heading level1 row2\" >хороший</th>\n",
       "                        <td id=\"T_69626904_854b_11ea_82d4_3207db5affc5row2_col0\" class=\"data row2 col0\" >0.036730</td>\n",
       "            </tr>\n",
       "            <tr>\n",
       "                                <th id=\"T_69626904_854b_11ea_82d4_3207db5affc5level1_row3\" class=\"row_heading level1 row3\" >учёный</th>\n",
       "                        <td id=\"T_69626904_854b_11ea_82d4_3207db5affc5row3_col0\" class=\"data row3 col0\" >0.030780</td>\n",
       "            </tr>\n",
       "            <tr>\n",
       "                                <th id=\"T_69626904_854b_11ea_82d4_3207db5affc5level1_row4\" class=\"row_heading level1 row4\" >заниматься</th>\n",
       "                        <td id=\"T_69626904_854b_11ea_82d4_3207db5affc5row4_col0\" class=\"data row4 col0\" >0.024270</td>\n",
       "            </tr>\n",
       "            <tr>\n",
       "                                <th id=\"T_69626904_854b_11ea_82d4_3207db5affc5level1_row5\" class=\"row_heading level1 row5\" >хотеть</th>\n",
       "                        <td id=\"T_69626904_854b_11ea_82d4_3207db5affc5row5_col0\" class=\"data row5 col0\" >0.018140</td>\n",
       "            </tr>\n",
       "            <tr>\n",
       "                                <th id=\"T_69626904_854b_11ea_82d4_3207db5affc5level1_row6\" class=\"row_heading level1 row6\" >думать</th>\n",
       "                        <td id=\"T_69626904_854b_11ea_82d4_3207db5affc5row6_col0\" class=\"data row6 col0\" >0.018000</td>\n",
       "            </tr>\n",
       "            <tr>\n",
       "                                <th id=\"T_69626904_854b_11ea_82d4_3207db5affc5level1_row7\" class=\"row_heading level1 row7\" >университет</th>\n",
       "                        <td id=\"T_69626904_854b_11ea_82d4_3207db5affc5row7_col0\" class=\"data row7 col0\" >0.017760</td>\n",
       "            </tr>\n",
       "            <tr>\n",
       "                                <th id=\"T_69626904_854b_11ea_82d4_3207db5affc5level1_row8\" class=\"row_heading level1 row8\" >образование</th>\n",
       "                        <td id=\"T_69626904_854b_11ea_82d4_3207db5affc5row8_col0\" class=\"data row8 col0\" >0.017110</td>\n",
       "            </tr>\n",
       "            <tr>\n",
       "                                <th id=\"T_69626904_854b_11ea_82d4_3207db5affc5level1_row9\" class=\"row_heading level1 row9\" >проект</th>\n",
       "                        <td id=\"T_69626904_854b_11ea_82d4_3207db5affc5row9_col0\" class=\"data row9 col0\" >0.016900</td>\n",
       "            </tr>\n",
       "    </tbody></table> <style  type=\"text/css\" >\n",
       "</style><table id=\"T_69626905_854b_11ea_82d4_3207db5affc5\" style='display:inline'><thead>    <tr>        <th class=\"blank\" ></th>        <th class=\"blank level0\" ></th>        <th class=\"col_heading level0 col0\" >topic_1</th>    </tr>    <tr>        <th class=\"index_name level0\" >modality</th>        <th class=\"index_name level1\" >token</th>        <th class=\"blank\" ></th>    </tr></thead><tbody>\n",
       "                <tr>\n",
       "                        <th id=\"T_69626905_854b_11ea_82d4_3207db5affc5level0_row0\" class=\"row_heading level0 row0\" rowspan=10>@word</th>\n",
       "                        <th id=\"T_69626905_854b_11ea_82d4_3207db5affc5level1_row0\" class=\"row_heading level1 row0\" >говорить</th>\n",
       "                        <td id=\"T_69626905_854b_11ea_82d4_3207db5affc5row0_col0\" class=\"data row0 col0\" >0.010790</td>\n",
       "            </tr>\n",
       "            <tr>\n",
       "                                <th id=\"T_69626905_854b_11ea_82d4_3207db5affc5level1_row1\" class=\"row_heading level1 row1\" >работа</th>\n",
       "                        <td id=\"T_69626905_854b_11ea_82d4_3207db5affc5row1_col0\" class=\"data row1 col0\" >0.008430</td>\n",
       "            </tr>\n",
       "            <tr>\n",
       "                                <th id=\"T_69626905_854b_11ea_82d4_3207db5affc5level1_row2\" class=\"row_heading level1 row2\" >являться</th>\n",
       "                        <td id=\"T_69626905_854b_11ea_82d4_3207db5affc5row2_col0\" class=\"data row2 col0\" >0.008020</td>\n",
       "            </tr>\n",
       "            <tr>\n",
       "                                <th id=\"T_69626905_854b_11ea_82d4_3207db5affc5level1_row3\" class=\"row_heading level1 row3\" >образ</th>\n",
       "                        <td id=\"T_69626905_854b_11ea_82d4_3207db5affc5row3_col0\" class=\"data row3 col0\" >0.007370</td>\n",
       "            </tr>\n",
       "            <tr>\n",
       "                                <th id=\"T_69626905_854b_11ea_82d4_3207db5affc5level1_row4\" class=\"row_heading level1 row4\" >вопрос</th>\n",
       "                        <td id=\"T_69626905_854b_11ea_82d4_3207db5affc5row4_col0\" class=\"data row4 col0\" >0.007150</td>\n",
       "            </tr>\n",
       "            <tr>\n",
       "                                <th id=\"T_69626905_854b_11ea_82d4_3207db5affc5level1_row5\" class=\"row_heading level1 row5\" >сторона</th>\n",
       "                        <td id=\"T_69626905_854b_11ea_82d4_3207db5affc5row5_col0\" class=\"data row5 col0\" >0.006980</td>\n",
       "            </tr>\n",
       "            <tr>\n",
       "                                <th id=\"T_69626905_854b_11ea_82d4_3207db5affc5level1_row6\" class=\"row_heading level1 row6\" >должный</th>\n",
       "                        <td id=\"T_69626905_854b_11ea_82d4_3207db5affc5row6_col0\" class=\"data row6 col0\" >0.006950</td>\n",
       "            </tr>\n",
       "            <tr>\n",
       "                                <th id=\"T_69626905_854b_11ea_82d4_3207db5affc5level1_row7\" class=\"row_heading level1 row7\" >жизнь</th>\n",
       "                        <td id=\"T_69626905_854b_11ea_82d4_3207db5affc5row7_col0\" class=\"data row7 col0\" >0.006710</td>\n",
       "            </tr>\n",
       "            <tr>\n",
       "                                <th id=\"T_69626905_854b_11ea_82d4_3207db5affc5level1_row8\" class=\"row_heading level1 row8\" >важный</th>\n",
       "                        <td id=\"T_69626905_854b_11ea_82d4_3207db5affc5row8_col0\" class=\"data row8 col0\" >0.005940</td>\n",
       "            </tr>\n",
       "            <tr>\n",
       "                                <th id=\"T_69626905_854b_11ea_82d4_3207db5affc5level1_row9\" class=\"row_heading level1 row9\" >существовать</th>\n",
       "                        <td id=\"T_69626905_854b_11ea_82d4_3207db5affc5row9_col0\" class=\"data row9 col0\" >0.005900</td>\n",
       "            </tr>\n",
       "    </tbody></table> <style  type=\"text/css\" >\n",
       "</style><table id=\"T_69626906_854b_11ea_82d4_3207db5affc5\" style='display:inline'><thead>    <tr>        <th class=\"blank\" ></th>        <th class=\"blank level0\" ></th>        <th class=\"col_heading level0 col0\" >topic_2</th>    </tr>    <tr>        <th class=\"index_name level0\" >modality</th>        <th class=\"index_name level1\" >token</th>        <th class=\"blank\" ></th>    </tr></thead><tbody>\n",
       "                <tr>\n",
       "                        <th id=\"T_69626906_854b_11ea_82d4_3207db5affc5level0_row0\" class=\"row_heading level0 row0\" rowspan=10>@word</th>\n",
       "                        <th id=\"T_69626906_854b_11ea_82d4_3207db5affc5level1_row0\" class=\"row_heading level1 row0\" >сантиметр</th>\n",
       "                        <td id=\"T_69626906_854b_11ea_82d4_3207db5affc5row0_col0\" class=\"data row0 col0\" >0.240490</td>\n",
       "            </tr>\n",
       "            <tr>\n",
       "                                <th id=\"T_69626906_854b_11ea_82d4_3207db5affc5level1_row1\" class=\"row_heading level1 row1\" >святилище</th>\n",
       "                        <td id=\"T_69626906_854b_11ea_82d4_3207db5affc5row1_col0\" class=\"data row1 col0\" >0.097950</td>\n",
       "            </tr>\n",
       "            <tr>\n",
       "                                <th id=\"T_69626906_854b_11ea_82d4_3207db5affc5level1_row2\" class=\"row_heading level1 row2\" >сосуд</th>\n",
       "                        <td id=\"T_69626906_854b_11ea_82d4_3207db5affc5row2_col0\" class=\"data row2 col0\" >0.063960</td>\n",
       "            </tr>\n",
       "            <tr>\n",
       "                                <th id=\"T_69626906_854b_11ea_82d4_3207db5affc5level1_row3\" class=\"row_heading level1 row3\" >стоящий</th>\n",
       "                        <td id=\"T_69626906_854b_11ea_82d4_3207db5affc5row3_col0\" class=\"data row3 col0\" >0.063510</td>\n",
       "            </tr>\n",
       "            <tr>\n",
       "                                <th id=\"T_69626906_854b_11ea_82d4_3207db5affc5level1_row4\" class=\"row_heading level1 row4\" >заполнить</th>\n",
       "                        <td id=\"T_69626906_854b_11ea_82d4_3207db5affc5row4_col0\" class=\"data row4 col0\" >0.050610</td>\n",
       "            </tr>\n",
       "            <tr>\n",
       "                                <th id=\"T_69626906_854b_11ea_82d4_3207db5affc5level1_row5\" class=\"row_heading level1 row5\" >культовый</th>\n",
       "                        <td id=\"T_69626906_854b_11ea_82d4_3207db5affc5row5_col0\" class=\"data row5 col0\" >0.044140</td>\n",
       "            </tr>\n",
       "            <tr>\n",
       "                                <th id=\"T_69626906_854b_11ea_82d4_3207db5affc5level1_row6\" class=\"row_heading level1 row6\" >фигурка</th>\n",
       "                        <td id=\"T_69626906_854b_11ea_82d4_3207db5affc5row6_col0\" class=\"data row6 col0\" >0.044060</td>\n",
       "            </tr>\n",
       "            <tr>\n",
       "                                <th id=\"T_69626906_854b_11ea_82d4_3207db5affc5level1_row7\" class=\"row_heading level1 row7\" >квадрат</th>\n",
       "                        <td id=\"T_69626906_854b_11ea_82d4_3207db5affc5row7_col0\" class=\"data row7 col0\" >0.040780</td>\n",
       "            </tr>\n",
       "            <tr>\n",
       "                                <th id=\"T_69626906_854b_11ea_82d4_3207db5affc5level1_row8\" class=\"row_heading level1 row8\" >статуэтка</th>\n",
       "                        <td id=\"T_69626906_854b_11ea_82d4_3207db5affc5row8_col0\" class=\"data row8 col0\" >0.030470</td>\n",
       "            </tr>\n",
       "            <tr>\n",
       "                                <th id=\"T_69626906_854b_11ea_82d4_3207db5affc5level1_row9\" class=\"row_heading level1 row9\" >ниша</th>\n",
       "                        <td id=\"T_69626906_854b_11ea_82d4_3207db5affc5row9_col0\" class=\"data row9 col0\" >0.025790</td>\n",
       "            </tr>\n",
       "    </tbody></table> <style  type=\"text/css\" >\n",
       "</style><table id=\"T_69626907_854b_11ea_82d4_3207db5affc5\" style='display:inline'><thead>    <tr>        <th class=\"blank\" ></th>        <th class=\"blank level0\" ></th>        <th class=\"col_heading level0 col0\" >topic_3</th>    </tr>    <tr>        <th class=\"index_name level0\" >modality</th>        <th class=\"index_name level1\" >token</th>        <th class=\"blank\" ></th>    </tr></thead><tbody>\n",
       "                <tr>\n",
       "                        <th id=\"T_69626907_854b_11ea_82d4_3207db5affc5level0_row0\" class=\"row_heading level0 row0\" rowspan=10>@word</th>\n",
       "                        <th id=\"T_69626907_854b_11ea_82d4_3207db5affc5level1_row0\" class=\"row_heading level1 row0\" >книга</th>\n",
       "                        <td id=\"T_69626907_854b_11ea_82d4_3207db5affc5row0_col0\" class=\"data row0 col0\" >0.058980</td>\n",
       "            </tr>\n",
       "            <tr>\n",
       "                                <th id=\"T_69626907_854b_11ea_82d4_3207db5affc5level1_row1\" class=\"row_heading level1 row1\" >история</th>\n",
       "                        <td id=\"T_69626907_854b_11ea_82d4_3207db5affc5row1_col0\" class=\"data row1 col0\" >0.048080</td>\n",
       "            </tr>\n",
       "            <tr>\n",
       "                                <th id=\"T_69626907_854b_11ea_82d4_3207db5affc5level1_row2\" class=\"row_heading level1 row2\" >текст</th>\n",
       "                        <td id=\"T_69626907_854b_11ea_82d4_3207db5affc5row2_col0\" class=\"data row2 col0\" >0.029040</td>\n",
       "            </tr>\n",
       "            <tr>\n",
       "                                <th id=\"T_69626907_854b_11ea_82d4_3207db5affc5level1_row3\" class=\"row_heading level1 row3\" >писать</th>\n",
       "                        <td id=\"T_69626907_854b_11ea_82d4_3207db5affc5row3_col0\" class=\"data row3 col0\" >0.027460</td>\n",
       "            </tr>\n",
       "            <tr>\n",
       "                                <th id=\"T_69626907_854b_11ea_82d4_3207db5affc5level1_row4\" class=\"row_heading level1 row4\" >автор</th>\n",
       "                        <td id=\"T_69626907_854b_11ea_82d4_3207db5affc5row4_col0\" class=\"data row4 col0\" >0.026690</td>\n",
       "            </tr>\n",
       "            <tr>\n",
       "                                <th id=\"T_69626907_854b_11ea_82d4_3207db5affc5level1_row5\" class=\"row_heading level1 row5\" >метр</th>\n",
       "                        <td id=\"T_69626907_854b_11ea_82d4_3207db5affc5row5_col0\" class=\"data row5 col0\" >0.025300</td>\n",
       "            </tr>\n",
       "            <tr>\n",
       "                                <th id=\"T_69626907_854b_11ea_82d4_3207db5affc5level1_row6\" class=\"row_heading level1 row6\" >написать</th>\n",
       "                        <td id=\"T_69626907_854b_11ea_82d4_3207db5affc5row6_col0\" class=\"data row6 col0\" >0.019160</td>\n",
       "            </tr>\n",
       "            <tr>\n",
       "                                <th id=\"T_69626907_854b_11ea_82d4_3207db5affc5level1_row7\" class=\"row_heading level1 row7\" >литература</th>\n",
       "                        <td id=\"T_69626907_854b_11ea_82d4_3207db5affc5row7_col0\" class=\"data row7 col0\" >0.014750</td>\n",
       "            </tr>\n",
       "            <tr>\n",
       "                                <th id=\"T_69626907_854b_11ea_82d4_3207db5affc5level1_row8\" class=\"row_heading level1 row8\" >читать</th>\n",
       "                        <td id=\"T_69626907_854b_11ea_82d4_3207db5affc5row8_col0\" class=\"data row8 col0\" >0.012740</td>\n",
       "            </tr>\n",
       "            <tr>\n",
       "                                <th id=\"T_69626907_854b_11ea_82d4_3207db5affc5level1_row9\" class=\"row_heading level1 row9\" >искусство</th>\n",
       "                        <td id=\"T_69626907_854b_11ea_82d4_3207db5affc5row9_col0\" class=\"data row9 col0\" >0.011840</td>\n",
       "            </tr>\n",
       "    </tbody></table> <style  type=\"text/css\" >\n",
       "</style><table id=\"T_69626908_854b_11ea_82d4_3207db5affc5\" style='display:inline'><thead>    <tr>        <th class=\"blank\" ></th>        <th class=\"blank level0\" ></th>        <th class=\"col_heading level0 col0\" >topic_4</th>    </tr>    <tr>        <th class=\"index_name level0\" >modality</th>        <th class=\"index_name level1\" >token</th>        <th class=\"blank\" ></th>    </tr></thead><tbody>\n",
       "                <tr>\n",
       "                        <th id=\"T_69626908_854b_11ea_82d4_3207db5affc5level0_row0\" class=\"row_heading level0 row0\" rowspan=10>@word</th>\n",
       "                        <th id=\"T_69626908_854b_11ea_82d4_3207db5affc5level1_row0\" class=\"row_heading level1 row0\" >россия</th>\n",
       "                        <td id=\"T_69626908_854b_11ea_82d4_3207db5affc5row0_col0\" class=\"data row0 col0\" >0.019280</td>\n",
       "            </tr>\n",
       "            <tr>\n",
       "                                <th id=\"T_69626908_854b_11ea_82d4_3207db5affc5level1_row1\" class=\"row_heading level1 row1\" >государство</th>\n",
       "                        <td id=\"T_69626908_854b_11ea_82d4_3207db5affc5row1_col0\" class=\"data row1 col0\" >0.014590</td>\n",
       "            </tr>\n",
       "            <tr>\n",
       "                                <th id=\"T_69626908_854b_11ea_82d4_3207db5affc5level1_row2\" class=\"row_heading level1 row2\" >общество</th>\n",
       "                        <td id=\"T_69626908_854b_11ea_82d4_3207db5affc5row2_col0\" class=\"data row2 col0\" >0.013680</td>\n",
       "            </tr>\n",
       "            <tr>\n",
       "                                <th id=\"T_69626908_854b_11ea_82d4_3207db5affc5level1_row3\" class=\"row_heading level1 row3\" >право</th>\n",
       "                        <td id=\"T_69626908_854b_11ea_82d4_3207db5affc5row3_col0\" class=\"data row3 col0\" >0.013230</td>\n",
       "            </tr>\n",
       "            <tr>\n",
       "                                <th id=\"T_69626908_854b_11ea_82d4_3207db5affc5level1_row4\" class=\"row_heading level1 row4\" >власть</th>\n",
       "                        <td id=\"T_69626908_854b_11ea_82d4_3207db5affc5row4_col0\" class=\"data row4 col0\" >0.012100</td>\n",
       "            </tr>\n",
       "            <tr>\n",
       "                                <th id=\"T_69626908_854b_11ea_82d4_3207db5affc5level1_row5\" class=\"row_heading level1 row5\" >политический</th>\n",
       "                        <td id=\"T_69626908_854b_11ea_82d4_3207db5affc5row5_col0\" class=\"data row5 col0\" >0.010340</td>\n",
       "            </tr>\n",
       "            <tr>\n",
       "                                <th id=\"T_69626908_854b_11ea_82d4_3207db5affc5level1_row6\" class=\"row_heading level1 row6\" >война</th>\n",
       "                        <td id=\"T_69626908_854b_11ea_82d4_3207db5affc5row6_col0\" class=\"data row6 col0\" >0.009390</td>\n",
       "            </tr>\n",
       "            <tr>\n",
       "                                <th id=\"T_69626908_854b_11ea_82d4_3207db5affc5level1_row7\" class=\"row_heading level1 row7\" >политика</th>\n",
       "                        <td id=\"T_69626908_854b_11ea_82d4_3207db5affc5row7_col0\" class=\"data row7 col0\" >0.007500</td>\n",
       "            </tr>\n",
       "            <tr>\n",
       "                                <th id=\"T_69626908_854b_11ea_82d4_3207db5affc5level1_row8\" class=\"row_heading level1 row8\" >закон</th>\n",
       "                        <td id=\"T_69626908_854b_11ea_82d4_3207db5affc5row8_col0\" class=\"data row8 col0\" >0.006790</td>\n",
       "            </tr>\n",
       "            <tr>\n",
       "                                <th id=\"T_69626908_854b_11ea_82d4_3207db5affc5level1_row9\" class=\"row_heading level1 row9\" >советский</th>\n",
       "                        <td id=\"T_69626908_854b_11ea_82d4_3207db5affc5row9_col0\" class=\"data row9 col0\" >0.005780</td>\n",
       "            </tr>\n",
       "    </tbody></table> <style  type=\"text/css\" >\n",
       "</style><table id=\"T_69626909_854b_11ea_82d4_3207db5affc5\" style='display:inline'><thead>    <tr>        <th class=\"blank\" ></th>        <th class=\"blank level0\" ></th>        <th class=\"col_heading level0 col0\" >topic_5</th>    </tr>    <tr>        <th class=\"index_name level0\" >modality</th>        <th class=\"index_name level1\" >token</th>        <th class=\"blank\" ></th>    </tr></thead><tbody>\n",
       "                <tr>\n",
       "                        <th id=\"T_69626909_854b_11ea_82d4_3207db5affc5level0_row0\" class=\"row_heading level0 row0\" rowspan=10>@word</th>\n",
       "                        <th id=\"T_69626909_854b_11ea_82d4_3207db5affc5level1_row0\" class=\"row_heading level1 row0\" >caption</th>\n",
       "                        <td id=\"T_69626909_854b_11ea_82d4_3207db5affc5row0_col0\" class=\"data row0 col0\" >0.103410</td>\n",
       "            </tr>\n",
       "            <tr>\n",
       "                                <th id=\"T_69626909_854b_11ea_82d4_3207db5affc5level1_row1\" class=\"row_heading level1 row1\" >остров</th>\n",
       "                        <td id=\"T_69626909_854b_11ea_82d4_3207db5affc5row1_col0\" class=\"data row1 col0\" >0.069080</td>\n",
       "            </tr>\n",
       "            <tr>\n",
       "                                <th id=\"T_69626909_854b_11ea_82d4_3207db5affc5level1_row2\" class=\"row_heading level1 row2\" >align</th>\n",
       "                        <td id=\"T_69626909_854b_11ea_82d4_3207db5affc5row2_col0\" class=\"data row2 col0\" >0.051350</td>\n",
       "            </tr>\n",
       "            <tr>\n",
       "                                <th id=\"T_69626909_854b_11ea_82d4_3207db5affc5level1_row3\" class=\"row_heading level1 row3\" >width</th>\n",
       "                        <td id=\"T_69626909_854b_11ea_82d4_3207db5affc5row3_col0\" class=\"data row3 col0\" >0.051350</td>\n",
       "            </tr>\n",
       "            <tr>\n",
       "                                <th id=\"T_69626909_854b_11ea_82d4_3207db5affc5level1_row4\" class=\"row_heading level1 row4\" >attachment</th>\n",
       "                        <td id=\"T_69626909_854b_11ea_82d4_3207db5affc5row4_col0\" class=\"data row4 col0\" >0.050610</td>\n",
       "            </tr>\n",
       "            <tr>\n",
       "                                <th id=\"T_69626909_854b_11ea_82d4_3207db5affc5level1_row5\" class=\"row_heading level1 row5\" >африка</th>\n",
       "                        <td id=\"T_69626909_854b_11ea_82d4_3207db5affc5row5_col0\" class=\"data row5 col0\" >0.038090</td>\n",
       "            </tr>\n",
       "            <tr>\n",
       "                                <th id=\"T_69626909_854b_11ea_82d4_3207db5affc5level1_row6\" class=\"row_heading level1 row6\" >глубина</th>\n",
       "                        <td id=\"T_69626909_854b_11ea_82d4_3207db5affc5row6_col0\" class=\"data row6 col0\" >0.035500</td>\n",
       "            </tr>\n",
       "            <tr>\n",
       "                                <th id=\"T_69626909_854b_11ea_82d4_3207db5affc5level1_row7\" class=\"row_heading level1 row7\" >раса</th>\n",
       "                        <td id=\"T_69626909_854b_11ea_82d4_3207db5affc5row7_col0\" class=\"data row7 col0\" >0.033250</td>\n",
       "            </tr>\n",
       "            <tr>\n",
       "                                <th id=\"T_69626909_854b_11ea_82d4_3207db5affc5level1_row8\" class=\"row_heading level1 row8\" >гора</th>\n",
       "                        <td id=\"T_69626909_854b_11ea_82d4_3207db5affc5row8_col0\" class=\"data row8 col0\" >0.032760</td>\n",
       "            </tr>\n",
       "            <tr>\n",
       "                                <th id=\"T_69626909_854b_11ea_82d4_3207db5affc5level1_row9\" class=\"row_heading level1 row9\" >aligncenter</th>\n",
       "                        <td id=\"T_69626909_854b_11ea_82d4_3207db5affc5row9_col0\" class=\"data row9 col0\" >0.028910</td>\n",
       "            </tr>\n",
       "    </tbody></table> <style  type=\"text/css\" >\n",
       "</style><table id=\"T_6962690a_854b_11ea_82d4_3207db5affc5\" style='display:inline'><thead>    <tr>        <th class=\"blank\" ></th>        <th class=\"blank level0\" ></th>        <th class=\"col_heading level0 col0\" >topic_6</th>    </tr>    <tr>        <th class=\"index_name level0\" >modality</th>        <th class=\"index_name level1\" >token</th>        <th class=\"blank\" ></th>    </tr></thead><tbody>\n",
       "                <tr>\n",
       "                        <th id=\"T_6962690a_854b_11ea_82d4_3207db5affc5level0_row0\" class=\"row_heading level0 row0\" rowspan=10>@word</th>\n",
       "                        <th id=\"T_6962690a_854b_11ea_82d4_3207db5affc5level1_row0\" class=\"row_heading level1 row0\" >язык</th>\n",
       "                        <td id=\"T_6962690a_854b_11ea_82d4_3207db5affc5row0_col0\" class=\"data row0 col0\" >0.081550</td>\n",
       "            </tr>\n",
       "            <tr>\n",
       "                                <th id=\"T_6962690a_854b_11ea_82d4_3207db5affc5level1_row1\" class=\"row_heading level1 row1\" >слово</th>\n",
       "                        <td id=\"T_6962690a_854b_11ea_82d4_3207db5affc5row1_col0\" class=\"data row1 col0\" >0.066310</td>\n",
       "            </tr>\n",
       "            <tr>\n",
       "                                <th id=\"T_6962690a_854b_11ea_82d4_3207db5affc5level1_row2\" class=\"row_heading level1 row2\" >память</th>\n",
       "                        <td id=\"T_6962690a_854b_11ea_82d4_3207db5affc5row2_col0\" class=\"data row2 col0\" >0.018430</td>\n",
       "            </tr>\n",
       "            <tr>\n",
       "                                <th id=\"T_6962690a_854b_11ea_82d4_3207db5affc5level1_row3\" class=\"row_heading level1 row3\" >речь</th>\n",
       "                        <td id=\"T_6962690a_854b_11ea_82d4_3207db5affc5row3_col0\" class=\"data row3 col0\" >0.014260</td>\n",
       "            </tr>\n",
       "            <tr>\n",
       "                                <th id=\"T_6962690a_854b_11ea_82d4_3207db5affc5level1_row4\" class=\"row_heading level1 row4\" >вариант</th>\n",
       "                        <td id=\"T_6962690a_854b_11ea_82d4_3207db5affc5row4_col0\" class=\"data row4 col0\" >0.013940</td>\n",
       "            </tr>\n",
       "            <tr>\n",
       "                                <th id=\"T_6962690a_854b_11ea_82d4_3207db5affc5level1_row5\" class=\"row_heading level1 row5\" >информация</th>\n",
       "                        <td id=\"T_6962690a_854b_11ea_82d4_3207db5affc5row5_col0\" class=\"data row5 col0\" >0.013720</td>\n",
       "            </tr>\n",
       "            <tr>\n",
       "                                <th id=\"T_6962690a_854b_11ea_82d4_3207db5affc5level1_row6\" class=\"row_heading level1 row6\" >ошибка</th>\n",
       "                        <td id=\"T_6962690a_854b_11ea_82d4_3207db5affc5row6_col0\" class=\"data row6 col0\" >0.012100</td>\n",
       "            </tr>\n",
       "            <tr>\n",
       "                                <th id=\"T_6962690a_854b_11ea_82d4_3207db5affc5level1_row7\" class=\"row_heading level1 row7\" >понятно</th>\n",
       "                        <td id=\"T_6962690a_854b_11ea_82d4_3207db5affc5row7_col0\" class=\"data row7 col0\" >0.011540</td>\n",
       "            </tr>\n",
       "            <tr>\n",
       "                                <th id=\"T_6962690a_854b_11ea_82d4_3207db5affc5level1_row8\" class=\"row_heading level1 row8\" >рука</th>\n",
       "                        <td id=\"T_6962690a_854b_11ea_82d4_3207db5affc5row8_col0\" class=\"data row8 col0\" >0.010060</td>\n",
       "            </tr>\n",
       "            <tr>\n",
       "                                <th id=\"T_6962690a_854b_11ea_82d4_3207db5affc5level1_row9\" class=\"row_heading level1 row9\" >предложение</th>\n",
       "                        <td id=\"T_6962690a_854b_11ea_82d4_3207db5affc5row9_col0\" class=\"data row9 col0\" >0.009770</td>\n",
       "            </tr>\n",
       "    </tbody></table> <style  type=\"text/css\" >\n",
       "</style><table id=\"T_6962690b_854b_11ea_82d4_3207db5affc5\" style='display:inline'><thead>    <tr>        <th class=\"blank\" ></th>        <th class=\"blank level0\" ></th>        <th class=\"col_heading level0 col0\" >topic_7</th>    </tr>    <tr>        <th class=\"index_name level0\" >modality</th>        <th class=\"index_name level1\" >token</th>        <th class=\"blank\" ></th>    </tr></thead><tbody>\n",
       "                <tr>\n",
       "                        <th id=\"T_6962690b_854b_11ea_82d4_3207db5affc5level0_row0\" class=\"row_heading level0 row0\" rowspan=10>@word</th>\n",
       "                        <th id=\"T_6962690b_854b_11ea_82d4_3207db5affc5level1_row0\" class=\"row_heading level1 row0\" >лёд</th>\n",
       "                        <td id=\"T_6962690b_854b_11ea_82d4_3207db5affc5row0_col0\" class=\"data row0 col0\" >0.143540</td>\n",
       "            </tr>\n",
       "            <tr>\n",
       "                                <th id=\"T_6962690b_854b_11ea_82d4_3207db5affc5level1_row1\" class=\"row_heading level1 row1\" >климат</th>\n",
       "                        <td id=\"T_6962690b_854b_11ea_82d4_3207db5affc5row1_col0\" class=\"data row1 col0\" >0.125500</td>\n",
       "            </tr>\n",
       "            <tr>\n",
       "                                <th id=\"T_6962690b_854b_11ea_82d4_3207db5affc5level1_row2\" class=\"row_heading level1 row2\" >морской</th>\n",
       "                        <td id=\"T_6962690b_854b_11ea_82d4_3207db5affc5row2_col0\" class=\"data row2 col0\" >0.114530</td>\n",
       "            </tr>\n",
       "            <tr>\n",
       "                                <th id=\"T_6962690b_854b_11ea_82d4_3207db5affc5level1_row3\" class=\"row_heading level1 row3\" >ледник</th>\n",
       "                        <td id=\"T_6962690b_854b_11ea_82d4_3207db5affc5row3_col0\" class=\"data row3 col0\" >0.088150</td>\n",
       "            </tr>\n",
       "            <tr>\n",
       "                                <th id=\"T_6962690b_854b_11ea_82d4_3207db5affc5level1_row4\" class=\"row_heading level1 row4\" >накапливаться</th>\n",
       "                        <td id=\"T_6962690b_854b_11ea_82d4_3207db5affc5row4_col0\" class=\"data row4 col0\" >0.082020</td>\n",
       "            </tr>\n",
       "            <tr>\n",
       "                                <th id=\"T_6962690b_854b_11ea_82d4_3207db5affc5level1_row5\" class=\"row_heading level1 row5\" >антарктида</th>\n",
       "                        <td id=\"T_6962690b_854b_11ea_82d4_3207db5affc5row5_col0\" class=\"data row5 col0\" >0.043160</td>\n",
       "            </tr>\n",
       "            <tr>\n",
       "                                <th id=\"T_6962690b_854b_11ea_82d4_3207db5affc5level1_row6\" class=\"row_heading level1 row6\" >дно</th>\n",
       "                        <td id=\"T_6962690b_854b_11ea_82d4_3207db5affc5row6_col0\" class=\"data row6 col0\" >0.040830</td>\n",
       "            </tr>\n",
       "            <tr>\n",
       "                                <th id=\"T_6962690b_854b_11ea_82d4_3207db5affc5level1_row7\" class=\"row_heading level1 row7\" >канадский</th>\n",
       "                        <td id=\"T_6962690b_854b_11ea_82d4_3207db5affc5row7_col0\" class=\"data row7 col0\" >0.037540</td>\n",
       "            </tr>\n",
       "            <tr>\n",
       "                                <th id=\"T_6962690b_854b_11ea_82d4_3207db5affc5level1_row8\" class=\"row_heading level1 row8\" >ледяной</th>\n",
       "                        <td id=\"T_6962690b_854b_11ea_82d4_3207db5affc5row8_col0\" class=\"data row8 col0\" >0.035190</td>\n",
       "            </tr>\n",
       "            <tr>\n",
       "                                <th id=\"T_6962690b_854b_11ea_82d4_3207db5affc5level1_row9\" class=\"row_heading level1 row9\" >арктика</th>\n",
       "                        <td id=\"T_6962690b_854b_11ea_82d4_3207db5affc5row9_col0\" class=\"data row9 col0\" >0.030680</td>\n",
       "            </tr>\n",
       "    </tbody></table> <style  type=\"text/css\" >\n",
       "</style><table id=\"T_6962690c_854b_11ea_82d4_3207db5affc5\" style='display:inline'><thead>    <tr>        <th class=\"blank\" ></th>        <th class=\"blank level0\" ></th>        <th class=\"col_heading level0 col0\" >topic_8</th>    </tr>    <tr>        <th class=\"index_name level0\" >modality</th>        <th class=\"index_name level1\" >token</th>        <th class=\"blank\" ></th>    </tr></thead><tbody>\n",
       "                <tr>\n",
       "                        <th id=\"T_6962690c_854b_11ea_82d4_3207db5affc5level0_row0\" class=\"row_heading level0 row0\" rowspan=10>@word</th>\n",
       "                        <th id=\"T_6962690c_854b_11ea_82d4_3207db5affc5level1_row0\" class=\"row_heading level1 row0\" >женщина</th>\n",
       "                        <td id=\"T_6962690c_854b_11ea_82d4_3207db5affc5row0_col0\" class=\"data row0 col0\" >0.041210</td>\n",
       "            </tr>\n",
       "            <tr>\n",
       "                                <th id=\"T_6962690c_854b_11ea_82d4_3207db5affc5level1_row1\" class=\"row_heading level1 row1\" >животное</th>\n",
       "                        <td id=\"T_6962690c_854b_11ea_82d4_3207db5affc5row1_col0\" class=\"data row1 col0\" >0.032460</td>\n",
       "            </tr>\n",
       "            <tr>\n",
       "                                <th id=\"T_6962690c_854b_11ea_82d4_3207db5affc5level1_row2\" class=\"row_heading level1 row2\" >эволюция</th>\n",
       "                        <td id=\"T_6962690c_854b_11ea_82d4_3207db5affc5row2_col0\" class=\"data row2 col0\" >0.023740</td>\n",
       "            </tr>\n",
       "            <tr>\n",
       "                                <th id=\"T_6962690c_854b_11ea_82d4_3207db5affc5level1_row3\" class=\"row_heading level1 row3\" >мужчина</th>\n",
       "                        <td id=\"T_6962690c_854b_11ea_82d4_3207db5affc5row3_col0\" class=\"data row3 col0\" >0.021630</td>\n",
       "            </tr>\n",
       "            <tr>\n",
       "                                <th id=\"T_6962690c_854b_11ea_82d4_3207db5affc5level1_row4\" class=\"row_heading level1 row4\" >растение</th>\n",
       "                        <td id=\"T_6962690c_854b_11ea_82d4_3207db5affc5row4_col0\" class=\"data row4 col0\" >0.019880</td>\n",
       "            </tr>\n",
       "            <tr>\n",
       "                                <th id=\"T_6962690c_854b_11ea_82d4_3207db5affc5level1_row5\" class=\"row_heading level1 row5\" >самец</th>\n",
       "                        <td id=\"T_6962690c_854b_11ea_82d4_3207db5affc5row5_col0\" class=\"data row5 col0\" >0.012820</td>\n",
       "            </tr>\n",
       "            <tr>\n",
       "                                <th id=\"T_6962690c_854b_11ea_82d4_3207db5affc5level1_row6\" class=\"row_heading level1 row6\" >птица</th>\n",
       "                        <td id=\"T_6962690c_854b_11ea_82d4_3207db5affc5row6_col0\" class=\"data row6 col0\" >0.012430</td>\n",
       "            </tr>\n",
       "            <tr>\n",
       "                                <th id=\"T_6962690c_854b_11ea_82d4_3207db5affc5level1_row7\" class=\"row_heading level1 row7\" >самка</th>\n",
       "                        <td id=\"T_6962690c_854b_11ea_82d4_3207db5affc5row7_col0\" class=\"data row7 col0\" >0.011450</td>\n",
       "            </tr>\n",
       "            <tr>\n",
       "                                <th id=\"T_6962690c_854b_11ea_82d4_3207db5affc5level1_row8\" class=\"row_heading level1 row8\" >животный</th>\n",
       "                        <td id=\"T_6962690c_854b_11ea_82d4_3207db5affc5row8_col0\" class=\"data row8 col0\" >0.010780</td>\n",
       "            </tr>\n",
       "            <tr>\n",
       "                                <th id=\"T_6962690c_854b_11ea_82d4_3207db5affc5level1_row9\" class=\"row_heading level1 row9\" >признак</th>\n",
       "                        <td id=\"T_6962690c_854b_11ea_82d4_3207db5affc5row9_col0\" class=\"data row9 col0\" >0.010620</td>\n",
       "            </tr>\n",
       "    </tbody></table> <style  type=\"text/css\" >\n",
       "</style><table id=\"T_6962690d_854b_11ea_82d4_3207db5affc5\" style='display:inline'><thead>    <tr>        <th class=\"blank\" ></th>        <th class=\"blank level0\" ></th>        <th class=\"col_heading level0 col0\" >topic_9</th>    </tr>    <tr>        <th class=\"index_name level0\" >modality</th>        <th class=\"index_name level1\" >token</th>        <th class=\"blank\" ></th>    </tr></thead><tbody>\n",
       "                <tr>\n",
       "                        <th id=\"T_6962690d_854b_11ea_82d4_3207db5affc5level0_row0\" class=\"row_heading level0 row0\" rowspan=10>@word</th>\n",
       "                        <th id=\"T_6962690d_854b_11ea_82d4_3207db5affc5level1_row0\" class=\"row_heading level1 row0\" >выбрать</th>\n",
       "                        <td id=\"T_6962690d_854b_11ea_82d4_3207db5affc5row0_col0\" class=\"data row0 col0\" >0.000000</td>\n",
       "            </tr>\n",
       "            <tr>\n",
       "                                <th id=\"T_6962690d_854b_11ea_82d4_3207db5affc5level1_row1\" class=\"row_heading level1 row1\" >датировка</th>\n",
       "                        <td id=\"T_6962690d_854b_11ea_82d4_3207db5affc5row1_col0\" class=\"data row1 col0\" >0.000000</td>\n",
       "            </tr>\n",
       "            <tr>\n",
       "                                <th id=\"T_6962690d_854b_11ea_82d4_3207db5affc5level1_row2\" class=\"row_heading level1 row2\" >колоть</th>\n",
       "                        <td id=\"T_6962690d_854b_11ea_82d4_3207db5affc5row2_col0\" class=\"data row2 col0\" >0.000000</td>\n",
       "            </tr>\n",
       "            <tr>\n",
       "                                <th id=\"T_6962690d_854b_11ea_82d4_3207db5affc5level1_row3\" class=\"row_heading level1 row3\" >марков</th>\n",
       "                        <td id=\"T_6962690d_854b_11ea_82d4_3207db5affc5row3_col0\" class=\"data row3 col0\" >0.000000</td>\n",
       "            </tr>\n",
       "            <tr>\n",
       "                                <th id=\"T_6962690d_854b_11ea_82d4_3207db5affc5level1_row4\" class=\"row_heading level1 row4\" >необходимый</th>\n",
       "                        <td id=\"T_6962690d_854b_11ea_82d4_3207db5affc5row4_col0\" class=\"data row4 col0\" >0.000000</td>\n",
       "            </tr>\n",
       "            <tr>\n",
       "                                <th id=\"T_6962690d_854b_11ea_82d4_3207db5affc5level1_row5\" class=\"row_heading level1 row5\" >обезболивать</th>\n",
       "                        <td id=\"T_6962690d_854b_11ea_82d4_3207db5affc5row5_col0\" class=\"data row5 col0\" >0.000000</td>\n",
       "            </tr>\n",
       "            <tr>\n",
       "                                <th id=\"T_6962690d_854b_11ea_82d4_3207db5affc5level1_row6\" class=\"row_heading level1 row6\" >перестроиться</th>\n",
       "                        <td id=\"T_6962690d_854b_11ea_82d4_3207db5affc5row6_col0\" class=\"data row6 col0\" >0.000000</td>\n",
       "            </tr>\n",
       "            <tr>\n",
       "                                <th id=\"T_6962690d_854b_11ea_82d4_3207db5affc5level1_row7\" class=\"row_heading level1 row7\" >подруга</th>\n",
       "                        <td id=\"T_6962690d_854b_11ea_82d4_3207db5affc5row7_col0\" class=\"data row7 col0\" >0.000000</td>\n",
       "            </tr>\n",
       "            <tr>\n",
       "                                <th id=\"T_6962690d_854b_11ea_82d4_3207db5affc5level1_row8\" class=\"row_heading level1 row8\" >пьяный</th>\n",
       "                        <td id=\"T_6962690d_854b_11ea_82d4_3207db5affc5row8_col0\" class=\"data row8 col0\" >0.000000</td>\n",
       "            </tr>\n",
       "            <tr>\n",
       "                                <th id=\"T_6962690d_854b_11ea_82d4_3207db5affc5level1_row9\" class=\"row_heading level1 row9\" >сартр</th>\n",
       "                        <td id=\"T_6962690d_854b_11ea_82d4_3207db5affc5row9_col0\" class=\"data row9 col0\" >0.000000</td>\n",
       "            </tr>\n",
       "    </tbody></table> <style  type=\"text/css\" >\n",
       "</style><table id=\"T_6962690e_854b_11ea_82d4_3207db5affc5\" style='display:inline'><thead>    <tr>        <th class=\"blank\" ></th>        <th class=\"blank level0\" ></th>        <th class=\"col_heading level0 col0\" >topic_10</th>    </tr>    <tr>        <th class=\"index_name level0\" >modality</th>        <th class=\"index_name level1\" >token</th>        <th class=\"blank\" ></th>    </tr></thead><tbody>\n",
       "                <tr>\n",
       "                        <th id=\"T_6962690e_854b_11ea_82d4_3207db5affc5level0_row0\" class=\"row_heading level0 row0\" rowspan=10>@word</th>\n",
       "                        <th id=\"T_6962690e_854b_11ea_82d4_3207db5affc5level1_row0\" class=\"row_heading level1 row0\" >система</th>\n",
       "                        <td id=\"T_6962690e_854b_11ea_82d4_3207db5affc5row0_col0\" class=\"data row0 col0\" >0.010830</td>\n",
       "            </tr>\n",
       "            <tr>\n",
       "                                <th id=\"T_6962690e_854b_11ea_82d4_3207db5affc5level1_row1\" class=\"row_heading level1 row1\" >получить</th>\n",
       "                        <td id=\"T_6962690e_854b_11ea_82d4_3207db5affc5row1_col0\" class=\"data row1 col0\" >0.007110</td>\n",
       "            </tr>\n",
       "            <tr>\n",
       "                                <th id=\"T_6962690e_854b_11ea_82d4_3207db5affc5level1_row2\" class=\"row_heading level1 row2\" >большой</th>\n",
       "                        <td id=\"T_6962690e_854b_11ea_82d4_3207db5affc5row2_col0\" class=\"data row2 col0\" >0.006900</td>\n",
       "            </tr>\n",
       "            <tr>\n",
       "                                <th id=\"T_6962690e_854b_11ea_82d4_3207db5affc5level1_row3\" class=\"row_heading level1 row3\" >частица</th>\n",
       "                        <td id=\"T_6962690e_854b_11ea_82d4_3207db5affc5row3_col0\" class=\"data row3 col0\" >0.006240</td>\n",
       "            </tr>\n",
       "            <tr>\n",
       "                                <th id=\"T_6962690e_854b_11ea_82d4_3207db5affc5level1_row4\" class=\"row_heading level1 row4\" >звезда</th>\n",
       "                        <td id=\"T_6962690e_854b_11ea_82d4_3207db5affc5row4_col0\" class=\"data row4 col0\" >0.005440</td>\n",
       "            </tr>\n",
       "            <tr>\n",
       "                                <th id=\"T_6962690e_854b_11ea_82d4_3207db5affc5level1_row5\" class=\"row_heading level1 row5\" >метод</th>\n",
       "                        <td id=\"T_6962690e_854b_11ea_82d4_3207db5affc5row5_col0\" class=\"data row5 col0\" >0.005390</td>\n",
       "            </tr>\n",
       "            <tr>\n",
       "                                <th id=\"T_6962690e_854b_11ea_82d4_3207db5affc5level1_row6\" class=\"row_heading level1 row6\" >происходить</th>\n",
       "                        <td id=\"T_6962690e_854b_11ea_82d4_3207db5affc5row6_col0\" class=\"data row6 col0\" >0.005240</td>\n",
       "            </tr>\n",
       "            <tr>\n",
       "                                <th id=\"T_6962690e_854b_11ea_82d4_3207db5affc5level1_row7\" class=\"row_heading level1 row7\" >земля</th>\n",
       "                        <td id=\"T_6962690e_854b_11ea_82d4_3207db5affc5row7_col0\" class=\"data row7 col0\" >0.005190</td>\n",
       "            </tr>\n",
       "            <tr>\n",
       "                                <th id=\"T_6962690e_854b_11ea_82d4_3207db5affc5level1_row8\" class=\"row_heading level1 row8\" >эксперимент</th>\n",
       "                        <td id=\"T_6962690e_854b_11ea_82d4_3207db5affc5row8_col0\" class=\"data row8 col0\" >0.005160</td>\n",
       "            </tr>\n",
       "            <tr>\n",
       "                                <th id=\"T_6962690e_854b_11ea_82d4_3207db5affc5level1_row9\" class=\"row_heading level1 row9\" >вселенная</th>\n",
       "                        <td id=\"T_6962690e_854b_11ea_82d4_3207db5affc5row9_col0\" class=\"data row9 col0\" >0.004860</td>\n",
       "            </tr>\n",
       "    </tbody></table> <style  type=\"text/css\" >\n",
       "</style><table id=\"T_6962690f_854b_11ea_82d4_3207db5affc5\" style='display:inline'><thead>    <tr>        <th class=\"blank\" ></th>        <th class=\"blank level0\" ></th>        <th class=\"col_heading level0 col0\" >topic_11</th>    </tr>    <tr>        <th class=\"index_name level0\" >modality</th>        <th class=\"index_name level1\" >token</th>        <th class=\"blank\" ></th>    </tr></thead><tbody>\n",
       "                <tr>\n",
       "                        <th id=\"T_6962690f_854b_11ea_82d4_3207db5affc5level0_row0\" class=\"row_heading level0 row0\" rowspan=10>@word</th>\n",
       "                        <th id=\"T_6962690f_854b_11ea_82d4_3207db5affc5level1_row0\" class=\"row_heading level1 row0\" >лекция</th>\n",
       "                        <td id=\"T_6962690f_854b_11ea_82d4_3207db5affc5row0_col0\" class=\"data row0 col0\" >0.101740</td>\n",
       "            </tr>\n",
       "            <tr>\n",
       "                                <th id=\"T_6962690f_854b_11ea_82d4_3207db5affc5level1_row1\" class=\"row_heading level1 row1\" >сеть</th>\n",
       "                        <td id=\"T_6962690f_854b_11ea_82d4_3207db5affc5row1_col0\" class=\"data row1 col0\" >0.089110</td>\n",
       "            </tr>\n",
       "            <tr>\n",
       "                                <th id=\"T_6962690f_854b_11ea_82d4_3207db5affc5level1_row2\" class=\"row_heading level1 row2\" >интернет</th>\n",
       "                        <td id=\"T_6962690f_854b_11ea_82d4_3207db5affc5row2_col0\" class=\"data row2 col0\" >0.068310</td>\n",
       "            </tr>\n",
       "            <tr>\n",
       "                                <th id=\"T_6962690f_854b_11ea_82d4_3207db5affc5level1_row3\" class=\"row_heading level1 row3\" >num</th>\n",
       "                        <td id=\"T_6962690f_854b_11ea_82d4_3207db5affc5row3_col0\" class=\"data row3 col0\" >0.060790</td>\n",
       "            </tr>\n",
       "            <tr>\n",
       "                                <th id=\"T_6962690f_854b_11ea_82d4_3207db5affc5level1_row4\" class=\"row_heading level1 row4\" >pcourse</th>\n",
       "                        <td id=\"T_6962690f_854b_11ea_82d4_3207db5affc5row4_col0\" class=\"data row4 col0\" >0.060790</td>\n",
       "            </tr>\n",
       "            <tr>\n",
       "                                <th id=\"T_6962690f_854b_11ea_82d4_3207db5affc5level1_row5\" class=\"row_heading level1 row5\" >процедура</th>\n",
       "                        <td id=\"T_6962690f_854b_11ea_82d4_3207db5affc5row5_col0\" class=\"data row5 col0\" >0.043950</td>\n",
       "            </tr>\n",
       "            <tr>\n",
       "                                <th id=\"T_6962690f_854b_11ea_82d4_3207db5affc5level1_row6\" class=\"row_heading level1 row6\" >пользователь</th>\n",
       "                        <td id=\"T_6962690f_854b_11ea_82d4_3207db5affc5row6_col0\" class=\"data row6 col0\" >0.033370</td>\n",
       "            </tr>\n",
       "            <tr>\n",
       "                                <th id=\"T_6962690f_854b_11ea_82d4_3207db5affc5level1_row7\" class=\"row_heading level1 row7\" >страница</th>\n",
       "                        <td id=\"T_6962690f_854b_11ea_82d4_3207db5affc5row7_col0\" class=\"data row7 col0\" >0.030230</td>\n",
       "            </tr>\n",
       "            <tr>\n",
       "                                <th id=\"T_6962690f_854b_11ea_82d4_3207db5affc5level1_row8\" class=\"row_heading level1 row8\" >узел</th>\n",
       "                        <td id=\"T_6962690f_854b_11ea_82d4_3207db5affc5row8_col0\" class=\"data row8 col0\" >0.022500</td>\n",
       "            </tr>\n",
       "            <tr>\n",
       "                                <th id=\"T_6962690f_854b_11ea_82d4_3207db5affc5level1_row9\" class=\"row_heading level1 row9\" >al</th>\n",
       "                        <td id=\"T_6962690f_854b_11ea_82d4_3207db5affc5row9_col0\" class=\"data row9 col0\" >0.022020</td>\n",
       "            </tr>\n",
       "    </tbody></table> <style  type=\"text/css\" >\n",
       "</style><table id=\"T_69626910_854b_11ea_82d4_3207db5affc5\" style='display:inline'><thead>    <tr>        <th class=\"blank\" ></th>        <th class=\"blank level0\" ></th>        <th class=\"col_heading level0 col0\" >topic_12</th>    </tr>    <tr>        <th class=\"index_name level0\" >modality</th>        <th class=\"index_name level1\" >token</th>        <th class=\"blank\" ></th>    </tr></thead><tbody>\n",
       "                <tr>\n",
       "                        <th id=\"T_69626910_854b_11ea_82d4_3207db5affc5level0_row0\" class=\"row_heading level0 row0\" rowspan=10>@word</th>\n",
       "                        <th id=\"T_69626910_854b_11ea_82d4_3207db5affc5level1_row0\" class=\"row_heading level1 row0\" >территория</th>\n",
       "                        <td id=\"T_69626910_854b_11ea_82d4_3207db5affc5row0_col0\" class=\"data row0 col0\" >0.010040</td>\n",
       "            </tr>\n",
       "            <tr>\n",
       "                                <th id=\"T_69626910_854b_11ea_82d4_3207db5affc5level1_row1\" class=\"row_heading level1 row1\" >бог</th>\n",
       "                        <td id=\"T_69626910_854b_11ea_82d4_3207db5affc5row1_col0\" class=\"data row1 col0\" >0.009990</td>\n",
       "            </tr>\n",
       "            <tr>\n",
       "                                <th id=\"T_69626910_854b_11ea_82d4_3207db5affc5level1_row2\" class=\"row_heading level1 row2\" >традиция</th>\n",
       "                        <td id=\"T_69626910_854b_11ea_82d4_3207db5affc5row2_col0\" class=\"data row2 col0\" >0.009120</td>\n",
       "            </tr>\n",
       "            <tr>\n",
       "                                <th id=\"T_69626910_854b_11ea_82d4_3207db5affc5level1_row3\" class=\"row_heading level1 row3\" >народ</th>\n",
       "                        <td id=\"T_69626910_854b_11ea_82d4_3207db5affc5row3_col0\" class=\"data row3 col0\" >0.008750</td>\n",
       "            </tr>\n",
       "            <tr>\n",
       "                                <th id=\"T_69626910_854b_11ea_82d4_3207db5affc5level1_row4\" class=\"row_heading level1 row4\" >имя</th>\n",
       "                        <td id=\"T_69626910_854b_11ea_82d4_3207db5affc5row4_col0\" class=\"data row4 col0\" >0.008050</td>\n",
       "            </tr>\n",
       "            <tr>\n",
       "                                <th id=\"T_69626910_854b_11ea_82d4_3207db5affc5level1_row5\" class=\"row_heading level1 row5\" >культура</th>\n",
       "                        <td id=\"T_69626910_854b_11ea_82d4_3207db5affc5row5_col0\" class=\"data row5 col0\" >0.007090</td>\n",
       "            </tr>\n",
       "            <tr>\n",
       "                                <th id=\"T_69626910_854b_11ea_82d4_3207db5affc5level1_row6\" class=\"row_heading level1 row6\" >миф</th>\n",
       "                        <td id=\"T_69626910_854b_11ea_82d4_3207db5affc5row6_col0\" class=\"data row6 col0\" >0.006980</td>\n",
       "            </tr>\n",
       "            <tr>\n",
       "                                <th id=\"T_69626910_854b_11ea_82d4_3207db5affc5level1_row7\" class=\"row_heading level1 row7\" >век</th>\n",
       "                        <td id=\"T_69626910_854b_11ea_82d4_3207db5affc5row7_col0\" class=\"data row7 col0\" >0.006250</td>\n",
       "            </tr>\n",
       "            <tr>\n",
       "                                <th id=\"T_69626910_854b_11ea_82d4_3207db5affc5level1_row8\" class=\"row_heading level1 row8\" >эпоха</th>\n",
       "                        <td id=\"T_69626910_854b_11ea_82d4_3207db5affc5row8_col0\" class=\"data row8 col0\" >0.006090</td>\n",
       "            </tr>\n",
       "            <tr>\n",
       "                                <th id=\"T_69626910_854b_11ea_82d4_3207db5affc5level1_row9\" class=\"row_heading level1 row9\" >церковь</th>\n",
       "                        <td id=\"T_69626910_854b_11ea_82d4_3207db5affc5row9_col0\" class=\"data row9 col0\" >0.006010</td>\n",
       "            </tr>\n",
       "    </tbody></table> <style  type=\"text/css\" >\n",
       "</style><table id=\"T_69626911_854b_11ea_82d4_3207db5affc5\" style='display:inline'><thead>    <tr>        <th class=\"blank\" ></th>        <th class=\"blank level0\" ></th>        <th class=\"col_heading level0 col0\" >topic_13</th>    </tr>    <tr>        <th class=\"index_name level0\" >modality</th>        <th class=\"index_name level1\" >token</th>        <th class=\"blank\" ></th>    </tr></thead><tbody>\n",
       "                <tr>\n",
       "                        <th id=\"T_69626911_854b_11ea_82d4_3207db5affc5level0_row0\" class=\"row_heading level0 row0\" rowspan=10>@word</th>\n",
       "                        <th id=\"T_69626911_854b_11ea_82d4_3207db5affc5level1_row0\" class=\"row_heading level1 row0\" >стандарт</th>\n",
       "                        <td id=\"T_69626911_854b_11ea_82d4_3207db5affc5row0_col0\" class=\"data row0 col0\" >0.112860</td>\n",
       "            </tr>\n",
       "            <tr>\n",
       "                                <th id=\"T_69626911_854b_11ea_82d4_3207db5affc5level1_row1\" class=\"row_heading level1 row1\" >прогноз</th>\n",
       "                        <td id=\"T_69626911_854b_11ea_82d4_3207db5affc5row1_col0\" class=\"data row1 col0\" >0.098000</td>\n",
       "            </tr>\n",
       "            <tr>\n",
       "                                <th id=\"T_69626911_854b_11ea_82d4_3207db5affc5level1_row2\" class=\"row_heading level1 row2\" >станция</th>\n",
       "                        <td id=\"T_69626911_854b_11ea_82d4_3207db5affc5row2_col0\" class=\"data row2 col0\" >0.068200</td>\n",
       "            </tr>\n",
       "            <tr>\n",
       "                                <th id=\"T_69626911_854b_11ea_82d4_3207db5affc5level1_row3\" class=\"row_heading level1 row3\" >сдвиг</th>\n",
       "                        <td id=\"T_69626911_854b_11ea_82d4_3207db5affc5row3_col0\" class=\"data row3 col0\" >0.064730</td>\n",
       "            </tr>\n",
       "            <tr>\n",
       "                                <th id=\"T_69626911_854b_11ea_82d4_3207db5affc5level1_row4\" class=\"row_heading level1 row4\" >геологический</th>\n",
       "                        <td id=\"T_69626911_854b_11ea_82d4_3207db5affc5row4_col0\" class=\"data row4 col0\" >0.059970</td>\n",
       "            </tr>\n",
       "            <tr>\n",
       "                                <th id=\"T_69626911_854b_11ea_82d4_3207db5affc5level1_row5\" class=\"row_heading level1 row5\" >землетрясение</th>\n",
       "                        <td id=\"T_69626911_854b_11ea_82d4_3207db5affc5row5_col0\" class=\"data row5 col0\" >0.052460</td>\n",
       "            </tr>\n",
       "            <tr>\n",
       "                                <th id=\"T_69626911_854b_11ea_82d4_3207db5affc5level1_row6\" class=\"row_heading level1 row6\" >протокол</th>\n",
       "                        <td id=\"T_69626911_854b_11ea_82d4_3207db5affc5row6_col0\" class=\"data row6 col0\" >0.050560</td>\n",
       "            </tr>\n",
       "            <tr>\n",
       "                                <th id=\"T_69626911_854b_11ea_82d4_3207db5affc5level1_row7\" class=\"row_heading level1 row7\" >слоить</th>\n",
       "                        <td id=\"T_69626911_854b_11ea_82d4_3207db5affc5row7_col0\" class=\"data row7 col0\" >0.047970</td>\n",
       "            </tr>\n",
       "            <tr>\n",
       "                                <th id=\"T_69626911_854b_11ea_82d4_3207db5affc5level1_row8\" class=\"row_heading level1 row8\" >обстановка</th>\n",
       "                        <td id=\"T_69626911_854b_11ea_82d4_3207db5affc5row8_col0\" class=\"data row8 col0\" >0.042370</td>\n",
       "            </tr>\n",
       "            <tr>\n",
       "                                <th id=\"T_69626911_854b_11ea_82d4_3207db5affc5level1_row9\" class=\"row_heading level1 row9\" >дополнение</th>\n",
       "                        <td id=\"T_69626911_854b_11ea_82d4_3207db5affc5row9_col0\" class=\"data row9 col0\" >0.041750</td>\n",
       "            </tr>\n",
       "    </tbody></table> <style  type=\"text/css\" >\n",
       "</style><table id=\"T_69626912_854b_11ea_82d4_3207db5affc5\" style='display:inline'><thead>    <tr>        <th class=\"blank\" ></th>        <th class=\"blank level0\" ></th>        <th class=\"col_heading level0 col0\" >topic_14</th>    </tr>    <tr>        <th class=\"index_name level0\" >modality</th>        <th class=\"index_name level1\" >token</th>        <th class=\"blank\" ></th>    </tr></thead><tbody>\n",
       "                <tr>\n",
       "                        <th id=\"T_69626912_854b_11ea_82d4_3207db5affc5level0_row0\" class=\"row_heading level0 row0\" rowspan=10>@word</th>\n",
       "                        <th id=\"T_69626912_854b_11ea_82d4_3207db5affc5level1_row0\" class=\"row_heading level1 row0\" >часы</th>\n",
       "                        <td id=\"T_69626912_854b_11ea_82d4_3207db5affc5row0_col0\" class=\"data row0 col0\" >0.107900</td>\n",
       "            </tr>\n",
       "            <tr>\n",
       "                                <th id=\"T_69626912_854b_11ea_82d4_3207db5affc5level1_row1\" class=\"row_heading level1 row1\" >занятие</th>\n",
       "                        <td id=\"T_69626912_854b_11ea_82d4_3207db5affc5row1_col0\" class=\"data row1 col0\" >0.076670</td>\n",
       "            </tr>\n",
       "            <tr>\n",
       "                                <th id=\"T_69626912_854b_11ea_82d4_3207db5affc5level1_row2\" class=\"row_heading level1 row2\" >сумма</th>\n",
       "                        <td id=\"T_69626912_854b_11ea_82d4_3207db5affc5row2_col0\" class=\"data row2 col0\" >0.069430</td>\n",
       "            </tr>\n",
       "            <tr>\n",
       "                                <th id=\"T_69626912_854b_11ea_82d4_3207db5affc5level1_row3\" class=\"row_heading level1 row3\" >коллективный</th>\n",
       "                        <td id=\"T_69626912_854b_11ea_82d4_3207db5affc5row3_col0\" class=\"data row3 col0\" >0.068060</td>\n",
       "            </tr>\n",
       "            <tr>\n",
       "                                <th id=\"T_69626912_854b_11ea_82d4_3207db5affc5level1_row4\" class=\"row_heading level1 row4\" >комната</th>\n",
       "                        <td id=\"T_69626912_854b_11ea_82d4_3207db5affc5row4_col0\" class=\"data row4 col0\" >0.067410</td>\n",
       "            </tr>\n",
       "            <tr>\n",
       "                                <th id=\"T_69626912_854b_11ea_82d4_3207db5affc5level1_row5\" class=\"row_heading level1 row5\" >повседневность</th>\n",
       "                        <td id=\"T_69626912_854b_11ea_82d4_3207db5affc5row5_col0\" class=\"data row5 col0\" >0.052200</td>\n",
       "            </tr>\n",
       "            <tr>\n",
       "                                <th id=\"T_69626912_854b_11ea_82d4_3207db5affc5level1_row6\" class=\"row_heading level1 row6\" >коллектив</th>\n",
       "                        <td id=\"T_69626912_854b_11ea_82d4_3207db5affc5row6_col0\" class=\"data row6 col0\" >0.050490</td>\n",
       "            </tr>\n",
       "            <tr>\n",
       "                                <th id=\"T_69626912_854b_11ea_82d4_3207db5affc5level1_row7\" class=\"row_heading level1 row7\" >стол</th>\n",
       "                        <td id=\"T_69626912_854b_11ea_82d4_3207db5affc5row7_col0\" class=\"data row7 col0\" >0.050160</td>\n",
       "            </tr>\n",
       "            <tr>\n",
       "                                <th id=\"T_69626912_854b_11ea_82d4_3207db5affc5level1_row8\" class=\"row_heading level1 row8\" >бытовой</th>\n",
       "                        <td id=\"T_69626912_854b_11ea_82d4_3207db5affc5row8_col0\" class=\"data row8 col0\" >0.048720</td>\n",
       "            </tr>\n",
       "            <tr>\n",
       "                                <th id=\"T_69626912_854b_11ea_82d4_3207db5affc5level1_row9\" class=\"row_heading level1 row9\" >рубль</th>\n",
       "                        <td id=\"T_69626912_854b_11ea_82d4_3207db5affc5row9_col0\" class=\"data row9 col0\" >0.046750</td>\n",
       "            </tr>\n",
       "    </tbody></table> <style  type=\"text/css\" >\n",
       "</style><table id=\"T_69626913_854b_11ea_82d4_3207db5affc5\" style='display:inline'><thead>    <tr>        <th class=\"blank\" ></th>        <th class=\"blank level0\" ></th>        <th class=\"col_heading level0 col0\" >topic_15</th>    </tr>    <tr>        <th class=\"index_name level0\" >modality</th>        <th class=\"index_name level1\" >token</th>        <th class=\"blank\" ></th>    </tr></thead><tbody>\n",
       "                <tr>\n",
       "                        <th id=\"T_69626913_854b_11ea_82d4_3207db5affc5level0_row0\" class=\"row_heading level0 row0\" rowspan=10>@word</th>\n",
       "                        <th id=\"T_69626913_854b_11ea_82d4_3207db5affc5level1_row0\" class=\"row_heading level1 row0\" >страна</th>\n",
       "                        <td id=\"T_69626913_854b_11ea_82d4_3207db5affc5row0_col0\" class=\"data row0 col0\" >0.028410</td>\n",
       "            </tr>\n",
       "            <tr>\n",
       "                                <th id=\"T_69626913_854b_11ea_82d4_3207db5affc5level1_row1\" class=\"row_heading level1 row1\" >технология</th>\n",
       "                        <td id=\"T_69626913_854b_11ea_82d4_3207db5affc5row1_col0\" class=\"data row1 col0\" >0.013290</td>\n",
       "            </tr>\n",
       "            <tr>\n",
       "                                <th id=\"T_69626913_854b_11ea_82d4_3207db5affc5level1_row2\" class=\"row_heading level1 row2\" >экономика</th>\n",
       "                        <td id=\"T_69626913_854b_11ea_82d4_3207db5affc5row2_col0\" class=\"data row2 col0\" >0.012270</td>\n",
       "            </tr>\n",
       "            <tr>\n",
       "                                <th id=\"T_69626913_854b_11ea_82d4_3207db5affc5level1_row3\" class=\"row_heading level1 row3\" >сша</th>\n",
       "                        <td id=\"T_69626913_854b_11ea_82d4_3207db5affc5row3_col0\" class=\"data row3 col0\" >0.010510</td>\n",
       "            </tr>\n",
       "            <tr>\n",
       "                                <th id=\"T_69626913_854b_11ea_82d4_3207db5affc5level1_row4\" class=\"row_heading level1 row4\" >деньга</th>\n",
       "                        <td id=\"T_69626913_854b_11ea_82d4_3207db5affc5row4_col0\" class=\"data row4 col0\" >0.009930</td>\n",
       "            </tr>\n",
       "            <tr>\n",
       "                                <th id=\"T_69626913_854b_11ea_82d4_3207db5affc5level1_row5\" class=\"row_heading level1 row5\" >использование</th>\n",
       "                        <td id=\"T_69626913_854b_11ea_82d4_3207db5affc5row5_col0\" class=\"data row5 col0\" >0.009760</td>\n",
       "            </tr>\n",
       "            <tr>\n",
       "                                <th id=\"T_69626913_854b_11ea_82d4_3207db5affc5level1_row6\" class=\"row_heading level1 row6\" >китай</th>\n",
       "                        <td id=\"T_69626913_854b_11ea_82d4_3207db5affc5row6_col0\" class=\"data row6 col0\" >0.009100</td>\n",
       "            </tr>\n",
       "            <tr>\n",
       "                                <th id=\"T_69626913_854b_11ea_82d4_3207db5affc5level1_row7\" class=\"row_heading level1 row7\" >экономический</th>\n",
       "                        <td id=\"T_69626913_854b_11ea_82d4_3207db5affc5row7_col0\" class=\"data row7 col0\" >0.008960</td>\n",
       "            </tr>\n",
       "            <tr>\n",
       "                                <th id=\"T_69626913_854b_11ea_82d4_3207db5affc5level1_row8\" class=\"row_heading level1 row8\" >компания</th>\n",
       "                        <td id=\"T_69626913_854b_11ea_82d4_3207db5affc5row8_col0\" class=\"data row8 col0\" >0.008770</td>\n",
       "            </tr>\n",
       "            <tr>\n",
       "                                <th id=\"T_69626913_854b_11ea_82d4_3207db5affc5level1_row9\" class=\"row_heading level1 row9\" >производство</th>\n",
       "                        <td id=\"T_69626913_854b_11ea_82d4_3207db5affc5row9_col0\" class=\"data row9 col0\" >0.008170</td>\n",
       "            </tr>\n",
       "    </tbody></table> <style  type=\"text/css\" >\n",
       "</style><table id=\"T_69626914_854b_11ea_82d4_3207db5affc5\" style='display:inline'><thead>    <tr>        <th class=\"blank\" ></th>        <th class=\"blank level0\" ></th>        <th class=\"col_heading level0 col0\" >topic_16</th>    </tr>    <tr>        <th class=\"index_name level0\" >modality</th>        <th class=\"index_name level1\" >token</th>        <th class=\"blank\" ></th>    </tr></thead><tbody>\n",
       "                <tr>\n",
       "                        <th id=\"T_69626914_854b_11ea_82d4_3207db5affc5level0_row0\" class=\"row_heading level0 row0\" rowspan=10>@word</th>\n",
       "                        <th id=\"T_69626914_854b_11ea_82d4_3207db5affc5level1_row0\" class=\"row_heading level1 row0\" >клетка</th>\n",
       "                        <td id=\"T_69626914_854b_11ea_82d4_3207db5affc5row0_col0\" class=\"data row0 col0\" >0.038700</td>\n",
       "            </tr>\n",
       "            <tr>\n",
       "                                <th id=\"T_69626914_854b_11ea_82d4_3207db5affc5level1_row1\" class=\"row_heading level1 row1\" >мозг</th>\n",
       "                        <td id=\"T_69626914_854b_11ea_82d4_3207db5affc5row1_col0\" class=\"data row1 col0\" >0.026950</td>\n",
       "            </tr>\n",
       "            <tr>\n",
       "                                <th id=\"T_69626914_854b_11ea_82d4_3207db5affc5level1_row2\" class=\"row_heading level1 row2\" >ген</th>\n",
       "                        <td id=\"T_69626914_854b_11ea_82d4_3207db5affc5row2_col0\" class=\"data row2 col0\" >0.023830</td>\n",
       "            </tr>\n",
       "            <tr>\n",
       "                                <th id=\"T_69626914_854b_11ea_82d4_3207db5affc5level1_row3\" class=\"row_heading level1 row3\" >организм</th>\n",
       "                        <td id=\"T_69626914_854b_11ea_82d4_3207db5affc5row3_col0\" class=\"data row3 col0\" >0.020540</td>\n",
       "            </tr>\n",
       "            <tr>\n",
       "                                <th id=\"T_69626914_854b_11ea_82d4_3207db5affc5level1_row4\" class=\"row_heading level1 row4\" >днк</th>\n",
       "                        <td id=\"T_69626914_854b_11ea_82d4_3207db5affc5row4_col0\" class=\"data row4 col0\" >0.013470</td>\n",
       "            </tr>\n",
       "            <tr>\n",
       "                                <th id=\"T_69626914_854b_11ea_82d4_3207db5affc5level1_row5\" class=\"row_heading level1 row5\" >нейрон</th>\n",
       "                        <td id=\"T_69626914_854b_11ea_82d4_3207db5affc5row5_col0\" class=\"data row5 col0\" >0.011790</td>\n",
       "            </tr>\n",
       "            <tr>\n",
       "                                <th id=\"T_69626914_854b_11ea_82d4_3207db5affc5level1_row6\" class=\"row_heading level1 row6\" >белка</th>\n",
       "                        <td id=\"T_69626914_854b_11ea_82d4_3207db5affc5row6_col0\" class=\"data row6 col0\" >0.011740</td>\n",
       "            </tr>\n",
       "            <tr>\n",
       "                                <th id=\"T_69626914_854b_11ea_82d4_3207db5affc5level1_row7\" class=\"row_heading level1 row7\" >пациент</th>\n",
       "                        <td id=\"T_69626914_854b_11ea_82d4_3207db5affc5row7_col0\" class=\"data row7 col0\" >0.011390</td>\n",
       "            </tr>\n",
       "            <tr>\n",
       "                                <th id=\"T_69626914_854b_11ea_82d4_3207db5affc5level1_row8\" class=\"row_heading level1 row8\" >бактерия</th>\n",
       "                        <td id=\"T_69626914_854b_11ea_82d4_3207db5affc5row8_col0\" class=\"data row8 col0\" >0.010630</td>\n",
       "            </tr>\n",
       "            <tr>\n",
       "                                <th id=\"T_69626914_854b_11ea_82d4_3207db5affc5level1_row9\" class=\"row_heading level1 row9\" >болезнь</th>\n",
       "                        <td id=\"T_69626914_854b_11ea_82d4_3207db5affc5row9_col0\" class=\"data row9 col0\" >0.010410</td>\n",
       "            </tr>\n",
       "    </tbody></table> <style  type=\"text/css\" >\n",
       "</style><table id=\"T_69626915_854b_11ea_82d4_3207db5affc5\" style='display:inline'><thead>    <tr>        <th class=\"blank\" ></th>        <th class=\"blank level0\" ></th>        <th class=\"col_heading level0 col0\" >topic_17</th>    </tr>    <tr>        <th class=\"index_name level0\" >modality</th>        <th class=\"index_name level1\" >token</th>        <th class=\"blank\" ></th>    </tr></thead><tbody>\n",
       "                <tr>\n",
       "                        <th id=\"T_69626915_854b_11ea_82d4_3207db5affc5level0_row0\" class=\"row_heading level0 row0\" rowspan=10>@word</th>\n",
       "                        <th id=\"T_69626915_854b_11ea_82d4_3207db5affc5level1_row0\" class=\"row_heading level1 row0\" >молекула</th>\n",
       "                        <td id=\"T_69626915_854b_11ea_82d4_3207db5affc5row0_col0\" class=\"data row0 col0\" >0.043760</td>\n",
       "            </tr>\n",
       "            <tr>\n",
       "                                <th id=\"T_69626915_854b_11ea_82d4_3207db5affc5level1_row1\" class=\"row_heading level1 row1\" >материал</th>\n",
       "                        <td id=\"T_69626915_854b_11ea_82d4_3207db5affc5row1_col0\" class=\"data row1 col0\" >0.035690</td>\n",
       "            </tr>\n",
       "            <tr>\n",
       "                                <th id=\"T_69626915_854b_11ea_82d4_3207db5affc5level1_row2\" class=\"row_heading level1 row2\" >вода</th>\n",
       "                        <td id=\"T_69626915_854b_11ea_82d4_3207db5affc5row2_col0\" class=\"data row2 col0\" >0.025340</td>\n",
       "            </tr>\n",
       "            <tr>\n",
       "                                <th id=\"T_69626915_854b_11ea_82d4_3207db5affc5level1_row3\" class=\"row_heading level1 row3\" >атмосфера</th>\n",
       "                        <td id=\"T_69626915_854b_11ea_82d4_3207db5affc5row3_col0\" class=\"data row3 col0\" >0.023820</td>\n",
       "            </tr>\n",
       "            <tr>\n",
       "                                <th id=\"T_69626915_854b_11ea_82d4_3207db5affc5level1_row4\" class=\"row_heading level1 row4\" >соединение</th>\n",
       "                        <td id=\"T_69626915_854b_11ea_82d4_3207db5affc5row4_col0\" class=\"data row4 col0\" >0.023600</td>\n",
       "            </tr>\n",
       "            <tr>\n",
       "                                <th id=\"T_69626915_854b_11ea_82d4_3207db5affc5level1_row5\" class=\"row_heading level1 row5\" >химия</th>\n",
       "                        <td id=\"T_69626915_854b_11ea_82d4_3207db5affc5row5_col0\" class=\"data row5 col0\" >0.022740</td>\n",
       "            </tr>\n",
       "            <tr>\n",
       "                                <th id=\"T_69626915_854b_11ea_82d4_3207db5affc5level1_row6\" class=\"row_heading level1 row6\" >микроорганизм</th>\n",
       "                        <td id=\"T_69626915_854b_11ea_82d4_3207db5affc5row6_col0\" class=\"data row6 col0\" >0.019120</td>\n",
       "            </tr>\n",
       "            <tr>\n",
       "                                <th id=\"T_69626915_854b_11ea_82d4_3207db5affc5level1_row7\" class=\"row_heading level1 row7\" >кислород</th>\n",
       "                        <td id=\"T_69626915_854b_11ea_82d4_3207db5affc5row7_col0\" class=\"data row7 col0\" >0.014870</td>\n",
       "            </tr>\n",
       "            <tr>\n",
       "                                <th id=\"T_69626915_854b_11ea_82d4_3207db5affc5level1_row8\" class=\"row_heading level1 row8\" >слой</th>\n",
       "                        <td id=\"T_69626915_854b_11ea_82d4_3207db5affc5row8_col0\" class=\"data row8 col0\" >0.013930</td>\n",
       "            </tr>\n",
       "            <tr>\n",
       "                                <th id=\"T_69626915_854b_11ea_82d4_3207db5affc5level1_row9\" class=\"row_heading level1 row9\" >микроб</th>\n",
       "                        <td id=\"T_69626915_854b_11ea_82d4_3207db5affc5row9_col0\" class=\"data row9 col0\" >0.013480</td>\n",
       "            </tr>\n",
       "    </tbody></table> <style  type=\"text/css\" >\n",
       "</style><table id=\"T_6a430c3e_854b_11ea_82d4_3207db5affc5\" style='display:inline'><thead>    <tr>        <th class=\"blank\" ></th>        <th class=\"blank level0\" ></th>        <th class=\"col_heading level0 col0\" >topic_18</th>    </tr>    <tr>        <th class=\"index_name level0\" >modality</th>        <th class=\"index_name level1\" >token</th>        <th class=\"blank\" ></th>    </tr></thead><tbody>\n",
       "                <tr>\n",
       "                        <th id=\"T_6a430c3e_854b_11ea_82d4_3207db5affc5level0_row0\" class=\"row_heading level0 row0\" rowspan=10>@word</th>\n",
       "                        <th id=\"T_6a430c3e_854b_11ea_82d4_3207db5affc5level1_row0\" class=\"row_heading level1 row0\" >дерево</th>\n",
       "                        <td id=\"T_6a430c3e_854b_11ea_82d4_3207db5affc5row0_col0\" class=\"data row0 col0\" >0.157100</td>\n",
       "            </tr>\n",
       "            <tr>\n",
       "                                <th id=\"T_6a430c3e_854b_11ea_82d4_3207db5affc5level1_row1\" class=\"row_heading level1 row1\" >литр</th>\n",
       "                        <td id=\"T_6a430c3e_854b_11ea_82d4_3207db5affc5row1_col0\" class=\"data row1 col0\" >0.154100</td>\n",
       "            </tr>\n",
       "            <tr>\n",
       "                                <th id=\"T_6a430c3e_854b_11ea_82d4_3207db5affc5level1_row2\" class=\"row_heading level1 row2\" >плод</th>\n",
       "                        <td id=\"T_6a430c3e_854b_11ea_82d4_3207db5affc5row2_col0\" class=\"data row2 col0\" >0.099340</td>\n",
       "            </tr>\n",
       "            <tr>\n",
       "                                <th id=\"T_6a430c3e_854b_11ea_82d4_3207db5affc5level1_row3\" class=\"row_heading level1 row3\" >оружие</th>\n",
       "                        <td id=\"T_6a430c3e_854b_11ea_82d4_3207db5affc5row3_col0\" class=\"data row3 col0\" >0.090200</td>\n",
       "            </tr>\n",
       "            <tr>\n",
       "                                <th id=\"T_6a430c3e_854b_11ea_82d4_3207db5affc5level1_row4\" class=\"row_heading level1 row4\" >орех</th>\n",
       "                        <td id=\"T_6a430c3e_854b_11ea_82d4_3207db5affc5row4_col0\" class=\"data row4 col0\" >0.079380</td>\n",
       "            </tr>\n",
       "            <tr>\n",
       "                                <th id=\"T_6a430c3e_854b_11ea_82d4_3207db5affc5level1_row5\" class=\"row_heading level1 row5\" >ред</th>\n",
       "                        <td id=\"T_6a430c3e_854b_11ea_82d4_3207db5affc5row5_col0\" class=\"data row5 col0\" >0.060500</td>\n",
       "            </tr>\n",
       "            <tr>\n",
       "                                <th id=\"T_6a430c3e_854b_11ea_82d4_3207db5affc5level1_row6\" class=\"row_heading level1 row6\" >спб</th>\n",
       "                        <td id=\"T_6a430c3e_854b_11ea_82d4_3207db5affc5row6_col0\" class=\"data row6 col0\" >0.058500</td>\n",
       "            </tr>\n",
       "            <tr>\n",
       "                                <th id=\"T_6a430c3e_854b_11ea_82d4_3207db5affc5level1_row7\" class=\"row_heading level1 row7\" >семя</th>\n",
       "                        <td id=\"T_6a430c3e_854b_11ea_82d4_3207db5affc5row7_col0\" class=\"data row7 col0\" >0.045230</td>\n",
       "            </tr>\n",
       "            <tr>\n",
       "                                <th id=\"T_6a430c3e_854b_11ea_82d4_3207db5affc5level1_row8\" class=\"row_heading level1 row8\" >сухой</th>\n",
       "                        <td id=\"T_6a430c3e_854b_11ea_82d4_3207db5affc5row8_col0\" class=\"data row8 col0\" >0.031670</td>\n",
       "            </tr>\n",
       "            <tr>\n",
       "                                <th id=\"T_6a430c3e_854b_11ea_82d4_3207db5affc5level1_row9\" class=\"row_heading level1 row9\" >карикатура</th>\n",
       "                        <td id=\"T_6a430c3e_854b_11ea_82d4_3207db5affc5row9_col0\" class=\"data row9 col0\" >0.024370</td>\n",
       "            </tr>\n",
       "    </tbody></table> <style  type=\"text/css\" >\n",
       "</style><table id=\"T_6a430c3f_854b_11ea_82d4_3207db5affc5\" style='display:inline'><thead>    <tr>        <th class=\"blank\" ></th>        <th class=\"blank level0\" ></th>        <th class=\"col_heading level0 col0\" >topic_19</th>    </tr>    <tr>        <th class=\"index_name level0\" >modality</th>        <th class=\"index_name level1\" >token</th>        <th class=\"blank\" ></th>    </tr></thead><tbody>\n",
       "                <tr>\n",
       "                        <th id=\"T_6a430c3f_854b_11ea_82d4_3207db5affc5level0_row0\" class=\"row_heading level0 row0\" rowspan=10>@word</th>\n",
       "                        <th id=\"T_6a430c3f_854b_11ea_82d4_3207db5affc5level1_row0\" class=\"row_heading level1 row0\" >город</th>\n",
       "                        <td id=\"T_6a430c3f_854b_11ea_82d4_3207db5affc5row0_col0\" class=\"data row0 col0\" >0.109540</td>\n",
       "            </tr>\n",
       "            <tr>\n",
       "                                <th id=\"T_6a430c3f_854b_11ea_82d4_3207db5affc5level1_row1\" class=\"row_heading level1 row1\" >пространство</th>\n",
       "                        <td id=\"T_6a430c3f_854b_11ea_82d4_3207db5affc5row1_col0\" class=\"data row1 col0\" >0.095670</td>\n",
       "            </tr>\n",
       "            <tr>\n",
       "                                <th id=\"T_6a430c3f_854b_11ea_82d4_3207db5affc5level1_row2\" class=\"row_heading level1 row2\" >центр</th>\n",
       "                        <td id=\"T_6a430c3f_854b_11ea_82d4_3207db5affc5row2_col0\" class=\"data row2 col0\" >0.054760</td>\n",
       "            </tr>\n",
       "            <tr>\n",
       "                                <th id=\"T_6a430c3f_854b_11ea_82d4_3207db5affc5level1_row3\" class=\"row_heading level1 row3\" >дом</th>\n",
       "                        <td id=\"T_6a430c3f_854b_11ea_82d4_3207db5affc5row3_col0\" class=\"data row3 col0\" >0.042040</td>\n",
       "            </tr>\n",
       "            <tr>\n",
       "                                <th id=\"T_6a430c3f_854b_11ea_82d4_3207db5affc5level1_row4\" class=\"row_heading level1 row4\" >москва</th>\n",
       "                        <td id=\"T_6a430c3f_854b_11ea_82d4_3207db5affc5row4_col0\" class=\"data row4 col0\" >0.035260</td>\n",
       "            </tr>\n",
       "            <tr>\n",
       "                                <th id=\"T_6a430c3f_854b_11ea_82d4_3207db5affc5level1_row5\" class=\"row_heading level1 row5\" >музей</th>\n",
       "                        <td id=\"T_6a430c3f_854b_11ea_82d4_3207db5affc5row5_col0\" class=\"data row5 col0\" >0.027380</td>\n",
       "            </tr>\n",
       "            <tr>\n",
       "                                <th id=\"T_6a430c3f_854b_11ea_82d4_3207db5affc5level1_row6\" class=\"row_heading level1 row6\" >городской</th>\n",
       "                        <td id=\"T_6a430c3f_854b_11ea_82d4_3207db5affc5row6_col0\" class=\"data row6 col0\" >0.023050</td>\n",
       "            </tr>\n",
       "            <tr>\n",
       "                                <th id=\"T_6a430c3f_854b_11ea_82d4_3207db5affc5level1_row7\" class=\"row_heading level1 row7\" >район</th>\n",
       "                        <td id=\"T_6a430c3f_854b_11ea_82d4_3207db5affc5row7_col0\" class=\"data row7 col0\" >0.018590</td>\n",
       "            </tr>\n",
       "            <tr>\n",
       "                                <th id=\"T_6a430c3f_854b_11ea_82d4_3207db5affc5level1_row8\" class=\"row_heading level1 row8\" >архитектура</th>\n",
       "                        <td id=\"T_6a430c3f_854b_11ea_82d4_3207db5affc5row8_col0\" class=\"data row8 col0\" >0.018050</td>\n",
       "            </tr>\n",
       "            <tr>\n",
       "                                <th id=\"T_6a430c3f_854b_11ea_82d4_3207db5affc5level1_row9\" class=\"row_heading level1 row9\" >здание</th>\n",
       "                        <td id=\"T_6a430c3f_854b_11ea_82d4_3207db5affc5row9_col0\" class=\"data row9 col0\" >0.017690</td>\n",
       "            </tr>\n",
       "    </tbody></table> <style  type=\"text/css\" >\n",
       "</style><table id=\"T_6a430c40_854b_11ea_82d4_3207db5affc5\" style='display:inline'><thead>    <tr>        <th class=\"blank\" ></th>        <th class=\"blank level0\" ></th>        <th class=\"col_heading level0 col0\" >bcg_topic_20</th>    </tr>    <tr>        <th class=\"index_name level0\" >modality</th>        <th class=\"index_name level1\" >token</th>        <th class=\"blank\" ></th>    </tr></thead><tbody>\n",
       "                <tr>\n",
       "                        <th id=\"T_6a430c40_854b_11ea_82d4_3207db5affc5level0_row0\" class=\"row_heading level0 row0\" rowspan=10>@word</th>\n",
       "                        <th id=\"T_6a430c40_854b_11ea_82d4_3207db5affc5level1_row0\" class=\"row_heading level1 row0\" >задача</th>\n",
       "                        <td id=\"T_6a430c40_854b_11ea_82d4_3207db5affc5row0_col0\" class=\"data row0 col0\" >0.002450</td>\n",
       "            </tr>\n",
       "            <tr>\n",
       "                                <th id=\"T_6a430c40_854b_11ea_82d4_3207db5affc5level1_row1\" class=\"row_heading level1 row1\" >студент</th>\n",
       "                        <td id=\"T_6a430c40_854b_11ea_82d4_3207db5affc5row1_col0\" class=\"data row1 col0\" >0.001030</td>\n",
       "            </tr>\n",
       "            <tr>\n",
       "                                <th id=\"T_6a430c40_854b_11ea_82d4_3207db5affc5level1_row2\" class=\"row_heading level1 row2\" >компьютер</th>\n",
       "                        <td id=\"T_6a430c40_854b_11ea_82d4_3207db5affc5row2_col0\" class=\"data row2 col0\" >0.000980</td>\n",
       "            </tr>\n",
       "            <tr>\n",
       "                                <th id=\"T_6a430c40_854b_11ea_82d4_3207db5affc5level1_row3\" class=\"row_heading level1 row3\" >выбирать</th>\n",
       "                        <td id=\"T_6a430c40_854b_11ea_82d4_3207db5affc5row3_col0\" class=\"data row3 col0\" >0.000840</td>\n",
       "            </tr>\n",
       "            <tr>\n",
       "                                <th id=\"T_6a430c40_854b_11ea_82d4_3207db5affc5level1_row4\" class=\"row_heading level1 row4\" >уметь</th>\n",
       "                        <td id=\"T_6a430c40_854b_11ea_82d4_3207db5affc5row4_col0\" class=\"data row4 col0\" >0.000620</td>\n",
       "            </tr>\n",
       "            <tr>\n",
       "                                <th id=\"T_6a430c40_854b_11ea_82d4_3207db5affc5level1_row5\" class=\"row_heading level1 row5\" >зона</th>\n",
       "                        <td id=\"T_6a430c40_854b_11ea_82d4_3207db5affc5row5_col0\" class=\"data row5 col0\" >0.000570</td>\n",
       "            </tr>\n",
       "            <tr>\n",
       "                                <th id=\"T_6a430c40_854b_11ea_82d4_3207db5affc5level1_row6\" class=\"row_heading level1 row6\" >робот</th>\n",
       "                        <td id=\"T_6a430c40_854b_11ea_82d4_3207db5affc5row6_col0\" class=\"data row6 col0\" >0.000520</td>\n",
       "            </tr>\n",
       "            <tr>\n",
       "                                <th id=\"T_6a430c40_854b_11ea_82d4_3207db5affc5level1_row7\" class=\"row_heading level1 row7\" >допустить</th>\n",
       "                        <td id=\"T_6a430c40_854b_11ea_82d4_3207db5affc5row7_col0\" class=\"data row7 col0\" >0.000510</td>\n",
       "            </tr>\n",
       "            <tr>\n",
       "                                <th id=\"T_6a430c40_854b_11ea_82d4_3207db5affc5level1_row8\" class=\"row_heading level1 row8\" >алгоритм</th>\n",
       "                        <td id=\"T_6a430c40_854b_11ea_82d4_3207db5affc5row8_col0\" class=\"data row8 col0\" >0.000430</td>\n",
       "            </tr>\n",
       "            <tr>\n",
       "                                <th id=\"T_6a430c40_854b_11ea_82d4_3207db5affc5level1_row9\" class=\"row_heading level1 row9\" >рис</th>\n",
       "                        <td id=\"T_6a430c40_854b_11ea_82d4_3207db5affc5row9_col0\" class=\"data row9 col0\" >0.000430</td>\n",
       "            </tr>\n",
       "    </tbody></table>"
      ]
     },
     "metadata": {},
     "output_type": "display_data"
    }
   ],
   "source": [
    "display_html(' '.join(top_tokens_view), raw=True)"
   ]
  },
  {
   "cell_type": "markdown",
   "metadata": {},
   "source": [
    "Parts of topics' top documents:"
   ]
  },
  {
   "cell_type": "code",
   "execution_count": 45,
   "metadata": {},
   "outputs": [
    {
     "data": {
      "text/html": [
       "<style>\n",
       "    div.output_html {\n",
       "        white-space: nowrap;\n",
       "    }\n",
       "    div .output_subarea > pre {\n",
       "        white-space: pre;\n",
       "        word-wrap: normal;\n",
       "    }\n",
       "    div .output_stdout > pre {\n",
       "        white-space: pre-wrap !important;\n",
       "        word-wrap:  break-word !important;\n",
       "    }\n",
       "    </style>"
      ],
      "text/plain": [
       "<IPython.core.display.HTML object>"
      ]
     },
     "metadata": {},
     "output_type": "display_data"
    },
    {
     "data": {
      "text/html": [
       "<h1><b>Topic name:</b> topic_0</h1><h3>8.txt</h3>@title Перспективы: Квантовые технологии | @snippet Физик Александр Львовский в новой программе  «Перспективы» рассказывает<br /> о Российском Квантовом Центре,  «Star Trek» и квантовой криптографии\n",
       ".<br /><h3>2170.txt</h3>@title Перспективы: Философия массовой культуры | @snippet Философ Александр Павлов в новой программе «Перспективы» рассказывает<br /> об эпохе постмодерна, философии «Симпсонов», либертарианстве и Славое Жижеке\n",
       ".<br /><h3>1552.txt</h3>@title Перспективы: Социология академической жизни | @snippet Социолог Михаил Соколов в новой программе «Перспективы» рассказывает<br /> о социологии науки, деревенских дисциплинах и академической репутации\n",
       ".<br /><h3>405.txt</h3>@title Перспективы: Доказательная медицина | @snippet Кардиолог Ярослав Ашихмин в новой программе «Перспективы» рассказывает о<br /> защите диссертаций, русской медицинской школе и новом поколении врачей\n",
       ".<br /><h3>3194.txt</h3>@title Перспективы: Квантовая оптика и квантовая телепортация | @snippet Физик Юджин Ползик в новой программе<br /> «Перспективы» рассказывает о механизме телепортации, информационной безопасности и квантовом компьютере\n",
       ".<br /><h1><b>Topic name:</b> topic_1</h1><h3>19.txt</h3>@title Социология моды | @snippet Социолог Александр Гофман о стандартах поведения, атрибутивных ценностях и ситуации<br /> двойного обозначения\n",
       ".<br /><h3>3209.txt</h3>@title Социология маргинальности | @snippet Социолог Светлана Баньковская об отклонении от нормы участия, положении чужака<br /> в группе и практикуемой маргинальности\n",
       ".<br /><h3>922.txt</h3>@title Мультикультурализм | @snippet Политолог Владимир Малахов об отказе от национального государства, статусе русского языка<br /> и двух уровнях мультикультурализма\n",
       ".<br /><h3>1205.txt</h3>@title Восприятие реальности | @snippet Социолог Виктор Вахштайн о джеймсовской проблеме, правилах Макнотена и мире<br /> верховной реальности\n",
       ".<br /><h3>2037.txt</h3>@title Повседневное событие | @snippet Социолог Виктор Вахштайн о транспонированной форме взаимодействия, феномене нетранзитивности и<br /> значении физического контекста\n",
       ".<br /><h1><b>Topic name:</b> topic_2</h1><h1><b>Topic name:</b> topic_3</h1><h3>336.txt</h3>@title Литературный мир «Хоббита» | @snippet Филолог Мария Штейнман о литературной игре, особенностях стиля Толкина<br /> и трех уровнях «Хоббита»\n",
       ".<br /><h3>2933.txt</h3>@title Детский фольклор | @snippet Фольклорист Михаил Алексеевский о всплеске интереса к детскому фольклору, о<br /> его жанрах и об отношении к нему в советское время.\n",
       ".<br /><h3>1895.txt</h3>@title Образ Жанны д'Арк | @snippet Историк Ольга Тогоева о святой и ведьме, исторической интерпретации<br /> образа и одержимости дьяволом\n",
       ".<br /><h3>1607.txt</h3>@title Документальное театроведение | @snippet Искусствовед Алексей Бартошевич о закрытых архивах, двухтомнике Вахтангова и новой<br /> театральной концепции\n",
       ".<br /><h3>2267.txt</h3>@title Осип Мандельштам | @snippet Литературовед Олег Лекманов о воспоминаниях Надежды Мандельштам, понятии «подтекст» и<br /> подмене статьи Лидии Гинзбург\n",
       ".<br /><h1><b>Topic name:</b> topic_4</h1><h3>1853.txt</h3>@title Завершение Французской революции  XVIII века | @snippet Историк Дмитрий Бовыкин о термидорианском перевороте,<br /> принятии Конституции III года и «политике качелей»\n",
       ".<br /><h3>2866.txt</h3>@title Суд и следствие над декабристами | @snippet Историк Ольга Эдельман о создании III отделения,<br /> кодификации законов и приговорах участникам восстания\n",
       ".<br /><h3>836.txt</h3>@title Последствия Первой мировой войны | @snippet Историк Илья Женин о последних годах войны, Версальском<br /> мирном договоре и судьбе союзников Германии\n",
       ".<br /><h3>873.txt</h3>@title Веймарская  республика | @snippet Историк Илья Женин о республике без республиканцев, Октябрьской революции<br /> и Социал-демократической партии\n",
       ".<br /><h3>3384.txt</h3>@title Феномен внезапности во Второй мировой войне | @snippet Историк Алексей Киличенков о геополитической ситуации<br /> накануне Второй мировой, польской разведке и авантюризме Гитлера\n",
       ".<br />"
      ]
     },
     "metadata": {},
     "output_type": "display_data"
    }
   ],
   "source": [
    "topdoc_viewer.view_from_jupyter(\n",
    "    current_num_top_doc=5,\n",
    "    num_view_topics=5,\n",
    ")"
   ]
  },
  {
   "cell_type": "markdown",
   "metadata": {},
   "source": [
    "Some topics (eg. `topic_2`) has no documents: these topics have empty rows in $\\Theta$ matrix."
   ]
  }
 ],
 "metadata": {
  "kernelspec": {
   "display_name": "topicnet",
   "language": "python",
   "name": "topicnet"
  },
  "language_info": {
   "codemirror_mode": {
    "name": "ipython",
    "version": 3
   },
   "file_extension": ".py",
   "mimetype": "text/x-python",
   "name": "python",
   "nbconvert_exporter": "python",
   "pygments_lexer": "ipython3",
   "version": "3.6.10"
  }
 },
 "nbformat": 4,
 "nbformat_minor": 2
}
