{
 "cells": [
  {
   "cell_type": "markdown",
   "metadata": {},
   "source": [
    "# 20NG (Twenty Newsgroups). GenSim vs TopicNet\n",
    "\n",
    "In this notebook we are going to train two topic models: one using TopicNet, and another one — using [GenSim](https://radimrehurek.com/gensim/).\n",
    "So, we will be able to compare quality of the models, as well as the simplicity of each model's training process."
   ]
  },
  {
   "cell_type": "markdown",
   "metadata": {},
   "source": [
    "# Contents<a id=\"contents\"></a>\n",
    "\n",
    "* [Training a baseline TopicNet model](#topicnet-baseline)\n",
    "* [GenSim LDA](#gensim-baseline)\n",
    "* [Comparison](#comparison)"
   ]
  },
  {
   "cell_type": "code",
   "execution_count": 1,
   "metadata": {},
   "outputs": [],
   "source": [
    "import numpy as np\n",
    "import os\n",
    "import pandas as pd\n",
    "import requests\n",
    "import shutil"
   ]
  },
  {
   "cell_type": "code",
   "execution_count": 2,
   "metadata": {},
   "outputs": [],
   "source": [
    "import matplotlib.pyplot as plt\n",
    "%matplotlib inline\n",
    "\n",
    "from matplotlib import cm"
   ]
  },
  {
   "cell_type": "code",
   "execution_count": 3,
   "metadata": {},
   "outputs": [],
   "source": [
    "import topicnet as tn\n",
    "\n",
    "from topicnet.cooking_machine.config_parser import build_experiment_environment_from_yaml_config\n",
    "from topicnet.cooking_machine.pretty_output import make_notebook_pretty\n",
    "from topicnet.cooking_machine.recipes import BaselineRecipe\n",
    "from topicnet.viewers.top_tokens_viewer import TopTokensViewer"
   ]
  },
  {
   "cell_type": "code",
   "execution_count": 4,
   "metadata": {},
   "outputs": [
    {
     "name": "stderr",
     "output_type": "stream",
     "text": [
      "/data/artm10/lib/python3.7/site-packages/gensim/corpora/dictionary.py:11: DeprecationWarning:\n",
      "\n",
      "Using or importing the ABCs from 'collections' instead of from 'collections.abc' is deprecated, and in 3.8 it will stop working\n",
      "\n",
      "/data/artm10/lib/python3.7/site-packages/scipy/sparse/sparsetools.py:21: DeprecationWarning:\n",
      "\n",
      "`scipy.sparse.sparsetools` is deprecated!\n",
      "scipy.sparse.sparsetools is a private module for scipy.sparse, and should not be used.\n",
      "\n",
      "/data/artm10/lib/python3.7/site-packages/gensim/models/doc2vec.py:73: DeprecationWarning:\n",
      "\n",
      "Using or importing the ABCs from 'collections' instead of from 'collections.abc' is deprecated, and in 3.8 it will stop working\n",
      "\n"
     ]
    }
   ],
   "source": [
    "from gensim.corpora.dictionary import Dictionary\n",
    "from gensim.models import LdaModel"
   ]
  },
  {
   "cell_type": "code",
   "execution_count": 5,
   "metadata": {},
   "outputs": [
    {
     "data": {
      "text/html": [
       "<style>\n",
       "    div.output_html {\n",
       "        white-space: nowrap;\n",
       "    }\n",
       "    div .output_subarea > pre {\n",
       "        white-space: pre;\n",
       "        word-wrap: normal;\n",
       "    }\n",
       "    div .output_stdout > pre {\n",
       "        white-space: pre-wrap !important;\n",
       "        word-wrap:  break-word !important;\n",
       "    }\n",
       "    </style>"
      ],
      "text/plain": [
       "<IPython.core.display.HTML object>"
      ]
     },
     "metadata": {},
     "output_type": "display_data"
    }
   ],
   "source": [
    "make_notebook_pretty()"
   ]
  },
  {
   "cell_type": "markdown",
   "metadata": {},
   "source": [
    "## Training a baseline TopicNet model<a id=\"topicnet-baseline\"></a>\n",
    "\n",
    "<div style=\"text-align: right\">Back to <a href=#contents>Contents</a></div>\n",
    "\n",
    "Let's say we have a dataset as a .csv file after following [preprocessing notebook](20NG-Preprocessing.ipynb) with certain columns that requires TopicNet\n",
    "(see for an example this [simple dataset](https://github.com/machine-intelligence-laboratory/TopicNet/blob/master/topicnet/tests/test_data/test_dataset.csv) or docstring for `Dataset` class [here](https://github.com/machine-intelligence-laboratory/TopicNet/blob/master/topicnet/cooking_machine/dataset.py)).\n",
    "\n",
    "Alternatively you can download it with functionality of `topicnet.dataset_manager`"
   ]
  },
  {
   "cell_type": "code",
   "execution_count": 7,
   "metadata": {},
   "outputs": [],
   "source": [
    "train_pd = pd.read_csv('/data/datasets/20_News_dataset/train_preprocessed.csv', index_col=0)"
   ]
  },
  {
   "cell_type": "code",
   "execution_count": 8,
   "metadata": {},
   "outputs": [
    {
     "data": {
      "text/plain": [
       "0    ['wonder', 'anyone', 'could', 'enlighten', 'ca...\n",
       "1    ['fair', 'number', 'brave', 'soul', 'upgrade',...\n",
       "2    ['well', 'folk', 'mac', 'plus', 'finally', 'gi...\n",
       "3    ['weitek', 'address', 'phone', 'number', 'like...\n",
       "4    ['article', 'tom', 'baker', 'understanding', '...\n",
       "Name: lemmatized, dtype: object"
      ]
     },
     "execution_count": 8,
     "metadata": {},
     "output_type": "execute_result"
    }
   ],
   "source": [
    "train_pd['lemmatized'].head()"
   ]
  },
  {
   "cell_type": "markdown",
   "metadata": {},
   "source": [
    "The recipe for training is a carcass: we need to format it with real values in order to build experiment.\n",
    "Let's do it and look at the result."
   ]
  },
  {
   "cell_type": "code",
   "execution_count": 9,
   "metadata": {
    "scrolled": true
   },
   "outputs": [
    {
     "name": "stdout",
     "output_type": "stream",
     "text": [
      "\n",
      "# This config follows a strategy described by Murat Apishev\n",
      "# one of the core programmers of BigARTM library in personal correspondence.\n",
      "# According to his letter 'decent' topic model can be obtained by\n",
      "# Decorrelating model topics simultaneously looking at retrieved TopTokens\n",
      "\n",
      "\n",
      "# Use .format(modality_list=modality_list, main_modality=main_modality, dataset_path=dataset_path,\n",
      "# specific_topics=specific_topics, background_topics=background_topics)\n",
      "# when loading the recipe to adjust for your dataset\n",
      "\n",
      "topics:\n",
      "# Describes number of model topics, better left to the user to define optimal topic number\n",
      "    specific_topics: {specific_topics}\n",
      "    background_topics: {background_topics}\n",
      "\n",
      "# Here is example of model with one modality\n",
      "regularizers:\n",
      "    - DecorrelatorPhiRegularizer:\n",
      "        name: decorrelation_phi\n",
      "        topic_names: specific_topics\n",
      "        class_ids: {modality_list}\n",
      "    - SmoothSparsePhiRegularizer:\n",
      "        name: smooth_phi_bcg\n",
      "        topic_names: background_topics\n",
      "        class_ids: {modality_list}\n",
      "        tau: 0.1\n",
      "        relative: true\n",
      "    - SmoothSparseThetaRegularizer:\n",
      "        name: smooth_theta_bcg\n",
      "        topic_names: background_topics\n",
      "        tau: 0.1\n",
      "        relative: true\n",
      "scores:\n",
      "    - BleiLaffertyScore:\n",
      "        num_top_tokens: 30\n",
      "model:\n",
      "    dataset_path: {dataset_path}\n",
      "    modalities_to_use: {modality_list}\n",
      "    main_modality: '{main_modality}'\n",
      "\n",
      "stages:\n",
      "- RegularizersModifierCube:\n",
      "    num_iter: 20\n",
      "    reg_search: add\n",
      "    regularizer_parameters:\n",
      "        name: decorrelation_phi\n",
      "    selection:\n",
      "        - PerplexityScore@all < 1.05 * MINIMUM(PerplexityScore@all) and BleiLaffertyScore -> max\n",
      "    strategy: PerplexityStrategy\n",
      "    # parameters of this strategy are intended for revision\n",
      "    strategy_params:\n",
      "        start_point: 0\n",
      "        step: 0.01\n",
      "        max_len: 50\n",
      "    tracked_score_function: PerplexityScore@all\n",
      "    verbose: false\n",
      "    use_relative_coefficients: true\n",
      "\n"
     ]
    }
   ],
   "source": [
    "training_pipeline = BaselineRecipe()\n",
    "print(training_pipeline)"
   ]
  },
  {
   "cell_type": "markdown",
   "metadata": {},
   "source": [
    "Formatting missing values with dataset path and model hyperparameters\n",
    "gives recipe ready for the training"
   ]
  },
  {
   "cell_type": "code",
   "execution_count": 11,
   "metadata": {
    "scrolled": true
   },
   "outputs": [
    {
     "name": "stdout",
     "output_type": "stream",
     "text": [
      "\n",
      "# This config follows a strategy described by Murat Apishev\n",
      "# one of the core programmers of BigARTM library in personal correspondence.\n",
      "# According to his letter 'decent' topic model can be obtained by\n",
      "# Decorrelating model topics simultaneously looking at retrieved TopTokens\n",
      "\n",
      "\n",
      "# Use .format(modality_list=modality_list, main_modality=main_modality, dataset_path=dataset_path,\n",
      "# specific_topics=specific_topics, background_topics=background_topics)\n",
      "# when loading the recipe to adjust for your dataset\n",
      "\n",
      "topics:\n",
      "# Describes number of model topics, better left to the user to define optimal topic number\n",
      "    specific_topics: ['topic_0', 'topic_1', 'topic_2', 'topic_3', 'topic_4', 'topic_5', 'topic_6', 'topic_7', 'topic_8', 'topic_9', 'topic_10', 'topic_11', 'topic_12', 'topic_13', 'topic_14', 'topic_15', 'topic_16', 'topic_17', 'topic_18', 'topic_19']\n",
      "    background_topics: ['bcg_20']\n",
      "\n",
      "# Here is example of model with one modality\n",
      "regularizers:\n",
      "    - DecorrelatorPhiRegularizer:\n",
      "        name: decorrelation_phi\n",
      "        topic_names: specific_topics\n",
      "        class_ids: ['@lemmatized', '@bigram']\n",
      "    - SmoothSparsePhiRegularizer:\n",
      "        name: smooth_phi_bcg\n",
      "        topic_names: background_topics\n",
      "        class_ids: ['@lemmatized', '@bigram']\n",
      "        tau: 0.1\n",
      "        relative: true\n",
      "    - SmoothSparseThetaRegularizer:\n",
      "        name: smooth_theta_bcg\n",
      "        topic_names: background_topics\n",
      "        tau: 0.1\n",
      "        relative: true\n",
      "scores:\n",
      "    - BleiLaffertyScore:\n",
      "        num_top_tokens: 30\n",
      "model:\n",
      "    dataset_path: /data/datasets/20_News_dataset/train_preprocessed.csv\n",
      "    modalities_to_use: ['@lemmatized', '@bigram']\n",
      "    main_modality: '@lemmatized'\n",
      "\n",
      "stages:\n",
      "- RegularizersModifierCube:\n",
      "    num_iter: 20\n",
      "    reg_search: add\n",
      "    regularizer_parameters:\n",
      "        name: decorrelation_phi\n",
      "    selection:\n",
      "        - PerplexityScore@all < 1.05 * MINIMUM(PerplexityScore@all) and BleiLaffertyScore -> max\n",
      "    strategy: PerplexityStrategy\n",
      "    # parameters of this strategy are intended for revision\n",
      "    strategy_params:\n",
      "        start_point: 0\n",
      "        step: 0.01\n",
      "        max_len: 50\n",
      "    tracked_score_function: PerplexityScore@all\n",
      "    verbose: false\n",
      "    use_relative_coefficients: true\n",
      "\n"
     ]
    }
   ],
   "source": [
    "DATASET_PATH = '/data/datasets/20_News_dataset/train_preprocessed.csv'\n",
    "training_pipeline.format_recipe(\n",
    "    dataset_path=DATASET_PATH,\n",
    "    topic_number=20,\n",
    "    background_topic_number=1,\n",
    ")\n",
    "\n",
    "print(training_pipeline)"
   ]
  },
  {
   "cell_type": "markdown",
   "metadata": {},
   "source": [
    "Below we define a folder for the experiment, where topic models will be saved.\n",
    "And build the experiment itself using the recipe."
   ]
  },
  {
   "cell_type": "code",
   "execution_count": 7,
   "metadata": {},
   "outputs": [],
   "source": [
    "EXPERIMENT_PATH = '/home/bulatov/Topicnet_20_news/'\n",
    "\n",
    "if not os.path.exists(EXPERIMENT_PATH):\n",
    "    os.mkdir(EXPERIMENT_PATH)\n",
    "else:\n",
    "    ! rm -rf $EXPERIMENT_PATH\n",
    "    os.mkdir(EXPERIMENT_PATH)\n",
    "\n",
    "experiment, dataset = training_pipeline.build_experiment_environment(\n",
    "    save_path=EXPERIMENT_PATH,\n",
    ")"
   ]
  },
  {
   "cell_type": "markdown",
   "metadata": {},
   "source": [
    "Running the experiment!\n",
    "Here happens all the model training stuff.\n",
    "When the process is finished, `final_model` will be equal to one of the models from the last stage (`cube`) of the experiment."
   ]
  },
  {
   "cell_type": "code",
   "execution_count": 8,
   "metadata": {
    "scrolled": true
   },
   "outputs": [
    {
     "name": "stderr",
     "output_type": "stream",
     "text": [
      "/home/bulatov/anaconda3/lib/python3.7/site-packages/topicnet/cooking_machine/cubes/base_cube.py:225: UserWarning: Perplexity is too high for threshold 1.05\n",
      "  warnings.warn(warning_message)\n"
     ]
    }
   ],
   "source": [
    "final_model = list(experiment.run(dataset))[0]"
   ]
  },
  {
   "cell_type": "markdown",
   "metadata": {},
   "source": [
    "All models from all stages are also available"
   ]
  },
  {
   "cell_type": "code",
   "execution_count": 9,
   "metadata": {},
   "outputs": [
    {
     "data": {
      "text/plain": [
       "14"
      ]
     },
     "execution_count": 9,
     "metadata": {},
     "output_type": "execute_result"
    }
   ],
   "source": [
    "len(experiment.models)"
   ]
  },
  {
   "cell_type": "markdown",
   "metadata": {},
   "source": [
    "One may use TopicNet's [viewers](https://github.com/machine-intelligence-laboratory/TopicNet/tree/master/topicnet/viewers) to observe a model a bit more thoroughly:"
   ]
  },
  {
   "cell_type": "code",
   "execution_count": 10,
   "metadata": {},
   "outputs": [],
   "source": [
    "ttv = TopTokensViewer(final_model, method='blei', num_top_tokens=10)\n",
    "output = ttv.view()"
   ]
  },
  {
   "cell_type": "markdown",
   "metadata": {},
   "source": [
    "Now we will measure the coherence using the Palmetto webapp: http://palmetto.aksw.org/palmetto-webapp/ [1]\n",
    "\n",
    "Please note that web API is not suitable for large-scale topic evaluations (it's better to run Palmetto locally: https://github.com/dice-group/Palmetto/wiki/How-Palmetto-can-be-used). But it should be OK to use web service for this small experiment.\n",
    "\n",
    "[1] Röder M., Both A., Hinneburg A. Exploring the space of topic coherence measures. ACM, 2015."
   ]
  },
  {
   "cell_type": "markdown",
   "metadata": {},
   "source": [
    "## Warning!\n",
    "Code of the following cell might not be working anymore due to changes in the API\n",
    "\n",
    "of the coherence demo [website](https://palmetto.demos.dice-research.org/). Hovewer one can still use that metric manually"
   ]
  },
  {
   "cell_type": "code",
   "execution_count": 11,
   "metadata": {},
   "outputs": [
    {
     "name": "stdout",
     "output_type": "stream",
     "text": [
      "card driver mac memory monitor video machine port mode apple\n",
      "-2.6620788426087274\n",
      "health disease drug medical patient doctor food study pain homosexual\n",
      "-2.36002388521592\n",
      "file program window use version include available system ftp application\n",
      "-2.2203706523625897\n",
      "kill fire woman child saw dead home azerbaijani dog burn\n",
      "-2.9690412591920796\n",
      "car bike engine water mile auto tire road insurance ride\n",
      "-2.554291100068609\n",
      "key chip encryption phone clipper internet privacy message security algorithm\n",
      "-3.0340327896086667\n",
      "state law gun government right weapon crime bill firearm court\n",
      "-2.3915816085665687\n",
      "post evidence theory exist atheist science argument question value atheism\n",
      "-2.786434491778808\n",
      "one would get go say think make people time know\n",
      "-0.9119154367330198\n",
      "power wire ground circuit light hot load battery appear heat\n",
      "-2.3848900805753104\n",
      "israel israeli jew arab war jewish palestinian peace land islam\n",
      "-1.9388383305519246\n",
      "software ibm fax motif sun image hp support tool printer\n",
      "-2.949670069506974\n",
      "mr entry president output stephanopoulos job remark rule tax printf\n",
      "-6.055520080421253\n",
      "db pt la period hit bos pp mov cal min\n",
      "-5.123800244742174\n",
      "god christian jesus believe bible church religion faith word belief\n",
      "-1.7690933457432407\n",
      "university american school research organization center april washington national student\n",
      "-1.5581711690637983\n",
      "space launch nasa satellite orbit earth mission shuttle moon lunar\n",
      "-2.4836004595487475\n",
      "armenian turkish greek turkey turk nazi genocide german armenia history\n",
      "-2.287240136596917\n",
      "game team play player win season hockey league fan score\n",
      "-1.5733111318575967\n",
      "drive disk scsi hard controller cd pin floppy ide tape\n",
      "-3.248188339829105\n"
     ]
    }
   ],
   "source": [
    "S = \"http://palmetto.aksw.org/palmetto-webapp/service/{}?words=\".format(\"umass\")\n",
    "\n",
    "topic_score = []\n",
    "\n",
    "for key, modalities in output.items():\n",
    "    if 'topic' in key:\n",
    "        words = list(output[key]['@lemmatized'].keys())\n",
    "        print(\" \".join(words))\n",
    "        \n",
    "        result = requests.get(S + \"%20\".join(words)).text\n",
    "        print(result)\n",
    "        \n",
    "        topic_score += [float(result)]"
   ]
  },
  {
   "cell_type": "markdown",
   "metadata": {},
   "source": [
    "## GenSim LDA<a id=\"gensim-baseline\"></a>\n",
    "\n",
    "<div style=\"text-align: right\">Back to <a href=#contents>Contents</a></div>"
   ]
  },
  {
   "cell_type": "markdown",
   "metadata": {},
   "source": [
    "Preparing data for GenSim:"
   ]
  },
  {
   "cell_type": "code",
   "execution_count": 13,
   "metadata": {},
   "outputs": [],
   "source": [
    "pd_data = pd.read_csv('20_News_dataset/train_preprocessed.csv', usecols=['lemmatized'])\n",
    "data_texts = [string.split(\"'\")[1::2] for string in pd_data['lemmatized'].values]"
   ]
  },
  {
   "cell_type": "code",
   "execution_count": 27,
   "metadata": {},
   "outputs": [],
   "source": [
    "data_dictionary = Dictionary(data_texts)\n",
    "data_corpus = [data_dictionary.doc2bow(text) for text in data_texts]\n",
    "\n",
    "# force data_dictionary to initialize\n",
    "data_dictionary[0]"
   ]
  },
  {
   "cell_type": "code",
   "execution_count": 33,
   "metadata": {},
   "outputs": [],
   "source": [
    "id2word = data_dictionary.id2token\n",
    "\n",
    "assert len(id2word) > 0"
   ]
  },
  {
   "cell_type": "markdown",
   "metadata": {},
   "source": [
    "Setting training parameters for GenSim LDA model"
   ]
  },
  {
   "cell_type": "code",
   "execution_count": 35,
   "metadata": {},
   "outputs": [
    {
     "name": "stdout",
     "output_type": "stream",
     "text": [
      "auto\n"
     ]
    }
   ],
   "source": [
    "num_topics = 20\n",
    "passes = 10\n",
    "iterations = 20\n",
    "eval_every = 10  # Don't evaluate model perplexity, takes too much time.\n",
    "\n",
    "alphas = ['auto', ] # or ['asymmetric', 'symmetric', 'auto', ]\n",
    "model_list = []\n",
    "\n",
    "for alpha in alphas:\n",
    "    print(alpha)\n",
    "    \n",
    "    model_list += [LdaModel(\n",
    "        corpus=data_corpus,\n",
    "        id2word=id2word,\n",
    "        alpha=alpha,\n",
    "        eta='auto',\n",
    "        iterations=iterations,\n",
    "        num_topics=num_topics,\n",
    "        passes=passes,\n",
    "        eval_every=eval_every\n",
    "    )]"
   ]
  },
  {
   "cell_type": "markdown",
   "metadata": {},
   "source": [
    "## Warning!\n",
    "Code of the following cell might not be working anymore due to changes in the API\n",
    "of the coherence demo [website](https://palmetto.demos.dice-research.org/).\n",
    "\n",
    "Hovewer one can still use that metric manually\n",
    "\n",
    "Model quality estimation:"
   ]
  },
  {
   "cell_type": "code",
   "execution_count": 36,
   "metadata": {},
   "outputs": [
    {
     "name": "stdout",
     "output_type": "stream",
     "text": [
      "game team play player win year season hockey league score\n",
      "-1.4119514978725671\n",
      "card driver detector video ati slot diamond vram radar pem\n",
      "-8.091411756426504\n",
      "gun year weapon firearm crime run good would use control\n",
      "-1.8536569158562008\n",
      "space launch nasa satellite earth orbit mission moon shuttle data\n",
      "-2.3207039160834184\n",
      "israel israeli arab jew palestinian jewish attack land peace war\n",
      "-1.4661764961326806\n",
      "mail information list send include available post ftp email address\n",
      "-2.782757379362371\n",
      "wire ground use power circuit input water current cable connect\n",
      "-2.2055467045061903\n",
      "mm ut de mp sb bj ic ww mg idle\n",
      "-6.244566738134345\n",
      "file window program entry use widget set application motif server\n",
      "-2.9926774252791626\n",
      "president mr year state health tax program report work use\n",
      "-1.400130093939828\n",
      "food eat msg plane taste diet chinese reaction brain restaurant\n",
      "-3.02833932507377\n",
      "god jesus christian believe say bible religion church one people\n",
      "-1.2705218288828104\n",
      "use drive system disk image software run window work mac\n",
      "-2.1915541424481026\n",
      "one point make say use claim people evidence would may\n",
      "-1.8686211739756071\n",
      "pt la period van pp pit cal stl nj mon\n",
      "-4.949885837433386\n",
      "say go people one u know come take tell think\n",
      "-1.4251687303360974\n",
      "get would like one know good think go make time\n",
      "-0.8284795868447216\n",
      "law right government state people court public federal citizen american\n",
      "-1.5067474510862942\n",
      "armenian turkish greek war turkey turk russian german muslim nazi\n",
      "-2.41220583024356\n",
      "key use chip encryption clipper ripem system bit security public\n",
      "-2.0191679016190625\n"
     ]
    }
   ],
   "source": [
    "S = \"http://palmetto.aksw.org/palmetto-webapp/service/{}?words=\".format(\"umass\")\n",
    "\n",
    "m = model_list[-1]  # auto\n",
    "topic_score_lda = []\n",
    "\n",
    "for i in range(20):\n",
    "    words = [data_dictionary[key] for key, _ in m.get_topic_terms(i)]\n",
    "    print(\" \".join(words))\n",
    "    \n",
    "    result = requests.get(S + \"%20\".join(words)).text\n",
    "    print(result)\n",
    "    \n",
    "    topic_score_lda += [float(result)]"
   ]
  },
  {
   "cell_type": "markdown",
   "metadata": {},
   "source": [
    "## Comparison<a id=\"comparison\"></a>\n",
    "\n",
    "<div style=\"text-align: right\">Back to <a href=#contents>Contents</a></div>"
   ]
  },
  {
   "cell_type": "markdown",
   "metadata": {},
   "source": [
    "Let's visualize the results.\n",
    "\n",
    "Just below is a quick and dirty way to get an overview of coherence distributions."
   ]
  },
  {
   "cell_type": "code",
   "execution_count": 38,
   "metadata": {},
   "outputs": [
    {
     "data": {
      "image/png": "[encoded data removed]",
      "text/plain": [
       "<Figure size 432x288 with 1 Axes>"
      ]
     },
     "metadata": {
      "needs_background": "light"
     },
     "output_type": "display_data"
    }
   ],
   "source": [
    "plt.plot(sorted(topic_score), label=\"TopicNet baseline\")\n",
    "plt.plot(sorted(topic_score_lda), label=\"GenSim baseline\")\n",
    "\n",
    "plt.legend()\n",
    "plt.show()"
   ]
  },
  {
   "cell_type": "code",
   "execution_count": 39,
   "metadata": {},
   "outputs": [
    {
     "name": "stdout",
     "output_type": "stream",
     "text": [
      "-2.663104672728601 1.1326448987351097\n"
     ]
    }
   ],
   "source": [
    "ts = np.array(topic_score)\n",
    "\n",
    "print(ts.mean(), ts.std())"
   ]
  },
  {
   "cell_type": "code",
   "execution_count": 40,
   "metadata": {},
   "outputs": [
    {
     "name": "stdout",
     "output_type": "stream",
     "text": [
      "-2.613513536576834 1.7721566495261374\n"
     ]
    }
   ],
   "source": [
    "ts_lda = np.array(topic_score_lda)\n",
    "\n",
    "print(ts_lda.mean(), ts_lda.std())"
   ]
  },
  {
   "cell_type": "code",
   "execution_count": 43,
   "metadata": {},
   "outputs": [
    {
     "data": {
      "image/png": "[encoded data removed]",
      "text/plain": [
       "<Figure size 720x504 with 1 Axes>"
      ]
     },
     "metadata": {
      "needs_background": "light"
     },
     "output_type": "display_data"
    }
   ],
   "source": [
    "plt.figure(figsize=(10,7))\n",
    "\n",
    "plt.hist(\n",
    "    (ts, ts_lda), histtype='bar', stacked=False, label=['TopicNet','Gensim LDA']\n",
    ")\n",
    "plt.xlabel('Umass coherence')\n",
    "plt.ylabel('topic count')\n",
    "plt.legend(prop={'size': 10})\n",
    "\n",
    "plt.show()"
   ]
  },
  {
   "cell_type": "code",
   "execution_count": 48,
   "metadata": {},
   "outputs": [],
   "source": [
    "lda_toptokens = []\n",
    "\n",
    "m = model_list[-1]  # auto\n",
    "\n",
    "for i in range(20):\n",
    "    words = [data_dictionary[key] for key, _ in m.get_topic_terms(i)]\n",
    "    lda_toptokens += [words]"
   ]
  },
  {
   "cell_type": "code",
   "execution_count": 47,
   "metadata": {},
   "outputs": [],
   "source": [
    "topicnet_toptokens = []\n",
    "\n",
    "output = ttv.view()\n",
    "\n",
    "for key, modalities in output.items():\n",
    "    if 'topic' in key:\n",
    "        words = list(output[key]['@lemmatized'].keys())\n",
    "        topicnet_toptokens += [words]"
   ]
  },
  {
   "cell_type": "code",
   "execution_count": null,
   "metadata": {},
   "outputs": [],
   "source": [
    "def calc_jaccard_distance(fst_set, snd_set):\n",
    "    \"\"\"\n",
    "    :param fst_set: set of objects\n",
    "    :param snd_set: set of objects\n",
    "    :return: jaccard distance (https://en.wikipedia.org/wiki/Jaccard_index)\n",
    "    of the provided two sets\n",
    "    \"\"\"\n",
    "    if fst_set or snd_set:\n",
    "        return 1. * len(fst_set & snd_set) / (len(fst_set | snd_set))\n",
    "    else:\n",
    "        return 0.\n",
    "\n",
    "def calc_avg_pairwise_jaccards(sets):\n",
    "    \"\"\"\n",
    "    :param sets: list of sets\n",
    "    :return: average jaccard distance between these sets\n",
    "    \"\"\"\n",
    "    size = len(sets)\n",
    "    res = 0.\n",
    "    num_zeros = 0.\n",
    "\n",
    "    for i in range(size):\n",
    "        for j in range(size):\n",
    "            if i != j:\n",
    "                dist = calc_jaccard_distance(set(sets[i]), set(sets[j]))\n",
    "                \n",
    "                if dist == 0:\n",
    "                    num_zeros += 1\n",
    "                \n",
    "                res += dist\n",
    "\n",
    "    total = size * (size - 1)\n",
    "    \n",
    "    print(\"number of non-intersecting topics: \", num_zeros / total)\n",
    "    \n",
    "    return res / size / (size - 1)"
   ]
  },
  {
   "cell_type": "code",
   "execution_count": 50,
   "metadata": {},
   "outputs": [
    {
     "name": "stdout",
     "output_type": "stream",
     "text": [
      "number of non-intersecting topics:  1.0\n",
      "topicnet top tokens 0.0\n",
      "*****\n",
      "number of non-intersecting topics:  0.8105263157894737\n",
      "lda toptokens 0.01608051346115546\n"
     ]
    }
   ],
   "source": [
    "print(\"topicnet top tokens\", calc_avg_pairwise_jaccards(topicnet_toptokens))\n",
    "print('*****')\n",
    "print(\"lda toptokens\", calc_avg_pairwise_jaccards(lda_toptokens))"
   ]
  }
 ],
 "metadata": {
  "kernelspec": {
   "display_name": "Environment (conda_artm10)",
   "language": "python",
   "name": "conda_artm10"
  },
  "language_info": {
   "codemirror_mode": {
    "name": "ipython",
    "version": 3
   },
   "file_extension": ".py",
   "mimetype": "text/x-python",
   "name": "python",
   "nbconvert_exporter": "python",
   "pygments_lexer": "ipython3",
   "version": "3.7.4"
  }
 },
 "nbformat": 4,
 "nbformat_minor": 2
}
