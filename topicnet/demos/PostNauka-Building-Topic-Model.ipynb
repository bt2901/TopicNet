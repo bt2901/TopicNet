{
 "cells": [
  {
   "cell_type": "markdown",
   "metadata": {},
   "source": [
    "# PostNauka. Building Topic Model\n",
    "\n",
    "Here we are going to build an experiment using cubes: there will be two stages, and after each one we will explore some properties of the trained models (also with the help of [viewers](https://github.com/machine-intelligence-laboratory/TopicNet/tree/master/topicnet/viewers))."
   ]
  },
  {
   "cell_type": "markdown",
   "metadata": {},
   "source": [
    "# Contents<a id=\"contents\"></a>\n",
    "\n",
    "* [Data loading and filtering](#data-preparation)\n",
    "* [Constructing simple ARTM Model](#artm-model)\n",
    "* [Root TopicModel and Experiment](#topic-model)\n",
    "* [Exploring trained models (plots)](#exploring-models)\n",
    "* [Exploring best model (viewers)](#exploring-best)\n",
    "* [Improving document-topic distribution](#improving-distribution)\n",
    "* [Exploring best model (after refining the experiment)](#exploring-best2)"
   ]
  },
  {
   "cell_type": "code",
   "execution_count": 1,
   "metadata": {},
   "outputs": [],
   "source": [
    "import numpy as np"
   ]
  },
  {
   "cell_type": "code",
   "execution_count": 2,
   "metadata": {},
   "outputs": [],
   "source": [
    "import matplotlib.pyplot as plt\n",
    "%matplotlib inline\n",
    "\n",
    "from matplotlib import cm"
   ]
  },
  {
   "cell_type": "code",
   "execution_count": 3,
   "metadata": {},
   "outputs": [],
   "source": [
    "from IPython.display import display_html, display"
   ]
  },
  {
   "cell_type": "code",
   "execution_count": 5,
   "metadata": {},
   "outputs": [],
   "source": [
    "import artm\n",
    "\n",
    "from topicnet.cooking_machine import Dataset\n",
    "from topicnet.cooking_machine.cubes import (\n",
    "    CubeCreator,\n",
    "    GreedyStrategy,\n",
    "    PerplexityStrategy,\n",
    "    RegularizersModifierCube,\n",
    ")\n",
    "from topicnet.cooking_machine.dataset import get_modality_vw\n",
    "from topicnet.cooking_machine.experiment import Experiment\n",
    "from topicnet.cooking_machine.model_constructor import init_simple_default_model\n",
    "from topicnet.cooking_machine.models.topic_model import TopicModel\n",
    "from topicnet.cooking_machine.pretty_output import make_notebook_pretty\n",
    "from topicnet.viewers.top_documents_viewer import TopDocumentsViewer\n",
    "from topicnet.viewers.top_tokens_viewer import TopTokensViewer\n",
    "from topicnet.dataset_manager import load_dataset"
   ]
  },
  {
   "cell_type": "code",
   "execution_count": 7,
   "metadata": {},
   "outputs": [
    {
     "data": {
      "text/html": [
       "<style>\n",
       "    div.output_html {\n",
       "        white-space: nowrap;\n",
       "    }\n",
       "    div .output_subarea > pre {\n",
       "        white-space: pre;\n",
       "        word-wrap: normal;\n",
       "    }\n",
       "    div .output_stdout > pre {\n",
       "        white-space: pre-wrap !important;\n",
       "        word-wrap:  break-word !important;\n",
       "    }\n",
       "    </style>"
      ],
      "text/plain": [
       "<IPython.core.display.HTML object>"
      ]
     },
     "metadata": {},
     "output_type": "display_data"
    }
   ],
   "source": [
    "make_notebook_pretty()"
   ]
  },
  {
   "cell_type": "markdown",
   "metadata": {},
   "source": [
    "## Data loading and filtering<a id=\"data-preparation\"></a>\n",
    "\n",
    "<div style=\"text-align: right\">Back to <a href=#contents>Contents</a></div>"
   ]
  },
  {
   "cell_type": "markdown",
   "metadata": {},
   "source": [
    "Let's load a dataset with some [postnauka](https://postnauka.ru/) articles."
   ]
  },
  {
   "cell_type": "code",
   "execution_count": 6,
   "metadata": {},
   "outputs": [
    {
     "name": "stderr",
     "output_type": "stream",
     "text": [
      "100%|██████████| 5.55M/5.55M [00:00<00:00, 34.5MiB/s]\n"
     ]
    }
   ],
   "source": [
    "demo_data = load_dataset('postnauka')"
   ]
  },
  {
   "cell_type": "markdown",
   "metadata": {},
   "source": [
    "Dictionary filtering helps to throw out too rare or too frequent words"
   ]
  },
  {
   "cell_type": "code",
   "execution_count": 8,
   "metadata": {},
   "outputs": [],
   "source": [
    "demo_data._cached_dict = demo_data.get_dictionary().filter(\n",
    "    min_df=5.0, min_tf=5.0, max_df_rate=0.95\n",
    ")"
   ]
  },
  {
   "cell_type": "code",
   "execution_count": 9,
   "metadata": {},
   "outputs": [
    {
     "name": "stdout",
     "output_type": "stream",
     "text": [
      "{'@title', '@word', '@author', '@3gramm', '@2gramm', '@snippet', '@post_tag'}\n"
     ]
    },
    {
     "data": {
      "text/html": [
       "<div>\n",
       "<style scoped>\n",
       "    .dataframe tbody tr th:only-of-type {\n",
       "        vertical-align: middle;\n",
       "    }\n",
       "\n",
       "    .dataframe tbody tr th {\n",
       "        vertical-align: top;\n",
       "    }\n",
       "\n",
       "    .dataframe thead th {\n",
       "        text-align: right;\n",
       "    }\n",
       "</style>\n",
       "<table border=\"1\" class=\"dataframe\">\n",
       "  <thead>\n",
       "    <tr style=\"text-align: right;\">\n",
       "      <th></th>\n",
       "      <th>id</th>\n",
       "      <th>vw_text</th>\n",
       "      <th>raw_text</th>\n",
       "    </tr>\n",
       "    <tr>\n",
       "      <th>id</th>\n",
       "      <th></th>\n",
       "      <th></th>\n",
       "      <th></th>\n",
       "    </tr>\n",
       "  </thead>\n",
       "  <tbody>\n",
       "    <tr>\n",
       "      <th>1.txt</th>\n",
       "      <td>1.txt</td>\n",
       "      <td>1.txt |@author fuchs preobrazhensky tabachniko...</td>\n",
       "      <td>@title Автограф # «Математический дивертисмент...</td>\n",
       "    </tr>\n",
       "    <tr>\n",
       "      <th>2.txt</th>\n",
       "      <td>2.txt</td>\n",
       "      <td>2.txt |@word книга:2 лекция:3 рассматриваться:...</td>\n",
       "      <td>@title Главы: Маскулинности в российском конте...</td>\n",
       "    </tr>\n",
       "    <tr>\n",
       "      <th>3.txt</th>\n",
       "      <td>3.txt</td>\n",
       "      <td>3.txt |@word развитие появляться пиджина:4 бел...</td>\n",
       "      <td>@title Пиджины и креольские языки | @snippet Л...</td>\n",
       "    </tr>\n",
       "    <tr>\n",
       "      <th>4.txt</th>\n",
       "      <td>4.txt</td>\n",
       "      <td>4.txt |@word стандартный задача:3 состоять:4 р...</td>\n",
       "      <td>@title FAQ: Физиология микроводорослей | @snip...</td>\n",
       "    </tr>\n",
       "    <tr>\n",
       "      <th>5.txt</th>\n",
       "      <td>5.txt</td>\n",
       "      <td>5.txt |@2gramm повседневный_практика государст...</td>\n",
       "      <td>@title Русская государственная идеология | @sn...</td>\n",
       "    </tr>\n",
       "  </tbody>\n",
       "</table>\n",
       "</div>"
      ],
      "text/plain": [
       "          id                                            vw_text  \\\n",
       "id                                                                \n",
       "1.txt  1.txt  1.txt |@author fuchs preobrazhensky tabachniko...   \n",
       "2.txt  2.txt  2.txt |@word книга:2 лекция:3 рассматриваться:...   \n",
       "3.txt  3.txt  3.txt |@word развитие появляться пиджина:4 бел...   \n",
       "4.txt  4.txt  4.txt |@word стандартный задача:3 состоять:4 р...   \n",
       "5.txt  5.txt  5.txt |@2gramm повседневный_практика государст...   \n",
       "\n",
       "                                                raw_text  \n",
       "id                                                        \n",
       "1.txt  @title Автограф # «Математический дивертисмент...  \n",
       "2.txt  @title Главы: Маскулинности в российском конте...  \n",
       "3.txt  @title Пиджины и креольские языки | @snippet Л...  \n",
       "4.txt  @title FAQ: Физиология микроводорослей | @snip...  \n",
       "5.txt  @title Русская государственная идеология | @sn...  "
      ]
     },
     "execution_count": 9,
     "metadata": {},
     "output_type": "execute_result"
    }
   ],
   "source": [
    "print(demo_data.get_possible_modalities())\n",
    "\n",
    "demo_data.get_dataset().head()"
   ]
  },
  {
   "cell_type": "markdown",
   "metadata": {},
   "source": [
    "## Constructing simple ARTM Model<a id=\"artm-model\"></a>\n",
    "\n",
    "<div style=\"text-align: right\">Back to <a href=#contents>Contents</a></div>"
   ]
  },
  {
   "cell_type": "markdown",
   "metadata": {},
   "source": [
    "TopicNet's model is basically a wrapper for BigARTM's model.\n",
    "So, let's create some simple ARTM model here first."
   ]
  },
  {
   "cell_type": "code",
   "execution_count": null,
   "metadata": {},
   "outputs": [],
   "source": [
    "model_artm = init_simple_default_model(\n",
    "    dataset=demo_data,\n",
    "    modalities_to_use={'@word': 1.0, '@2gramm': 0.5, '@3gramm': 0.5, '@post_tag': 0.5},\n",
    "    main_modality='@word',\n",
    "    specific_topics=15,\n",
    "    background_topics=1,\n",
    ")"
   ]
  },
  {
   "cell_type": "code",
   "execution_count": 7,
   "metadata": {},
   "outputs": [
    {
     "data": {
      "text/plain": [
       "{'@word': 1.0,\n",
       " '@2gramm': 8.796286296359932,\n",
       " '@3gramm': 246.98104755341143,\n",
       " '@post_tag': 84.10455292184933}"
      ]
     },
     "execution_count": 7,
     "metadata": {},
     "output_type": "execute_result"
    }
   ],
   "source": [
    "model_artm.class_ids  # i.e. modalities"
   ]
  },
  {
   "cell_type": "code",
   "execution_count": 8,
   "metadata": {},
   "outputs": [
    {
     "name": "stdout",
     "output_type": "stream",
     "text": [
      "[smooth_phi_bcg, smooth_theta_bcg]\n",
      "[PerplexityScore@all, SparsityThetaScore, SparsityPhiScore@word, PerplexityScore@word, TopicKernel@word, SparsityPhiScore@2gramm, PerplexityScore@2gramm, TopicKernel@2gramm, SparsityPhiScore@3gramm, PerplexityScore@3gramm, TopicKernel@3gramm, SparsityPhiScore@post_tag, PerplexityScore@post_tag, TopicKernel@post_tag]\n"
     ]
    }
   ],
   "source": [
    "print(model_artm.regularizers)\n",
    "print(model_artm.scores)"
   ]
  },
  {
   "cell_type": "markdown",
   "metadata": {},
   "source": [
    "## Root TopicModel and Experiment<a id=\"topic-model\"></a>\n",
    "\n",
    "<div style=\"text-align: right\">Back to <a href=#contents>Contents</a></div>"
   ]
  },
  {
   "cell_type": "markdown",
   "metadata": {},
   "source": [
    "And here is an actual topic model:"
   ]
  },
  {
   "cell_type": "code",
   "execution_count": 10,
   "metadata": {},
   "outputs": [],
   "source": [
    "tm = TopicModel(model_artm)"
   ]
  },
  {
   "cell_type": "code",
   "execution_count": 11,
   "metadata": {
    "scrolled": true
   },
   "outputs": [],
   "source": [
    "specific_topics = [t for t in tm.topic_names if \"background\" not in t]"
   ]
  },
  {
   "cell_type": "markdown",
   "metadata": {},
   "source": [
    "Experiment handles topic models: eg. training, saving."
   ]
  },
  {
   "cell_type": "code",
   "execution_count": 12,
   "metadata": {},
   "outputs": [],
   "source": [
    "experiment = Experiment(\n",
    "    experiment_id=\"psci_experiment\", save_path=\"experiments\", topic_model=tm\n",
    ")"
   ]
  },
  {
   "cell_type": "markdown",
   "metadata": {},
   "source": [
    "One cube is a basic training stage:"
   ]
  },
  {
   "cell_type": "code",
   "execution_count": null,
   "metadata": {},
   "outputs": [],
   "source": [
    "my_first_cube = RegularizersModifierCube(\n",
    "    num_iter=10,\n",
    "    regularizer_parameters=[\n",
    "        {\n",
    "            'regularizer': artm.DecorrelatorPhiRegularizer(\n",
    "                name='decorrelation_phi', \n",
    "                class_ids=\"@word\", \n",
    "                topic_names=specific_topics\n",
    "            ),\n",
    "            'tau_grid': [0, 0.005, 0.01, 0.015, 0.02, 0.025]\n",
    "        },\n",
    "        {\n",
    "            'regularizer': artm.SmoothSparsePhiRegularizer(\n",
    "                name=\"smsp_phi_specific\",\n",
    "                class_ids=\"@word\", \n",
    "                topic_names=specific_topics\n",
    "            ),\n",
    "            'tau_grid': [-0.05, 0, 0.05]\n",
    "        },\n",
    "        {\n",
    "            'name': \"smooth_phi_bcg\",\n",
    "            'tau_grid': [0.1]\n",
    "        },\n",
    "    ],\n",
    "    verbose=True\n",
    ")\n",
    "\n",
    "my_first_cube(tm, demo_data)"
   ]
  },
  {
   "cell_type": "markdown",
   "metadata": {},
   "source": [
    "Let's look at the experiment now:"
   ]
  },
  {
   "cell_type": "code",
   "execution_count": 16,
   "metadata": {},
   "outputs": [
    {
     "data": {
      "text/plain": [
       "Experiment psci_experiment\n",
       "\n",
       "Experiment was made with BigARTM 0.9.0\n",
       "Tree:\n",
       "                                ┌##17h48m55s_18d10m2019y###\n",
       "                                ├##17h49m09s_18d10m2019y###\n",
       "                                ├##17h49m23s_18d10m2019y###\n",
       "                                ├##17h49m36s_18d10m2019y###\n",
       "                                ├##17h49m51s_18d10m2019y###\n",
       "                                ├##17h50m04s_18d10m2019y###\n",
       "                                ├##17h50m18s_18d10m2019y###\n",
       "                                ├##17h50m32s_18d10m2019y###\n",
       "                                ├##17h50m46s_18d10m2019y###\n",
       "<<<<<<<<<<<root>>>>>>>>>>>──────┤\n",
       "                                ├##17h50m59s_18d10m2019y###\n",
       "                                ├##17h51m14s_18d10m2019y###\n",
       "                                ├##17h51m27s_18d10m2019y###\n",
       "                                ├##17h51m41s_18d10m2019y###\n",
       "                                ├##17h51m55s_18d10m2019y###\n",
       "                                ├##17h52m09s_18d10m2019y###\n",
       "                                ├##17h52m23s_18d10m2019y###\n",
       "                                ├##17h52m37s_18d10m2019y###\n",
       "                                └##17h52m51s_18d10m2019y###\n",
       "Cubes:\n",
       " START                          | REG_MODIFIER                                              \n",
       "                                |                                                           \n",
       " name:                          | tau_grid:                                                 \n",
       "   ARTM                         |   0,                                                      \n",
       " num_processors:                |   0.005,                                                  \n",
       "   3                            |   ...,                                                    \n",
       " num_topics:                    |   0.02,                                                   \n",
       "   16                           |   0.025                                                   \n",
       " topic_names:                   | regularizer:                                              \n",
       "   topic_0,                     |   name=decorrelation_phi,                                 \n",
       "   topic_1,                     |   class_ids=[@word],                                      \n",
       "   ...,                         |   topic_names=[topic_0, topic_1, ..., topic_13, topic_14],\n",
       "   topic_14,                    |   tau=1.0                                                 \n",
       "   background_15                |    +                                                      \n",
       " class_ids:                     | tau_grid:                                                 \n",
       "   @word=1.0,                   |   -0.05,                                                  \n",
       "   @2gramm=8.796286296359932,   |   0,                                                      \n",
       "   @3gramm=246.98104755341143,  |   0.05                                                    \n",
       "   @post_tag=84.10455292184933  | regularizer:                                              \n",
       " seed:                          |   name=smsp_phi_specific,                                 \n",
       "   -1                           |   class_ids=[@word],                                      \n",
       "                                |   topic_names=[topic_0, topic_1, ..., topic_13, topic_14],\n",
       "                                |   dictionary=,                                            \n",
       "                                |   tau=1.0                                                 \n",
       "                                |    +                                                      \n",
       "                                | tau_grid:                                                 \n",
       "                                |   0.1                                                     \n",
       "                                | name:                                                     \n",
       "                                |   smooth_phi_bcg                                          \n",
       "                                |                                                           \n",
       "────────────────────────────────+────────────────────────────────────────────────────────────+──────────────────────────────────────────────────────────\n",
       "                                |                                                           "
      ]
     },
     "metadata": {},
     "output_type": "display_data"
    }
   ],
   "source": [
    "experiment.show()"
   ]
  },
  {
   "cell_type": "markdown",
   "metadata": {},
   "source": [
    "## Exploring trained models (plots)<a id=\"exploring-models\"></a>\n",
    "\n",
    "<div style=\"text-align: right\">Back to <a href=#contents>Contents</a></div>"
   ]
  },
  {
   "cell_type": "markdown",
   "metadata": {},
   "source": [
    "Perplexity for different models:"
   ]
  },
  {
   "cell_type": "code",
   "execution_count": 17,
   "metadata": {},
   "outputs": [
    {
     "data": {
      "image/png": "[encoded data removed]",
      "text/plain": [
       "<Figure size 576x576 with 1 Axes>"
      ]
     },
     "metadata": {
      "needs_background": "light"
     },
     "output_type": "display_data"
    }
   ],
   "source": [
    "tms = experiment.models\n",
    "colors = np.linspace(0, 0.65, len(tms))\n",
    "\n",
    "plt.figure(figsize=(8,8))\n",
    "\n",
    "for i, tm in enumerate(list(tms.values())[1:]):\n",
    "    score = tm.scores['PerplexityScore@all']\n",
    "    plt.plot(score[1:], color=cm.Blues(colors[i]))\n",
    "\n",
    "plt.show()"
   ]
  },
  {
   "cell_type": "markdown",
   "metadata": {},
   "source": [
    "Visualizing more topic scores:"
   ]
  },
  {
   "cell_type": "code",
   "execution_count": 18,
   "metadata": {},
   "outputs": [
    {
     "data": {
      "image/png": "[encoded data removed]",
      "text/plain": [
       "<Figure size 576x576 with 1 Axes>"
      ]
     },
     "metadata": {
      "needs_background": "light"
     },
     "output_type": "display_data"
    }
   ],
   "source": [
    "tms = experiment.models\n",
    "colors = np.linspace(0, 0.65, len(tms))\n",
    "\n",
    "plt.figure(figsize=(8,8))\n",
    "\n",
    "for i, tm in enumerate(list(tms.values())[1:]):\n",
    "    score = tm.scores['TopicKernel@word.average_purity']\n",
    "    plt.plot(score, color=cm.Blues(colors[i]))\n",
    "    score = tm.scores['TopicKernel@word.average_contrast']\n",
    "    plt.plot(score, color=cm.Reds(colors[i]))\n",
    "\n",
    "plt.show()"
   ]
  },
  {
   "cell_type": "markdown",
   "metadata": {},
   "source": [
    "We can use a simple query language to select models, satisfying some criterion:"
   ]
  },
  {
   "cell_type": "code",
   "execution_count": 25,
   "metadata": {},
   "outputs": [
    {
     "name": "stdout",
     "output_type": "stream",
     "text": [
      "12\n"
     ]
    }
   ],
   "source": [
    "query = \"TopicKernel@word.average_contrast -> max and PerplexityScore@all < 1.1 * MINIMUM(PerplexityScore@all)\"\n",
    "models = experiment.select(query + \" COLLECT all\")\n",
    "\n",
    "print(len(models))"
   ]
  },
  {
   "cell_type": "markdown",
   "metadata": {},
   "source": [
    "And another example:"
   ]
  },
  {
   "cell_type": "code",
   "execution_count": 28,
   "metadata": {},
   "outputs": [
    {
     "name": "stdout",
     "output_type": "stream",
     "text": [
      "6\n"
     ]
    }
   ],
   "source": [
    "query = (\n",
    "    \"TopicKernel@word.average_contrast > 0.8 * MAXIMUM(TopicKernel@word.average_contrast) \"\n",
    "    \"and TopicKernel@word.average_purity > 0.8 * MAXIMUM(TopicKernel@word.average_purity) \"\n",
    "    \"and PerplexityScore@all < 1.1 * MINIMUM(PerplexityScore@all) \"\n",
    ")\n",
    "models = experiment.select(query)\n",
    "\n",
    "\n",
    "models = experiment.select(query + \" COLLECT all\")\n",
    "\n",
    "print(len(models))"
   ]
  },
  {
   "cell_type": "code",
   "execution_count": 29,
   "metadata": {},
   "outputs": [
    {
     "name": "stdout",
     "output_type": "stream",
     "text": [
      "smooth_phi_bcg 0.1\n",
      "smooth_theta_bcg 0.0\n",
      "decorrelation_phi 0\n",
      "smsp_phi_specific 0.0\n",
      "25313538048.0\n",
      "0.4932064712047577\n",
      "0.1664646863937378\n",
      "------\n",
      "smooth_phi_bcg 0.1\n",
      "smooth_theta_bcg 0.0\n",
      "decorrelation_phi 0.005\n",
      "smsp_phi_specific 0.0\n",
      "25312024576.0\n",
      "0.49317318201065063\n",
      "0.1672022044658661\n",
      "------\n",
      "smooth_phi_bcg 0.1\n",
      "smooth_theta_bcg 0.0\n",
      "decorrelation_phi 0.01\n",
      "smsp_phi_specific 0.0\n",
      "25311625216.0\n",
      "0.49313482642173767\n",
      "0.16795437037944794\n",
      "------\n",
      "smooth_phi_bcg 0.1\n",
      "smooth_theta_bcg 0.0\n",
      "decorrelation_phi 0.015\n",
      "smsp_phi_specific 0.0\n",
      "25312380928.0\n",
      "0.4931844472885132\n",
      "0.1685832291841507\n",
      "------\n",
      "smooth_phi_bcg 0.1\n",
      "smooth_theta_bcg 0.0\n",
      "decorrelation_phi 0.02\n",
      "smsp_phi_specific 0.0\n",
      "25314265088.0\n",
      "0.4932193160057068\n",
      "0.16932210326194763\n",
      "------\n",
      "smooth_phi_bcg 0.1\n",
      "smooth_theta_bcg 0.0\n",
      "decorrelation_phi 0.025\n",
      "smsp_phi_specific 0.0\n",
      "25317392384.0\n",
      "0.493261456489563\n",
      "0.17049165070056915\n",
      "------\n"
     ]
    }
   ],
   "source": [
    "for model in models:\n",
    "    model.describe_regularizers()\n",
    "    model.describe_scores()"
   ]
  },
  {
   "cell_type": "markdown",
   "metadata": {},
   "source": [
    "Looks like SmoothSparsePhiRegularizer was redundant. There's a clear winner: `decorrelation_phi 0.025`, but we'll take everything."
   ]
  },
  {
   "cell_type": "markdown",
   "metadata": {},
   "source": [
    "## Exploring best model (viewers)<a id=\"exploring-best\"></a>\n",
    "\n",
    "<div style=\"text-align: right\">Back to <a href=#contents>Contents</a></div>"
   ]
  },
  {
   "cell_type": "code",
   "execution_count": 32,
   "metadata": {},
   "outputs": [],
   "source": [
    "best_model = models[-1]"
   ]
  },
  {
   "cell_type": "markdown",
   "metadata": {},
   "source": [
    "TopicNet's [viewers](https://github.com/machine-intelligence-laboratory/TopicNet/tree/master/topicnet/viewers) help to look at topic models."
   ]
  },
  {
   "cell_type": "code",
   "execution_count": 33,
   "metadata": {},
   "outputs": [],
   "source": [
    "thresh = 1e-5\n",
    "first_model_top_tok = TopTokensViewer(best_model, num_top_tokens=10, method='phi')\n",
    "first_model_html =  first_model_top_tok.to_html(first_model_top_tok.view(),thresh=thresh)"
   ]
  },
  {
   "cell_type": "code",
   "execution_count": 35,
   "metadata": {},
   "outputs": [],
   "source": [
    "first_model_top_doc = TopDocumentsViewer(best_model, dataset=demo_data).view()"
   ]
  },
  {
   "cell_type": "code",
   "execution_count": 41,
   "metadata": {
    "scrolled": false
   },
   "outputs": [
    {
     "data": {
      "text/html": [
       "<style  type=\"text/css\" >\n",
       "</style>  \n",
       "<table id=\"T_1ea56ab4_f1b8_11e9_a6fb_107b449f15fc\" style='display:inline'> \n",
       "<thead>    <tr> \n",
       "        <th class=\"blank level0\" ></th> \n",
       "        <th class=\"col_heading level0 col0\" >topic_0 @2gramm</th> \n",
       "    </tr></thead> \n",
       "<tbody>    <tr> \n",
       "        <th id=\"T_1ea56ab4_f1b8_11e9_a6fb_107b449f15fclevel0_row0\" class=\"row_heading level0 row0\" >нервный_клетка</th> \n",
       "        <td id=\"T_1ea56ab4_f1b8_11e9_a6fb_107b449f15fcrow0_col0\" class=\"data row0 col0\" >0.01569</td> \n",
       "    </tr>    <tr> \n",
       "        <th id=\"T_1ea56ab4_f1b8_11e9_a6fb_107b449f15fclevel0_row1\" class=\"row_heading level0 row1\" >нервный_система</th> \n",
       "        <td id=\"T_1ea56ab4_f1b8_11e9_a6fb_107b449f15fcrow1_col0\" class=\"data row1 col0\" >0.01173</td> \n",
       "    </tr>    <tr> \n",
       "        <th id=\"T_1ea56ab4_f1b8_11e9_a6fb_107b449f15fclevel0_row2\" class=\"row_heading level0 row2\" >головной_мозг</th> \n",
       "        <td id=\"T_1ea56ab4_f1b8_11e9_a6fb_107b449f15fcrow2_col0\" class=\"data row2 col0\" >0.00754</td> \n",
       "    </tr>    <tr> \n",
       "        <th id=\"T_1ea56ab4_f1b8_11e9_a6fb_107b449f15fclevel0_row3\" class=\"row_heading level0 row3\" >орган_чувство</th> \n",
       "        <td id=\"T_1ea56ab4_f1b8_11e9_a6fb_107b449f15fcrow3_col0\" class=\"data row3 col0\" >0.00586</td> \n",
       "    </tr>    <tr> \n",
       "        <th id=\"T_1ea56ab4_f1b8_11e9_a6fb_107b449f15fclevel0_row4\" class=\"row_heading level0 row4\" >нейронный_сеть</th> \n",
       "        <td id=\"T_1ea56ab4_f1b8_11e9_a6fb_107b449f15fcrow4_col0\" class=\"data row4 col0\" >0.00537</td> \n",
       "    </tr>    <tr> \n",
       "        <th id=\"T_1ea56ab4_f1b8_11e9_a6fb_107b449f15fclevel0_row5\" class=\"row_heading level0 row5\" >система_отсчёт</th> \n",
       "        <td id=\"T_1ea56ab4_f1b8_11e9_a6fb_107b449f15fcrow5_col0\" class=\"data row5 col0\" >0.00531</td> \n",
       "    </tr>    <tr> \n",
       "        <th id=\"T_1ea56ab4_f1b8_11e9_a6fb_107b449f15fclevel0_row6\" class=\"row_heading level0 row6\" >человеческий_мозг</th> \n",
       "        <td id=\"T_1ea56ab4_f1b8_11e9_a6fb_107b449f15fcrow6_col0\" class=\"data row6 col0\" >0.0049</td> \n",
       "    </tr>    <tr> \n",
       "        <th id=\"T_1ea56ab4_f1b8_11e9_a6fb_107b449f15fclevel0_row7\" class=\"row_heading level0 row7\" >работа_мозг</th> \n",
       "        <td id=\"T_1ea56ab4_f1b8_11e9_a6fb_107b449f15fcrow7_col0\" class=\"data row7 col0\" >0.00472</td> \n",
       "    </tr>    <tr> \n",
       "        <th id=\"T_1ea56ab4_f1b8_11e9_a6fb_107b449f15fclevel0_row8\" class=\"row_heading level0 row8\" >флуоресцентный_белка</th> \n",
       "        <td id=\"T_1ea56ab4_f1b8_11e9_a6fb_107b449f15fcrow8_col0\" class=\"data row8 col0\" >0.00434</td> \n",
       "    </tr>    <tr> \n",
       "        <th id=\"T_1ea56ab4_f1b8_11e9_a6fb_107b449f15fclevel0_row9\" class=\"row_heading level0 row9\" >данный_момент</th> \n",
       "        <td id=\"T_1ea56ab4_f1b8_11e9_a6fb_107b449f15fcrow9_col0\" class=\"data row9 col0\" >0.00424</td> \n",
       "    </tr></tbody> \n",
       "</table> <style  type=\"text/css\" >\n",
       "</style>  \n",
       "<table id=\"T_1ea56ab5_f1b8_11e9_a6fb_107b449f15fc\" style='display:inline'> \n",
       "<thead>    <tr> \n",
       "        <th class=\"blank level0\" ></th> \n",
       "        <th class=\"col_heading level0 col0\" >topic_0 @3gramm</th> \n",
       "    </tr></thead> \n",
       "<tbody>    <tr> \n",
       "        <th id=\"T_1ea56ab5_f1b8_11e9_a6fb_107b449f15fclevel0_row0\" class=\"row_heading level0 row0\" >общий_теория_относительность</th> \n",
       "        <td id=\"T_1ea56ab5_f1b8_11e9_a6fb_107b449f15fcrow0_col0\" class=\"data row0 col0\" >0.19633</td> \n",
       "    </tr>    <tr> \n",
       "        <th id=\"T_1ea56ab5_f1b8_11e9_a6fb_107b449f15fclevel0_row1\" class=\"row_heading level0 row1\" >специальный_теория_относительность</th> \n",
       "        <td id=\"T_1ea56ab5_f1b8_11e9_a6fb_107b449f15fcrow1_col0\" class=\"data row1 col0\" >0.15856</td> \n",
       "    </tr>    <tr> \n",
       "        <th id=\"T_1ea56ab5_f1b8_11e9_a6fb_107b449f15fclevel0_row2\" class=\"row_heading level0 row2\" >научный_точка_зрение</th> \n",
       "        <td id=\"T_1ea56ab5_f1b8_11e9_a6fb_107b449f15fcrow2_col0\" class=\"data row2 col0\" >0.07437</td> \n",
       "    </tr>    <tr> \n",
       "        <th id=\"T_1ea56ab5_f1b8_11e9_a6fb_107b449f15fclevel0_row3\" class=\"row_heading level0 row3\" >инерциальный_система_отсчёт</th> \n",
       "        <td id=\"T_1ea56ab5_f1b8_11e9_a6fb_107b449f15fcrow3_col0\" class=\"data row3 col0\" >0.06804</td> \n",
       "    </tr>    <tr> \n",
       "        <th id=\"T_1ea56ab5_f1b8_11e9_a6fb_107b449f15fclevel0_row4\" class=\"row_heading level0 row4\" >рождаться_наукоемкий_бизнес</th> \n",
       "        <td id=\"T_1ea56ab5_f1b8_11e9_a6fb_107b449f15fcrow4_col0\" class=\"data row4 col0\" >0.06365</td> \n",
       "    </tr>    <tr> \n",
       "        <th id=\"T_1ea56ab5_f1b8_11e9_a6fb_107b449f15fclevel0_row5\" class=\"row_heading level0 row5\" >история_политический_мысль</th> \n",
       "        <td id=\"T_1ea56ab5_f1b8_11e9_a6fb_107b449f15fcrow5_col0\" class=\"data row5 col0\" >0.03887</td> \n",
       "    </tr>    <tr> \n",
       "        <th id=\"T_1ea56ab5_f1b8_11e9_a6fb_107b449f15fclevel0_row6\" class=\"row_heading level0 row6\" >заметный_экономический_эффект</th> \n",
       "        <td id=\"T_1ea56ab5_f1b8_11e9_a6fb_107b449f15fcrow6_col0\" class=\"data row6 col0\" >0.03536</td> \n",
       "    </tr>    <tr> \n",
       "        <th id=\"T_1ea56ab5_f1b8_11e9_a6fb_107b449f15fclevel0_row7\" class=\"row_heading level0 row7\" >отдел_головной_мозг</th> \n",
       "        <td id=\"T_1ea56ab5_f1b8_11e9_a6fb_107b449f15fcrow7_col0\" class=\"data row7 col0\" >0.02916</td> \n",
       "    </tr>    <tr> \n",
       "        <th id=\"T_1ea56ab5_f1b8_11e9_a6fb_107b449f15fclevel0_row8\" class=\"row_heading level0 row8\" >излучать_электромагнитный_волна</th> \n",
       "        <td id=\"T_1ea56ab5_f1b8_11e9_a6fb_107b449f15fcrow8_col0\" class=\"data row8 col0\" >0.02406</td> \n",
       "    </tr>    <tr> \n",
       "        <th id=\"T_1ea56ab5_f1b8_11e9_a6fb_107b449f15fclevel0_row9\" class=\"row_heading level0 row9\" >огромный_количество_информация</th> \n",
       "        <td id=\"T_1ea56ab5_f1b8_11e9_a6fb_107b449f15fcrow9_col0\" class=\"data row9 col0\" >0.02265</td> \n",
       "    </tr></tbody> \n",
       "</table> <style  type=\"text/css\" >\n",
       "</style>  \n",
       "<table id=\"T_1ea56ab6_f1b8_11e9_a6fb_107b449f15fc\" style='display:inline'> \n",
       "<thead>    <tr> \n",
       "        <th class=\"blank level0\" ></th> \n",
       "        <th class=\"col_heading level0 col0\" >topic_0 @post_tag</th> \n",
       "    </tr></thead> \n",
       "<tbody>    <tr> \n",
       "        <th id=\"T_1ea56ab6_f1b8_11e9_a6fb_107b449f15fclevel0_row0\" class=\"row_heading level0 row0\" >мозг</th> \n",
       "        <td id=\"T_1ea56ab6_f1b8_11e9_a6fb_107b449f15fcrow0_col0\" class=\"data row0 col0\" >0.14323</td> \n",
       "    </tr>    <tr> \n",
       "        <th id=\"T_1ea56ab6_f1b8_11e9_a6fb_107b449f15fclevel0_row1\" class=\"row_heading level0 row1\" >психология</th> \n",
       "        <td id=\"T_1ea56ab6_f1b8_11e9_a6fb_107b449f15fcrow1_col0\" class=\"data row1 col0\" >0.11901</td> \n",
       "    </tr>    <tr> \n",
       "        <th id=\"T_1ea56ab6_f1b8_11e9_a6fb_107b449f15fclevel0_row2\" class=\"row_heading level0 row2\" >биология</th> \n",
       "        <td id=\"T_1ea56ab6_f1b8_11e9_a6fb_107b449f15fcrow2_col0\" class=\"data row2 col0\" >0.07066</td> \n",
       "    </tr>    <tr> \n",
       "        <th id=\"T_1ea56ab6_f1b8_11e9_a6fb_107b449f15fclevel0_row3\" class=\"row_heading level0 row3\" >нейробиология</th> \n",
       "        <td id=\"T_1ea56ab6_f1b8_11e9_a6fb_107b449f15fcrow3_col0\" class=\"data row3 col0\" >0.06977</td> \n",
       "    </tr>    <tr> \n",
       "        <th id=\"T_1ea56ab6_f1b8_11e9_a6fb_107b449f15fclevel0_row4\" class=\"row_heading level0 row4\" >нейрон</th> \n",
       "        <td id=\"T_1ea56ab6_f1b8_11e9_a6fb_107b449f15fcrow4_col0\" class=\"data row4 col0\" >0.05185</td> \n",
       "    </tr>    <tr> \n",
       "        <th id=\"T_1ea56ab6_f1b8_11e9_a6fb_107b449f15fclevel0_row5\" class=\"row_heading level0 row5\" >нейрофизиология</th> \n",
       "        <td id=\"T_1ea56ab6_f1b8_11e9_a6fb_107b449f15fcrow5_col0\" class=\"data row5 col0\" >0.04334</td> \n",
       "    </tr>    <tr> \n",
       "        <th id=\"T_1ea56ab6_f1b8_11e9_a6fb_107b449f15fclevel0_row6\" class=\"row_heading level0 row6\" >когнитивная_психология</th> \n",
       "        <td id=\"T_1ea56ab6_f1b8_11e9_a6fb_107b449f15fcrow6_col0\" class=\"data row6 col0\" >0.03999</td> \n",
       "    </tr>    <tr> \n",
       "        <th id=\"T_1ea56ab6_f1b8_11e9_a6fb_107b449f15fclevel0_row7\" class=\"row_heading level0 row7\" >память</th> \n",
       "        <td id=\"T_1ea56ab6_f1b8_11e9_a6fb_107b449f15fcrow7_col0\" class=\"data row7 col0\" >0.03768</td> \n",
       "    </tr>    <tr> \n",
       "        <th id=\"T_1ea56ab6_f1b8_11e9_a6fb_107b449f15fclevel0_row8\" class=\"row_heading level0 row8\" >нейропсихология</th> \n",
       "        <td id=\"T_1ea56ab6_f1b8_11e9_a6fb_107b449f15fcrow8_col0\" class=\"data row8 col0\" >0.02622</td> \n",
       "    </tr>    <tr> \n",
       "        <th id=\"T_1ea56ab6_f1b8_11e9_a6fb_107b449f15fclevel0_row9\" class=\"row_heading level0 row9\" >сознание</th> \n",
       "        <td id=\"T_1ea56ab6_f1b8_11e9_a6fb_107b449f15fcrow9_col0\" class=\"data row9 col0\" >0.02295</td> \n",
       "    </tr></tbody> \n",
       "</table> <style  type=\"text/css\" >\n",
       "</style>  \n",
       "<table id=\"T_1ea56ab7_f1b8_11e9_a6fb_107b449f15fc\" style='display:inline'> \n",
       "<thead>    <tr> \n",
       "        <th class=\"blank level0\" ></th> \n",
       "        <th class=\"col_heading level0 col0\" >topic_0 @word</th> \n",
       "    </tr></thead> \n",
       "<tbody>    <tr> \n",
       "        <th id=\"T_1ea56ab7_f1b8_11e9_a6fb_107b449f15fclevel0_row0\" class=\"row_heading level0 row0\" >мозг</th> \n",
       "        <td id=\"T_1ea56ab7_f1b8_11e9_a6fb_107b449f15fcrow0_col0\" class=\"data row0 col0\" >0.01517</td> \n",
       "    </tr>    <tr> \n",
       "        <th id=\"T_1ea56ab7_f1b8_11e9_a6fb_107b449f15fclevel0_row1\" class=\"row_heading level0 row1\" >нейрон</th> \n",
       "        <td id=\"T_1ea56ab7_f1b8_11e9_a6fb_107b449f15fcrow1_col0\" class=\"data row1 col0\" >0.00653</td> \n",
       "    </tr>    <tr> \n",
       "        <th id=\"T_1ea56ab7_f1b8_11e9_a6fb_107b449f15fclevel0_row2\" class=\"row_heading level0 row2\" >память</th> \n",
       "        <td id=\"T_1ea56ab7_f1b8_11e9_a6fb_107b449f15fcrow2_col0\" class=\"data row2 col0\" >0.00532</td> \n",
       "    </tr>    <tr> \n",
       "        <th id=\"T_1ea56ab7_f1b8_11e9_a6fb_107b449f15fclevel0_row3\" class=\"row_heading level0 row3\" >образ</th> \n",
       "        <td id=\"T_1ea56ab7_f1b8_11e9_a6fb_107b449f15fcrow3_col0\" class=\"data row3 col0\" >0.00371</td> \n",
       "    </tr>    <tr> \n",
       "        <th id=\"T_1ea56ab7_f1b8_11e9_a6fb_107b449f15fclevel0_row4\" class=\"row_heading level0 row4\" >процесс</th> \n",
       "        <td id=\"T_1ea56ab7_f1b8_11e9_a6fb_107b449f15fcrow4_col0\" class=\"data row4 col0\" >0.00346</td> \n",
       "    </tr>    <tr> \n",
       "        <th id=\"T_1ea56ab7_f1b8_11e9_a6fb_107b449f15fclevel0_row5\" class=\"row_heading level0 row5\" >клетка</th> \n",
       "        <td id=\"T_1ea56ab7_f1b8_11e9_a6fb_107b449f15fcrow5_col0\" class=\"data row5 col0\" >0.00327</td> \n",
       "    </tr>    <tr> \n",
       "        <th id=\"T_1ea56ab7_f1b8_11e9_a6fb_107b449f15fclevel0_row6\" class=\"row_heading level0 row6\" >эмоция</th> \n",
       "        <td id=\"T_1ea56ab7_f1b8_11e9_a6fb_107b449f15fcrow6_col0\" class=\"data row6 col0\" >0.00312</td> \n",
       "    </tr>    <tr> \n",
       "        <th id=\"T_1ea56ab7_f1b8_11e9_a6fb_107b449f15fclevel0_row7\" class=\"row_heading level0 row7\" >объект</th> \n",
       "        <td id=\"T_1ea56ab7_f1b8_11e9_a6fb_107b449f15fcrow7_col0\" class=\"data row7 col0\" >0.00311</td> \n",
       "    </tr>    <tr> \n",
       "        <th id=\"T_1ea56ab7_f1b8_11e9_a6fb_107b449f15fclevel0_row8\" class=\"row_heading level0 row8\" >исследование</th> \n",
       "        <td id=\"T_1ea56ab7_f1b8_11e9_a6fb_107b449f15fcrow8_col0\" class=\"data row8 col0\" >0.00307</td> \n",
       "    </tr>    <tr> \n",
       "        <th id=\"T_1ea56ab7_f1b8_11e9_a6fb_107b449f15fclevel0_row9\" class=\"row_heading level0 row9\" >информация</th> \n",
       "        <td id=\"T_1ea56ab7_f1b8_11e9_a6fb_107b449f15fcrow9_col0\" class=\"data row9 col0\" >0.00306</td> \n",
       "    </tr></tbody> \n",
       "</table> "
      ]
     },
     "metadata": {},
     "output_type": "display_data"
    },
    {
     "data": {
      "text/html": [
       "<b> зеркальные нейроны </b><br /> нейрофизиолог ольга сварник об активации нейронов в моторной коре, отражении чужих действий и томографии"
      ]
     },
     "metadata": {},
     "output_type": "display_data"
    },
    {
     "data": {
      "text/html": [
       "<b> предвнимание и внимание </b><br /> психолог игорь уточкин об особенностях зрительного восприятия, фокальном внимании и теории интеграции признаков"
      ]
     },
     "metadata": {},
     "output_type": "display_data"
    },
    {
     "data": {
      "text/html": [
       "<b> поведенческая специализация нейрона </b><br /> нейрофизиолог ольга сварник о фотографии дженнифер энистон, концепции мышиного гнезда и чтении действий по нейронам"
      ]
     },
     "metadata": {},
     "output_type": "display_data"
    },
    {
     "data": {
      "text/html": [
       "<b> молекулярные механизмы памяти </b><br /> нейробиолог павел балабан о процессе обучения, «молекуле памяти» и высших функциях мозга"
      ]
     },
     "metadata": {},
     "output_type": "display_data"
    },
    {
     "data": {
      "text/html": [
       "<b> командные нейроны </b><br /> нейробиолог павел балабан о сенсорных нейронах, исследованиях беспозвоночных и моделирующих клетках"
      ]
     },
     "metadata": {},
     "output_type": "display_data"
    },
    {
     "data": {
      "text/html": [
       "<b> нейрокоммуникаторы, нейроконтроллеры, нейропротезы, экзоскелетоны </b><br /> психофизиолог александр каплан о возможностях мозга, нейроинтерфейсных технологиях и экспериментах с кибернетической рукой"
      ]
     },
     "metadata": {},
     "output_type": "display_data"
    },
    {
     "data": {
      "text/html": [
       "<b> механизмы забывания </b><br /> психолог алексей созинов об активном забывании, нарушениях обучения и специализации нейронов"
      ]
     },
     "metadata": {},
     "output_type": "display_data"
    },
    {
     "data": {
      "text/html": [
       "<b> модели памяти в когнитивной психологии </b><br /> психолог мария фаликман о системах памяти, принципах хранения информации и причинах забывания"
      ]
     },
     "metadata": {},
     "output_type": "display_data"
    },
    {
     "data": {
      "text/html": [
       "<b> психическая травма и картина мира </b><br /> психолог мария падун о базисных убеждениях, картине мира младенцев и поиске новых смыслов травматического события"
      ]
     },
     "metadata": {},
     "output_type": "display_data"
    },
    {
     "data": {
      "text/html": [
       "<b> чем объясняются оптические иллюзии? </b><br /> психолог мария фаликман о процессе зрительного восприятия, обмане зрения и конкурсе на лучшую оптическую иллюзию года"
      ]
     },
     "metadata": {},
     "output_type": "display_data"
    },
    {
     "data": {
      "text/html": [
       "<style  type=\"text/css\" >\n",
       "</style>  \n",
       "<table id=\"T_1ea56ab8_f1b8_11e9_a6fb_107b449f15fc\" style='display:inline'> \n",
       "<thead>    <tr> \n",
       "        <th class=\"blank level0\" ></th> \n",
       "        <th class=\"col_heading level0 col0\" >topic_1 @2gramm</th> \n",
       "    </tr></thead> \n",
       "<tbody>    <tr> \n",
       "        <th id=\"T_1ea56ab8_f1b8_11e9_a6fb_107b449f15fclevel0_row0\" class=\"row_heading level0 row0\" >нобелевский_премия</th> \n",
       "        <td id=\"T_1ea56ab8_f1b8_11e9_a6fb_107b449f15fcrow0_col0\" class=\"data row0 col0\" >0.01135</td> \n",
       "    </tr>    <tr> \n",
       "        <th id=\"T_1ea56ab8_f1b8_11e9_a6fb_107b449f15fclevel0_row1\" class=\"row_heading level0 row1\" >квантовый_компьютер</th> \n",
       "        <td id=\"T_1ea56ab8_f1b8_11e9_a6fb_107b449f15fcrow1_col0\" class=\"data row1 col0\" >0.009</td> \n",
       "    </tr>    <tr> \n",
       "        <th id=\"T_1ea56ab8_f1b8_11e9_a6fb_107b449f15fclevel0_row2\" class=\"row_heading level0 row2\" >длина_волна</th> \n",
       "        <td id=\"T_1ea56ab8_f1b8_11e9_a6fb_107b449f15fcrow2_col0\" class=\"data row2 col0\" >0.00611</td> \n",
       "    </tr>    <tr> \n",
       "        <th id=\"T_1ea56ab8_f1b8_11e9_a6fb_107b449f15fclevel0_row3\" class=\"row_heading level0 row3\" >магнитный_поль</th> \n",
       "        <td id=\"T_1ea56ab8_f1b8_11e9_a6fb_107b449f15fcrow3_col0\" class=\"data row3 col0\" >0.00593</td> \n",
       "    </tr>    <tr> \n",
       "        <th id=\"T_1ea56ab8_f1b8_11e9_a6fb_107b449f15fclevel0_row4\" class=\"row_heading level0 row4\" >квантовый_механика</th> \n",
       "        <td id=\"T_1ea56ab8_f1b8_11e9_a6fb_107b449f15fcrow4_col0\" class=\"data row4 col0\" >0.00592</td> \n",
       "    </tr>    <tr> \n",
       "        <th id=\"T_1ea56ab8_f1b8_11e9_a6fb_107b449f15fclevel0_row5\" class=\"row_heading level0 row5\" >кристаллический_структура</th> \n",
       "        <td id=\"T_1ea56ab8_f1b8_11e9_a6fb_107b449f15fcrow5_col0\" class=\"data row5 col0\" >0.00547</td> \n",
       "    </tr>    <tr> \n",
       "        <th id=\"T_1ea56ab8_f1b8_11e9_a6fb_107b449f15fclevel0_row6\" class=\"row_heading level0 row6\" >органический_химия</th> \n",
       "        <td id=\"T_1ea56ab8_f1b8_11e9_a6fb_107b449f15fcrow6_col0\" class=\"data row6 col0\" >0.0049</td> \n",
       "    </tr>    <tr> \n",
       "        <th id=\"T_1ea56ab8_f1b8_11e9_a6fb_107b449f15fclevel0_row7\" class=\"row_heading level0 row7\" >квантовый_точка</th> \n",
       "        <td id=\"T_1ea56ab8_f1b8_11e9_a6fb_107b449f15fcrow7_col0\" class=\"data row7 col0\" >0.00489</td> \n",
       "    </tr>    <tr> \n",
       "        <th id=\"T_1ea56ab8_f1b8_11e9_a6fb_107b449f15fclevel0_row8\" class=\"row_heading level0 row8\" >твёрдый_тело</th> \n",
       "        <td id=\"T_1ea56ab8_f1b8_11e9_a6fb_107b449f15fcrow8_col0\" class=\"data row8 col0\" >0.00481</td> \n",
       "    </tr>    <tr> \n",
       "        <th id=\"T_1ea56ab8_f1b8_11e9_a6fb_107b449f15fclevel0_row9\" class=\"row_heading level0 row9\" >высокий_давление</th> \n",
       "        <td id=\"T_1ea56ab8_f1b8_11e9_a6fb_107b449f15fcrow9_col0\" class=\"data row9 col0\" >0.00472</td> \n",
       "    </tr></tbody> \n",
       "</table> <style  type=\"text/css\" >\n",
       "</style>  \n",
       "<table id=\"T_1ea56ab9_f1b8_11e9_a6fb_107b449f15fc\" style='display:inline'> \n",
       "<thead>    <tr> \n",
       "        <th class=\"blank level0\" ></th> \n",
       "        <th class=\"col_heading level0 col0\" >topic_1 @3gramm</th> \n",
       "    </tr></thead> \n",
       "<tbody>    <tr> \n",
       "        <th id=\"T_1ea56ab9_f1b8_11e9_a6fb_107b449f15fclevel0_row0\" class=\"row_heading level0 row0\" >получить_нобелевский_премия</th> \n",
       "        <td id=\"T_1ea56ab9_f1b8_11e9_a6fb_107b449f15fcrow0_col0\" class=\"data row0 col0\" >0.1583</td> \n",
       "    </tr>    <tr> \n",
       "        <th id=\"T_1ea56ab9_f1b8_11e9_a6fb_107b449f15fclevel0_row1\" class=\"row_heading level0 row1\" >играть_важный_роль</th> \n",
       "        <td id=\"T_1ea56ab9_f1b8_11e9_a6fb_107b449f15fcrow1_col0\" class=\"data row1 col0\" >0.07876</td> \n",
       "    </tr>    <tr> \n",
       "        <th id=\"T_1ea56ab9_f1b8_11e9_a6fb_107b449f15fclevel0_row2\" class=\"row_heading level0 row2\" >средство_массовый_информация</th> \n",
       "        <td id=\"T_1ea56ab9_f1b8_11e9_a6fb_107b449f15fcrow2_col0\" class=\"data row2 col0\" >0.06347</td> \n",
       "    </tr>    <tr> \n",
       "        <th id=\"T_1ea56ab9_f1b8_11e9_a6fb_107b449f15fclevel0_row3\" class=\"row_heading level0 row3\" >увеличение_продолжительность_жизнь</th> \n",
       "        <td id=\"T_1ea56ab9_f1b8_11e9_a6fb_107b449f15fcrow3_col0\" class=\"data row3 col0\" >0.05626</td> \n",
       "    </tr>    <tr> \n",
       "        <th id=\"T_1ea56ab9_f1b8_11e9_a6fb_107b449f15fclevel0_row4\" class=\"row_heading level0 row4\" >лауреат_нобелевский_премия</th> \n",
       "        <td id=\"T_1ea56ab9_f1b8_11e9_a6fb_107b449f15fcrow4_col0\" class=\"data row4 col0\" >0.03776</td> \n",
       "    </tr>    <tr> \n",
       "        <th id=\"T_1ea56ab9_f1b8_11e9_a6fb_107b449f15fclevel0_row5\" class=\"row_heading level0 row5\" >решение_нобелевский_комитет</th> \n",
       "        <td id=\"T_1ea56ab9_f1b8_11e9_a6fb_107b449f15fcrow5_col0\" class=\"data row5 col0\" >0.03483</td> \n",
       "    </tr>    <tr> \n",
       "        <th id=\"T_1ea56ab9_f1b8_11e9_a6fb_107b449f15fclevel0_row6\" class=\"row_heading level0 row6\" >принятие_политический_решение</th> \n",
       "        <td id=\"T_1ea56ab9_f1b8_11e9_a6fb_107b449f15fcrow6_col0\" class=\"data row6 col0\" >0.0348</td> \n",
       "    </tr>    <tr> \n",
       "        <th id=\"T_1ea56ab9_f1b8_11e9_a6fb_107b449f15fclevel0_row7\" class=\"row_heading level0 row7\" >постоянный_тонкий_структура</th> \n",
       "        <td id=\"T_1ea56ab9_f1b8_11e9_a6fb_107b449f15fcrow7_col0\" class=\"data row7 col0\" >0.03204</td> \n",
       "    </tr>    <tr> \n",
       "        <th id=\"T_1ea56ab9_f1b8_11e9_a6fb_107b449f15fclevel0_row8\" class=\"row_heading level0 row8\" >абсолютно_чёрный_тело</th> \n",
       "        <td id=\"T_1ea56ab9_f1b8_11e9_a6fb_107b449f15fcrow8_col0\" class=\"data row8 col0\" >0.0264</td> \n",
       "    </tr>    <tr> \n",
       "        <th id=\"T_1ea56ab9_f1b8_11e9_a6fb_107b449f15fclevel0_row9\" class=\"row_heading level0 row9\" >дать_нобелевский_премия</th> \n",
       "        <td id=\"T_1ea56ab9_f1b8_11e9_a6fb_107b449f15fcrow9_col0\" class=\"data row9 col0\" >0.02623</td> \n",
       "    </tr></tbody> \n",
       "</table> <style  type=\"text/css\" >\n",
       "</style>  \n",
       "<table id=\"T_1ea56aba_f1b8_11e9_a6fb_107b449f15fc\" style='display:inline'> \n",
       "<thead>    <tr> \n",
       "        <th class=\"blank level0\" ></th> \n",
       "        <th class=\"col_heading level0 col0\" >topic_1 @post_tag</th> \n",
       "    </tr></thead> \n",
       "<tbody>    <tr> \n",
       "        <th id=\"T_1ea56aba_f1b8_11e9_a6fb_107b449f15fclevel0_row0\" class=\"row_heading level0 row0\" >физика</th> \n",
       "        <td id=\"T_1ea56aba_f1b8_11e9_a6fb_107b449f15fcrow0_col0\" class=\"data row0 col0\" >0.14421</td> \n",
       "    </tr>    <tr> \n",
       "        <th id=\"T_1ea56aba_f1b8_11e9_a6fb_107b449f15fclevel0_row1\" class=\"row_heading level0 row1\" >химия</th> \n",
       "        <td id=\"T_1ea56aba_f1b8_11e9_a6fb_107b449f15fcrow1_col0\" class=\"data row1 col0\" >0.12519</td> \n",
       "    </tr>    <tr> \n",
       "        <th id=\"T_1ea56aba_f1b8_11e9_a6fb_107b449f15fclevel0_row2\" class=\"row_heading level0 row2\" >квантовая_физика</th> \n",
       "        <td id=\"T_1ea56aba_f1b8_11e9_a6fb_107b449f15fcrow2_col0\" class=\"data row2 col0\" >0.05879</td> \n",
       "    </tr>    <tr> \n",
       "        <th id=\"T_1ea56aba_f1b8_11e9_a6fb_107b449f15fclevel0_row3\" class=\"row_heading level0 row3\" >материаловедение</th> \n",
       "        <td id=\"T_1ea56aba_f1b8_11e9_a6fb_107b449f15fcrow3_col0\" class=\"data row3 col0\" >0.04749</td> \n",
       "    </tr>    <tr> \n",
       "        <th id=\"T_1ea56aba_f1b8_11e9_a6fb_107b449f15fclevel0_row4\" class=\"row_heading level0 row4\" >технологии</th> \n",
       "        <td id=\"T_1ea56aba_f1b8_11e9_a6fb_107b449f15fcrow4_col0\" class=\"data row4 col0\" >0.04577</td> \n",
       "    </tr>    <tr> \n",
       "        <th id=\"T_1ea56aba_f1b8_11e9_a6fb_107b449f15fclevel0_row5\" class=\"row_heading level0 row5\" >нанотехнологии</th> \n",
       "        <td id=\"T_1ea56aba_f1b8_11e9_a6fb_107b449f15fcrow5_col0\" class=\"data row5 col0\" >0.03998</td> \n",
       "    </tr>    <tr> \n",
       "        <th id=\"T_1ea56aba_f1b8_11e9_a6fb_107b449f15fclevel0_row6\" class=\"row_heading level0 row6\" >атом</th> \n",
       "        <td id=\"T_1ea56aba_f1b8_11e9_a6fb_107b449f15fcrow6_col0\" class=\"data row6 col0\" >0.03098</td> \n",
       "    </tr>    <tr> \n",
       "        <th id=\"T_1ea56aba_f1b8_11e9_a6fb_107b449f15fclevel0_row7\" class=\"row_heading level0 row7\" >квантовая_механика</th> \n",
       "        <td id=\"T_1ea56aba_f1b8_11e9_a6fb_107b449f15fcrow7_col0\" class=\"data row7 col0\" >0.02953</td> \n",
       "    </tr>    <tr> \n",
       "        <th id=\"T_1ea56aba_f1b8_11e9_a6fb_107b449f15fclevel0_row8\" class=\"row_heading level0 row8\" >нобелевская_премия</th> \n",
       "        <td id=\"T_1ea56aba_f1b8_11e9_a6fb_107b449f15fcrow8_col0\" class=\"data row8 col0\" >0.02708</td> \n",
       "    </tr>    <tr> \n",
       "        <th id=\"T_1ea56aba_f1b8_11e9_a6fb_107b449f15fclevel0_row9\" class=\"row_heading level0 row9\" >молекула</th> \n",
       "        <td id=\"T_1ea56aba_f1b8_11e9_a6fb_107b449f15fcrow9_col0\" class=\"data row9 col0\" >0.02648</td> \n",
       "    </tr></tbody> \n",
       "</table> <style  type=\"text/css\" >\n",
       "</style>  \n",
       "<table id=\"T_1ea56abb_f1b8_11e9_a6fb_107b449f15fc\" style='display:inline'> \n",
       "<thead>    <tr> \n",
       "        <th class=\"blank level0\" ></th> \n",
       "        <th class=\"col_heading level0 col0\" >topic_1 @word</th> \n",
       "    </tr></thead> \n",
       "<tbody>    <tr> \n",
       "        <th id=\"T_1ea56abb_f1b8_11e9_a6fb_107b449f15fclevel0_row0\" class=\"row_heading level0 row0\" >материал</th> \n",
       "        <td id=\"T_1ea56abb_f1b8_11e9_a6fb_107b449f15fcrow0_col0\" class=\"data row0 col0\" >0.00669</td> \n",
       "    </tr>    <tr> \n",
       "        <th id=\"T_1ea56abb_f1b8_11e9_a6fb_107b449f15fclevel0_row1\" class=\"row_heading level0 row1\" >атом</th> \n",
       "        <td id=\"T_1ea56abb_f1b8_11e9_a6fb_107b449f15fcrow1_col0\" class=\"data row1 col0\" >0.00606</td> \n",
       "    </tr>    <tr> \n",
       "        <th id=\"T_1ea56abb_f1b8_11e9_a6fb_107b449f15fclevel0_row2\" class=\"row_heading level0 row2\" >молекула</th> \n",
       "        <td id=\"T_1ea56abb_f1b8_11e9_a6fb_107b449f15fcrow2_col0\" class=\"data row2 col0\" >0.00475</td> \n",
       "    </tr>    <tr> \n",
       "        <th id=\"T_1ea56abb_f1b8_11e9_a6fb_107b449f15fclevel0_row3\" class=\"row_heading level0 row3\" >вещество</th> \n",
       "        <td id=\"T_1ea56abb_f1b8_11e9_a6fb_107b449f15fcrow3_col0\" class=\"data row3 col0\" >0.00471</td> \n",
       "    </tr>    <tr> \n",
       "        <th id=\"T_1ea56abb_f1b8_11e9_a6fb_107b449f15fclevel0_row4\" class=\"row_heading level0 row4\" >структура</th> \n",
       "        <td id=\"T_1ea56abb_f1b8_11e9_a6fb_107b449f15fcrow4_col0\" class=\"data row4 col0\" >0.00468</td> \n",
       "    </tr>    <tr> \n",
       "        <th id=\"T_1ea56abb_f1b8_11e9_a6fb_107b449f15fclevel0_row5\" class=\"row_heading level0 row5\" >химия</th> \n",
       "        <td id=\"T_1ea56abb_f1b8_11e9_a6fb_107b449f15fcrow5_col0\" class=\"data row5 col0\" >0.00468</td> \n",
       "    </tr>    <tr> \n",
       "        <th id=\"T_1ea56abb_f1b8_11e9_a6fb_107b449f15fclevel0_row6\" class=\"row_heading level0 row6\" >система</th> \n",
       "        <td id=\"T_1ea56abb_f1b8_11e9_a6fb_107b449f15fcrow6_col0\" class=\"data row6 col0\" >0.00429</td> \n",
       "    </tr>    <tr> \n",
       "        <th id=\"T_1ea56abb_f1b8_11e9_a6fb_107b449f15fclevel0_row7\" class=\"row_heading level0 row7\" >использовать</th> \n",
       "        <td id=\"T_1ea56abb_f1b8_11e9_a6fb_107b449f15fcrow7_col0\" class=\"data row7 col0\" >0.00416</td> \n",
       "    </tr>    <tr> \n",
       "        <th id=\"T_1ea56abb_f1b8_11e9_a6fb_107b449f15fclevel0_row8\" class=\"row_heading level0 row8\" >свет</th> \n",
       "        <td id=\"T_1ea56abb_f1b8_11e9_a6fb_107b449f15fcrow8_col0\" class=\"data row8 col0\" >0.00409</td> \n",
       "    </tr>    <tr> \n",
       "        <th id=\"T_1ea56abb_f1b8_11e9_a6fb_107b449f15fclevel0_row9\" class=\"row_heading level0 row9\" >являться</th> \n",
       "        <td id=\"T_1ea56abb_f1b8_11e9_a6fb_107b449f15fcrow9_col0\" class=\"data row9 col0\" >0.00375</td> \n",
       "    </tr></tbody> \n",
       "</table> "
      ]
     },
     "metadata": {},
     "output_type": "display_data"
    },
    {
     "data": {
      "text/html": [
       "<b> превращения в кристаллах </b><br /> материаловед валентин крапошин о полиморфном переходе, закалке стали и причинах плавления льда на поверхности воды"
      ]
     },
     "metadata": {},
     "output_type": "display_data"
    },
    {
     "data": {
      "text/html": [
       "<b> дефекты кристаллической решеткидрузья или враги? </b><br /> физик александр глезер о классификации дефектов кристаллической решетки, их свойствах и пользе для кристаллов"
      ]
     },
     "metadata": {},
     "output_type": "display_data"
    },
    {
     "data": {
      "text/html": [
       "<b> премии # нобелевская премия мира - 2013 </b><br /> спецпроект постнауки, посвященный нобелевской неделе и её результатам"
      ]
     },
     "metadata": {},
     "output_type": "display_data"
    },
    {
     "data": {
      "text/html": [
       "<b> квантовый метод монте-карло </b><br /> физик алексей рубцов о фейнмановской формулировке, квантовой формулировке и общей философии квантовой теории"
      ]
     },
     "metadata": {},
     "output_type": "display_data"
    },
    {
     "data": {
      "text/html": [
       "<b> квантовый компьютер </b><br /> физик владимир шалаев о скорости обработки информации, нанофотонике и квантовой запутанности"
      ]
     },
     "metadata": {},
     "output_type": "display_data"
    },
    {
     "data": {
      "text/html": [
       "<b> ближнепольная оптическая микроскопия </b><br /> физик дмитрий казанцев о ближнем оптическом поле, истории изобретения прибора для snom и детектировании света"
      ]
     },
     "metadata": {},
     "output_type": "display_data"
    },
    {
     "data": {
      "text/html": [
       "<b> методы предсказания кристаллических структур </b><br /> химик артем оганов о задачах кристаллографии, методе uspex и структуре алмаза"
      ]
     },
     "metadata": {},
     "output_type": "display_data"
    },
    {
     "data": {
      "text/html": [
       "<b> дизайн сверхтвердых материалов </b><br /> химик артем оганов о структуре алмаза, применении сверхтвердых материалов и новых формах углерода"
      ]
     },
     "metadata": {},
     "output_type": "display_data"
    },
    {
     "data": {
      "text/html": [
       "<b> фуллерены </b><br /> нобелевский лауреат по химии харольд крото о молекулярных решетках, исследовании углеродных звезд и фундаментальной науке"
      ]
     },
     "metadata": {},
     "output_type": "display_data"
    },
    {
     "data": {
      "text/html": [
       "<b> многомировая интерпретация квантовой физики </b><br /> физик александр львовский о существовании «параллельных вселенных», вероятностном коллапсе волновой функции и парадоксах квантовой механики"
      ]
     },
     "metadata": {},
     "output_type": "display_data"
    },
    {
     "data": {
      "text/html": [
       "<style  type=\"text/css\" >\n",
       "</style>  \n",
       "<table id=\"T_1ea56abc_f1b8_11e9_a6fb_107b449f15fc\" style='display:inline'> \n",
       "<thead>    <tr> \n",
       "        <th class=\"blank level0\" ></th> \n",
       "        <th class=\"col_heading level0 col0\" >topic_2 @2gramm</th> \n",
       "    </tr></thead> \n",
       "<tbody>    <tr> \n",
       "        <th id=\"T_1ea56abc_f1b8_11e9_a6fb_107b449f15fclevel0_row0\" class=\"row_heading level0 row0\" >xx_век</th> \n",
       "        <td id=\"T_1ea56abc_f1b8_11e9_a6fb_107b449f15fcrow0_col0\" class=\"data row0 col0\" >0.01225</td> \n",
       "    </tr>    <tr> \n",
       "        <th id=\"T_1ea56abc_f1b8_11e9_a6fb_107b449f15fclevel0_row1\" class=\"row_heading level0 row1\" >xix_век</th> \n",
       "        <td id=\"T_1ea56abc_f1b8_11e9_a6fb_107b449f15fcrow1_col0\" class=\"data row1 col0\" >0.01173</td> \n",
       "    </tr>    <tr> \n",
       "        <th id=\"T_1ea56abc_f1b8_11e9_a6fb_107b449f15fclevel0_row2\" class=\"row_heading level0 row2\" >гражданский_война</th> \n",
       "        <td id=\"T_1ea56abc_f1b8_11e9_a6fb_107b449f15fcrow2_col0\" class=\"data row2 col0\" >0.00877</td> \n",
       "    </tr>    <tr> \n",
       "        <th id=\"T_1ea56abc_f1b8_11e9_a6fb_107b449f15fclevel0_row3\" class=\"row_heading level0 row3\" >мировой_война</th> \n",
       "        <td id=\"T_1ea56abc_f1b8_11e9_a6fb_107b449f15fcrow3_col0\" class=\"data row3 col0\" >0.00711</td> \n",
       "    </tr>    <tr> \n",
       "        <th id=\"T_1ea56abc_f1b8_11e9_a6fb_107b449f15fclevel0_row4\" class=\"row_heading level0 row4\" >речь_идти</th> \n",
       "        <td id=\"T_1ea56abc_f1b8_11e9_a6fb_107b449f15fcrow4_col0\" class=\"data row4 col0\" >0.00533</td> \n",
       "    </tr>    <tr> \n",
       "        <th id=\"T_1ea56abc_f1b8_11e9_a6fb_107b449f15fclevel0_row5\" class=\"row_heading level0 row5\" >советский_власть</th> \n",
       "        <td id=\"T_1ea56abc_f1b8_11e9_a6fb_107b449f15fcrow5_col0\" class=\"data row5 col0\" >0.00462</td> \n",
       "    </tr>    <tr> \n",
       "        <th id=\"T_1ea56abc_f1b8_11e9_a6fb_107b449f15fclevel0_row6\" class=\"row_heading level0 row6\" >русский_язык</th> \n",
       "        <td id=\"T_1ea56abc_f1b8_11e9_a6fb_107b449f15fcrow6_col0\" class=\"data row6 col0\" >0.00444</td> \n",
       "    </tr>    <tr> \n",
       "        <th id=\"T_1ea56abc_f1b8_11e9_a6fb_107b449f15fclevel0_row7\" class=\"row_heading level0 row7\" >российский_империя</th> \n",
       "        <td id=\"T_1ea56abc_f1b8_11e9_a6fb_107b449f15fcrow7_col0\" class=\"data row7 col0\" >0.00348</td> \n",
       "    </tr>    <tr> \n",
       "        <th id=\"T_1ea56abc_f1b8_11e9_a6fb_107b449f15fclevel0_row8\" class=\"row_heading level0 row8\" >конец_xix</th> \n",
       "        <td id=\"T_1ea56abc_f1b8_11e9_a6fb_107b449f15fcrow8_col0\" class=\"data row8 col0\" >0.00328</td> \n",
       "    </tr>    <tr> \n",
       "        <th id=\"T_1ea56abc_f1b8_11e9_a6fb_107b449f15fclevel0_row9\" class=\"row_heading level0 row9\" >xvi_век</th> \n",
       "        <td id=\"T_1ea56abc_f1b8_11e9_a6fb_107b449f15fcrow9_col0\" class=\"data row9 col0\" >0.00315</td> \n",
       "    </tr></tbody> \n",
       "</table> <style  type=\"text/css\" >\n",
       "</style>  \n",
       "<table id=\"T_1ea56abd_f1b8_11e9_a6fb_107b449f15fc\" style='display:inline'> \n",
       "<thead>    <tr> \n",
       "        <th class=\"blank level0\" ></th> \n",
       "        <th class=\"col_heading level0 col0\" >topic_2 @3gramm</th> \n",
       "    </tr></thead> \n",
       "<tbody>    <tr> \n",
       "        <th id=\"T_1ea56abd_f1b8_11e9_a6fb_107b449f15fclevel0_row0\" class=\"row_heading level0 row0\" >начало_xx_век</th> \n",
       "        <td id=\"T_1ea56abd_f1b8_11e9_a6fb_107b449f15fcrow0_col0\" class=\"data row0 col0\" >0.38584</td> \n",
       "    </tr>    <tr> \n",
       "        <th id=\"T_1ea56abd_f1b8_11e9_a6fb_107b449f15fclevel0_row1\" class=\"row_heading level0 row1\" >начало_xxi_век</th> \n",
       "        <td id=\"T_1ea56abd_f1b8_11e9_a6fb_107b449f15fcrow1_col0\" class=\"data row1 col0\" >0.0911</td> \n",
       "    </tr>    <tr> \n",
       "        <th id=\"T_1ea56abd_f1b8_11e9_a6fb_107b449f15fclevel0_row2\" class=\"row_heading level0 row2\" >половина_xx_век</th> \n",
       "        <td id=\"T_1ea56abd_f1b8_11e9_a6fb_107b449f15fcrow2_col0\" class=\"data row2 col0\" >0.09099</td> \n",
       "    </tr>    <tr> \n",
       "        <th id=\"T_1ea56abd_f1b8_11e9_a6fb_107b449f15fclevel0_row3\" class=\"row_heading level0 row3\" >конец_xx_век</th> \n",
       "        <td id=\"T_1ea56abd_f1b8_11e9_a6fb_107b449f15fcrow3_col0\" class=\"data row3 col0\" >0.08432</td> \n",
       "    </tr>    <tr> \n",
       "        <th id=\"T_1ea56abd_f1b8_11e9_a6fb_107b449f15fclevel0_row4\" class=\"row_heading level0 row4\" >немецкий_классический_философия</th> \n",
       "        <td id=\"T_1ea56abd_f1b8_11e9_a6fb_107b449f15fcrow4_col0\" class=\"data row4 col0\" >0.04993</td> \n",
       "    </tr>    <tr> \n",
       "        <th id=\"T_1ea56abd_f1b8_11e9_a6fb_107b449f15fclevel0_row5\" class=\"row_heading level0 row5\" >широкий_круг_читатель</th> \n",
       "        <td id=\"T_1ea56abd_f1b8_11e9_a6fb_107b449f15fcrow5_col0\" class=\"data row5 col0\" >0.03214</td> \n",
       "    </tr>    <tr> \n",
       "        <th id=\"T_1ea56abd_f1b8_11e9_a6fb_107b449f15fclevel0_row6\" class=\"row_heading level0 row6\" >начало_xvi_век</th> \n",
       "        <td id=\"T_1ea56abd_f1b8_11e9_a6fb_107b449f15fcrow6_col0\" class=\"data row6 col0\" >0.02685</td> \n",
       "    </tr>    <tr> \n",
       "        <th id=\"T_1ea56abd_f1b8_11e9_a6fb_107b449f15fclevel0_row7\" class=\"row_heading level0 row7\" >проблема_происхождение_жизнь</th> \n",
       "        <td id=\"T_1ea56abd_f1b8_11e9_a6fb_107b449f15fcrow7_col0\" class=\"data row7 col0\" >0.01727</td> \n",
       "    </tr>    <tr> \n",
       "        <th id=\"T_1ea56abd_f1b8_11e9_a6fb_107b449f15fclevel0_row8\" class=\"row_heading level0 row8\" >начало_xviii_век</th> \n",
       "        <td id=\"T_1ea56abd_f1b8_11e9_a6fb_107b449f15fcrow8_col0\" class=\"data row8 col0\" >0.01685</td> \n",
       "    </tr>    <tr> \n",
       "        <th id=\"T_1ea56abd_f1b8_11e9_a6fb_107b449f15fclevel0_row9\" class=\"row_heading level0 row9\" >треть_xx_век</th> \n",
       "        <td id=\"T_1ea56abd_f1b8_11e9_a6fb_107b449f15fcrow9_col0\" class=\"data row9 col0\" >0.0154</td> \n",
       "    </tr></tbody> \n",
       "</table> <style  type=\"text/css\" >\n",
       "</style>  \n",
       "<table id=\"T_1ea56abe_f1b8_11e9_a6fb_107b449f15fc\" style='display:inline'> \n",
       "<thead>    <tr> \n",
       "        <th class=\"blank level0\" ></th> \n",
       "        <th class=\"col_heading level0 col0\" >topic_2 @post_tag</th> \n",
       "    </tr></thead> \n",
       "<tbody>    <tr> \n",
       "        <th id=\"T_1ea56abe_f1b8_11e9_a6fb_107b449f15fclevel0_row0\" class=\"row_heading level0 row0\" >культура</th> \n",
       "        <td id=\"T_1ea56abe_f1b8_11e9_a6fb_107b449f15fcrow0_col0\" class=\"data row0 col0\" >0.16911</td> \n",
       "    </tr>    <tr> \n",
       "        <th id=\"T_1ea56abe_f1b8_11e9_a6fb_107b449f15fclevel0_row1\" class=\"row_heading level0 row1\" >история</th> \n",
       "        <td id=\"T_1ea56abe_f1b8_11e9_a6fb_107b449f15fcrow1_col0\" class=\"data row1 col0\" >0.1684</td> \n",
       "    </tr>    <tr> \n",
       "        <th id=\"T_1ea56abe_f1b8_11e9_a6fb_107b449f15fclevel0_row2\" class=\"row_heading level0 row2\" >философия</th> \n",
       "        <td id=\"T_1ea56abe_f1b8_11e9_a6fb_107b449f15fcrow2_col0\" class=\"data row2 col0\" >0.06225</td> \n",
       "    </tr>    <tr> \n",
       "        <th id=\"T_1ea56abe_f1b8_11e9_a6fb_107b449f15fclevel0_row3\" class=\"row_heading level0 row3\" >история_россии</th> \n",
       "        <td id=\"T_1ea56abe_f1b8_11e9_a6fb_107b449f15fcrow3_col0\" class=\"data row3 col0\" >0.06109</td> \n",
       "    </tr>    <tr> \n",
       "        <th id=\"T_1ea56abe_f1b8_11e9_a6fb_107b449f15fclevel0_row4\" class=\"row_heading level0 row4\" >россия</th> \n",
       "        <td id=\"T_1ea56abe_f1b8_11e9_a6fb_107b449f15fcrow4_col0\" class=\"data row4 col0\" >0.04084</td> \n",
       "    </tr>    <tr> \n",
       "        <th id=\"T_1ea56abe_f1b8_11e9_a6fb_107b449f15fclevel0_row5\" class=\"row_heading level0 row5\" >мифология</th> \n",
       "        <td id=\"T_1ea56abe_f1b8_11e9_a6fb_107b449f15fcrow5_col0\" class=\"data row5 col0\" >0.03254</td> \n",
       "    </tr>    <tr> \n",
       "        <th id=\"T_1ea56abe_f1b8_11e9_a6fb_107b449f15fclevel0_row6\" class=\"row_heading level0 row6\" >античность</th> \n",
       "        <td id=\"T_1ea56abe_f1b8_11e9_a6fb_107b449f15fcrow6_col0\" class=\"data row6 col0\" >0.02765</td> \n",
       "    </tr>    <tr> \n",
       "        <th id=\"T_1ea56abe_f1b8_11e9_a6fb_107b449f15fclevel0_row7\" class=\"row_heading level0 row7\" >древняя_греция</th> \n",
       "        <td id=\"T_1ea56abe_f1b8_11e9_a6fb_107b449f15fcrow7_col0\" class=\"data row7 col0\" >0.02762</td> \n",
       "    </tr>    <tr> \n",
       "        <th id=\"T_1ea56abe_f1b8_11e9_a6fb_107b449f15fclevel0_row8\" class=\"row_heading level0 row8\" >общество</th> \n",
       "        <td id=\"T_1ea56abe_f1b8_11e9_a6fb_107b449f15fcrow8_col0\" class=\"data row8 col0\" >0.02295</td> \n",
       "    </tr>    <tr> \n",
       "        <th id=\"T_1ea56abe_f1b8_11e9_a6fb_107b449f15fclevel0_row9\" class=\"row_heading level0 row9\" >миф</th> \n",
       "        <td id=\"T_1ea56abe_f1b8_11e9_a6fb_107b449f15fcrow9_col0\" class=\"data row9 col0\" >0.0221</td> \n",
       "    </tr></tbody> \n",
       "</table> <style  type=\"text/css\" >\n",
       "</style>  \n",
       "<table id=\"T_1ea56abf_f1b8_11e9_a6fb_107b449f15fc\" style='display:inline'> \n",
       "<thead>    <tr> \n",
       "        <th class=\"blank level0\" ></th> \n",
       "        <th class=\"col_heading level0 col0\" >topic_2 @word</th> \n",
       "    </tr></thead> \n",
       "<tbody>    <tr> \n",
       "        <th id=\"T_1ea56abf_f1b8_11e9_a6fb_107b449f15fclevel0_row0\" class=\"row_heading level0 row0\" >история</th> \n",
       "        <td id=\"T_1ea56abf_f1b8_11e9_a6fb_107b449f15fcrow0_col0\" class=\"data row0 col0\" >0.00614</td> \n",
       "    </tr>    <tr> \n",
       "        <th id=\"T_1ea56abf_f1b8_11e9_a6fb_107b449f15fclevel0_row1\" class=\"row_heading level0 row1\" >книга</th> \n",
       "        <td id=\"T_1ea56abf_f1b8_11e9_a6fb_107b449f15fcrow1_col0\" class=\"data row1 col0\" >0.00553</td> \n",
       "    </tr>    <tr> \n",
       "        <th id=\"T_1ea56abf_f1b8_11e9_a6fb_107b449f15fclevel0_row2\" class=\"row_heading level0 row2\" >говорить</th> \n",
       "        <td id=\"T_1ea56abf_f1b8_11e9_a6fb_107b449f15fcrow2_col0\" class=\"data row2 col0\" >0.00383</td> \n",
       "    </tr>    <tr> \n",
       "        <th id=\"T_1ea56abf_f1b8_11e9_a6fb_107b449f15fclevel0_row3\" class=\"row_heading level0 row3\" >культура</th> \n",
       "        <td id=\"T_1ea56abf_f1b8_11e9_a6fb_107b449f15fcrow3_col0\" class=\"data row3 col0\" >0.00358</td> \n",
       "    </tr>    <tr> \n",
       "        <th id=\"T_1ea56abf_f1b8_11e9_a6fb_107b449f15fclevel0_row4\" class=\"row_heading level0 row4\" >россия</th> \n",
       "        <td id=\"T_1ea56abf_f1b8_11e9_a6fb_107b449f15fcrow4_col0\" class=\"data row4 col0\" >0.0032</td> \n",
       "    </tr>    <tr> \n",
       "        <th id=\"T_1ea56abf_f1b8_11e9_a6fb_107b449f15fclevel0_row5\" class=\"row_heading level0 row5\" >стать</th> \n",
       "        <td id=\"T_1ea56abf_f1b8_11e9_a6fb_107b449f15fcrow5_col0\" class=\"data row5 col0\" >0.00311</td> \n",
       "    </tr>    <tr> \n",
       "        <th id=\"T_1ea56abf_f1b8_11e9_a6fb_107b449f15fclevel0_row6\" class=\"row_heading level0 row6\" >представление</th> \n",
       "        <td id=\"T_1ea56abf_f1b8_11e9_a6fb_107b449f15fcrow6_col0\" class=\"data row6 col0\" >0.00309</td> \n",
       "    </tr>    <tr> \n",
       "        <th id=\"T_1ea56abf_f1b8_11e9_a6fb_107b449f15fclevel0_row7\" class=\"row_heading level0 row7\" >знать</th> \n",
       "        <td id=\"T_1ea56abf_f1b8_11e9_a6fb_107b449f15fcrow7_col0\" class=\"data row7 col0\" >0.00306</td> \n",
       "    </tr>    <tr> \n",
       "        <th id=\"T_1ea56abf_f1b8_11e9_a6fb_107b449f15fclevel0_row8\" class=\"row_heading level0 row8\" >миф</th> \n",
       "        <td id=\"T_1ea56abf_f1b8_11e9_a6fb_107b449f15fcrow8_col0\" class=\"data row8 col0\" >0.00291</td> \n",
       "    </tr>    <tr> \n",
       "        <th id=\"T_1ea56abf_f1b8_11e9_a6fb_107b449f15fclevel0_row9\" class=\"row_heading level0 row9\" >образ</th> \n",
       "        <td id=\"T_1ea56abf_f1b8_11e9_a6fb_107b449f15fcrow9_col0\" class=\"data row9 col0\" >0.0027</td> \n",
       "    </tr></tbody> \n",
       "</table> "
      ]
     },
     "metadata": {},
     "output_type": "display_data"
    },
    {
     "data": {
      "text/html": [
       "<b> современная аналитическая философия </b><br /> философ дмитрий иванов о венском кружке, возрождении метафизики и метаэтике"
      ]
     },
     "metadata": {},
     "output_type": "display_data"
    },
    {
     "data": {
      "text/html": [
       "<b> логика мифа </b><br /> филолог гасан гусейнов о праповествовании о мире, объяснении мироздания в мифе и отличии мифа от логоса"
      ]
     },
     "metadata": {},
     "output_type": "display_data"
    },
    {
     "data": {
      "text/html": [
       "<b> эрос в античной культуре </b><br /> филолог гасан гусейнов о происхождении эрота, слепоте любви и панк-культуре"
      ]
     },
     "metadata": {},
     "output_type": "display_data"
    },
    {
     "data": {
      "text/html": [
       "<b> ацтекская империя </b><br /> историк дмитрий беляев о тройственном союзе ацтеков, формировании империи в теночтитлане и военно-религиозной идеологии"
      ]
     },
     "metadata": {},
     "output_type": "display_data"
    },
    {
     "data": {
      "text/html": [
       "<b> россия и казацкая украина </b><br /> историк кирилл кочегаров об истории запорожской сечи, восстании богдана хмельницкого и угасании казацкой автономии"
      ]
     },
     "metadata": {},
     "output_type": "display_data"
    },
    {
     "data": {
      "text/html": [
       "<b> особенности либерализма в россии </b><br /> историк кирилл соловьев о первых русских либералах, поддержке самодержавия и политической программе кадетов"
      ]
     },
     "metadata": {},
     "output_type": "display_data"
    },
    {
     "data": {
      "text/html": [
       "<b> миф и архитектура </b><br /> филолог гасан гусейнов о мифологическом измерении архитектуры, ахиллесовой пяте и изоморфизме строений и человеческого тела"
      ]
     },
     "metadata": {},
     "output_type": "display_data"
    },
    {
     "data": {
      "text/html": [
       "<b> 5 книг об античной мифологии </b><br /> что читать о греческих и римских мифах, рекомендует доктор филологических наук гасан гусейнов"
      ]
     },
     "metadata": {},
     "output_type": "display_data"
    },
    {
     "data": {
      "text/html": [
       "<b> древнегреческие мифы о душе </b><br /> филолог гасан гусейнов о создании первых людей, свойствах души и ящике пандоры"
      ]
     },
     "metadata": {},
     "output_type": "display_data"
    },
    {
     "data": {
      "text/html": [
       "<b> faqэрос в античной культуре </b><br /> 7 фактов об одном из самых загадочных персонажей греческой мифологии"
      ]
     },
     "metadata": {},
     "output_type": "display_data"
    },
    {
     "data": {
      "text/html": [
       "<style  type=\"text/css\" >\n",
       "</style>  \n",
       "<table id=\"T_1ea56ac0_f1b8_11e9_a6fb_107b449f15fc\" style='display:inline'> \n",
       "<thead>    <tr> \n",
       "        <th class=\"blank level0\" ></th> \n",
       "        <th class=\"col_heading level0 col0\" >topic_3 @2gramm</th> \n",
       "    </tr></thead> \n",
       "<tbody>    <tr> \n",
       "        <th id=\"T_1ea56ac0_f1b8_11e9_a6fb_107b449f15fclevel0_row0\" class=\"row_heading level0 row0\" >римский_право</th> \n",
       "        <td id=\"T_1ea56ac0_f1b8_11e9_a6fb_107b449f15fcrow0_col0\" class=\"data row0 col0\" >0.01183</td> \n",
       "    </tr>    <tr> \n",
       "        <th id=\"T_1ea56ac0_f1b8_11e9_a6fb_107b449f15fclevel0_row1\" class=\"row_heading level0 row1\" >мировой_война</th> \n",
       "        <td id=\"T_1ea56ac0_f1b8_11e9_a6fb_107b449f15fcrow1_col0\" class=\"data row1 col0\" >0.01113</td> \n",
       "    </tr>    <tr> \n",
       "        <th id=\"T_1ea56ac0_f1b8_11e9_a6fb_107b449f15fclevel0_row2\" class=\"row_heading level0 row2\" >католический_церковь</th> \n",
       "        <td id=\"T_1ea56ac0_f1b8_11e9_a6fb_107b449f15fcrow2_col0\" class=\"data row2 col0\" >0.00789</td> \n",
       "    </tr>    <tr> \n",
       "        <th id=\"T_1ea56ac0_f1b8_11e9_a6fb_107b449f15fclevel0_row3\" class=\"row_heading level0 row3\" >xvii_век</th> \n",
       "        <td id=\"T_1ea56ac0_f1b8_11e9_a6fb_107b449f15fcrow3_col0\" class=\"data row3 col0\" >0.00696</td> \n",
       "    </tr>    <tr> \n",
       "        <th id=\"T_1ea56ac0_f1b8_11e9_a6fb_107b449f15fclevel0_row4\" class=\"row_heading level0 row4\" >право_собственность</th> \n",
       "        <td id=\"T_1ea56ac0_f1b8_11e9_a6fb_107b449f15fcrow4_col0\" class=\"data row4 col0\" >0.00626</td> \n",
       "    </tr>    <tr> \n",
       "        <th id=\"T_1ea56ac0_f1b8_11e9_a6fb_107b449f15fclevel0_row5\" class=\"row_heading level0 row5\" >речь_идти</th> \n",
       "        <td id=\"T_1ea56ac0_f1b8_11e9_a6fb_107b449f15fcrow5_col0\" class=\"data row5 col0\" >0.00599</td> \n",
       "    </tr>    <tr> \n",
       "        <th id=\"T_1ea56ac0_f1b8_11e9_a6fb_107b449f15fclevel0_row6\" class=\"row_heading level0 row6\" >научный_революция</th> \n",
       "        <td id=\"T_1ea56ac0_f1b8_11e9_a6fb_107b449f15fcrow6_col0\" class=\"data row6 col0\" >0.00511</td> \n",
       "    </tr>    <tr> \n",
       "        <th id=\"T_1ea56ac0_f1b8_11e9_a6fb_107b449f15fclevel0_row7\" class=\"row_heading level0 row7\" >дать_случай</th> \n",
       "        <td id=\"T_1ea56ac0_f1b8_11e9_a6fb_107b449f15fcrow7_col0\" class=\"data row7 col0\" >0.00508</td> \n",
       "    </tr>    <tr> \n",
       "        <th id=\"T_1ea56ac0_f1b8_11e9_a6fb_107b449f15fclevel0_row8\" class=\"row_heading level0 row8\" >крайний_мера</th> \n",
       "        <td id=\"T_1ea56ac0_f1b8_11e9_a6fb_107b449f15fcrow8_col0\" class=\"data row8 col0\" >0.00485</td> \n",
       "    </tr>    <tr> \n",
       "        <th id=\"T_1ea56ac0_f1b8_11e9_a6fb_107b449f15fclevel0_row9\" class=\"row_heading level0 row9\" >веймарский_республика</th> \n",
       "        <td id=\"T_1ea56ac0_f1b8_11e9_a6fb_107b449f15fcrow9_col0\" class=\"data row9 col0\" >0.00479</td> \n",
       "    </tr></tbody> \n",
       "</table> <style  type=\"text/css\" >\n",
       "</style>  \n",
       "<table id=\"T_1ea56ac1_f1b8_11e9_a6fb_107b449f15fc\" style='display:inline'> \n",
       "<thead>    <tr> \n",
       "        <th class=\"blank level0\" ></th> \n",
       "        <th class=\"col_heading level0 col0\" >topic_3 @3gramm</th> \n",
       "    </tr></thead> \n",
       "<tbody>    <tr> \n",
       "        <th id=\"T_1ea56ac1_f1b8_11e9_a6fb_107b449f15fclevel0_row0\" class=\"row_heading level0 row0\" >начало_xvii_век</th> \n",
       "        <td id=\"T_1ea56ac1_f1b8_11e9_a6fb_107b449f15fcrow0_col0\" class=\"data row0 col0\" >0.09399</td> \n",
       "    </tr>    <tr> \n",
       "        <th id=\"T_1ea56ac1_f1b8_11e9_a6fb_107b449f15fclevel0_row1\" class=\"row_heading level0 row1\" >сменять_друг_друг</th> \n",
       "        <td id=\"T_1ea56ac1_f1b8_11e9_a6fb_107b449f15fcrow1_col0\" class=\"data row1 col0\" >0.06901</td> \n",
       "    </tr>    <tr> \n",
       "        <th id=\"T_1ea56ac1_f1b8_11e9_a6fb_107b449f15fclevel0_row2\" class=\"row_heading level0 row2\" >широкий_смысл_слово</th> \n",
       "        <td id=\"T_1ea56ac1_f1b8_11e9_a6fb_107b449f15fcrow2_col0\" class=\"data row2 col0\" >0.05368</td> \n",
       "    </tr>    <tr> \n",
       "        <th id=\"T_1ea56ac1_f1b8_11e9_a6fb_107b449f15fclevel0_row3\" class=\"row_heading level0 row3\" >федеративный_республика_германия</th> \n",
       "        <td id=\"T_1ea56ac1_f1b8_11e9_a6fb_107b449f15fcrow3_col0\" class=\"data row3 col0\" >0.05061</td> \n",
       "    </tr>    <tr> \n",
       "        <th id=\"T_1ea56ac1_f1b8_11e9_a6fb_107b449f15fclevel0_row4\" class=\"row_heading level0 row4\" >конец_xvii_век</th> \n",
       "        <td id=\"T_1ea56ac1_f1b8_11e9_a6fb_107b449f15fcrow4_col0\" class=\"data row4 col0\" >0.0494</td> \n",
       "    </tr>    <tr> \n",
       "        <th id=\"T_1ea56ac1_f1b8_11e9_a6fb_107b449f15fclevel0_row5\" class=\"row_heading level0 row5\" >конец_xvi_век</th> \n",
       "        <td id=\"T_1ea56ac1_f1b8_11e9_a6fb_107b449f15fcrow5_col0\" class=\"data row5 col0\" >0.047</td> \n",
       "    </tr>    <tr> \n",
       "        <th id=\"T_1ea56ac1_f1b8_11e9_a6fb_107b449f15fclevel0_row6\" class=\"row_heading level0 row6\" >твёрдый_бытовой_отход</th> \n",
       "        <td id=\"T_1ea56ac1_f1b8_11e9_a6fb_107b449f15fcrow6_col0\" class=\"data row6 col0\" >0.04338</td> \n",
       "    </tr>    <tr> \n",
       "        <th id=\"T_1ea56ac1_f1b8_11e9_a6fb_107b449f15fclevel0_row7\" class=\"row_heading level0 row7\" >половина_xviii_век</th> \n",
       "        <td id=\"T_1ea56ac1_f1b8_11e9_a6fb_107b449f15fcrow7_col0\" class=\"data row7 col0\" >0.04117</td> \n",
       "    </tr>    <tr> \n",
       "        <th id=\"T_1ea56ac1_f1b8_11e9_a6fb_107b449f15fclevel0_row8\" class=\"row_heading level0 row8\" >русский_православный_церковь</th> \n",
       "        <td id=\"T_1ea56ac1_f1b8_11e9_a6fb_107b449f15fcrow8_col0\" class=\"data row8 col0\" >0.03977</td> \n",
       "    </tr>    <tr> \n",
       "        <th id=\"T_1ea56ac1_f1b8_11e9_a6fb_107b449f15fclevel0_row9\" class=\"row_heading level0 row9\" >священный_римский_империя</th> \n",
       "        <td id=\"T_1ea56ac1_f1b8_11e9_a6fb_107b449f15fcrow9_col0\" class=\"data row9 col0\" >0.0361</td> \n",
       "    </tr></tbody> \n",
       "</table> <style  type=\"text/css\" >\n",
       "</style>  \n",
       "<table id=\"T_1ea56ac2_f1b8_11e9_a6fb_107b449f15fc\" style='display:inline'> \n",
       "<thead>    <tr> \n",
       "        <th class=\"blank level0\" ></th> \n",
       "        <th class=\"col_heading level0 col0\" >topic_3 @post_tag</th> \n",
       "    </tr></thead> \n",
       "<tbody>    <tr> \n",
       "        <th id=\"T_1ea56ac2_f1b8_11e9_a6fb_107b449f15fclevel0_row0\" class=\"row_heading level0 row0\" >история</th> \n",
       "        <td id=\"T_1ea56ac2_f1b8_11e9_a6fb_107b449f15fcrow0_col0\" class=\"data row0 col0\" >0.12059</td> \n",
       "    </tr>    <tr> \n",
       "        <th id=\"T_1ea56ac2_f1b8_11e9_a6fb_107b449f15fclevel0_row1\" class=\"row_heading level0 row1\" >право</th> \n",
       "        <td id=\"T_1ea56ac2_f1b8_11e9_a6fb_107b449f15fcrow1_col0\" class=\"data row1 col0\" >0.12058</td> \n",
       "    </tr>    <tr> \n",
       "        <th id=\"T_1ea56ac2_f1b8_11e9_a6fb_107b449f15fclevel0_row2\" class=\"row_heading level0 row2\" >германия</th> \n",
       "        <td id=\"T_1ea56ac2_f1b8_11e9_a6fb_107b449f15fcrow2_col0\" class=\"data row2 col0\" >0.06378</td> \n",
       "    </tr>    <tr> \n",
       "        <th id=\"T_1ea56ac2_f1b8_11e9_a6fb_107b449f15fclevel0_row3\" class=\"row_heading level0 row3\" >юриспруденция</th> \n",
       "        <td id=\"T_1ea56ac2_f1b8_11e9_a6fb_107b449f15fcrow3_col0\" class=\"data row3 col0\" >0.05915</td> \n",
       "    </tr>    <tr> \n",
       "        <th id=\"T_1ea56ac2_f1b8_11e9_a6fb_107b449f15fclevel0_row4\" class=\"row_heading level0 row4\" >история_науки</th> \n",
       "        <td id=\"T_1ea56ac2_f1b8_11e9_a6fb_107b449f15fcrow4_col0\" class=\"data row4 col0\" >0.05391</td> \n",
       "    </tr>    <tr> \n",
       "        <th id=\"T_1ea56ac2_f1b8_11e9_a6fb_107b449f15fclevel0_row5\" class=\"row_heading level0 row5\" >наука</th> \n",
       "        <td id=\"T_1ea56ac2_f1b8_11e9_a6fb_107b449f15fcrow5_col0\" class=\"data row5 col0\" >0.05275</td> \n",
       "    </tr>    <tr> \n",
       "        <th id=\"T_1ea56ac2_f1b8_11e9_a6fb_107b449f15fclevel0_row6\" class=\"row_heading level0 row6\" >римское_право</th> \n",
       "        <td id=\"T_1ea56ac2_f1b8_11e9_a6fb_107b449f15fcrow6_col0\" class=\"data row6 col0\" >0.04366</td> \n",
       "    </tr>    <tr> \n",
       "        <th id=\"T_1ea56ac2_f1b8_11e9_a6fb_107b449f15fclevel0_row7\" class=\"row_heading level0 row7\" >россия</th> \n",
       "        <td id=\"T_1ea56ac2_f1b8_11e9_a6fb_107b449f15fcrow7_col0\" class=\"data row7 col0\" >0.02999</td> \n",
       "    </tr>    <tr> \n",
       "        <th id=\"T_1ea56ac2_f1b8_11e9_a6fb_107b449f15fclevel0_row8\" class=\"row_heading level0 row8\" >рим</th> \n",
       "        <td id=\"T_1ea56ac2_f1b8_11e9_a6fb_107b449f15fcrow8_col0\" class=\"data row8 col0\" >0.02583</td> \n",
       "    </tr>    <tr> \n",
       "        <th id=\"T_1ea56ac2_f1b8_11e9_a6fb_107b449f15fclevel0_row9\" class=\"row_heading level0 row9\" >государство</th> \n",
       "        <td id=\"T_1ea56ac2_f1b8_11e9_a6fb_107b449f15fcrow9_col0\" class=\"data row9 col0\" >0.02525</td> \n",
       "    </tr></tbody> \n",
       "</table> <style  type=\"text/css\" >\n",
       "</style>  \n",
       "<table id=\"T_1ea56ac3_f1b8_11e9_a6fb_107b449f15fc\" style='display:inline'> \n",
       "<thead>    <tr> \n",
       "        <th class=\"blank level0\" ></th> \n",
       "        <th class=\"col_heading level0 col0\" >topic_3 @word</th> \n",
       "    </tr></thead> \n",
       "<tbody>    <tr> \n",
       "        <th id=\"T_1ea56ac3_f1b8_11e9_a6fb_107b449f15fclevel0_row0\" class=\"row_heading level0 row0\" >право</th> \n",
       "        <td id=\"T_1ea56ac3_f1b8_11e9_a6fb_107b449f15fcrow0_col0\" class=\"data row0 col0\" >0.00693</td> \n",
       "    </tr>    <tr> \n",
       "        <th id=\"T_1ea56ac3_f1b8_11e9_a6fb_107b449f15fclevel0_row1\" class=\"row_heading level0 row1\" >наука</th> \n",
       "        <td id=\"T_1ea56ac3_f1b8_11e9_a6fb_107b449f15fcrow1_col0\" class=\"data row1 col0\" >0.00459</td> \n",
       "    </tr>    <tr> \n",
       "        <th id=\"T_1ea56ac3_f1b8_11e9_a6fb_107b449f15fclevel0_row2\" class=\"row_heading level0 row2\" >германия</th> \n",
       "        <td id=\"T_1ea56ac3_f1b8_11e9_a6fb_107b449f15fcrow2_col0\" class=\"data row2 col0\" >0.00395</td> \n",
       "    </tr>    <tr> \n",
       "        <th id=\"T_1ea56ac3_f1b8_11e9_a6fb_107b449f15fclevel0_row3\" class=\"row_heading level0 row3\" >россия</th> \n",
       "        <td id=\"T_1ea56ac3_f1b8_11e9_a6fb_107b449f15fcrow3_col0\" class=\"data row3 col0\" >0.00379</td> \n",
       "    </tr>    <tr> \n",
       "        <th id=\"T_1ea56ac3_f1b8_11e9_a6fb_107b449f15fclevel0_row4\" class=\"row_heading level0 row4\" >музей</th> \n",
       "        <td id=\"T_1ea56ac3_f1b8_11e9_a6fb_107b449f15fcrow4_col0\" class=\"data row4 col0\" >0.00376</td> \n",
       "    </tr>    <tr> \n",
       "        <th id=\"T_1ea56ac3_f1b8_11e9_a6fb_107b449f15fclevel0_row5\" class=\"row_heading level0 row5\" >должный</th> \n",
       "        <td id=\"T_1ea56ac3_f1b8_11e9_a6fb_107b449f15fcrow5_col0\" class=\"data row5 col0\" >0.00371</td> \n",
       "    </tr>    <tr> \n",
       "        <th id=\"T_1ea56ac3_f1b8_11e9_a6fb_107b449f15fclevel0_row6\" class=\"row_heading level0 row6\" >учёный</th> \n",
       "        <td id=\"T_1ea56ac3_f1b8_11e9_a6fb_107b449f15fcrow6_col0\" class=\"data row6 col0\" >0.00335</td> \n",
       "    </tr>    <tr> \n",
       "        <th id=\"T_1ea56ac3_f1b8_11e9_a6fb_107b449f15fclevel0_row7\" class=\"row_heading level0 row7\" >стать</th> \n",
       "        <td id=\"T_1ea56ac3_f1b8_11e9_a6fb_107b449f15fcrow7_col0\" class=\"data row7 col0\" >0.00331</td> \n",
       "    </tr>    <tr> \n",
       "        <th id=\"T_1ea56ac3_f1b8_11e9_a6fb_107b449f15fclevel0_row8\" class=\"row_heading level0 row8\" >закон</th> \n",
       "        <td id=\"T_1ea56ac3_f1b8_11e9_a6fb_107b449f15fcrow8_col0\" class=\"data row8 col0\" >0.00326</td> \n",
       "    </tr>    <tr> \n",
       "        <th id=\"T_1ea56ac3_f1b8_11e9_a6fb_107b449f15fclevel0_row9\" class=\"row_heading level0 row9\" >вопрос</th> \n",
       "        <td id=\"T_1ea56ac3_f1b8_11e9_a6fb_107b449f15fcrow9_col0\" class=\"data row9 col0\" >0.00319</td> \n",
       "    </tr></tbody> \n",
       "</table> "
      ]
     },
     "metadata": {},
     "output_type": "display_data"
    },
    {
     "data": {
      "text/html": [
       "<b> римское право </b><br /> 12 лекций о правовой системе древнего рима, отобранных историком права александром мареем"
      ]
     },
     "metadata": {},
     "output_type": "display_data"
    },
    {
     "data": {
      "text/html": [
       "<b> веймарская  республика </b><br /> историк илья женин о республике без республиканцев, октябрьской революции и социал-демократической партии"
      ]
     },
     "metadata": {},
     "output_type": "display_data"
    },
    {
     "data": {
      "text/html": [
       "<b> обязательства </b><br /> юрист дмитрий дождев о праве на действия, трактовке фридриха савиньи и договоре как главном агенте"
      ]
     },
     "metadata": {},
     "output_type": "display_data"
    },
    {
     "data": {
      "text/html": [
       "<b> лица </b><br /> историк александр марей о положении раба, правах вольноотпущенников и статусе гражданина рима"
      ]
     },
     "metadata": {},
     "output_type": "display_data"
    },
    {
     "data": {
      "text/html": [
       "<b> купля-продажа </b><br /> юрист дмитрий дождев о взаимном обязательстве, конструкции обеспечительного задатка и риске покупателя"
      ]
     },
     "metadata": {},
     "output_type": "display_data"
    },
    {
     "data": {
      "text/html": [
       "<b> европейская традиция частного права </b><br /> 12 лекций юриста дмитрия дождева о римских истоках современного права"
      ]
     },
     "metadata": {},
     "output_type": "display_data"
    },
    {
     "data": {
      "text/html": [
       "<b> сервитуты </b><br /> юрист дмитрий дождев об использовании благ соседнего участка, вещных правах и условиях установления сервитутов"
      ]
     },
     "metadata": {},
     "output_type": "display_data"
    },
    {
     "data": {
      "text/html": [
       "<b> контракты </b><br /> юрист дмитрий дождев о договорных типах в римском праве, исковой защите и свободе договора"
      ]
     },
     "metadata": {},
     "output_type": "display_data"
    },
    {
     "data": {
      "text/html": [
       "<b> добросовестность </b><br /> юрист дмитрий дождев о критике понятия, свободе усмотрения и римском праве"
      ]
     },
     "metadata": {},
     "output_type": "display_data"
    },
    {
     "data": {
      "text/html": [
       "<b> залог </b><br /> юрист дмитрий дождев о праве следования, обеспечительной функции залога и предмете залогового права"
      ]
     },
     "metadata": {},
     "output_type": "display_data"
    },
    {
     "data": {
      "text/html": [
       "<style  type=\"text/css\" >\n",
       "</style>  \n",
       "<table id=\"T_1ea56ac4_f1b8_11e9_a6fb_107b449f15fc\" style='display:inline'> \n",
       "<thead>    <tr> \n",
       "        <th class=\"blank level0\" ></th> \n",
       "        <th class=\"col_heading level0 col0\" >topic_4 @2gramm</th> \n",
       "    </tr></thead> \n",
       "<tbody>    <tr> \n",
       "        <th id=\"T_1ea56ac4_f1b8_11e9_a6fb_107b449f15fclevel0_row0\" class=\"row_heading level0 row0\" >русский_язык</th> \n",
       "        <td id=\"T_1ea56ac4_f1b8_11e9_a6fb_107b449f15fcrow0_col0\" class=\"data row0 col0\" >0.04297</td> \n",
       "    </tr>    <tr> \n",
       "        <th id=\"T_1ea56ac4_f1b8_11e9_a6fb_107b449f15fclevel0_row1\" class=\"row_heading level0 row1\" >английский_язык</th> \n",
       "        <td id=\"T_1ea56ac4_f1b8_11e9_a6fb_107b449f15fcrow1_col0\" class=\"data row1 col0\" >0.00779</td> \n",
       "    </tr>    <tr> \n",
       "        <th id=\"T_1ea56ac4_f1b8_11e9_a6fb_107b449f15fclevel0_row2\" class=\"row_heading level0 row2\" >разный_язык</th> \n",
       "        <td id=\"T_1ea56ac4_f1b8_11e9_a6fb_107b449f15fcrow2_col0\" class=\"data row2 col0\" >0.00695</td> \n",
       "    </tr>    <tr> \n",
       "        <th id=\"T_1ea56ac4_f1b8_11e9_a6fb_107b449f15fclevel0_row3\" class=\"row_heading level0 row3\" >литературный_язык</th> \n",
       "        <td id=\"T_1ea56ac4_f1b8_11e9_a6fb_107b449f15fcrow3_col0\" class=\"data row3 col0\" >0.00684</td> \n",
       "    </tr>    <tr> \n",
       "        <th id=\"T_1ea56ac4_f1b8_11e9_a6fb_107b449f15fclevel0_row4\" class=\"row_heading level0 row4\" >носитель_язык</th> \n",
       "        <td id=\"T_1ea56ac4_f1b8_11e9_a6fb_107b449f15fcrow4_col0\" class=\"data row4 col0\" >0.00642</td> \n",
       "    </tr>    <tr> \n",
       "        <th id=\"T_1ea56ac4_f1b8_11e9_a6fb_107b449f15fclevel0_row5\" class=\"row_heading level0 row5\" >дискурсивный_слово</th> \n",
       "        <td id=\"T_1ea56ac4_f1b8_11e9_a6fb_107b449f15fcrow5_col0\" class=\"data row5 col0\" >0.0059</td> \n",
       "    </tr>    <tr> \n",
       "        <th id=\"T_1ea56ac4_f1b8_11e9_a6fb_107b449f15fclevel0_row6\" class=\"row_heading level0 row6\" >устный_речь</th> \n",
       "        <td id=\"T_1ea56ac4_f1b8_11e9_a6fb_107b449f15fcrow6_col0\" class=\"data row6 col0\" >0.00554</td> \n",
       "    </tr>    <tr> \n",
       "        <th id=\"T_1ea56ac4_f1b8_11e9_a6fb_107b449f15fclevel0_row7\" class=\"row_heading level0 row7\" >индоевропейский_язык</th> \n",
       "        <td id=\"T_1ea56ac4_f1b8_11e9_a6fb_107b449f15fcrow7_col0\" class=\"data row7 col0\" >0.00539</td> \n",
       "    </tr>    <tr> \n",
       "        <th id=\"T_1ea56ac4_f1b8_11e9_a6fb_107b449f15fclevel0_row8\" class=\"row_heading level0 row8\" >человеческий_язык</th> \n",
       "        <td id=\"T_1ea56ac4_f1b8_11e9_a6fb_107b449f15fcrow8_col0\" class=\"data row8 col0\" >0.00495</td> \n",
       "    </tr>    <tr> \n",
       "        <th id=\"T_1ea56ac4_f1b8_11e9_a6fb_107b449f15fclevel0_row9\" class=\"row_heading level0 row9\" >языковой_семья</th> \n",
       "        <td id=\"T_1ea56ac4_f1b8_11e9_a6fb_107b449f15fcrow9_col0\" class=\"data row9 col0\" >0.00493</td> \n",
       "    </tr></tbody> \n",
       "</table> <style  type=\"text/css\" >\n",
       "</style>  \n",
       "<table id=\"T_1ea56ac5_f1b8_11e9_a6fb_107b449f15fc\" style='display:inline'> \n",
       "<thead>    <tr> \n",
       "        <th class=\"blank level0\" ></th> \n",
       "        <th class=\"col_heading level0 col0\" >topic_4 @3gramm</th> \n",
       "    </tr></thead> \n",
       "<tbody>    <tr> \n",
       "        <th id=\"T_1ea56ac5_f1b8_11e9_a6fb_107b449f15fclevel0_row0\" class=\"row_heading level0 row0\" >середина_xx_век</th> \n",
       "        <td id=\"T_1ea56ac5_f1b8_11e9_a6fb_107b449f15fcrow0_col0\" class=\"data row0 col0\" >0.11051</td> \n",
       "    </tr>    <tr> \n",
       "        <th id=\"T_1ea56ac5_f1b8_11e9_a6fb_107b449f15fclevel0_row1\" class=\"row_heading level0 row1\" >носитель_русский_язык</th> \n",
       "        <td id=\"T_1ea56ac5_f1b8_11e9_a6fb_107b449f15fcrow1_col0\" class=\"data row1 col0\" >0.09133</td> \n",
       "    </tr>    <tr> \n",
       "        <th id=\"T_1ea56ac5_f1b8_11e9_a6fb_107b449f15fclevel0_row2\" class=\"row_heading level0 row2\" >каков_история_развитие</th> \n",
       "        <td id=\"T_1ea56ac5_f1b8_11e9_a6fb_107b449f15fcrow2_col0\" class=\"data row2 col0\" >0.09132</td> \n",
       "    </tr>    <tr> \n",
       "        <th id=\"T_1ea56ac5_f1b8_11e9_a6fb_107b449f15fclevel0_row3\" class=\"row_heading level0 row3\" >современный_русский_язык</th> \n",
       "        <td id=\"T_1ea56ac5_f1b8_11e9_a6fb_107b449f15fcrow3_col0\" class=\"data row3 col0\" >0.09123</td> \n",
       "    </tr>    <tr> \n",
       "        <th id=\"T_1ea56ac5_f1b8_11e9_a6fb_107b449f15fclevel0_row4\" class=\"row_heading level0 row4\" >русский_литературный_язык</th> \n",
       "        <td id=\"T_1ea56ac5_f1b8_11e9_a6fb_107b449f15fcrow4_col0\" class=\"data row4 col0\" >0.04566</td> \n",
       "    </tr>    <tr> \n",
       "        <th id=\"T_1ea56ac5_f1b8_11e9_a6fb_107b449f15fclevel0_row5\" class=\"row_heading level0 row5\" >глагол_совершенный_вид</th> \n",
       "        <td id=\"T_1ea56ac5_f1b8_11e9_a6fb_107b449f15fcrow5_col0\" class=\"data row5 col0\" >0.03349</td> \n",
       "    </tr>    <tr> \n",
       "        <th id=\"T_1ea56ac5_f1b8_11e9_a6fb_107b449f15fclevel0_row6\" class=\"row_heading level0 row6\" >начало_xii_век</th> \n",
       "        <td id=\"T_1ea56ac5_f1b8_11e9_a6fb_107b449f15fcrow6_col0\" class=\"data row6 col0\" >0.03312</td> \n",
       "    </tr>    <tr> \n",
       "        <th id=\"T_1ea56ac5_f1b8_11e9_a6fb_107b449f15fclevel0_row7\" class=\"row_heading level0 row7\" >институт_русский_язык</th> \n",
       "        <td id=\"T_1ea56ac5_f1b8_11e9_a6fb_107b449f15fcrow7_col0\" class=\"data row7 col0\" >0.03044</td> \n",
       "    </tr>    <tr> \n",
       "        <th id=\"T_1ea56ac5_f1b8_11e9_a6fb_107b449f15fclevel0_row8\" class=\"row_heading level0 row8\" >квантовый_теория_поль</th> \n",
       "        <td id=\"T_1ea56ac5_f1b8_11e9_a6fb_107b449f15fcrow8_col0\" class=\"data row8 col0\" >0.0285</td> \n",
       "    </tr>    <tr> \n",
       "        <th id=\"T_1ea56ac5_f1b8_11e9_a6fb_107b449f15fclevel0_row9\" class=\"row_heading level0 row9\" >великий_хартия_вольность</th> \n",
       "        <td id=\"T_1ea56ac5_f1b8_11e9_a6fb_107b449f15fcrow9_col0\" class=\"data row9 col0\" >0.0247</td> \n",
       "    </tr></tbody> \n",
       "</table> <style  type=\"text/css\" >\n",
       "</style>  \n",
       "<table id=\"T_1ea56ac6_f1b8_11e9_a6fb_107b449f15fc\" style='display:inline'> \n",
       "<thead>    <tr> \n",
       "        <th class=\"blank level0\" ></th> \n",
       "        <th class=\"col_heading level0 col0\" >topic_4 @post_tag</th> \n",
       "    </tr></thead> \n",
       "<tbody>    <tr> \n",
       "        <th id=\"T_1ea56ac6_f1b8_11e9_a6fb_107b449f15fclevel0_row0\" class=\"row_heading level0 row0\" >язык</th> \n",
       "        <td id=\"T_1ea56ac6_f1b8_11e9_a6fb_107b449f15fcrow0_col0\" class=\"data row0 col0\" >0.22773</td> \n",
       "    </tr>    <tr> \n",
       "        <th id=\"T_1ea56ac6_f1b8_11e9_a6fb_107b449f15fclevel0_row1\" class=\"row_heading level0 row1\" >лингвистика</th> \n",
       "        <td id=\"T_1ea56ac6_f1b8_11e9_a6fb_107b449f15fcrow1_col0\" class=\"data row1 col0\" >0.19144</td> \n",
       "    </tr>    <tr> \n",
       "        <th id=\"T_1ea56ac6_f1b8_11e9_a6fb_107b449f15fclevel0_row2\" class=\"row_heading level0 row2\" >филология</th> \n",
       "        <td id=\"T_1ea56ac6_f1b8_11e9_a6fb_107b449f15fcrow2_col0\" class=\"data row2 col0\" >0.14274</td> \n",
       "    </tr>    <tr> \n",
       "        <th id=\"T_1ea56ac6_f1b8_11e9_a6fb_107b449f15fclevel0_row3\" class=\"row_heading level0 row3\" >русский_язык</th> \n",
       "        <td id=\"T_1ea56ac6_f1b8_11e9_a6fb_107b449f15fcrow3_col0\" class=\"data row3 col0\" >0.07621</td> \n",
       "    </tr>    <tr> \n",
       "        <th id=\"T_1ea56ac6_f1b8_11e9_a6fb_107b449f15fclevel0_row4\" class=\"row_heading level0 row4\" >грамматика</th> \n",
       "        <td id=\"T_1ea56ac6_f1b8_11e9_a6fb_107b449f15fcrow4_col0\" class=\"data row4 col0\" >0.02359</td> \n",
       "    </tr>    <tr> \n",
       "        <th id=\"T_1ea56ac6_f1b8_11e9_a6fb_107b449f15fclevel0_row5\" class=\"row_heading level0 row5\" >речь</th> \n",
       "        <td id=\"T_1ea56ac6_f1b8_11e9_a6fb_107b449f15fcrow5_col0\" class=\"data row5 col0\" >0.01945</td> \n",
       "    </tr>    <tr> \n",
       "        <th id=\"T_1ea56ac6_f1b8_11e9_a6fb_107b449f15fclevel0_row6\" class=\"row_heading level0 row6\" >полевая_лингвистика</th> \n",
       "        <td id=\"T_1ea56ac6_f1b8_11e9_a6fb_107b449f15fcrow6_col0\" class=\"data row6 col0\" >0.01905</td> \n",
       "    </tr>    <tr> \n",
       "        <th id=\"T_1ea56ac6_f1b8_11e9_a6fb_107b449f15fclevel0_row7\" class=\"row_heading level0 row7\" >диалект</th> \n",
       "        <td id=\"T_1ea56ac6_f1b8_11e9_a6fb_107b449f15fcrow7_col0\" class=\"data row7 col0\" >0.01542</td> \n",
       "    </tr>    <tr> \n",
       "        <th id=\"T_1ea56ac6_f1b8_11e9_a6fb_107b449f15fclevel0_row8\" class=\"row_heading level0 row8\" >лингвистическая_компаративистика</th> \n",
       "        <td id=\"T_1ea56ac6_f1b8_11e9_a6fb_107b449f15fcrow8_col0\" class=\"data row8 col0\" >0.01452</td> \n",
       "    </tr>    <tr> \n",
       "        <th id=\"T_1ea56ac6_f1b8_11e9_a6fb_107b449f15fclevel0_row9\" class=\"row_heading level0 row9\" >коммуникация</th> \n",
       "        <td id=\"T_1ea56ac6_f1b8_11e9_a6fb_107b449f15fcrow9_col0\" class=\"data row9 col0\" >0.01291</td> \n",
       "    </tr></tbody> \n",
       "</table> <style  type=\"text/css\" >\n",
       "</style>  \n",
       "<table id=\"T_1ea56ac7_f1b8_11e9_a6fb_107b449f15fc\" style='display:inline'> \n",
       "<thead>    <tr> \n",
       "        <th class=\"blank level0\" ></th> \n",
       "        <th class=\"col_heading level0 col0\" >topic_4 @word</th> \n",
       "    </tr></thead> \n",
       "<tbody>    <tr> \n",
       "        <th id=\"T_1ea56ac7_f1b8_11e9_a6fb_107b449f15fclevel0_row0\" class=\"row_heading level0 row0\" >язык</th> \n",
       "        <td id=\"T_1ea56ac7_f1b8_11e9_a6fb_107b449f15fcrow0_col0\" class=\"data row0 col0\" >0.03124</td> \n",
       "    </tr>    <tr> \n",
       "        <th id=\"T_1ea56ac7_f1b8_11e9_a6fb_107b449f15fclevel0_row1\" class=\"row_heading level0 row1\" >слово</th> \n",
       "        <td id=\"T_1ea56ac7_f1b8_11e9_a6fb_107b449f15fcrow1_col0\" class=\"data row1 col0\" >0.01734</td> \n",
       "    </tr>    <tr> \n",
       "        <th id=\"T_1ea56ac7_f1b8_11e9_a6fb_107b449f15fclevel0_row2\" class=\"row_heading level0 row2\" >говорить</th> \n",
       "        <td id=\"T_1ea56ac7_f1b8_11e9_a6fb_107b449f15fcrow2_col0\" class=\"data row2 col0\" >0.00666</td> \n",
       "    </tr>    <tr> \n",
       "        <th id=\"T_1ea56ac7_f1b8_11e9_a6fb_107b449f15fclevel0_row3\" class=\"row_heading level0 row3\" >текст</th> \n",
       "        <td id=\"T_1ea56ac7_f1b8_11e9_a6fb_107b449f15fcrow3_col0\" class=\"data row3 col0\" >0.00573</td> \n",
       "    </tr>    <tr> \n",
       "        <th id=\"T_1ea56ac7_f1b8_11e9_a6fb_107b449f15fclevel0_row4\" class=\"row_heading level0 row4\" >словарь</th> \n",
       "        <td id=\"T_1ea56ac7_f1b8_11e9_a6fb_107b449f15fcrow4_col0\" class=\"data row4 col0\" >0.00416</td> \n",
       "    </tr>    <tr> \n",
       "        <th id=\"T_1ea56ac7_f1b8_11e9_a6fb_107b449f15fclevel0_row5\" class=\"row_heading level0 row5\" >лингвист</th> \n",
       "        <td id=\"T_1ea56ac7_f1b8_11e9_a6fb_107b449f15fcrow5_col0\" class=\"data row5 col0\" >0.00413</td> \n",
       "    </tr>    <tr> \n",
       "        <th id=\"T_1ea56ac7_f1b8_11e9_a6fb_107b449f15fclevel0_row6\" class=\"row_heading level0 row6\" >знать</th> \n",
       "        <td id=\"T_1ea56ac7_f1b8_11e9_a6fb_107b449f15fcrow6_col0\" class=\"data row6 col0\" >0.00366</td> \n",
       "    </tr>    <tr> \n",
       "        <th id=\"T_1ea56ac7_f1b8_11e9_a6fb_107b449f15fclevel0_row7\" class=\"row_heading level0 row7\" >русский</th> \n",
       "        <td id=\"T_1ea56ac7_f1b8_11e9_a6fb_107b449f15fcrow7_col0\" class=\"data row7 col0\" >0.00363</td> \n",
       "    </tr>    <tr> \n",
       "        <th id=\"T_1ea56ac7_f1b8_11e9_a6fb_107b449f15fclevel0_row8\" class=\"row_heading level0 row8\" >предложение</th> \n",
       "        <td id=\"T_1ea56ac7_f1b8_11e9_a6fb_107b449f15fcrow8_col0\" class=\"data row8 col0\" >0.00348</td> \n",
       "    </tr>    <tr> \n",
       "        <th id=\"T_1ea56ac7_f1b8_11e9_a6fb_107b449f15fclevel0_row9\" class=\"row_heading level0 row9\" >речь</th> \n",
       "        <td id=\"T_1ea56ac7_f1b8_11e9_a6fb_107b449f15fcrow9_col0\" class=\"data row9 col0\" >0.00341</td> \n",
       "    </tr></tbody> \n",
       "</table> "
      ]
     },
     "metadata": {},
     "output_type": "display_data"
    },
    {
     "data": {
      "text/html": [
       "<b> мотивированность языковой формы </b><br /> лингвист мира бергельсон о прагматике языка, структуре делового письма и стратегиях вежливости"
      ]
     },
     "metadata": {},
     "output_type": "display_data"
    },
    {
     "data": {
      "text/html": [
       "<b> соотношение понятий язык и диалект </b><br /> лингвист владимир беликов о взаимопонятности внутри языка, издании ethnologue и сербохорватском языке"
      ]
     },
     "metadata": {},
     "output_type": "display_data"
    },
    {
     "data": {
      "text/html": [
       "<b> языковые макросемьи </b><br /> лингвист георгий старостин о языковых семьях, термине \"ностратика\" и гипотезах объединения языков"
      ]
     },
     "metadata": {},
     "output_type": "display_data"
    },
    {
     "data": {
      "text/html": [
       "<b> методы полевой лингвистики </b><br /> лингвист нина сумбатова о научной этике, методе элицитации и анализе текстов"
      ]
     },
     "metadata": {},
     "output_type": "display_data"
    },
    {
     "data": {
      "text/html": [
       "<b> русская аспектология </b><br /> лингвист алексей шмелев о глаголах совершенного и несовершенного вида, видовых парах и аспектологическом словаре"
      ]
     },
     "metadata": {},
     "output_type": "display_data"
    },
    {
     "data": {
      "text/html": [
       "<b> пиджины и креольские языки </b><br /> лингвист владимир беликов о языке-лексификаторе, креолизации и языках новой гвинеи"
      ]
     },
     "metadata": {},
     "output_type": "display_data"
    },
    {
     "data": {
      "text/html": [
       "<b> лингвистическая компаративистика </b><br /> лингвист светлана бурлак о системности изменений в языках, языковом древе и реконструкции праязыка"
      ]
     },
     "metadata": {},
     "output_type": "display_data"
    },
    {
     "data": {
      "text/html": [
       "<b> гласные русского языка </b><br /> лингвист игорь исаев об истории гласных в литературном языке, следах утраченных букв и особенностях говоров"
      ]
     },
     "metadata": {},
     "output_type": "display_data"
    },
    {
     "data": {
      "text/html": [
       "<b> понимание культуры через язык </b><br /> лингвист алексей шмелев о восприятии материальной культуры в речи, отличии лжи от вранья и трудностях перевода"
      ]
     },
     "metadata": {},
     "output_type": "display_data"
    },
    {
     "data": {
      "text/html": [
       "<b> ударение на предлог </b><br /> филолог илья иткин о русской поэзии, системе ударений и языковой традиции"
      ]
     },
     "metadata": {},
     "output_type": "display_data"
    },
    {
     "data": {
      "text/html": [
       "<style  type=\"text/css\" >\n",
       "</style>  \n",
       "<table id=\"T_1ea56ac8_f1b8_11e9_a6fb_107b449f15fc\" style='display:inline'> \n",
       "<thead>    <tr> \n",
       "        <th class=\"blank level0\" ></th> \n",
       "        <th class=\"col_heading level0 col0\" >topic_5 @2gramm</th> \n",
       "    </tr></thead> \n",
       "<tbody>    <tr> \n",
       "        <th id=\"T_1ea56ac8_f1b8_11e9_a6fb_107b449f15fclevel0_row0\" class=\"row_heading level0 row0\" >политический_философия</th> \n",
       "        <td id=\"T_1ea56ac8_f1b8_11e9_a6fb_107b449f15fcrow0_col0\" class=\"data row0 col0\" >0.00879</td> \n",
       "    </tr>    <tr> \n",
       "        <th id=\"T_1ea56ac8_f1b8_11e9_a6fb_107b449f15fclevel0_row1\" class=\"row_heading level0 row1\" >мировой_война</th> \n",
       "        <td id=\"T_1ea56ac8_f1b8_11e9_a6fb_107b449f15fcrow1_col0\" class=\"data row1 col0\" >0.00673</td> \n",
       "    </tr>    <tr> \n",
       "        <th id=\"T_1ea56ac8_f1b8_11e9_a6fb_107b449f15fclevel0_row2\" class=\"row_heading level0 row2\" >речь_идти</th> \n",
       "        <td id=\"T_1ea56ac8_f1b8_11e9_a6fb_107b449f15fcrow2_col0\" class=\"data row2 col0\" >0.00651</td> \n",
       "    </tr>    <tr> \n",
       "        <th id=\"T_1ea56ac8_f1b8_11e9_a6fb_107b449f15fclevel0_row3\" class=\"row_heading level0 row3\" >советский_союз</th> \n",
       "        <td id=\"T_1ea56ac8_f1b8_11e9_a6fb_107b449f15fcrow3_col0\" class=\"data row3 col0\" >0.00597</td> \n",
       "    </tr>    <tr> \n",
       "        <th id=\"T_1ea56ac8_f1b8_11e9_a6fb_107b449f15fclevel0_row4\" class=\"row_heading level0 row4\" >политика_память</th> \n",
       "        <td id=\"T_1ea56ac8_f1b8_11e9_a6fb_107b449f15fcrow4_col0\" class=\"data row4 col0\" >0.00522</td> \n",
       "    </tr>    <tr> \n",
       "        <th id=\"T_1ea56ac8_f1b8_11e9_a6fb_107b449f15fclevel0_row5\" class=\"row_heading level0 row5\" >малое_город</th> \n",
       "        <td id=\"T_1ea56ac8_f1b8_11e9_a6fb_107b449f15fcrow5_col0\" class=\"data row5 col0\" >0.00479</td> \n",
       "    </tr>    <tr> \n",
       "        <th id=\"T_1ea56ac8_f1b8_11e9_a6fb_107b449f15fclevel0_row6\" class=\"row_heading level0 row6\" >крайний_мера</th> \n",
       "        <td id=\"T_1ea56ac8_f1b8_11e9_a6fb_107b449f15fcrow6_col0\" class=\"data row6 col0\" >0.00463</td> \n",
       "    </tr>    <tr> \n",
       "        <th id=\"T_1ea56ac8_f1b8_11e9_a6fb_107b449f15fclevel0_row7\" class=\"row_heading level0 row7\" >городской_пространство</th> \n",
       "        <td id=\"T_1ea56ac8_f1b8_11e9_a6fb_107b449f15fcrow7_col0\" class=\"data row7 col0\" >0.0041</td> \n",
       "    </tr>    <tr> \n",
       "        <th id=\"T_1ea56ac8_f1b8_11e9_a6fb_107b449f15fclevel0_row8\" class=\"row_heading level0 row8\" >xx_век</th> \n",
       "        <td id=\"T_1ea56ac8_f1b8_11e9_a6fb_107b449f15fcrow8_col0\" class=\"data row8 col0\" >0.00383</td> \n",
       "    </tr>    <tr> \n",
       "        <th id=\"T_1ea56ac8_f1b8_11e9_a6fb_107b449f15fclevel0_row9\" class=\"row_heading level0 row9\" >обычный_право</th> \n",
       "        <td id=\"T_1ea56ac8_f1b8_11e9_a6fb_107b449f15fcrow9_col0\" class=\"data row9 col0\" >0.00302</td> \n",
       "    </tr></tbody> \n",
       "</table> <style  type=\"text/css\" >\n",
       "</style>  \n",
       "<table id=\"T_1ea56ac9_f1b8_11e9_a6fb_107b449f15fc\" style='display:inline'> \n",
       "<thead>    <tr> \n",
       "        <th class=\"blank level0\" ></th> \n",
       "        <th class=\"col_heading level0 col0\" >topic_5 @3gramm</th> \n",
       "    </tr></thead> \n",
       "<tbody>    <tr> \n",
       "        <th id=\"T_1ea56ac9_f1b8_11e9_a6fb_107b449f15fclevel0_row0\" class=\"row_heading level0 row0\" >половина_xix_век</th> \n",
       "        <td id=\"T_1ea56ac9_f1b8_11e9_a6fb_107b449f15fcrow0_col0\" class=\"data row0 col0\" >0.16024</td> \n",
       "    </tr>    <tr> \n",
       "        <th id=\"T_1ea56ac9_f1b8_11e9_a6fb_107b449f15fclevel0_row1\" class=\"row_heading level0 row1\" >кора_головной_мозг</th> \n",
       "        <td id=\"T_1ea56ac9_f1b8_11e9_a6fb_107b449f15fcrow1_col0\" class=\"data row1 col0\" >0.13343</td> \n",
       "    </tr>    <tr> \n",
       "        <th id=\"T_1ea56ac9_f1b8_11e9_a6fb_107b449f15fclevel0_row2\" class=\"row_heading level0 row2\" >великий_отечественный_война</th> \n",
       "        <td id=\"T_1ea56ac9_f1b8_11e9_a6fb_107b449f15fcrow2_col0\" class=\"data row2 col0\" >0.12757</td> \n",
       "    </tr>    <tr> \n",
       "        <th id=\"T_1ea56ac9_f1b8_11e9_a6fb_107b449f15fclevel0_row3\" class=\"row_heading level0 row3\" >словарь_русский_язык</th> \n",
       "        <td id=\"T_1ea56ac9_f1b8_11e9_a6fb_107b449f15fcrow3_col0\" class=\"data row3 col0\" >0.06446</td> \n",
       "    </tr>    <tr> \n",
       "        <th id=\"T_1ea56ac9_f1b8_11e9_a6fb_107b449f15fclevel0_row4\" class=\"row_heading level0 row4\" >существовать_огромный_количество</th> \n",
       "        <td id=\"T_1ea56ac9_f1b8_11e9_a6fb_107b449f15fcrow4_col0\" class=\"data row4 col0\" >0.05424</td> \n",
       "    </tr>    <tr> \n",
       "        <th id=\"T_1ea56ac9_f1b8_11e9_a6fb_107b449f15fclevel0_row5\" class=\"row_heading level0 row5\" >язык_славянский_культура</th> \n",
       "        <td id=\"T_1ea56ac9_f1b8_11e9_a6fb_107b449f15fcrow5_col0\" class=\"data row5 col0\" >0.05389</td> \n",
       "    </tr>    <tr> \n",
       "        <th id=\"T_1ea56ac9_f1b8_11e9_a6fb_107b449f15fclevel0_row6\" class=\"row_heading level0 row6\" >противоречить_друг_друг</th> \n",
       "        <td id=\"T_1ea56ac9_f1b8_11e9_a6fb_107b449f15fcrow6_col0\" class=\"data row6 col0\" >0.0458</td> \n",
       "    </tr>    <tr> \n",
       "        <th id=\"T_1ea56ac9_f1b8_11e9_a6fb_107b449f15fclevel0_row7\" class=\"row_heading level0 row7\" >искусственный_нейронный_сеть</th> \n",
       "        <td id=\"T_1ea56ac9_f1b8_11e9_a6fb_107b449f15fcrow7_col0\" class=\"data row7 col0\" >0.0359</td> \n",
       "    </tr>    <tr> \n",
       "        <th id=\"T_1ea56ac9_f1b8_11e9_a6fb_107b449f15fclevel0_row8\" class=\"row_heading level0 row8\" >начало_xiii_век</th> \n",
       "        <td id=\"T_1ea56ac9_f1b8_11e9_a6fb_107b449f15fcrow8_col0\" class=\"data row8 col0\" >0.0294</td> \n",
       "    </tr>    <tr> \n",
       "        <th id=\"T_1ea56ac9_f1b8_11e9_a6fb_107b449f15fclevel0_row9\" class=\"row_heading level0 row9\" >область_искусственный_интеллект</th> \n",
       "        <td id=\"T_1ea56ac9_f1b8_11e9_a6fb_107b449f15fcrow9_col0\" class=\"data row9 col0\" >0.02669</td> \n",
       "    </tr></tbody> \n",
       "</table> <style  type=\"text/css\" >\n",
       "</style>  \n",
       "<table id=\"T_1ea56aca_f1b8_11e9_a6fb_107b449f15fc\" style='display:inline'> \n",
       "<thead>    <tr> \n",
       "        <th class=\"blank level0\" ></th> \n",
       "        <th class=\"col_heading level0 col0\" >topic_5 @post_tag</th> \n",
       "    </tr></thead> \n",
       "<tbody>    <tr> \n",
       "        <th id=\"T_1ea56aca_f1b8_11e9_a6fb_107b449f15fclevel0_row0\" class=\"row_heading level0 row0\" >философия</th> \n",
       "        <td id=\"T_1ea56aca_f1b8_11e9_a6fb_107b449f15fcrow0_col0\" class=\"data row0 col0\" >0.12569</td> \n",
       "    </tr>    <tr> \n",
       "        <th id=\"T_1ea56aca_f1b8_11e9_a6fb_107b449f15fclevel0_row1\" class=\"row_heading level0 row1\" >город</th> \n",
       "        <td id=\"T_1ea56aca_f1b8_11e9_a6fb_107b449f15fcrow1_col0\" class=\"data row1 col0\" >0.07281</td> \n",
       "    </tr>    <tr> \n",
       "        <th id=\"T_1ea56aca_f1b8_11e9_a6fb_107b449f15fclevel0_row2\" class=\"row_heading level0 row2\" >россия</th> \n",
       "        <td id=\"T_1ea56aca_f1b8_11e9_a6fb_107b449f15fcrow2_col0\" class=\"data row2 col0\" >0.06367</td> \n",
       "    </tr>    <tr> \n",
       "        <th id=\"T_1ea56aca_f1b8_11e9_a6fb_107b449f15fclevel0_row3\" class=\"row_heading level0 row3\" >ссср</th> \n",
       "        <td id=\"T_1ea56aca_f1b8_11e9_a6fb_107b449f15fcrow3_col0\" class=\"data row3 col0\" >0.04599</td> \n",
       "    </tr>    <tr> \n",
       "        <th id=\"T_1ea56aca_f1b8_11e9_a6fb_107b449f15fclevel0_row4\" class=\"row_heading level0 row4\" >политическая_философия</th> \n",
       "        <td id=\"T_1ea56aca_f1b8_11e9_a6fb_107b449f15fcrow4_col0\" class=\"data row4 col0\" >0.04083</td> \n",
       "    </tr>    <tr> \n",
       "        <th id=\"T_1ea56aca_f1b8_11e9_a6fb_107b449f15fclevel0_row5\" class=\"row_heading level0 row5\" >урбанистика</th> \n",
       "        <td id=\"T_1ea56aca_f1b8_11e9_a6fb_107b449f15fcrow5_col0\" class=\"data row5 col0\" >0.0341</td> \n",
       "    </tr>    <tr> \n",
       "        <th id=\"T_1ea56aca_f1b8_11e9_a6fb_107b449f15fclevel0_row6\" class=\"row_heading level0 row6\" >история_философии</th> \n",
       "        <td id=\"T_1ea56aca_f1b8_11e9_a6fb_107b449f15fcrow6_col0\" class=\"data row6 col0\" >0.02727</td> \n",
       "    </tr>    <tr> \n",
       "        <th id=\"T_1ea56aca_f1b8_11e9_a6fb_107b449f15fclevel0_row7\" class=\"row_heading level0 row7\" >городское_пространство</th> \n",
       "        <td id=\"T_1ea56aca_f1b8_11e9_a6fb_107b449f15fcrow7_col0\" class=\"data row7 col0\" >0.02494</td> \n",
       "    </tr>    <tr> \n",
       "        <th id=\"T_1ea56aca_f1b8_11e9_a6fb_107b449f15fclevel0_row8\" class=\"row_heading level0 row8\" >культура</th> \n",
       "        <td id=\"T_1ea56aca_f1b8_11e9_a6fb_107b449f15fcrow8_col0\" class=\"data row8 col0\" >0.02199</td> \n",
       "    </tr>    <tr> \n",
       "        <th id=\"T_1ea56aca_f1b8_11e9_a6fb_107b449f15fclevel0_row9\" class=\"row_heading level0 row9\" >дюркгейм_эмиль</th> \n",
       "        <td id=\"T_1ea56aca_f1b8_11e9_a6fb_107b449f15fcrow9_col0\" class=\"data row9 col0\" >0.02148</td> \n",
       "    </tr></tbody> \n",
       "</table> <style  type=\"text/css\" >\n",
       "</style>  \n",
       "<table id=\"T_1ea56acb_f1b8_11e9_a6fb_107b449f15fc\" style='display:inline'> \n",
       "<thead>    <tr> \n",
       "        <th class=\"blank level0\" ></th> \n",
       "        <th class=\"col_heading level0 col0\" >topic_5 @word</th> \n",
       "    </tr></thead> \n",
       "<tbody>    <tr> \n",
       "        <th id=\"T_1ea56acb_f1b8_11e9_a6fb_107b449f15fclevel0_row0\" class=\"row_heading level0 row0\" >город</th> \n",
       "        <td id=\"T_1ea56acb_f1b8_11e9_a6fb_107b449f15fcrow0_col0\" class=\"data row0 col0\" >0.00819</td> \n",
       "    </tr>    <tr> \n",
       "        <th id=\"T_1ea56acb_f1b8_11e9_a6fb_107b449f15fclevel0_row1\" class=\"row_heading level0 row1\" >сталин</th> \n",
       "        <td id=\"T_1ea56acb_f1b8_11e9_a6fb_107b449f15fcrow1_col0\" class=\"data row1 col0\" >0.00425</td> \n",
       "    </tr>    <tr> \n",
       "        <th id=\"T_1ea56acb_f1b8_11e9_a6fb_107b449f15fclevel0_row2\" class=\"row_heading level0 row2\" >история</th> \n",
       "        <td id=\"T_1ea56acb_f1b8_11e9_a6fb_107b449f15fcrow2_col0\" class=\"data row2 col0\" >0.00339</td> \n",
       "    </tr>    <tr> \n",
       "        <th id=\"T_1ea56acb_f1b8_11e9_a6fb_107b449f15fclevel0_row3\" class=\"row_heading level0 row3\" >философия</th> \n",
       "        <td id=\"T_1ea56acb_f1b8_11e9_a6fb_107b449f15fcrow3_col0\" class=\"data row3 col0\" >0.00338</td> \n",
       "    </tr>    <tr> \n",
       "        <th id=\"T_1ea56acb_f1b8_11e9_a6fb_107b449f15fclevel0_row4\" class=\"row_heading level0 row4\" >пространство</th> \n",
       "        <td id=\"T_1ea56acb_f1b8_11e9_a6fb_107b449f15fcrow4_col0\" class=\"data row4 col0\" >0.00337</td> \n",
       "    </tr>    <tr> \n",
       "        <th id=\"T_1ea56acb_f1b8_11e9_a6fb_107b449f15fclevel0_row5\" class=\"row_heading level0 row5\" >работа</th> \n",
       "        <td id=\"T_1ea56acb_f1b8_11e9_a6fb_107b449f15fcrow5_col0\" class=\"data row5 col0\" >0.00318</td> \n",
       "    </tr>    <tr> \n",
       "        <th id=\"T_1ea56acb_f1b8_11e9_a6fb_107b449f15fclevel0_row6\" class=\"row_heading level0 row6\" >говорить</th> \n",
       "        <td id=\"T_1ea56acb_f1b8_11e9_a6fb_107b449f15fcrow6_col0\" class=\"data row6 col0\" >0.00294</td> \n",
       "    </tr>    <tr> \n",
       "        <th id=\"T_1ea56acb_f1b8_11e9_a6fb_107b449f15fclevel0_row7\" class=\"row_heading level0 row7\" >жизнь</th> \n",
       "        <td id=\"T_1ea56acb_f1b8_11e9_a6fb_107b449f15fcrow7_col0\" class=\"data row7 col0\" >0.00272</td> \n",
       "    </tr>    <tr> \n",
       "        <th id=\"T_1ea56acb_f1b8_11e9_a6fb_107b449f15fclevel0_row8\" class=\"row_heading level0 row8\" >власть</th> \n",
       "        <td id=\"T_1ea56acb_f1b8_11e9_a6fb_107b449f15fcrow8_col0\" class=\"data row8 col0\" >0.00258</td> \n",
       "    </tr>    <tr> \n",
       "        <th id=\"T_1ea56acb_f1b8_11e9_a6fb_107b449f15fclevel0_row9\" class=\"row_heading level0 row9\" >книга</th> \n",
       "        <td id=\"T_1ea56acb_f1b8_11e9_a6fb_107b449f15fcrow9_col0\" class=\"data row9 col0\" >0.0025</td> \n",
       "    </tr></tbody> \n",
       "</table> "
      ]
     },
     "metadata": {},
     "output_type": "display_data"
    },
    {
     "data": {
      "text/html": [
       "<b> вернакулярный город </b><br /> урбанист александр высоковский о драме самоочевидности, понятии вернакуляра и архитектуре без архитектора"
      ]
     },
     "metadata": {},
     "output_type": "display_data"
    },
    {
     "data": {
      "text/html": [
       "<b> тирания у ксенофонта </b><br /> философ александр павлов о диалоге «гиерон», философии ксенофонта в работах лео штрауса и проекте добродетельной тирании"
      ]
     },
     "metadata": {},
     "output_type": "display_data"
    },
    {
     "data": {
      "text/html": [
       "<b> позитивная философия науки </b><br /> философ иван болдырев о необходимости анализа, задачах исследования науки и ошибках социологии науки"
      ]
     },
     "metadata": {},
     "output_type": "display_data"
    },
    {
     "data": {
      "text/html": [
       "<b> философия всеединства </b><br /> философ алексей козырев о религиозных идеях владимира соловьева, учении о сверхбытии и московской школе философии права"
      ]
     },
     "metadata": {},
     "output_type": "display_data"
    },
    {
     "data": {
      "text/html": [
       "<b> тирания у платона </b><br /> философ александр павлов о политической философии платона, понимании тирании в диалогах «государство» и «законы» и идеальном политическом режиме"
      ]
     },
     "metadata": {},
     "output_type": "display_data"
    },
    {
     "data": {
      "text/html": [
       "<b> понятие идеологии </b><br /> социолог культуры арсений хитров о придворном философе наполеона i, критике капитализма у маркса и конструкте «человеческая природа»"
      ]
     },
     "metadata": {},
     "output_type": "display_data"
    },
    {
     "data": {
      "text/html": [
       "<b> гегель сегодня </b><br /> философ иван болдырев об исследователях гегелевской философии, аналитической теории действия и консерватизме"
      ]
     },
     "metadata": {},
     "output_type": "display_data"
    },
    {
     "data": {
      "text/html": [
       "<b> прикладная геоурбанистика </b><br /> урбанист екатерина ларионова об исчезновении самоидентичности городов, культуре санкт-петербурга и естественном образе жизни человека"
      ]
     },
     "metadata": {},
     "output_type": "display_data"
    },
    {
     "data": {
      "text/html": [
       "<b> ироническая эстетика зольгера </b><br /> философ иван болдырев о диалектической традиции, философских диалогах и ситуации иронии"
      ]
     },
     "metadata": {},
     "output_type": "display_data"
    },
    {
     "data": {
      "text/html": [
       "<b> развитие городов </b><br /> географ наталья зубаревич о процессе субурбанизации, агломерационном эффекте и необходимости децентрализации"
      ]
     },
     "metadata": {},
     "output_type": "display_data"
    },
    {
     "data": {
      "text/html": [
       "<style  type=\"text/css\" >\n",
       "</style>  \n",
       "<table id=\"T_1ea56acc_f1b8_11e9_a6fb_107b449f15fc\" style='display:inline'> \n",
       "<thead>    <tr> \n",
       "        <th class=\"blank level0\" ></th> \n",
       "        <th class=\"col_heading level0 col0\" >topic_6 @2gramm</th> \n",
       "    </tr></thead> \n",
       "<tbody>    <tr> \n",
       "        <th id=\"T_1ea56acc_f1b8_11e9_a6fb_107b449f15fclevel0_row0\" class=\"row_heading level0 row0\" >живой_организм</th> \n",
       "        <td id=\"T_1ea56acc_f1b8_11e9_a6fb_107b449f15fcrow0_col0\" class=\"data row0 col0\" >0.00876</td> \n",
       "    </tr>    <tr> \n",
       "        <th id=\"T_1ea56acc_f1b8_11e9_a6fb_107b449f15fclevel0_row1\" class=\"row_heading level0 row1\" >естественный_отбор</th> \n",
       "        <td id=\"T_1ea56acc_f1b8_11e9_a6fb_107b449f15fcrow1_col0\" class=\"data row1 col0\" >0.0063</td> \n",
       "    </tr>    <tr> \n",
       "        <th id=\"T_1ea56acc_f1b8_11e9_a6fb_107b449f15fclevel0_row2\" class=\"row_heading level0 row2\" >нитрид_бора</th> \n",
       "        <td id=\"T_1ea56acc_f1b8_11e9_a6fb_107b449f15fcrow2_col0\" class=\"data row2 col0\" >0.00577</td> \n",
       "    </tr>    <tr> \n",
       "        <th id=\"T_1ea56acc_f1b8_11e9_a6fb_107b449f15fclevel0_row3\" class=\"row_heading level0 row3\" >органический_вещество</th> \n",
       "        <td id=\"T_1ea56acc_f1b8_11e9_a6fb_107b449f15fcrow3_col0\" class=\"data row3 col0\" >0.00522</td> \n",
       "    </tr>    <tr> \n",
       "        <th id=\"T_1ea56acc_f1b8_11e9_a6fb_107b449f15fclevel0_row4\" class=\"row_heading level0 row4\" >половый_отбор</th> \n",
       "        <td id=\"T_1ea56acc_f1b8_11e9_a6fb_107b449f15fcrow4_col0\" class=\"data row4 col0\" >0.00457</td> \n",
       "    </tr>    <tr> \n",
       "        <th id=\"T_1ea56acc_f1b8_11e9_a6fb_107b449f15fclevel0_row5\" class=\"row_heading level0 row5\" >живой_существо</th> \n",
       "        <td id=\"T_1ea56acc_f1b8_11e9_a6fb_107b449f15fcrow5_col0\" class=\"data row5 col0\" >0.00444</td> \n",
       "    </tr>    <tr> \n",
       "        <th id=\"T_1ea56acc_f1b8_11e9_a6fb_107b449f15fclevel0_row6\" class=\"row_heading level0 row6\" >простой_число</th> \n",
       "        <td id=\"T_1ea56acc_f1b8_11e9_a6fb_107b449f15fcrow6_col0\" class=\"data row6 col0\" >0.00403</td> \n",
       "    </tr>    <tr> \n",
       "        <th id=\"T_1ea56acc_f1b8_11e9_a6fb_107b449f15fclevel0_row7\" class=\"row_heading level0 row7\" >пермский_период</th> \n",
       "        <td id=\"T_1ea56acc_f1b8_11e9_a6fb_107b449f15fcrow7_col0\" class=\"data row7 col0\" >0.00396</td> \n",
       "    </tr>    <tr> \n",
       "        <th id=\"T_1ea56acc_f1b8_11e9_a6fb_107b449f15fclevel0_row8\" class=\"row_heading level0 row8\" >поведение_животное</th> \n",
       "        <td id=\"T_1ea56acc_f1b8_11e9_a6fb_107b449f15fcrow8_col0\" class=\"data row8 col0\" >0.00395</td> \n",
       "    </tr>    <tr> \n",
       "        <th id=\"T_1ea56acc_f1b8_11e9_a6fb_107b449f15fclevel0_row9\" class=\"row_heading level0 row9\" >творческий_мышление</th> \n",
       "        <td id=\"T_1ea56acc_f1b8_11e9_a6fb_107b449f15fcrow9_col0\" class=\"data row9 col0\" >0.00386</td> \n",
       "    </tr></tbody> \n",
       "</table> <style  type=\"text/css\" >\n",
       "</style>  \n",
       "<table id=\"T_1ea56acd_f1b8_11e9_a6fb_107b449f15fc\" style='display:inline'> \n",
       "<thead>    <tr> \n",
       "        <th class=\"blank level0\" ></th> \n",
       "        <th class=\"col_heading level0 col0\" >topic_6 @3gramm</th> \n",
       "    </tr></thead> \n",
       "<tbody>    <tr> \n",
       "        <th id=\"T_1ea56acd_f1b8_11e9_a6fb_107b449f15fclevel0_row0\" class=\"row_heading level0 row0\" >дополнять_друг_друг</th> \n",
       "        <td id=\"T_1ea56acd_f1b8_11e9_a6fb_107b449f15fcrow0_col0\" class=\"data row0 col0\" >0.11677</td> \n",
       "    </tr>    <tr> \n",
       "        <th id=\"T_1ea56acd_f1b8_11e9_a6fb_107b449f15fclevel0_row1\" class=\"row_heading level0 row1\" >лауреат_нобелевский_премия</th> \n",
       "        <td id=\"T_1ea56acd_f1b8_11e9_a6fb_107b449f15fcrow1_col0\" class=\"data row1 col0\" >0.09853</td> \n",
       "    </tr>    <tr> \n",
       "        <th id=\"T_1ea56acd_f1b8_11e9_a6fb_107b449f15fclevel0_row2\" class=\"row_heading level0 row2\" >теория_принятие_решение</th> \n",
       "        <td id=\"T_1ea56acd_f1b8_11e9_a6fb_107b449f15fcrow2_col0\" class=\"data row2 col0\" >0.0701</td> \n",
       "    </tr>    <tr> \n",
       "        <th id=\"T_1ea56acd_f1b8_11e9_a6fb_107b449f15fclevel0_row3\" class=\"row_heading level0 row3\" >теория_речевой_акт</th> \n",
       "        <td id=\"T_1ea56acd_f1b8_11e9_a6fb_107b449f15fcrow3_col0\" class=\"data row3 col0\" >0.0701</td> \n",
       "    </tr>    <tr> \n",
       "        <th id=\"T_1ea56acd_f1b8_11e9_a6fb_107b449f15fclevel0_row4\" class=\"row_heading level0 row4\" >друг_относительно_друг</th> \n",
       "        <td id=\"T_1ea56acd_f1b8_11e9_a6fb_107b449f15fcrow4_col0\" class=\"data row4 col0\" >0.06176</td> \n",
       "    </tr>    <tr> \n",
       "        <th id=\"T_1ea56acd_f1b8_11e9_a6fb_107b449f15fclevel0_row5\" class=\"row_heading level0 row5\" >довольно_большой_количество</th> \n",
       "        <td id=\"T_1ea56acd_f1b8_11e9_a6fb_107b449f15fcrow5_col0\" class=\"data row5 col0\" >0.05892</td> \n",
       "    </tr>    <tr> \n",
       "        <th id=\"T_1ea56acd_f1b8_11e9_a6fb_107b449f15fclevel0_row6\" class=\"row_heading level0 row6\" >ширина_запретить_зона</th> \n",
       "        <td id=\"T_1ea56acd_f1b8_11e9_a6fb_107b449f15fcrow6_col0\" class=\"data row6 col0\" >0.03894</td> \n",
       "    </tr>    <tr> \n",
       "        <th id=\"T_1ea56acd_f1b8_11e9_a6fb_107b449f15fclevel0_row7\" class=\"row_heading level0 row7\" >открытие_двойной_спираль</th> \n",
       "        <td id=\"T_1ea56acd_f1b8_11e9_a6fb_107b449f15fcrow7_col0\" class=\"data row7 col0\" >0.03503</td> \n",
       "    </tr>    <tr> \n",
       "        <th id=\"T_1ea56acd_f1b8_11e9_a6fb_107b449f15fclevel0_row8\" class=\"row_heading level0 row8\" >полиненасыщенный_жирный_кислота</th> \n",
       "        <td id=\"T_1ea56acd_f1b8_11e9_a6fb_107b449f15fcrow8_col0\" class=\"data row8 col0\" >0.03111</td> \n",
       "    </tr>    <tr> \n",
       "        <th id=\"T_1ea56acd_f1b8_11e9_a6fb_107b449f15fclevel0_row9\" class=\"row_heading level0 row9\" >довольно_сильно_отличаться</th> \n",
       "        <td id=\"T_1ea56acd_f1b8_11e9_a6fb_107b449f15fcrow9_col0\" class=\"data row9 col0\" >0.031</td> \n",
       "    </tr></tbody> \n",
       "</table> <style  type=\"text/css\" >\n",
       "</style>  \n",
       "<table id=\"T_1ea56ace_f1b8_11e9_a6fb_107b449f15fc\" style='display:inline'> \n",
       "<thead>    <tr> \n",
       "        <th class=\"blank level0\" ></th> \n",
       "        <th class=\"col_heading level0 col0\" >topic_6 @post_tag</th> \n",
       "    </tr></thead> \n",
       "<tbody>    <tr> \n",
       "        <th id=\"T_1ea56ace_f1b8_11e9_a6fb_107b449f15fclevel0_row0\" class=\"row_heading level0 row0\" >биология</th> \n",
       "        <td id=\"T_1ea56ace_f1b8_11e9_a6fb_107b449f15fcrow0_col0\" class=\"data row0 col0\" >0.21102</td> \n",
       "    </tr>    <tr> \n",
       "        <th id=\"T_1ea56ace_f1b8_11e9_a6fb_107b449f15fclevel0_row1\" class=\"row_heading level0 row1\" >эволюция</th> \n",
       "        <td id=\"T_1ea56ace_f1b8_11e9_a6fb_107b449f15fcrow1_col0\" class=\"data row1 col0\" >0.08438</td> \n",
       "    </tr>    <tr> \n",
       "        <th id=\"T_1ea56ace_f1b8_11e9_a6fb_107b449f15fclevel0_row2\" class=\"row_heading level0 row2\" >микробиология</th> \n",
       "        <td id=\"T_1ea56ace_f1b8_11e9_a6fb_107b449f15fcrow2_col0\" class=\"data row2 col0\" >0.05482</td> \n",
       "    </tr>    <tr> \n",
       "        <th id=\"T_1ea56ace_f1b8_11e9_a6fb_107b449f15fclevel0_row3\" class=\"row_heading level0 row3\" >экология</th> \n",
       "        <td id=\"T_1ea56ace_f1b8_11e9_a6fb_107b449f15fcrow3_col0\" class=\"data row3 col0\" >0.04674</td> \n",
       "    </tr>    <tr> \n",
       "        <th id=\"T_1ea56ace_f1b8_11e9_a6fb_107b449f15fclevel0_row4\" class=\"row_heading level0 row4\" >палеонтология</th> \n",
       "        <td id=\"T_1ea56ace_f1b8_11e9_a6fb_107b449f15fcrow4_col0\" class=\"data row4 col0\" >0.03581</td> \n",
       "    </tr>    <tr> \n",
       "        <th id=\"T_1ea56ace_f1b8_11e9_a6fb_107b449f15fclevel0_row5\" class=\"row_heading level0 row5\" >этология</th> \n",
       "        <td id=\"T_1ea56ace_f1b8_11e9_a6fb_107b449f15fcrow5_col0\" class=\"data row5 col0\" >0.03248</td> \n",
       "    </tr>    <tr> \n",
       "        <th id=\"T_1ea56ace_f1b8_11e9_a6fb_107b449f15fclevel0_row6\" class=\"row_heading level0 row6\" >белки</th> \n",
       "        <td id=\"T_1ea56ace_f1b8_11e9_a6fb_107b449f15fcrow6_col0\" class=\"data row6 col0\" >0.0292</td> \n",
       "    </tr>    <tr> \n",
       "        <th id=\"T_1ea56ace_f1b8_11e9_a6fb_107b449f15fclevel0_row7\" class=\"row_heading level0 row7\" >зоология</th> \n",
       "        <td id=\"T_1ea56ace_f1b8_11e9_a6fb_107b449f15fcrow7_col0\" class=\"data row7 col0\" >0.02732</td> \n",
       "    </tr>    <tr> \n",
       "        <th id=\"T_1ea56ace_f1b8_11e9_a6fb_107b449f15fclevel0_row8\" class=\"row_heading level0 row8\" >поведение_животных</th> \n",
       "        <td id=\"T_1ea56ace_f1b8_11e9_a6fb_107b449f15fcrow8_col0\" class=\"data row8 col0\" >0.02638</td> \n",
       "    </tr>    <tr> \n",
       "        <th id=\"T_1ea56ace_f1b8_11e9_a6fb_107b449f15fclevel0_row9\" class=\"row_heading level0 row9\" >бактерии</th> \n",
       "        <td id=\"T_1ea56ace_f1b8_11e9_a6fb_107b449f15fcrow9_col0\" class=\"data row9 col0\" >0.02433</td> \n",
       "    </tr></tbody> \n",
       "</table> <style  type=\"text/css\" >\n",
       "</style>  \n",
       "<table id=\"T_1ea56acf_f1b8_11e9_a6fb_107b449f15fc\" style='display:inline'> \n",
       "<thead>    <tr> \n",
       "        <th class=\"blank level0\" ></th> \n",
       "        <th class=\"col_heading level0 col0\" >topic_6 @word</th> \n",
       "    </tr></thead> \n",
       "<tbody>    <tr> \n",
       "        <th id=\"T_1ea56acf_f1b8_11e9_a6fb_107b449f15fclevel0_row0\" class=\"row_heading level0 row0\" >вид</th> \n",
       "        <td id=\"T_1ea56acf_f1b8_11e9_a6fb_107b449f15fcrow0_col0\" class=\"data row0 col0\" >0.00604</td> \n",
       "    </tr>    <tr> \n",
       "        <th id=\"T_1ea56acf_f1b8_11e9_a6fb_107b449f15fclevel0_row1\" class=\"row_heading level0 row1\" >животное</th> \n",
       "        <td id=\"T_1ea56acf_f1b8_11e9_a6fb_107b449f15fcrow1_col0\" class=\"data row1 col0\" >0.00498</td> \n",
       "    </tr>    <tr> \n",
       "        <th id=\"T_1ea56acf_f1b8_11e9_a6fb_107b449f15fclevel0_row2\" class=\"row_heading level0 row2\" >самец</th> \n",
       "        <td id=\"T_1ea56acf_f1b8_11e9_a6fb_107b449f15fcrow2_col0\" class=\"data row2 col0\" >0.00435</td> \n",
       "    </tr>    <tr> \n",
       "        <th id=\"T_1ea56acf_f1b8_11e9_a6fb_107b449f15fclevel0_row3\" class=\"row_heading level0 row3\" >растение</th> \n",
       "        <td id=\"T_1ea56acf_f1b8_11e9_a6fb_107b449f15fcrow3_col0\" class=\"data row3 col0\" >0.0042</td> \n",
       "    </tr>    <tr> \n",
       "        <th id=\"T_1ea56acf_f1b8_11e9_a6fb_107b449f15fclevel0_row4\" class=\"row_heading level0 row4\" >самка</th> \n",
       "        <td id=\"T_1ea56acf_f1b8_11e9_a6fb_107b449f15fcrow4_col0\" class=\"data row4 col0\" >0.00378</td> \n",
       "    </tr>    <tr> \n",
       "        <th id=\"T_1ea56acf_f1b8_11e9_a6fb_107b449f15fclevel0_row5\" class=\"row_heading level0 row5\" >птица</th> \n",
       "        <td id=\"T_1ea56acf_f1b8_11e9_a6fb_107b449f15fcrow5_col0\" class=\"data row5 col0\" >0.00336</td> \n",
       "    </tr>    <tr> \n",
       "        <th id=\"T_1ea56acf_f1b8_11e9_a6fb_107b449f15fclevel0_row6\" class=\"row_heading level0 row6\" >группа</th> \n",
       "        <td id=\"T_1ea56acf_f1b8_11e9_a6fb_107b449f15fcrow6_col0\" class=\"data row6 col0\" >0.00334</td> \n",
       "    </tr>    <tr> \n",
       "        <th id=\"T_1ea56acf_f1b8_11e9_a6fb_107b449f15fclevel0_row7\" class=\"row_heading level0 row7\" >эволюция</th> \n",
       "        <td id=\"T_1ea56acf_f1b8_11e9_a6fb_107b449f15fcrow7_col0\" class=\"data row7 col0\" >0.00322</td> \n",
       "    </tr>    <tr> \n",
       "        <th id=\"T_1ea56acf_f1b8_11e9_a6fb_107b449f15fclevel0_row8\" class=\"row_heading level0 row8\" >жизнь</th> \n",
       "        <td id=\"T_1ea56acf_f1b8_11e9_a6fb_107b449f15fcrow8_col0\" class=\"data row8 col0\" >0.00309</td> \n",
       "    </tr>    <tr> \n",
       "        <th id=\"T_1ea56acf_f1b8_11e9_a6fb_107b449f15fclevel0_row9\" class=\"row_heading level0 row9\" >земля</th> \n",
       "        <td id=\"T_1ea56acf_f1b8_11e9_a6fb_107b449f15fcrow9_col0\" class=\"data row9 col0\" >0.003</td> \n",
       "    </tr></tbody> \n",
       "</table> "
      ]
     },
     "metadata": {},
     "output_type": "display_data"
    },
    {
     "data": {
      "text/html": [
       "<b> пермский период </b><br /> палеоботаник сергей наугольных о возникновении пермской системы, эпохе высокого стояния континентов и пермо-триасовом вымирании видов"
      ]
     },
     "metadata": {},
     "output_type": "display_data"
    },
    {
     "data": {
      "text/html": [
       "<b> палеофитоценоз </b><br /> палеоботаник сергей наугольных о реконструкции раннепермской растительности, переходе к филоценогенетике и ориктоценозе"
      ]
     },
     "metadata": {},
     "output_type": "display_data"
    },
    {
     "data": {
      "text/html": [
       "<b> палеоботаника </b><br /> палеоботаник сергей наугольных об истории дисциплины, главных открытиях и ее связи с палеозоологией"
      ]
     },
     "metadata": {},
     "output_type": "display_data"
    },
    {
     "data": {
      "text/html": [
       "<b> физиология микроводорослей </b><br /> биолог дмитрий лось о видовом разнообразии, очистке воздуха для космических полетов и полиненасыщенных жирных кислотах"
      ]
     },
     "metadata": {},
     "output_type": "display_data"
    },
    {
     "data": {
      "text/html": [
       "<b> faqпермский период </b><br /> 7 фактов о периодизации пермской геологической системы"
      ]
     },
     "metadata": {},
     "output_type": "display_data"
    },
    {
     "data": {
      "text/html": [
       "<b> янтарь как палеонтологический объект </b><br /> палеонтолог кирилл еськов о палеонтологической летописи, балтийском янтаре и лесной фауне"
      ]
     },
     "metadata": {},
     "output_type": "display_data"
    },
    {
     "data": {
      "text/html": [
       "<b> «многие юрские животные продолжили свое развитие и даже имеют потомков в наше время» </b><br /> палеонтолог чжунхэ чжоу о многообразии удивительных животных юрского периода"
      ]
     },
     "metadata": {},
     "output_type": "display_data"
    },
    {
     "data": {
      "text/html": [
       "<b> архейская эра </b><br /> биолог александр марков о поздней тяжелой бомбардировке, древнейших следах жизни на земле и бескислородном периоде"
      ]
     },
     "metadata": {},
     "output_type": "display_data"
    },
    {
     "data": {
      "text/html": [
       "<b> 5 книг о палеоботанике пермского периода </b><br /> что читать об ископаемых растениях пермского периода, рекомендует доктор геолого-минералогических наук сергей наугольных"
      ]
     },
     "metadata": {},
     "output_type": "display_data"
    },
    {
     "data": {
      "text/html": [
       "<b> микробы докембрия </b><br /> микробиолог зоригто намсараев об условиях докембрийского периода, микробных матах и теории первичного бульона"
      ]
     },
     "metadata": {},
     "output_type": "display_data"
    }
   ],
   "source": [
    "n=7\n",
    "\"\"\"\n",
    "this code is working but slightly outdated.\n",
    "To produce similar results we suggest to use\n",
    "\n",
    "token_html = first_model_top_tok.view_from_jupyter(\n",
    "    display_output=False,\n",
    "    give_html=True)\n",
    "document_html = first_model_top_doc.view_from_jupyter(\n",
    "    display_output=False, \n",
    "    give_html=True)\n",
    "\n",
    "for t, d in zip(token_html, document_html):\n",
    "    display_html(t)\n",
    "    display_html(d)\n",
    "    \n",
    "\"\"\"\n",
    "\n",
    "for line, topic_docs in list(zip(first_model_html, first_model_top_doc))[:n]:\n",
    "    display_html(line, raw=True)\n",
    "\n",
    "    for doc_id in topic_docs:\n",
    "        doc_vw = demo_data.get_vw_document(doc_id).values[0][0]\n",
    "        doc_title = get_modality_vw(doc_vw, \"@title\")\n",
    "        doc_snippet = get_modality_vw(doc_vw, \"@snippet\")\n",
    "        display_html(f\"<b>{doc_title}</b><br />{doc_snippet}\", raw=True)"
   ]
  },
  {
   "cell_type": "code",
   "execution_count": 43,
   "metadata": {},
   "outputs": [
    {
     "data": {
      "text/html": [
       "<style  type=\"text/css\" >\n",
       "</style>  \n",
       "<table id=\"T_1ea56af0_f1b8_11e9_a6fb_107b449f15fc\" style='display:inline'> \n",
       "<thead>    <tr> \n",
       "        <th class=\"blank level0\" ></th> \n",
       "        <th class=\"col_heading level0 col0\" >background_15 @2gramm</th> \n",
       "    </tr></thead> \n",
       "<tbody>    <tr> \n",
       "        <th id=\"T_1ea56af0_f1b8_11e9_a6fb_107b449f15fclevel0_row0\" class=\"row_heading level0 row0\" >система_образование</th> \n",
       "        <td id=\"T_1ea56af0_f1b8_11e9_a6fb_107b449f15fcrow0_col0\" class=\"data row0 col0\" >0.00657</td> \n",
       "    </tr>    <tr> \n",
       "        <th id=\"T_1ea56af0_f1b8_11e9_a6fb_107b449f15fclevel0_row1\" class=\"row_heading level0 row1\" >средний_класс</th> \n",
       "        <td id=\"T_1ea56af0_f1b8_11e9_a6fb_107b449f15fcrow1_col0\" class=\"data row1 col0\" >0.00488</td> \n",
       "    </tr>    <tr> \n",
       "        <th id=\"T_1ea56af0_f1b8_11e9_a6fb_107b449f15fclevel0_row2\" class=\"row_heading level0 row2\" >xx_век</th> \n",
       "        <td id=\"T_1ea56af0_f1b8_11e9_a6fb_107b449f15fcrow2_col0\" class=\"data row2 col0\" >0.00427</td> \n",
       "    </tr>    <tr> \n",
       "        <th id=\"T_1ea56af0_f1b8_11e9_a6fb_107b449f15fclevel0_row3\" class=\"row_heading level0 row3\" >xix_век</th> \n",
       "        <td id=\"T_1ea56af0_f1b8_11e9_a6fb_107b449f15fcrow3_col0\" class=\"data row3 col0\" >0.00415</td> \n",
       "    </tr>    <tr> \n",
       "        <th id=\"T_1ea56af0_f1b8_11e9_a6fb_107b449f15fclevel0_row4\" class=\"row_heading level0 row4\" >язык_описание</th> \n",
       "        <td id=\"T_1ea56af0_f1b8_11e9_a6fb_107b449f15fcrow4_col0\" class=\"data row4 col0\" >0.00411</td> \n",
       "    </tr>    <tr> \n",
       "        <th id=\"T_1ea56af0_f1b8_11e9_a6fb_107b449f15fclevel0_row5\" class=\"row_heading level0 row5\" >дать_случай</th> \n",
       "        <td id=\"T_1ea56af0_f1b8_11e9_a6fb_107b449f15fcrow5_col0\" class=\"data row5 col0\" >0.00384</td> \n",
       "    </tr>    <tr> \n",
       "        <th id=\"T_1ea56af0_f1b8_11e9_a6fb_107b449f15fclevel0_row6\" class=\"row_heading level0 row6\" >огромный_количество</th> \n",
       "        <td id=\"T_1ea56af0_f1b8_11e9_a6fb_107b449f15fcrow6_col0\" class=\"data row6 col0\" >0.00378</td> \n",
       "    </tr>    <tr> \n",
       "        <th id=\"T_1ea56af0_f1b8_11e9_a6fb_107b449f15fclevel0_row7\" class=\"row_heading level0 row7\" >новый_программа</th> \n",
       "        <td id=\"T_1ea56af0_f1b8_11e9_a6fb_107b449f15fcrow7_col0\" class=\"data row7 col0\" >0.00355</td> \n",
       "    </tr>    <tr> \n",
       "        <th id=\"T_1ea56af0_f1b8_11e9_a6fb_107b449f15fclevel0_row8\" class=\"row_heading level0 row8\" >среднее_класс</th> \n",
       "        <td id=\"T_1ea56af0_f1b8_11e9_a6fb_107b449f15fcrow8_col0\" class=\"data row8 col0\" >0.00354</td> \n",
       "    </tr>    <tr> \n",
       "        <th id=\"T_1ea56af0_f1b8_11e9_a6fb_107b449f15fclevel0_row9\" class=\"row_heading level0 row9\" >научный_сообщество</th> \n",
       "        <td id=\"T_1ea56af0_f1b8_11e9_a6fb_107b449f15fcrow9_col0\" class=\"data row9 col0\" >0.00322</td> \n",
       "    </tr></tbody> \n",
       "</table> <style  type=\"text/css\" >\n",
       "</style>  \n",
       "<table id=\"T_1ea56af1_f1b8_11e9_a6fb_107b449f15fc\" style='display:inline'> \n",
       "<thead>    <tr> \n",
       "        <th class=\"blank level0\" ></th> \n",
       "        <th class=\"col_heading level0 col0\" >background_15 @3gramm</th> \n",
       "    </tr></thead> \n",
       "<tbody>    <tr> \n",
       "        <th id=\"T_1ea56af1_f1b8_11e9_a6fb_107b449f15fclevel0_row0\" class=\"row_heading level0 row0\" >начало_xix_век</th> \n",
       "        <td id=\"T_1ea56af1_f1b8_11e9_a6fb_107b449f15fcrow0_col0\" class=\"data row0 col0\" >0.19843</td> \n",
       "    </tr>    <tr> \n",
       "        <th id=\"T_1ea56af1_f1b8_11e9_a6fb_107b449f15fclevel0_row1\" class=\"row_heading level0 row1\" >важный_роль_играть</th> \n",
       "        <td id=\"T_1ea56af1_f1b8_11e9_a6fb_107b449f15fcrow1_col0\" class=\"data row1 col0\" >0.09185</td> \n",
       "    </tr>    <tr> \n",
       "        <th id=\"T_1ea56af1_f1b8_11e9_a6fb_107b449f15fclevel0_row2\" class=\"row_heading level0 row2\" >центральный_нервный_система</th> \n",
       "        <td id=\"T_1ea56af1_f1b8_11e9_a6fb_107b449f15fcrow2_col0\" class=\"data row2 col0\" >0.09074</td> \n",
       "    </tr>    <tr> \n",
       "        <th id=\"T_1ea56af1_f1b8_11e9_a6fb_107b449f15fclevel0_row3\" class=\"row_heading level0 row3\" >теория_рациональный_выбор</th> \n",
       "        <td id=\"T_1ea56af1_f1b8_11e9_a6fb_107b449f15fcrow3_col0\" class=\"data row3 col0\" >0.05514</td> \n",
       "    </tr>    <tr> \n",
       "        <th id=\"T_1ea56af1_f1b8_11e9_a6fb_107b449f15fclevel0_row4\" class=\"row_heading level0 row4\" >получить_широкий_распространение</th> \n",
       "        <td id=\"T_1ea56af1_f1b8_11e9_a6fb_107b449f15fcrow4_col0\" class=\"data row4 col0\" >0.03713</td> \n",
       "    </tr>    <tr> \n",
       "        <th id=\"T_1ea56af1_f1b8_11e9_a6fb_107b449f15fclevel0_row5\" class=\"row_heading level0 row5\" >стоить_обратить_внимание</th> \n",
       "        <td id=\"T_1ea56af1_f1b8_11e9_a6fb_107b449f15fcrow5_col0\" class=\"data row5 col0\" >0.03637</td> \n",
       "    </tr>    <tr> \n",
       "        <th id=\"T_1ea56af1_f1b8_11e9_a6fb_107b449f15fclevel0_row6\" class=\"row_heading level0 row6\" >представитель_среднее_класс</th> \n",
       "        <td id=\"T_1ea56af1_f1b8_11e9_a6fb_107b449f15fcrow6_col0\" class=\"data row6 col0\" >0.02941</td> \n",
       "    </tr>    <tr> \n",
       "        <th id=\"T_1ea56af1_f1b8_11e9_a6fb_107b449f15fclevel0_row7\" class=\"row_heading level0 row7\" >позволять_журналист_ориентироваться</th> \n",
       "        <td id=\"T_1ea56af1_f1b8_11e9_a6fb_107b449f15fcrow7_col0\" class=\"data row7 col0\" >0.0294</td> \n",
       "    </tr>    <tr> \n",
       "        <th id=\"T_1ea56af1_f1b8_11e9_a6fb_107b449f15fclevel0_row8\" class=\"row_heading level0 row8\" >процесс_современный_наука</th> \n",
       "        <td id=\"T_1ea56af1_f1b8_11e9_a6fb_107b449f15fcrow8_col0\" class=\"data row8 col0\" >0.0294</td> \n",
       "    </tr>    <tr> \n",
       "        <th id=\"T_1ea56af1_f1b8_11e9_a6fb_107b449f15fclevel0_row9\" class=\"row_heading level0 row9\" >альтернативный_точка_зрение</th> \n",
       "        <td id=\"T_1ea56af1_f1b8_11e9_a6fb_107b449f15fcrow9_col0\" class=\"data row9 col0\" >0.02937</td> \n",
       "    </tr></tbody> \n",
       "</table> <style  type=\"text/css\" >\n",
       "</style>  \n",
       "<table id=\"T_1ea56af2_f1b8_11e9_a6fb_107b449f15fc\" style='display:inline'> \n",
       "<thead>    <tr> \n",
       "        <th class=\"blank level0\" ></th> \n",
       "        <th class=\"col_heading level0 col0\" >background_15 @post_tag</th> \n",
       "    </tr></thead> \n",
       "<tbody>    <tr> \n",
       "        <th id=\"T_1ea56af2_f1b8_11e9_a6fb_107b449f15fclevel0_row0\" class=\"row_heading level0 row0\" >образование</th> \n",
       "        <td id=\"T_1ea56af2_f1b8_11e9_a6fb_107b449f15fcrow0_col0\" class=\"data row0 col0\" >0.16036</td> \n",
       "    </tr>    <tr> \n",
       "        <th id=\"T_1ea56af2_f1b8_11e9_a6fb_107b449f15fclevel0_row1\" class=\"row_heading level0 row1\" >математика</th> \n",
       "        <td id=\"T_1ea56af2_f1b8_11e9_a6fb_107b449f15fcrow1_col0\" class=\"data row1 col0\" >0.10396</td> \n",
       "    </tr>    <tr> \n",
       "        <th id=\"T_1ea56af2_f1b8_11e9_a6fb_107b449f15fclevel0_row2\" class=\"row_heading level0 row2\" >наука</th> \n",
       "        <td id=\"T_1ea56af2_f1b8_11e9_a6fb_107b449f15fcrow2_col0\" class=\"data row2 col0\" >0.0731</td> \n",
       "    </tr>    <tr> \n",
       "        <th id=\"T_1ea56af2_f1b8_11e9_a6fb_107b449f15fclevel0_row3\" class=\"row_heading level0 row3\" >фольклор</th> \n",
       "        <td id=\"T_1ea56af2_f1b8_11e9_a6fb_107b449f15fcrow3_col0\" class=\"data row3 col0\" >0.05638</td> \n",
       "    </tr>    <tr> \n",
       "        <th id=\"T_1ea56af2_f1b8_11e9_a6fb_107b449f15fclevel0_row4\" class=\"row_heading level0 row4\" >университет</th> \n",
       "        <td id=\"T_1ea56af2_f1b8_11e9_a6fb_107b449f15fcrow4_col0\" class=\"data row4 col0\" >0.0528</td> \n",
       "    </tr>    <tr> \n",
       "        <th id=\"T_1ea56af2_f1b8_11e9_a6fb_107b449f15fclevel0_row5\" class=\"row_heading level0 row5\" >экономика</th> \n",
       "        <td id=\"T_1ea56af2_f1b8_11e9_a6fb_107b449f15fcrow5_col0\" class=\"data row5 col0\" >0.04222</td> \n",
       "    </tr>    <tr> \n",
       "        <th id=\"T_1ea56af2_f1b8_11e9_a6fb_107b449f15fclevel0_row6\" class=\"row_heading level0 row6\" >фольклористика</th> \n",
       "        <td id=\"T_1ea56af2_f1b8_11e9_a6fb_107b449f15fcrow6_col0\" class=\"data row6 col0\" >0.04177</td> \n",
       "    </tr>    <tr> \n",
       "        <th id=\"T_1ea56af2_f1b8_11e9_a6fb_107b449f15fclevel0_row7\" class=\"row_heading level0 row7\" >культура</th> \n",
       "        <td id=\"T_1ea56af2_f1b8_11e9_a6fb_107b449f15fcrow7_col0\" class=\"data row7 col0\" >0.03775</td> \n",
       "    </tr>    <tr> \n",
       "        <th id=\"T_1ea56af2_f1b8_11e9_a6fb_107b449f15fclevel0_row8\" class=\"row_heading level0 row8\" >россия</th> \n",
       "        <td id=\"T_1ea56af2_f1b8_11e9_a6fb_107b449f15fcrow8_col0\" class=\"data row8 col0\" >0.03449</td> \n",
       "    </tr>    <tr> \n",
       "        <th id=\"T_1ea56af2_f1b8_11e9_a6fb_107b449f15fclevel0_row9\" class=\"row_heading level0 row9\" >школа</th> \n",
       "        <td id=\"T_1ea56af2_f1b8_11e9_a6fb_107b449f15fcrow9_col0\" class=\"data row9 col0\" >0.02691</td> \n",
       "    </tr></tbody> \n",
       "</table> <style  type=\"text/css\" >\n",
       "</style>  \n",
       "<table id=\"T_1ea56af3_f1b8_11e9_a6fb_107b449f15fc\" style='display:inline'> \n",
       "<thead>    <tr> \n",
       "        <th class=\"blank level0\" ></th> \n",
       "        <th class=\"col_heading level0 col0\" >background_15 @word</th> \n",
       "    </tr></thead> \n",
       "<tbody>    <tr> \n",
       "        <th id=\"T_1ea56af3_f1b8_11e9_a6fb_107b449f15fclevel0_row0\" class=\"row_heading level0 row0\" >университет</th> \n",
       "        <td id=\"T_1ea56af3_f1b8_11e9_a6fb_107b449f15fcrow0_col0\" class=\"data row0 col0\" >0.00531</td> \n",
       "    </tr>    <tr> \n",
       "        <th id=\"T_1ea56af3_f1b8_11e9_a6fb_107b449f15fclevel0_row1\" class=\"row_heading level0 row1\" >наука</th> \n",
       "        <td id=\"T_1ea56af3_f1b8_11e9_a6fb_107b449f15fcrow1_col0\" class=\"data row1 col0\" >0.00473</td> \n",
       "    </tr>    <tr> \n",
       "        <th id=\"T_1ea56af3_f1b8_11e9_a6fb_107b449f15fclevel0_row2\" class=\"row_heading level0 row2\" >говорить</th> \n",
       "        <td id=\"T_1ea56af3_f1b8_11e9_a6fb_107b449f15fcrow2_col0\" class=\"data row2 col0\" >0.00426</td> \n",
       "    </tr>    <tr> \n",
       "        <th id=\"T_1ea56af3_f1b8_11e9_a6fb_107b449f15fclevel0_row3\" class=\"row_heading level0 row3\" >образование</th> \n",
       "        <td id=\"T_1ea56af3_f1b8_11e9_a6fb_107b449f15fcrow3_col0\" class=\"data row3 col0\" >0.00391</td> \n",
       "    </tr>    <tr> \n",
       "        <th id=\"T_1ea56af3_f1b8_11e9_a6fb_107b449f15fclevel0_row4\" class=\"row_heading level0 row4\" >работа</th> \n",
       "        <td id=\"T_1ea56af3_f1b8_11e9_a6fb_107b449f15fcrow4_col0\" class=\"data row4 col0\" >0.00389</td> \n",
       "    </tr>    <tr> \n",
       "        <th id=\"T_1ea56af3_f1b8_11e9_a6fb_107b449f15fclevel0_row5\" class=\"row_heading level0 row5\" >школа</th> \n",
       "        <td id=\"T_1ea56af3_f1b8_11e9_a6fb_107b449f15fcrow5_col0\" class=\"data row5 col0\" >0.00378</td> \n",
       "    </tr>    <tr> \n",
       "        <th id=\"T_1ea56af3_f1b8_11e9_a6fb_107b449f15fclevel0_row6\" class=\"row_heading level0 row6\" >книга</th> \n",
       "        <td id=\"T_1ea56af3_f1b8_11e9_a6fb_107b449f15fcrow6_col0\" class=\"data row6 col0\" >0.00371</td> \n",
       "    </tr>    <tr> \n",
       "        <th id=\"T_1ea56af3_f1b8_11e9_a6fb_107b449f15fclevel0_row7\" class=\"row_heading level0 row7\" >студент</th> \n",
       "        <td id=\"T_1ea56af3_f1b8_11e9_a6fb_107b449f15fcrow7_col0\" class=\"data row7 col0\" >0.00338</td> \n",
       "    </tr>    <tr> \n",
       "        <th id=\"T_1ea56af3_f1b8_11e9_a6fb_107b449f15fclevel0_row8\" class=\"row_heading level0 row8\" >должный</th> \n",
       "        <td id=\"T_1ea56af3_f1b8_11e9_a6fb_107b449f15fcrow8_col0\" class=\"data row8 col0\" >0.00315</td> \n",
       "    </tr>    <tr> \n",
       "        <th id=\"T_1ea56af3_f1b8_11e9_a6fb_107b449f15fclevel0_row9\" class=\"row_heading level0 row9\" >хороший</th> \n",
       "        <td id=\"T_1ea56af3_f1b8_11e9_a6fb_107b449f15fcrow9_col0\" class=\"data row9 col0\" >0.00293</td> \n",
       "    </tr></tbody> \n",
       "</table> "
      ]
     },
     "metadata": {},
     "output_type": "display_data"
    },
    {
     "data": {
      "text/html": [
       "<b> эпос как фольклорный жанр </b><br /> фольклорист сергей неклюдов о живом эпосе, технике сказительства и образе богатыря"
      ]
     },
     "metadata": {},
     "output_type": "display_data"
    },
    {
     "data": {
      "text/html": [
       "<b> аксиоматический метод </b><br /> математик лев беклемишев о неевклидовой геометрии, системе аксиом гильберта и смысле в математике"
      ]
     },
     "metadata": {},
     "output_type": "display_data"
    },
    {
     "data": {
      "text/html": [
       "<b> компьютерные доказательства </b><br /> математик лев беклемишев о теории множеств, интерактивных системах и проблеме о четырех красок"
      ]
     },
     "metadata": {},
     "output_type": "display_data"
    },
    {
     "data": {
      "text/html": [
       "<b> теорема семереди </b><br /> математик илья шкредов о гипотезе эрдеша — турана об арифметических прогрессиях, теории графов и рождении новой науки"
      ]
     },
     "metadata": {},
     "output_type": "display_data"
    },
    {
     "data": {
      "text/html": [
       "<b> как написать диссертацию </b><br /> историк андрей зорин о правильном заголовке, составлении плана и подготовке к устной защите"
      ]
     },
     "metadata": {},
     "output_type": "display_data"
    },
    {
     "data": {
      "text/html": [
       "<b> машина тьюринга </b><br /> математик александр шень об идее универсальной машины, проблеме перебора и случайности"
      ]
     },
     "metadata": {},
     "output_type": "display_data"
    },
    {
     "data": {
      "text/html": [
       "<b> премии # филдсовская премия - 2014 </b><br /> математики сергей ландо и александр буфетов о важности присуждения премии мариам мирзахани, ее вкладе в современную науку и «случайной геометрии»"
      ]
     },
     "metadata": {},
     "output_type": "display_data"
    },
    {
     "data": {
      "text/html": [
       "<b> точка зрения # нужны ли экзамены в высшем образовании </b><br /> мнения экспертов постнауки об эффективности традиционной формы проверки знаний"
      ]
     },
     "metadata": {},
     "output_type": "display_data"
    },
    {
     "data": {
      "text/html": [
       "<b> точка зрения # профсоюз ученых </b><br /> мнения экспертов постнауки о том, как ученые должны защищать свои интересы"
      ]
     },
     "metadata": {},
     "output_type": "display_data"
    },
    {
     "data": {
      "text/html": [
       "<b> точка зрения # зачем нужен «список вак» и когда его отменят? </b><br /> мнения экспертов постнауки о публикациях в «ваковских журналах» и получении научной степени"
      ]
     },
     "metadata": {},
     "output_type": "display_data"
    }
   ],
   "source": [
    "display_html(first_model_html[-1], raw=True)\n",
    "    \n",
    "topic_docs = first_model_top_doc[-1]\n",
    "topic_docs = [str(topic) for topic in topic_docs]\n",
    "\n",
    "for doc_id in topic_docs:\n",
    "        doc_vw = demo_data.get_vw_document(doc_id).values[0][0]\n",
    "        doc_title = get_modality_vw(doc_vw, \"@title\")\n",
    "        doc_snippet = get_modality_vw(doc_vw, \"@snippet\")\n",
    "        display_html(f\"<b>{doc_title}</b><br />{doc_snippet}\", raw=True)"
   ]
  },
  {
   "cell_type": "markdown",
   "metadata": {},
   "source": [
    "## Improving document-topic distribution<a id=\"improving-distribution\"></a>\n",
    "\n",
    "<div style=\"text-align: right\">Back to <a href=#contents>Contents</a></div>\n",
    "\n",
    "We will use another cube for this:"
   ]
  },
  {
   "cell_type": "code",
   "execution_count": null,
   "metadata": {},
   "outputs": [],
   "source": [
    "theta_cube = RegularizersModifierCube(\n",
    "    num_iter=10,\n",
    "    regularizer_parameters=[\n",
    "        {\n",
    "            'regularizer': artm.SmoothSparseThetaRegularizer(name=\"smsp_theta_specific\",\n",
    "                                                           topic_names=specific_topics),\n",
    "            'tau_grid': [-0.05, -0.01, 0]\n",
    "        },\n",
    "        {\n",
    "            'name': \"smooth_theta_bcg\",\n",
    "            'tau_grid': [0.01, 0.1]\n",
    "        },\n",
    "    ],\n",
    "    verbose=True\n",
    ")\n",
    "\n",
    "theta_cube(models, demo_data)"
   ]
  },
  {
   "cell_type": "code",
   "execution_count": 44,
   "metadata": {},
   "outputs": [
    {
     "data": {
      "text/plain": [
       "Experiment psci_experiment\n",
       "\n",
       "Experiment was made with BigARTM 0.9.0\n",
       "Tree:\n",
       "                                ┌##17h48m55s_18d10m2019y###\n",
       "                                │                                                            ┌##18h10m55s_18d10m2019y###\n",
       "                                │                                                            ├##18h11m11s_18d10m2019y###\n",
       "                                │                                                            ├##18h11m26s_18d10m2019y###\n",
       "                                ├##17h49m09s_18d10m2019y###──────────────────────────────────┤\n",
       "                                │                                                            ├##18h11m42s_18d10m2019y###\n",
       "                                │                                                            ├##18h11m57s_18d10m2019y###\n",
       "                                │                                                            └##18h12m12s_18d10m2019y###\n",
       "                                ├##17h49m23s_18d10m2019y###\n",
       "                                ├##17h49m36s_18d10m2019y###\n",
       "                                │                                                            ┌##18h12m53s_18d10m2019y###\n",
       "                                │                                                            ├##18h13m09s_18d10m2019y###\n",
       "                                │                                                            ├##18h13m24s_18d10m2019y###\n",
       "                                ├##17h49m51s_18d10m2019y###──────────────────────────────────┤\n",
       "                                │                                                            ├##18h13m40s_18d10m2019y###\n",
       "                                │                                                            ├##18h13m56s_18d10m2019y###\n",
       "                                │                                                            └##18h14m11s_18d10m2019y###\n",
       "                                ├##17h50m04s_18d10m2019y###\n",
       "                                ├##17h50m18s_18d10m2019y###\n",
       "                                │                                                            ┌##18h15m12s_18d10m2019y###\n",
       "                                │                                                            ├##18h15m28s_18d10m2019y###\n",
       "                                │                                                            ├##18h15m44s_18d10m2019y###\n",
       "                                ├##17h50m32s_18d10m2019y###──────────────────────────────────┤\n",
       "                                │                                                            ├##18h16m00s_18d10m2019y###\n",
       "                                │                                                            ├##18h16m15s_18d10m2019y###\n",
       "                                │                                                            └##18h16m31s_18d10m2019y###\n",
       "                                ├##17h50m46s_18d10m2019y###\n",
       "<<<<<<<<<<<root>>>>>>>>>>>──────┤\n",
       "                                ├##17h50m59s_18d10m2019y###\n",
       "                                │                                                            ┌##18h17m58s_18d10m2019y###\n",
       "                                │                                                            ├##18h18m13s_18d10m2019y###\n",
       "                                │                                                            ├##18h18m29s_18d10m2019y###\n",
       "                                ├##17h51m14s_18d10m2019y###──────────────────────────────────┤\n",
       "                                │                                                            ├##18h18m45s_18d10m2019y###\n",
       "                                │                                                            ├##18h19m01s_18d10m2019y###\n",
       "                                │                                                            └##18h19m16s_18d10m2019y###\n",
       "                                ├##17h51m27s_18d10m2019y###\n",
       "                                ├##17h51m41s_18d10m2019y###\n",
       "                                │                                                            ┌##18h21m08s_18d10m2019y###\n",
       "                                │                                                            ├##18h21m24s_18d10m2019y###\n",
       "                                │                                                            ├##18h21m39s_18d10m2019y###\n",
       "                                ├##17h51m55s_18d10m2019y###──────────────────────────────────┤\n",
       "                                │                                                            ├##18h21m55s_18d10m2019y###\n",
       "                                │                                                            ├##18h22m11s_18d10m2019y###\n",
       "                                │                                                            └##18h22m27s_18d10m2019y###\n",
       "                                ├##17h52m09s_18d10m2019y###\n",
       "                                ├##17h52m23s_18d10m2019y###\n",
       "                                │                                                            ┌##18h24m45s_18d10m2019y###\n",
       "                                │                                                            ├##18h25m01s_18d10m2019y###\n",
       "                                │                                                            ├##18h25m17s_18d10m2019y###\n",
       "                                ├##17h52m37s_18d10m2019y###──────────────────────────────────┤\n",
       "                                │                                                            ├##18h25m33s_18d10m2019y###\n",
       "                                │                                                            ├##18h25m49s_18d10m2019y###\n",
       "                                │                                                            └##18h26m04s_18d10m2019y###\n",
       "                                └##17h52m51s_18d10m2019y###\n",
       "Cubes:\n",
       " START                          | REG_MODIFIER                                               | REG_MODIFIER                                              \n",
       "                                |                                                            |                                                           \n",
       " name:                          | tau_grid:                                                  | tau_grid:                                                 \n",
       "   ARTM                         |   0,                                                       |   -0.05,                                                  \n",
       " num_processors:                |   0.005,                                                   |   -0.01,                                                  \n",
       "   3                            |   ...,                                                     |   0                                                       \n",
       " num_topics:                    |   0.02,                                                    | regularizer:                                              \n",
       "   16                           |   0.025                                                    |   name=smsp_theta_specific,                               \n",
       " topic_names:                   | regularizer:                                               |   doc_titles=[],                                          \n",
       "   topic_0,                     |   name=decorrelation_phi,                                  |   doc_topic_coef=[],                                      \n",
       "   topic_1,                     |   class_ids=[@word],                                       |   alpha_iter=[],                                          \n",
       "   ...,                         |   topic_names=[topic_0, topic_1, ..., topic_13, topic_14], |   topic_names=[topic_0, topic_1, ..., topic_13, topic_14],\n",
       "   topic_14,                    |   tau=1.0                                                  |   tau=1.0                                                 \n",
       "   background_15                |    +                                                       |    +                                                      \n",
       " class_ids:                     | tau_grid:                                                  | tau_grid:                                                 \n",
       "   @word=1.0,                   |   -0.05,                                                   |   0.01,                                                   \n",
       "   @2gramm=8.796286296359932,   |   0,                                                       |   0.1                                                     \n",
       "   @3gramm=246.98104755341143,  |   0.05                                                     | name:                                                     \n",
       "   @post_tag=84.10455292184933  | regularizer:                                               |   smooth_theta_bcg                                        \n",
       " seed:                          |   name=smsp_phi_specific,                                  |                                                           \n",
       "   -1                           |   class_ids=[@word],                                       |                                                           \n",
       "                                |   topic_names=[topic_0, topic_1, ..., topic_13, topic_14], |                                                           \n",
       "                                |   dictionary=,                                             |                                                           \n",
       "                                |   tau=1.0                                                  |                                                           \n",
       "                                |    +                                                       |                                                           \n",
       "                                | tau_grid:                                                  |                                                           \n",
       "                                |   0.1                                                      |                                                           \n",
       "                                | name:                                                      |                                                           \n",
       "                                |   smooth_phi_bcg                                           |                                                           \n",
       "                                |                                                            |                                                           \n",
       "────────────────────────────────+────────────────────────────────────────────────────────────+────────────────────────────────────────────────────────────+──────────────────────────────────────────────────────────\n",
       "                                |                                                            |                                                           "
      ]
     },
     "metadata": {},
     "output_type": "display_data"
    }
   ],
   "source": [
    "experiment.show()"
   ]
  },
  {
   "cell_type": "code",
   "execution_count": 46,
   "metadata": {},
   "outputs": [
    {
     "data": {
      "image/png": "[encoded data removed]",
      "text/plain": [
       "<Figure size 576x576 with 1 Axes>"
      ]
     },
     "metadata": {
      "needs_background": "light"
     },
     "output_type": "display_data"
    }
   ],
   "source": [
    "tms = experiment.models\n",
    "colors = np.linspace(0, 0.65, len(tms))\n",
    "\n",
    "plt.figure(figsize=(8,8))\n",
    "\n",
    "for i, tm in enumerate(list(tms.values())[1:]):\n",
    "    score = tm.scores['TopicKernel@word.average_purity']\n",
    "    plt.plot(score, color=cm.Blues(colors[i]))\n",
    "    \n",
    "    score = tm.scores['TopicKernel@word.average_contrast']\n",
    "    plt.plot(score, color=cm.Reds(colors[i]))\n",
    "    \n",
    "    score = tm.scores['SparsityThetaScore']\n",
    "    plt.plot(score, color=cm.Greens(colors[i]))\n",
    "\n",
    "plt.show()"
   ]
  },
  {
   "cell_type": "code",
   "execution_count": 51,
   "metadata": {
    "scrolled": true
   },
   "outputs": [
    {
     "data": {
      "text/plain": [
       "3"
      ]
     },
     "execution_count": 51,
     "metadata": {},
     "output_type": "execute_result"
    }
   ],
   "source": [
    "query = (\n",
    "    \"TopicKernel@word.average_contrast > 0.95 * MAXIMUM(TopicKernel@word.average_contrast) \"\n",
    "    \"and PerplexityScore@all < 1.1 * MINIMUM(PerplexityScore@all) \"\n",
    "    \"and SparsityThetaScore > MEDIAN(SparsityThetaScore) \"\n",
    "    \"and TopicKernel@word.average_purity -> max \"\n",
    "    \"COLLECT 3\"\n",
    ")\n",
    "models = experiment.select(query)\n",
    "\n",
    "len(models)"
   ]
  },
  {
   "cell_type": "code",
   "execution_count": 52,
   "metadata": {},
   "outputs": [
    {
     "name": "stdout",
     "output_type": "stream",
     "text": [
      "smooth_phi_bcg 0.1\n",
      "smooth_theta_bcg 0.1\n",
      "decorrelation_phi 0.02\n",
      "smsp_phi_specific 0.0\n",
      "smsp_theta_specific -1.1118567555933032\n",
      "20892270592.0\n",
      "0.503779947757721\n",
      "0.18242311477661133\n",
      "------\n",
      "smooth_phi_bcg 0.1\n",
      "smooth_theta_bcg 0.1\n",
      "decorrelation_phi 0.015\n",
      "smsp_phi_specific 0.0\n",
      "smsp_theta_specific -1.1118567555933032\n",
      "20889540608.0\n",
      "0.5037607550621033\n",
      "0.18155907094478607\n",
      "------\n",
      "smooth_phi_bcg 0.1\n",
      "smooth_theta_bcg 0.1\n",
      "decorrelation_phi 0.01\n",
      "smsp_phi_specific 0.0\n",
      "smsp_theta_specific -1.1118567555933032\n",
      "20887879680.0\n",
      "0.503887951374054\n",
      "0.18075668811798096\n",
      "------\n"
     ]
    }
   ],
   "source": [
    "for model in models:\n",
    "    describe_model(model)"
   ]
  },
  {
   "cell_type": "markdown",
   "metadata": {},
   "source": [
    "## Exploring best model (after refining the experiment)<a id=\"exploring-best2\"></a>\n",
    "\n",
    "<div style=\"text-align: right\">Back to <a href=#contents>Contents</a></div>"
   ]
  },
  {
   "cell_type": "code",
   "execution_count": 53,
   "metadata": {},
   "outputs": [],
   "source": [
    "best_model = models[0]"
   ]
  },
  {
   "cell_type": "code",
   "execution_count": 54,
   "metadata": {},
   "outputs": [],
   "source": [
    "first_model_top_tok = TopTokensViewer(best_model, num_top_tokens=10, method='phi')\n",
    "first_model_html =  first_model_top_tok.to_html(first_model_top_tok.view(),thresh=thresh)\n",
    "first_model_top_doc = TopDocumentsViewer(best_model, dataset=demo_data).view()"
   ]
  },
  {
   "cell_type": "code",
   "execution_count": 57,
   "metadata": {
    "scrolled": false
   },
   "outputs": [
    {
     "data": {
      "text/html": [
       "<style  type=\"text/css\" >\n",
       "</style>  \n",
       "<table id=\"T_e1608b02_f1bc_11e9_a6fb_107b449f15fc\" style='display:inline'> \n",
       "<thead>    <tr> \n",
       "        <th class=\"blank level0\" ></th> \n",
       "        <th class=\"col_heading level0 col0\" >topic_0 @2gramm</th> \n",
       "    </tr></thead> \n",
       "<tbody>    <tr> \n",
       "        <th id=\"T_e1608b02_f1bc_11e9_a6fb_107b449f15fclevel0_row0\" class=\"row_heading level0 row0\" >нервный_клетка</th> \n",
       "        <td id=\"T_e1608b02_f1bc_11e9_a6fb_107b449f15fcrow0_col0\" class=\"data row0 col0\" >0.01427</td> \n",
       "    </tr>    <tr> \n",
       "        <th id=\"T_e1608b02_f1bc_11e9_a6fb_107b449f15fclevel0_row1\" class=\"row_heading level0 row1\" >нервный_система</th> \n",
       "        <td id=\"T_e1608b02_f1bc_11e9_a6fb_107b449f15fcrow1_col0\" class=\"data row1 col0\" >0.01096</td> \n",
       "    </tr>    <tr> \n",
       "        <th id=\"T_e1608b02_f1bc_11e9_a6fb_107b449f15fclevel0_row2\" class=\"row_heading level0 row2\" >головной_мозг</th> \n",
       "        <td id=\"T_e1608b02_f1bc_11e9_a6fb_107b449f15fcrow2_col0\" class=\"data row2 col0\" >0.00863</td> \n",
       "    </tr>    <tr> \n",
       "        <th id=\"T_e1608b02_f1bc_11e9_a6fb_107b449f15fclevel0_row3\" class=\"row_heading level0 row3\" >орган_чувство</th> \n",
       "        <td id=\"T_e1608b02_f1bc_11e9_a6fb_107b449f15fcrow3_col0\" class=\"data row3 col0\" >0.00543</td> \n",
       "    </tr>    <tr> \n",
       "        <th id=\"T_e1608b02_f1bc_11e9_a6fb_107b449f15fclevel0_row4\" class=\"row_heading level0 row4\" >человеческий_мозг</th> \n",
       "        <td id=\"T_e1608b02_f1bc_11e9_a6fb_107b449f15fcrow4_col0\" class=\"data row4 col0\" >0.00523</td> \n",
       "    </tr>    <tr> \n",
       "        <th id=\"T_e1608b02_f1bc_11e9_a6fb_107b449f15fclevel0_row5\" class=\"row_heading level0 row5\" >когнитивный_психология</th> \n",
       "        <td id=\"T_e1608b02_f1bc_11e9_a6fb_107b449f15fcrow5_col0\" class=\"data row5 col0\" >0.00521</td> \n",
       "    </tr>    <tr> \n",
       "        <th id=\"T_e1608b02_f1bc_11e9_a6fb_107b449f15fclevel0_row6\" class=\"row_heading level0 row6\" >система_отсчёт</th> \n",
       "        <td id=\"T_e1608b02_f1bc_11e9_a6fb_107b449f15fcrow6_col0\" class=\"data row6 col0\" >0.00493</td> \n",
       "    </tr>    <tr> \n",
       "        <th id=\"T_e1608b02_f1bc_11e9_a6fb_107b449f15fclevel0_row7\" class=\"row_heading level0 row7\" >работа_мозг</th> \n",
       "        <td id=\"T_e1608b02_f1bc_11e9_a6fb_107b449f15fcrow7_col0\" class=\"data row7 col0\" >0.00473</td> \n",
       "    </tr>    <tr> \n",
       "        <th id=\"T_e1608b02_f1bc_11e9_a6fb_107b449f15fclevel0_row8\" class=\"row_heading level0 row8\" >решение_задача</th> \n",
       "        <td id=\"T_e1608b02_f1bc_11e9_a6fb_107b449f15fcrow8_col0\" class=\"data row8 col0\" >0.00467</td> \n",
       "    </tr>    <tr> \n",
       "        <th id=\"T_e1608b02_f1bc_11e9_a6fb_107b449f15fclevel0_row9\" class=\"row_heading level0 row9\" >данный_момент</th> \n",
       "        <td id=\"T_e1608b02_f1bc_11e9_a6fb_107b449f15fcrow9_col0\" class=\"data row9 col0\" >0.00401</td> \n",
       "    </tr></tbody> \n",
       "</table> <style  type=\"text/css\" >\n",
       "</style>  \n",
       "<table id=\"T_e1608b03_f1bc_11e9_a6fb_107b449f15fc\" style='display:inline'> \n",
       "<thead>    <tr> \n",
       "        <th class=\"blank level0\" ></th> \n",
       "        <th class=\"col_heading level0 col0\" >topic_0 @3gramm</th> \n",
       "    </tr></thead> \n",
       "<tbody>    <tr> \n",
       "        <th id=\"T_e1608b03_f1bc_11e9_a6fb_107b449f15fclevel0_row0\" class=\"row_heading level0 row0\" >общий_теория_относительность</th> \n",
       "        <td id=\"T_e1608b03_f1bc_11e9_a6fb_107b449f15fcrow0_col0\" class=\"data row0 col0\" >0.19358</td> \n",
       "    </tr>    <tr> \n",
       "        <th id=\"T_e1608b03_f1bc_11e9_a6fb_107b449f15fclevel0_row1\" class=\"row_heading level0 row1\" >специальный_теория_относительность</th> \n",
       "        <td id=\"T_e1608b03_f1bc_11e9_a6fb_107b449f15fcrow1_col0\" class=\"data row1 col0\" >0.13755</td> \n",
       "    </tr>    <tr> \n",
       "        <th id=\"T_e1608b03_f1bc_11e9_a6fb_107b449f15fclevel0_row2\" class=\"row_heading level0 row2\" >кора_головной_мозг</th> \n",
       "        <td id=\"T_e1608b03_f1bc_11e9_a6fb_107b449f15fcrow2_col0\" class=\"data row2 col0\" >0.12069</td> \n",
       "    </tr>    <tr> \n",
       "        <th id=\"T_e1608b03_f1bc_11e9_a6fb_107b449f15fclevel0_row3\" class=\"row_heading level0 row3\" >научный_точка_зрение</th> \n",
       "        <td id=\"T_e1608b03_f1bc_11e9_a6fb_107b449f15fcrow3_col0\" class=\"data row3 col0\" >0.06456</td> \n",
       "    </tr>    <tr> \n",
       "        <th id=\"T_e1608b03_f1bc_11e9_a6fb_107b449f15fclevel0_row4\" class=\"row_heading level0 row4\" >инерциальный_система_отсчёт</th> \n",
       "        <td id=\"T_e1608b03_f1bc_11e9_a6fb_107b449f15fcrow4_col0\" class=\"data row4 col0\" >0.05895</td> \n",
       "    </tr>    <tr> \n",
       "        <th id=\"T_e1608b03_f1bc_11e9_a6fb_107b449f15fclevel0_row5\" class=\"row_heading level0 row5\" >рождаться_наукоемкий_бизнес</th> \n",
       "        <td id=\"T_e1608b03_f1bc_11e9_a6fb_107b449f15fcrow5_col0\" class=\"data row5 col0\" >0.05875</td> \n",
       "    </tr>    <tr> \n",
       "        <th id=\"T_e1608b03_f1bc_11e9_a6fb_107b449f15fclevel0_row6\" class=\"row_heading level0 row6\" >история_политический_мысль</th> \n",
       "        <td id=\"T_e1608b03_f1bc_11e9_a6fb_107b449f15fcrow6_col0\" class=\"data row6 col0\" >0.03337</td> \n",
       "    </tr>    <tr> \n",
       "        <th id=\"T_e1608b03_f1bc_11e9_a6fb_107b449f15fclevel0_row7\" class=\"row_heading level0 row7\" >заметный_экономический_эффект</th> \n",
       "        <td id=\"T_e1608b03_f1bc_11e9_a6fb_107b449f15fcrow7_col0\" class=\"data row7 col0\" >0.03088</td> \n",
       "    </tr>    <tr> \n",
       "        <th id=\"T_e1608b03_f1bc_11e9_a6fb_107b449f15fclevel0_row8\" class=\"row_heading level0 row8\" >отдел_головной_мозг</th> \n",
       "        <td id=\"T_e1608b03_f1bc_11e9_a6fb_107b449f15fcrow8_col0\" class=\"data row8 col0\" >0.02526</td> \n",
       "    </tr>    <tr> \n",
       "        <th id=\"T_e1608b03_f1bc_11e9_a6fb_107b449f15fclevel0_row9\" class=\"row_heading level0 row9\" >излучать_электромагнитный_волна</th> \n",
       "        <td id=\"T_e1608b03_f1bc_11e9_a6fb_107b449f15fcrow9_col0\" class=\"data row9 col0\" >0.02241</td> \n",
       "    </tr></tbody> \n",
       "</table> <style  type=\"text/css\" >\n",
       "</style>  \n",
       "<table id=\"T_e1608b04_f1bc_11e9_a6fb_107b449f15fc\" style='display:inline'> \n",
       "<thead>    <tr> \n",
       "        <th class=\"blank level0\" ></th> \n",
       "        <th class=\"col_heading level0 col0\" >topic_0 @post_tag</th> \n",
       "    </tr></thead> \n",
       "<tbody>    <tr> \n",
       "        <th id=\"T_e1608b04_f1bc_11e9_a6fb_107b449f15fclevel0_row0\" class=\"row_heading level0 row0\" >мозг</th> \n",
       "        <td id=\"T_e1608b04_f1bc_11e9_a6fb_107b449f15fcrow0_col0\" class=\"data row0 col0\" >0.13548</td> \n",
       "    </tr>    <tr> \n",
       "        <th id=\"T_e1608b04_f1bc_11e9_a6fb_107b449f15fclevel0_row1\" class=\"row_heading level0 row1\" >психология</th> \n",
       "        <td id=\"T_e1608b04_f1bc_11e9_a6fb_107b449f15fcrow1_col0\" class=\"data row1 col0\" >0.13335</td> \n",
       "    </tr>    <tr> \n",
       "        <th id=\"T_e1608b04_f1bc_11e9_a6fb_107b449f15fclevel0_row2\" class=\"row_heading level0 row2\" >нейробиология</th> \n",
       "        <td id=\"T_e1608b04_f1bc_11e9_a6fb_107b449f15fcrow2_col0\" class=\"data row2 col0\" >0.06596</td> \n",
       "    </tr>    <tr> \n",
       "        <th id=\"T_e1608b04_f1bc_11e9_a6fb_107b449f15fclevel0_row3\" class=\"row_heading level0 row3\" >биология</th> \n",
       "        <td id=\"T_e1608b04_f1bc_11e9_a6fb_107b449f15fcrow3_col0\" class=\"data row3 col0\" >0.06255</td> \n",
       "    </tr>    <tr> \n",
       "        <th id=\"T_e1608b04_f1bc_11e9_a6fb_107b449f15fclevel0_row4\" class=\"row_heading level0 row4\" >нейрон</th> \n",
       "        <td id=\"T_e1608b04_f1bc_11e9_a6fb_107b449f15fcrow4_col0\" class=\"data row4 col0\" >0.04902</td> \n",
       "    </tr>    <tr> \n",
       "        <th id=\"T_e1608b04_f1bc_11e9_a6fb_107b449f15fclevel0_row5\" class=\"row_heading level0 row5\" >нейрофизиология</th> \n",
       "        <td id=\"T_e1608b04_f1bc_11e9_a6fb_107b449f15fcrow5_col0\" class=\"data row5 col0\" >0.041</td> \n",
       "    </tr>    <tr> \n",
       "        <th id=\"T_e1608b04_f1bc_11e9_a6fb_107b449f15fclevel0_row6\" class=\"row_heading level0 row6\" >когнитивная_психология</th> \n",
       "        <td id=\"T_e1608b04_f1bc_11e9_a6fb_107b449f15fcrow6_col0\" class=\"data row6 col0\" >0.04011</td> \n",
       "    </tr>    <tr> \n",
       "        <th id=\"T_e1608b04_f1bc_11e9_a6fb_107b449f15fclevel0_row7\" class=\"row_heading level0 row7\" >память</th> \n",
       "        <td id=\"T_e1608b04_f1bc_11e9_a6fb_107b449f15fcrow7_col0\" class=\"data row7 col0\" >0.03654</td> \n",
       "    </tr>    <tr> \n",
       "        <th id=\"T_e1608b04_f1bc_11e9_a6fb_107b449f15fclevel0_row8\" class=\"row_heading level0 row8\" >мышление</th> \n",
       "        <td id=\"T_e1608b04_f1bc_11e9_a6fb_107b449f15fcrow8_col0\" class=\"data row8 col0\" >0.03606</td> \n",
       "    </tr>    <tr> \n",
       "        <th id=\"T_e1608b04_f1bc_11e9_a6fb_107b449f15fclevel0_row9\" class=\"row_heading level0 row9\" >нейропсихология</th> \n",
       "        <td id=\"T_e1608b04_f1bc_11e9_a6fb_107b449f15fcrow9_col0\" class=\"data row9 col0\" >0.02526</td> \n",
       "    </tr></tbody> \n",
       "</table> <style  type=\"text/css\" >\n",
       "</style>  \n",
       "<table id=\"T_e1608b05_f1bc_11e9_a6fb_107b449f15fc\" style='display:inline'> \n",
       "<thead>    <tr> \n",
       "        <th class=\"blank level0\" ></th> \n",
       "        <th class=\"col_heading level0 col0\" >topic_0 @word</th> \n",
       "    </tr></thead> \n",
       "<tbody>    <tr> \n",
       "        <th id=\"T_e1608b05_f1bc_11e9_a6fb_107b449f15fclevel0_row0\" class=\"row_heading level0 row0\" >мозг</th> \n",
       "        <td id=\"T_e1608b05_f1bc_11e9_a6fb_107b449f15fcrow0_col0\" class=\"data row0 col0\" >0.01346</td> \n",
       "    </tr>    <tr> \n",
       "        <th id=\"T_e1608b05_f1bc_11e9_a6fb_107b449f15fclevel0_row1\" class=\"row_heading level0 row1\" >нейрон</th> \n",
       "        <td id=\"T_e1608b05_f1bc_11e9_a6fb_107b449f15fcrow1_col0\" class=\"data row1 col0\" >0.006</td> \n",
       "    </tr>    <tr> \n",
       "        <th id=\"T_e1608b05_f1bc_11e9_a6fb_107b449f15fclevel0_row2\" class=\"row_heading level0 row2\" >память</th> \n",
       "        <td id=\"T_e1608b05_f1bc_11e9_a6fb_107b449f15fcrow2_col0\" class=\"data row2 col0\" >0.00497</td> \n",
       "    </tr>    <tr> \n",
       "        <th id=\"T_e1608b05_f1bc_11e9_a6fb_107b449f15fclevel0_row3\" class=\"row_heading level0 row3\" >образ</th> \n",
       "        <td id=\"T_e1608b05_f1bc_11e9_a6fb_107b449f15fcrow3_col0\" class=\"data row3 col0\" >0.00352</td> \n",
       "    </tr>    <tr> \n",
       "        <th id=\"T_e1608b05_f1bc_11e9_a6fb_107b449f15fclevel0_row4\" class=\"row_heading level0 row4\" >процесс</th> \n",
       "        <td id=\"T_e1608b05_f1bc_11e9_a6fb_107b449f15fcrow4_col0\" class=\"data row4 col0\" >0.00334</td> \n",
       "    </tr>    <tr> \n",
       "        <th id=\"T_e1608b05_f1bc_11e9_a6fb_107b449f15fclevel0_row5\" class=\"row_heading level0 row5\" >задача</th> \n",
       "        <td id=\"T_e1608b05_f1bc_11e9_a6fb_107b449f15fcrow5_col0\" class=\"data row5 col0\" >0.00333</td> \n",
       "    </tr>    <tr> \n",
       "        <th id=\"T_e1608b05_f1bc_11e9_a6fb_107b449f15fclevel0_row6\" class=\"row_heading level0 row6\" >исследование</th> \n",
       "        <td id=\"T_e1608b05_f1bc_11e9_a6fb_107b449f15fcrow6_col0\" class=\"data row6 col0\" >0.00314</td> \n",
       "    </tr>    <tr> \n",
       "        <th id=\"T_e1608b05_f1bc_11e9_a6fb_107b449f15fclevel0_row7\" class=\"row_heading level0 row7\" >сон</th> \n",
       "        <td id=\"T_e1608b05_f1bc_11e9_a6fb_107b449f15fcrow7_col0\" class=\"data row7 col0\" >0.00312</td> \n",
       "    </tr>    <tr> \n",
       "        <th id=\"T_e1608b05_f1bc_11e9_a6fb_107b449f15fclevel0_row8\" class=\"row_heading level0 row8\" >эмоция</th> \n",
       "        <td id=\"T_e1608b05_f1bc_11e9_a6fb_107b449f15fcrow8_col0\" class=\"data row8 col0\" >0.00303</td> \n",
       "    </tr>    <tr> \n",
       "        <th id=\"T_e1608b05_f1bc_11e9_a6fb_107b449f15fclevel0_row9\" class=\"row_heading level0 row9\" >объект</th> \n",
       "        <td id=\"T_e1608b05_f1bc_11e9_a6fb_107b449f15fcrow9_col0\" class=\"data row9 col0\" >0.00293</td> \n",
       "    </tr></tbody> \n",
       "</table> "
      ]
     },
     "metadata": {},
     "output_type": "display_data"
    },
    {
     "data": {
      "text/html": [
       "<b> страхпричины, механизмы и рефлексы </b><br /> 5 фактов о физиологических основаниях и исследованиях страха"
      ]
     },
     "metadata": {},
     "output_type": "display_data"
    },
    {
     "data": {
      "text/html": [
       "<b> модели памяти в когнитивной психологии </b><br /> психолог мария фаликман о системах памяти, принципах хранения информации и причинах забывания"
      ]
     },
     "metadata": {},
     "output_type": "display_data"
    },
    {
     "data": {
      "text/html": [
       "<b> faqзеркальные нейроны </b><br /> 7 фактов о нейронах, активность которых отображает чужие действия"
      ]
     },
     "metadata": {},
     "output_type": "display_data"
    },
    {
     "data": {
      "text/html": [
       "<b> faqнейрогибридные системы </b><br /> 7 фактов об изучении нейронов в чашке петри"
      ]
     },
     "metadata": {},
     "output_type": "display_data"
    },
    {
     "data": {
      "text/html": [
       "<b> faqкомандные нейроны </b><br /> 5 фактов о различных функциях клеток в нервной системе"
      ]
     },
     "metadata": {},
     "output_type": "display_data"
    },
    {
     "data": {
      "text/html": [
       "<b> клеточные следы сознания в мозге </b><br /> нейробиолог константин анохин об исследованиях субъективного опыта, эпизодической памяти у животных и активности клеток в момент запоминания"
      ]
     },
     "metadata": {},
     "output_type": "display_data"
    },
    {
     "data": {
      "text/html": [
       "<b> зрительное внимание </b><br /> психолог мария фаликман о функции отбора, прожекторе внимания и теории интеграции признаков"
      ]
     },
     "metadata": {},
     "output_type": "display_data"
    },
    {
     "data": {
      "text/html": [
       "<b> физиология радости </b><br /> физиолог павел умрюхин о последствиях эмоционального стресса, оптимуме мотивации и потребности в творчестве"
      ]
     },
     "metadata": {},
     "output_type": "display_data"
    },
    {
     "data": {
      "text/html": [
       "<b> проблема сознания и мозга </b><br /> нейробиолог константин анохин о коре головного мозга, изучении нервных коррелятов сознания и коматозных состояниях"
      ]
     },
     "metadata": {},
     "output_type": "display_data"
    },
    {
     "data": {
      "text/html": [
       "<b> молекулярные механизмы памяти </b><br /> нейробиолог павел балабан о процессе обучения, «молекуле памяти» и высших функциях мозга"
      ]
     },
     "metadata": {},
     "output_type": "display_data"
    },
    {
     "data": {
      "text/html": [
       "<style  type=\"text/css\" >\n",
       "</style>  \n",
       "<table id=\"T_e1608b06_f1bc_11e9_a6fb_107b449f15fc\" style='display:inline'> \n",
       "<thead>    <tr> \n",
       "        <th class=\"blank level0\" ></th> \n",
       "        <th class=\"col_heading level0 col0\" >topic_1 @2gramm</th> \n",
       "    </tr></thead> \n",
       "<tbody>    <tr> \n",
       "        <th id=\"T_e1608b06_f1bc_11e9_a6fb_107b449f15fclevel0_row0\" class=\"row_heading level0 row0\" >нобелевский_премия</th> \n",
       "        <td id=\"T_e1608b06_f1bc_11e9_a6fb_107b449f15fcrow0_col0\" class=\"data row0 col0\" >0.01005</td> \n",
       "    </tr>    <tr> \n",
       "        <th id=\"T_e1608b06_f1bc_11e9_a6fb_107b449f15fclevel0_row1\" class=\"row_heading level0 row1\" >квантовый_компьютер</th> \n",
       "        <td id=\"T_e1608b06_f1bc_11e9_a6fb_107b449f15fcrow1_col0\" class=\"data row1 col0\" >0.00837</td> \n",
       "    </tr>    <tr> \n",
       "        <th id=\"T_e1608b06_f1bc_11e9_a6fb_107b449f15fclevel0_row2\" class=\"row_heading level0 row2\" >магнитный_поль</th> \n",
       "        <td id=\"T_e1608b06_f1bc_11e9_a6fb_107b449f15fcrow2_col0\" class=\"data row2 col0\" >0.00682</td> \n",
       "    </tr>    <tr> \n",
       "        <th id=\"T_e1608b06_f1bc_11e9_a6fb_107b449f15fclevel0_row3\" class=\"row_heading level0 row3\" >длина_волна</th> \n",
       "        <td id=\"T_e1608b06_f1bc_11e9_a6fb_107b449f15fcrow3_col0\" class=\"data row3 col0\" >0.00617</td> \n",
       "    </tr>    <tr> \n",
       "        <th id=\"T_e1608b06_f1bc_11e9_a6fb_107b449f15fclevel0_row4\" class=\"row_heading level0 row4\" >магнитный_пол</th> \n",
       "        <td id=\"T_e1608b06_f1bc_11e9_a6fb_107b449f15fcrow4_col0\" class=\"data row4 col0\" >0.00531</td> \n",
       "    </tr>    <tr> \n",
       "        <th id=\"T_e1608b06_f1bc_11e9_a6fb_107b449f15fclevel0_row5\" class=\"row_heading level0 row5\" >органический_химия</th> \n",
       "        <td id=\"T_e1608b06_f1bc_11e9_a6fb_107b449f15fcrow5_col0\" class=\"data row5 col0\" >0.00514</td> \n",
       "    </tr>    <tr> \n",
       "        <th id=\"T_e1608b06_f1bc_11e9_a6fb_107b449f15fclevel0_row6\" class=\"row_heading level0 row6\" >кристаллический_структура</th> \n",
       "        <td id=\"T_e1608b06_f1bc_11e9_a6fb_107b449f15fcrow6_col0\" class=\"data row6 col0\" >0.00498</td> \n",
       "    </tr>    <tr> \n",
       "        <th id=\"T_e1608b06_f1bc_11e9_a6fb_107b449f15fclevel0_row7\" class=\"row_heading level0 row7\" >твёрдый_тело</th> \n",
       "        <td id=\"T_e1608b06_f1bc_11e9_a6fb_107b449f15fcrow7_col0\" class=\"data row7 col0\" >0.00475</td> \n",
       "    </tr>    <tr> \n",
       "        <th id=\"T_e1608b06_f1bc_11e9_a6fb_107b449f15fclevel0_row8\" class=\"row_heading level0 row8\" >квантовый_механика</th> \n",
       "        <td id=\"T_e1608b06_f1bc_11e9_a6fb_107b449f15fcrow8_col0\" class=\"data row8 col0\" >0.00471</td> \n",
       "    </tr>    <tr> \n",
       "        <th id=\"T_e1608b06_f1bc_11e9_a6fb_107b449f15fclevel0_row9\" class=\"row_heading level0 row9\" >высокий_давление</th> \n",
       "        <td id=\"T_e1608b06_f1bc_11e9_a6fb_107b449f15fcrow9_col0\" class=\"data row9 col0\" >0.00458</td> \n",
       "    </tr></tbody> \n",
       "</table> <style  type=\"text/css\" >\n",
       "</style>  \n",
       "<table id=\"T_e1608b07_f1bc_11e9_a6fb_107b449f15fc\" style='display:inline'> \n",
       "<thead>    <tr> \n",
       "        <th class=\"blank level0\" ></th> \n",
       "        <th class=\"col_heading level0 col0\" >topic_1 @3gramm</th> \n",
       "    </tr></thead> \n",
       "<tbody>    <tr> \n",
       "        <th id=\"T_e1608b07_f1bc_11e9_a6fb_107b449f15fclevel0_row0\" class=\"row_heading level0 row0\" >получить_нобелевский_премия</th> \n",
       "        <td id=\"T_e1608b07_f1bc_11e9_a6fb_107b449f15fcrow0_col0\" class=\"data row0 col0\" >0.16351</td> \n",
       "    </tr>    <tr> \n",
       "        <th id=\"T_e1608b07_f1bc_11e9_a6fb_107b449f15fclevel0_row1\" class=\"row_heading level0 row1\" >играть_важный_роль</th> \n",
       "        <td id=\"T_e1608b07_f1bc_11e9_a6fb_107b449f15fcrow1_col0\" class=\"data row1 col0\" >0.08965</td> \n",
       "    </tr>    <tr> \n",
       "        <th id=\"T_e1608b07_f1bc_11e9_a6fb_107b449f15fclevel0_row2\" class=\"row_heading level0 row2\" >увеличение_продолжительность_жизнь</th> \n",
       "        <td id=\"T_e1608b07_f1bc_11e9_a6fb_107b449f15fcrow2_col0\" class=\"data row2 col0\" >0.05722</td> \n",
       "    </tr>    <tr> \n",
       "        <th id=\"T_e1608b07_f1bc_11e9_a6fb_107b449f15fclevel0_row3\" class=\"row_heading level0 row3\" >средство_массовый_информация</th> \n",
       "        <td id=\"T_e1608b07_f1bc_11e9_a6fb_107b449f15fcrow3_col0\" class=\"data row3 col0\" >0.05355</td> \n",
       "    </tr>    <tr> \n",
       "        <th id=\"T_e1608b07_f1bc_11e9_a6fb_107b449f15fclevel0_row4\" class=\"row_heading level0 row4\" >лауреат_нобелевский_премия</th> \n",
       "        <td id=\"T_e1608b07_f1bc_11e9_a6fb_107b449f15fcrow4_col0\" class=\"data row4 col0\" >0.03701</td> \n",
       "    </tr>    <tr> \n",
       "        <th id=\"T_e1608b07_f1bc_11e9_a6fb_107b449f15fclevel0_row5\" class=\"row_heading level0 row5\" >решение_нобелевский_комитет</th> \n",
       "        <td id=\"T_e1608b07_f1bc_11e9_a6fb_107b449f15fcrow5_col0\" class=\"data row5 col0\" >0.03543</td> \n",
       "    </tr>    <tr> \n",
       "        <th id=\"T_e1608b07_f1bc_11e9_a6fb_107b449f15fclevel0_row6\" class=\"row_heading level0 row6\" >принятие_политический_решение</th> \n",
       "        <td id=\"T_e1608b07_f1bc_11e9_a6fb_107b449f15fcrow6_col0\" class=\"data row6 col0\" >0.03543</td> \n",
       "    </tr>    <tr> \n",
       "        <th id=\"T_e1608b07_f1bc_11e9_a6fb_107b449f15fclevel0_row7\" class=\"row_heading level0 row7\" >постоянный_тонкий_структура</th> \n",
       "        <td id=\"T_e1608b07_f1bc_11e9_a6fb_107b449f15fcrow7_col0\" class=\"data row7 col0\" >0.0327</td> \n",
       "    </tr>    <tr> \n",
       "        <th id=\"T_e1608b07_f1bc_11e9_a6fb_107b449f15fclevel0_row8\" class=\"row_heading level0 row8\" >ядерный_магнитный_резонанс</th> \n",
       "        <td id=\"T_e1608b07_f1bc_11e9_a6fb_107b449f15fcrow8_col0\" class=\"data row8 col0\" >0.02935</td> \n",
       "    </tr>    <tr> \n",
       "        <th id=\"T_e1608b07_f1bc_11e9_a6fb_107b449f15fclevel0_row9\" class=\"row_heading level0 row9\" >сильный_магнитный_пол</th> \n",
       "        <td id=\"T_e1608b07_f1bc_11e9_a6fb_107b449f15fcrow9_col0\" class=\"data row9 col0\" >0.02713</td> \n",
       "    </tr></tbody> \n",
       "</table> <style  type=\"text/css\" >\n",
       "</style>  \n",
       "<table id=\"T_e1608b08_f1bc_11e9_a6fb_107b449f15fc\" style='display:inline'> \n",
       "<thead>    <tr> \n",
       "        <th class=\"blank level0\" ></th> \n",
       "        <th class=\"col_heading level0 col0\" >topic_1 @post_tag</th> \n",
       "    </tr></thead> \n",
       "<tbody>    <tr> \n",
       "        <th id=\"T_e1608b08_f1bc_11e9_a6fb_107b449f15fclevel0_row0\" class=\"row_heading level0 row0\" >физика</th> \n",
       "        <td id=\"T_e1608b08_f1bc_11e9_a6fb_107b449f15fcrow0_col0\" class=\"data row0 col0\" >0.14269</td> \n",
       "    </tr>    <tr> \n",
       "        <th id=\"T_e1608b08_f1bc_11e9_a6fb_107b449f15fclevel0_row1\" class=\"row_heading level0 row1\" >химия</th> \n",
       "        <td id=\"T_e1608b08_f1bc_11e9_a6fb_107b449f15fcrow1_col0\" class=\"data row1 col0\" >0.1142</td> \n",
       "    </tr>    <tr> \n",
       "        <th id=\"T_e1608b08_f1bc_11e9_a6fb_107b449f15fclevel0_row2\" class=\"row_heading level0 row2\" >технологии</th> \n",
       "        <td id=\"T_e1608b08_f1bc_11e9_a6fb_107b449f15fcrow2_col0\" class=\"data row2 col0\" >0.06719</td> \n",
       "    </tr>    <tr> \n",
       "        <th id=\"T_e1608b08_f1bc_11e9_a6fb_107b449f15fclevel0_row3\" class=\"row_heading level0 row3\" >квантовая_физика</th> \n",
       "        <td id=\"T_e1608b08_f1bc_11e9_a6fb_107b449f15fcrow3_col0\" class=\"data row3 col0\" >0.05051</td> \n",
       "    </tr>    <tr> \n",
       "        <th id=\"T_e1608b08_f1bc_11e9_a6fb_107b449f15fclevel0_row4\" class=\"row_heading level0 row4\" >нанотехнологии</th> \n",
       "        <td id=\"T_e1608b08_f1bc_11e9_a6fb_107b449f15fcrow4_col0\" class=\"data row4 col0\" >0.04803</td> \n",
       "    </tr>    <tr> \n",
       "        <th id=\"T_e1608b08_f1bc_11e9_a6fb_107b449f15fclevel0_row5\" class=\"row_heading level0 row5\" >материаловедение</th> \n",
       "        <td id=\"T_e1608b08_f1bc_11e9_a6fb_107b449f15fcrow5_col0\" class=\"data row5 col0\" >0.0435</td> \n",
       "    </tr>    <tr> \n",
       "        <th id=\"T_e1608b08_f1bc_11e9_a6fb_107b449f15fclevel0_row6\" class=\"row_heading level0 row6\" >молекула</th> \n",
       "        <td id=\"T_e1608b08_f1bc_11e9_a6fb_107b449f15fcrow6_col0\" class=\"data row6 col0\" >0.03038</td> \n",
       "    </tr>    <tr> \n",
       "        <th id=\"T_e1608b08_f1bc_11e9_a6fb_107b449f15fclevel0_row7\" class=\"row_heading level0 row7\" >атом</th> \n",
       "        <td id=\"T_e1608b08_f1bc_11e9_a6fb_107b449f15fcrow7_col0\" class=\"data row7 col0\" >0.02766</td> \n",
       "    </tr>    <tr> \n",
       "        <th id=\"T_e1608b08_f1bc_11e9_a6fb_107b449f15fclevel0_row8\" class=\"row_heading level0 row8\" >квантовая_механика</th> \n",
       "        <td id=\"T_e1608b08_f1bc_11e9_a6fb_107b449f15fcrow8_col0\" class=\"data row8 col0\" >0.02505</td> \n",
       "    </tr>    <tr> \n",
       "        <th id=\"T_e1608b08_f1bc_11e9_a6fb_107b449f15fclevel0_row9\" class=\"row_heading level0 row9\" >нобелевская_премия</th> \n",
       "        <td id=\"T_e1608b08_f1bc_11e9_a6fb_107b449f15fcrow9_col0\" class=\"data row9 col0\" >0.02447</td> \n",
       "    </tr></tbody> \n",
       "</table> <style  type=\"text/css\" >\n",
       "</style>  \n",
       "<table id=\"T_e1608b09_f1bc_11e9_a6fb_107b449f15fc\" style='display:inline'> \n",
       "<thead>    <tr> \n",
       "        <th class=\"blank level0\" ></th> \n",
       "        <th class=\"col_heading level0 col0\" >topic_1 @word</th> \n",
       "    </tr></thead> \n",
       "<tbody>    <tr> \n",
       "        <th id=\"T_e1608b09_f1bc_11e9_a6fb_107b449f15fclevel0_row0\" class=\"row_heading level0 row0\" >материал</th> \n",
       "        <td id=\"T_e1608b09_f1bc_11e9_a6fb_107b449f15fcrow0_col0\" class=\"data row0 col0\" >0.00736</td> \n",
       "    </tr>    <tr> \n",
       "        <th id=\"T_e1608b09_f1bc_11e9_a6fb_107b449f15fclevel0_row1\" class=\"row_heading level0 row1\" >атом</th> \n",
       "        <td id=\"T_e1608b09_f1bc_11e9_a6fb_107b449f15fcrow1_col0\" class=\"data row1 col0\" >0.00583</td> \n",
       "    </tr>    <tr> \n",
       "        <th id=\"T_e1608b09_f1bc_11e9_a6fb_107b449f15fclevel0_row2\" class=\"row_heading level0 row2\" >молекула</th> \n",
       "        <td id=\"T_e1608b09_f1bc_11e9_a6fb_107b449f15fcrow2_col0\" class=\"data row2 col0\" >0.00522</td> \n",
       "    </tr>    <tr> \n",
       "        <th id=\"T_e1608b09_f1bc_11e9_a6fb_107b449f15fclevel0_row3\" class=\"row_heading level0 row3\" >структура</th> \n",
       "        <td id=\"T_e1608b09_f1bc_11e9_a6fb_107b449f15fcrow3_col0\" class=\"data row3 col0\" >0.00494</td> \n",
       "    </tr>    <tr> \n",
       "        <th id=\"T_e1608b09_f1bc_11e9_a6fb_107b449f15fclevel0_row4\" class=\"row_heading level0 row4\" >использовать</th> \n",
       "        <td id=\"T_e1608b09_f1bc_11e9_a6fb_107b449f15fcrow4_col0\" class=\"data row4 col0\" >0.00486</td> \n",
       "    </tr>    <tr> \n",
       "        <th id=\"T_e1608b09_f1bc_11e9_a6fb_107b449f15fclevel0_row5\" class=\"row_heading level0 row5\" >свет</th> \n",
       "        <td id=\"T_e1608b09_f1bc_11e9_a6fb_107b449f15fcrow5_col0\" class=\"data row5 col0\" >0.0046</td> \n",
       "    </tr>    <tr> \n",
       "        <th id=\"T_e1608b09_f1bc_11e9_a6fb_107b449f15fclevel0_row6\" class=\"row_heading level0 row6\" >вещество</th> \n",
       "        <td id=\"T_e1608b09_f1bc_11e9_a6fb_107b449f15fcrow6_col0\" class=\"data row6 col0\" >0.00455</td> \n",
       "    </tr>    <tr> \n",
       "        <th id=\"T_e1608b09_f1bc_11e9_a6fb_107b449f15fclevel0_row7\" class=\"row_heading level0 row7\" >химия</th> \n",
       "        <td id=\"T_e1608b09_f1bc_11e9_a6fb_107b449f15fcrow7_col0\" class=\"data row7 col0\" >0.0044</td> \n",
       "    </tr>    <tr> \n",
       "        <th id=\"T_e1608b09_f1bc_11e9_a6fb_107b449f15fclevel0_row8\" class=\"row_heading level0 row8\" >система</th> \n",
       "        <td id=\"T_e1608b09_f1bc_11e9_a6fb_107b449f15fcrow8_col0\" class=\"data row8 col0\" >0.00416</td> \n",
       "    </tr>    <tr> \n",
       "        <th id=\"T_e1608b09_f1bc_11e9_a6fb_107b449f15fclevel0_row9\" class=\"row_heading level0 row9\" >являться</th> \n",
       "        <td id=\"T_e1608b09_f1bc_11e9_a6fb_107b449f15fcrow9_col0\" class=\"data row9 col0\" >0.0039</td> \n",
       "    </tr></tbody> \n",
       "</table> "
      ]
     },
     "metadata": {},
     "output_type": "display_data"
    },
    {
     "data": {
      "text/html": [
       "<b> технология охлаждения атомов </b><br /> физик владимир мележик о волновых свойствах частиц, лазерном охлаждении и системах пониженной размерности"
      ]
     },
     "metadata": {},
     "output_type": "display_data"
    },
    {
     "data": {
      "text/html": [
       "<b> методы предсказания кристаллических структур </b><br /> химик артем оганов о задачах кристаллографии, методе uspex и структуре алмаза"
      ]
     },
     "metadata": {},
     "output_type": "display_data"
    },
    {
     "data": {
      "text/html": [
       "<b> дизайн сверхтвердых материалов </b><br /> химик артем оганов о структуре алмаза, применении сверхтвердых материалов и новых формах углерода"
      ]
     },
     "metadata": {},
     "output_type": "display_data"
    },
    {
     "data": {
      "text/html": [
       "<b> sciencehub #01квантовая криптография </b><br /> физик александр львовский о создании квантового повторителя, безопасной передаче информации и коммерциализации квантовых разработок"
      ]
     },
     "metadata": {},
     "output_type": "display_data"
    },
    {
     "data": {
      "text/html": [
       "<b> faqквантовый метод монте-карло </b><br /> 5 фактов о траекториях частиц, симуляциях на квантовом компьютере и возникновении сложности"
      ]
     },
     "metadata": {},
     "output_type": "display_data"
    },
    {
     "data": {
      "text/html": [
       "<b> применение графена </b><br /> физик сергей морозов о свойствах графена, новых типах жидкокристаллических дисплеев и цифровой электронике"
      ]
     },
     "metadata": {},
     "output_type": "display_data"
    },
    {
     "data": {
      "text/html": [
       "<b> специфика нанотехнологий </b><br /> физик алексей акимов об уникальных свойствах нанообъектов, создании новых материалов и управлении светом"
      ]
     },
     "metadata": {},
     "output_type": "display_data"
    },
    {
     "data": {
      "text/html": [
       "<b> faqграфен </b><br /> 5 фактов о новой форме углерода и перспективах ее применения"
      ]
     },
     "metadata": {},
     "output_type": "display_data"
    },
    {
     "data": {
      "text/html": [
       "<b> дизайн новых материалов </b><br /> 10 лекций химика артема оганова о современных исследовательских подходах в химии и материаловедении"
      ]
     },
     "metadata": {},
     "output_type": "display_data"
    },
    {
     "data": {
      "text/html": [
       "<b> когда квантовые компьютеры будут доступны для всех? </b><br /> физик александр львовский о расшифровке криптографических кодов, размере транзисторов и ведении информационной войны"
      ]
     },
     "metadata": {},
     "output_type": "display_data"
    },
    {
     "data": {
      "text/html": [
       "<style  type=\"text/css\" >\n",
       "</style>  \n",
       "<table id=\"T_e1608b0a_f1bc_11e9_a6fb_107b449f15fc\" style='display:inline'> \n",
       "<thead>    <tr> \n",
       "        <th class=\"blank level0\" ></th> \n",
       "        <th class=\"col_heading level0 col0\" >topic_2 @2gramm</th> \n",
       "    </tr></thead> \n",
       "<tbody>    <tr> \n",
       "        <th id=\"T_e1608b0a_f1bc_11e9_a6fb_107b449f15fclevel0_row0\" class=\"row_heading level0 row0\" >xx_век</th> \n",
       "        <td id=\"T_e1608b0a_f1bc_11e9_a6fb_107b449f15fcrow0_col0\" class=\"data row0 col0\" >0.01228</td> \n",
       "    </tr>    <tr> \n",
       "        <th id=\"T_e1608b0a_f1bc_11e9_a6fb_107b449f15fclevel0_row1\" class=\"row_heading level0 row1\" >xix_век</th> \n",
       "        <td id=\"T_e1608b0a_f1bc_11e9_a6fb_107b449f15fcrow1_col0\" class=\"data row1 col0\" >0.01205</td> \n",
       "    </tr>    <tr> \n",
       "        <th id=\"T_e1608b0a_f1bc_11e9_a6fb_107b449f15fclevel0_row2\" class=\"row_heading level0 row2\" >гражданский_война</th> \n",
       "        <td id=\"T_e1608b0a_f1bc_11e9_a6fb_107b449f15fcrow2_col0\" class=\"data row2 col0\" >0.00759</td> \n",
       "    </tr>    <tr> \n",
       "        <th id=\"T_e1608b0a_f1bc_11e9_a6fb_107b449f15fclevel0_row3\" class=\"row_heading level0 row3\" >мировой_война</th> \n",
       "        <td id=\"T_e1608b0a_f1bc_11e9_a6fb_107b449f15fcrow3_col0\" class=\"data row3 col0\" >0.0065</td> \n",
       "    </tr>    <tr> \n",
       "        <th id=\"T_e1608b0a_f1bc_11e9_a6fb_107b449f15fclevel0_row4\" class=\"row_heading level0 row4\" >речь_идти</th> \n",
       "        <td id=\"T_e1608b0a_f1bc_11e9_a6fb_107b449f15fcrow4_col0\" class=\"data row4 col0\" >0.00564</td> \n",
       "    </tr>    <tr> \n",
       "        <th id=\"T_e1608b0a_f1bc_11e9_a6fb_107b449f15fclevel0_row5\" class=\"row_heading level0 row5\" >русский_язык</th> \n",
       "        <td id=\"T_e1608b0a_f1bc_11e9_a6fb_107b449f15fcrow5_col0\" class=\"data row5 col0\" >0.0045</td> \n",
       "    </tr>    <tr> \n",
       "        <th id=\"T_e1608b0a_f1bc_11e9_a6fb_107b449f15fclevel0_row6\" class=\"row_heading level0 row6\" >xviii_век</th> \n",
       "        <td id=\"T_e1608b0a_f1bc_11e9_a6fb_107b449f15fcrow6_col0\" class=\"data row6 col0\" >0.00357</td> \n",
       "    </tr>    <tr> \n",
       "        <th id=\"T_e1608b0a_f1bc_11e9_a6fb_107b449f15fclevel0_row7\" class=\"row_heading level0 row7\" >российский_империя</th> \n",
       "        <td id=\"T_e1608b0a_f1bc_11e9_a6fb_107b449f15fcrow7_col0\" class=\"data row7 col0\" >0.00354</td> \n",
       "    </tr>    <tr> \n",
       "        <th id=\"T_e1608b0a_f1bc_11e9_a6fb_107b449f15fclevel0_row8\" class=\"row_heading level0 row8\" >советский_власть</th> \n",
       "        <td id=\"T_e1608b0a_f1bc_11e9_a6fb_107b449f15fcrow8_col0\" class=\"data row8 col0\" >0.0035</td> \n",
       "    </tr>    <tr> \n",
       "        <th id=\"T_e1608b0a_f1bc_11e9_a6fb_107b449f15fclevel0_row9\" class=\"row_heading level0 row9\" >конец_xix</th> \n",
       "        <td id=\"T_e1608b0a_f1bc_11e9_a6fb_107b449f15fcrow9_col0\" class=\"data row9 col0\" >0.00343</td> \n",
       "    </tr></tbody> \n",
       "</table> <style  type=\"text/css\" >\n",
       "</style>  \n",
       "<table id=\"T_e1608b0b_f1bc_11e9_a6fb_107b449f15fc\" style='display:inline'> \n",
       "<thead>    <tr> \n",
       "        <th class=\"blank level0\" ></th> \n",
       "        <th class=\"col_heading level0 col0\" >topic_2 @3gramm</th> \n",
       "    </tr></thead> \n",
       "<tbody>    <tr> \n",
       "        <th id=\"T_e1608b0b_f1bc_11e9_a6fb_107b449f15fclevel0_row0\" class=\"row_heading level0 row0\" >начало_xx_век</th> \n",
       "        <td id=\"T_e1608b0b_f1bc_11e9_a6fb_107b449f15fcrow0_col0\" class=\"data row0 col0\" >0.39638</td> \n",
       "    </tr>    <tr> \n",
       "        <th id=\"T_e1608b0b_f1bc_11e9_a6fb_107b449f15fclevel0_row1\" class=\"row_heading level0 row1\" >половина_xx_век</th> \n",
       "        <td id=\"T_e1608b0b_f1bc_11e9_a6fb_107b449f15fcrow1_col0\" class=\"data row1 col0\" >0.10345</td> \n",
       "    </tr>    <tr> \n",
       "        <th id=\"T_e1608b0b_f1bc_11e9_a6fb_107b449f15fclevel0_row2\" class=\"row_heading level0 row2\" >начало_xxi_век</th> \n",
       "        <td id=\"T_e1608b0b_f1bc_11e9_a6fb_107b449f15fcrow2_col0\" class=\"data row2 col0\" >0.09963</td> \n",
       "    </tr>    <tr> \n",
       "        <th id=\"T_e1608b0b_f1bc_11e9_a6fb_107b449f15fclevel0_row3\" class=\"row_heading level0 row3\" >конец_xx_век</th> \n",
       "        <td id=\"T_e1608b0b_f1bc_11e9_a6fb_107b449f15fcrow3_col0\" class=\"data row3 col0\" >0.08674</td> \n",
       "    </tr>    <tr> \n",
       "        <th id=\"T_e1608b0b_f1bc_11e9_a6fb_107b449f15fclevel0_row4\" class=\"row_heading level0 row4\" >немецкий_классический_философия</th> \n",
       "        <td id=\"T_e1608b0b_f1bc_11e9_a6fb_107b449f15fcrow4_col0\" class=\"data row4 col0\" >0.05127</td> \n",
       "    </tr>    <tr> \n",
       "        <th id=\"T_e1608b0b_f1bc_11e9_a6fb_107b449f15fclevel0_row5\" class=\"row_heading level0 row5\" >широкий_круг_читатель</th> \n",
       "        <td id=\"T_e1608b0b_f1bc_11e9_a6fb_107b449f15fcrow5_col0\" class=\"data row5 col0\" >0.03943</td> \n",
       "    </tr>    <tr> \n",
       "        <th id=\"T_e1608b0b_f1bc_11e9_a6fb_107b449f15fclevel0_row6\" class=\"row_heading level0 row6\" >начало_xvi_век</th> \n",
       "        <td id=\"T_e1608b0b_f1bc_11e9_a6fb_107b449f15fcrow6_col0\" class=\"data row6 col0\" >0.02749</td> \n",
       "    </tr>    <tr> \n",
       "        <th id=\"T_e1608b0b_f1bc_11e9_a6fb_107b449f15fclevel0_row7\" class=\"row_heading level0 row7\" >проблема_происхождение_жизнь</th> \n",
       "        <td id=\"T_e1608b0b_f1bc_11e9_a6fb_107b449f15fcrow7_col0\" class=\"data row7 col0\" >0.01775</td> \n",
       "    </tr>    <tr> \n",
       "        <th id=\"T_e1608b0b_f1bc_11e9_a6fb_107b449f15fclevel0_row8\" class=\"row_heading level0 row8\" >треть_xx_век</th> \n",
       "        <td id=\"T_e1608b0b_f1bc_11e9_a6fb_107b449f15fcrow8_col0\" class=\"data row8 col0\" >0.01579</td> \n",
       "    </tr>    <tr> \n",
       "        <th id=\"T_e1608b0b_f1bc_11e9_a6fb_107b449f15fclevel0_row9\" class=\"row_heading level0 row9\" >состав_российский_империя</th> \n",
       "        <td id=\"T_e1608b0b_f1bc_11e9_a6fb_107b449f15fcrow9_col0\" class=\"data row9 col0\" >0.01578</td> \n",
       "    </tr></tbody> \n",
       "</table> <style  type=\"text/css\" >\n",
       "</style>  \n",
       "<table id=\"T_e1608b0c_f1bc_11e9_a6fb_107b449f15fc\" style='display:inline'> \n",
       "<thead>    <tr> \n",
       "        <th class=\"blank level0\" ></th> \n",
       "        <th class=\"col_heading level0 col0\" >topic_2 @post_tag</th> \n",
       "    </tr></thead> \n",
       "<tbody>    <tr> \n",
       "        <th id=\"T_e1608b0c_f1bc_11e9_a6fb_107b449f15fclevel0_row0\" class=\"row_heading level0 row0\" >история</th> \n",
       "        <td id=\"T_e1608b0c_f1bc_11e9_a6fb_107b449f15fcrow0_col0\" class=\"data row0 col0\" >0.19026</td> \n",
       "    </tr>    <tr> \n",
       "        <th id=\"T_e1608b0c_f1bc_11e9_a6fb_107b449f15fclevel0_row1\" class=\"row_heading level0 row1\" >культура</th> \n",
       "        <td id=\"T_e1608b0c_f1bc_11e9_a6fb_107b449f15fcrow1_col0\" class=\"data row1 col0\" >0.17641</td> \n",
       "    </tr>    <tr> \n",
       "        <th id=\"T_e1608b0c_f1bc_11e9_a6fb_107b449f15fclevel0_row2\" class=\"row_heading level0 row2\" >история_россии</th> \n",
       "        <td id=\"T_e1608b0c_f1bc_11e9_a6fb_107b449f15fcrow2_col0\" class=\"data row2 col0\" >0.0644</td> \n",
       "    </tr>    <tr> \n",
       "        <th id=\"T_e1608b0c_f1bc_11e9_a6fb_107b449f15fclevel0_row3\" class=\"row_heading level0 row3\" >россия</th> \n",
       "        <td id=\"T_e1608b0c_f1bc_11e9_a6fb_107b449f15fcrow3_col0\" class=\"data row3 col0\" >0.05118</td> \n",
       "    </tr>    <tr> \n",
       "        <th id=\"T_e1608b0c_f1bc_11e9_a6fb_107b449f15fclevel0_row4\" class=\"row_heading level0 row4\" >философия</th> \n",
       "        <td id=\"T_e1608b0c_f1bc_11e9_a6fb_107b449f15fcrow4_col0\" class=\"data row4 col0\" >0.04926</td> \n",
       "    </tr>    <tr> \n",
       "        <th id=\"T_e1608b0c_f1bc_11e9_a6fb_107b449f15fclevel0_row5\" class=\"row_heading level0 row5\" >мифология</th> \n",
       "        <td id=\"T_e1608b0c_f1bc_11e9_a6fb_107b449f15fcrow5_col0\" class=\"data row5 col0\" >0.04029</td> \n",
       "    </tr>    <tr> \n",
       "        <th id=\"T_e1608b0c_f1bc_11e9_a6fb_107b449f15fclevel0_row6\" class=\"row_heading level0 row6\" >антропология</th> \n",
       "        <td id=\"T_e1608b0c_f1bc_11e9_a6fb_107b449f15fcrow6_col0\" class=\"data row6 col0\" >0.03146</td> \n",
       "    </tr>    <tr> \n",
       "        <th id=\"T_e1608b0c_f1bc_11e9_a6fb_107b449f15fclevel0_row7\" class=\"row_heading level0 row7\" >античность</th> \n",
       "        <td id=\"T_e1608b0c_f1bc_11e9_a6fb_107b449f15fcrow7_col0\" class=\"data row7 col0\" >0.02957</td> \n",
       "    </tr>    <tr> \n",
       "        <th id=\"T_e1608b0c_f1bc_11e9_a6fb_107b449f15fclevel0_row8\" class=\"row_heading level0 row8\" >древняя_греция</th> \n",
       "        <td id=\"T_e1608b0c_f1bc_11e9_a6fb_107b449f15fcrow8_col0\" class=\"data row8 col0\" >0.02952</td> \n",
       "    </tr>    <tr> \n",
       "        <th id=\"T_e1608b0c_f1bc_11e9_a6fb_107b449f15fclevel0_row9\" class=\"row_heading level0 row9\" >миф</th> \n",
       "        <td id=\"T_e1608b0c_f1bc_11e9_a6fb_107b449f15fcrow9_col0\" class=\"data row9 col0\" >0.02841</td> \n",
       "    </tr></tbody> \n",
       "</table> <style  type=\"text/css\" >\n",
       "</style>  \n",
       "<table id=\"T_e1608b0d_f1bc_11e9_a6fb_107b449f15fc\" style='display:inline'> \n",
       "<thead>    <tr> \n",
       "        <th class=\"blank level0\" ></th> \n",
       "        <th class=\"col_heading level0 col0\" >topic_2 @word</th> \n",
       "    </tr></thead> \n",
       "<tbody>    <tr> \n",
       "        <th id=\"T_e1608b0d_f1bc_11e9_a6fb_107b449f15fclevel0_row0\" class=\"row_heading level0 row0\" >история</th> \n",
       "        <td id=\"T_e1608b0d_f1bc_11e9_a6fb_107b449f15fcrow0_col0\" class=\"data row0 col0\" >0.00645</td> \n",
       "    </tr>    <tr> \n",
       "        <th id=\"T_e1608b0d_f1bc_11e9_a6fb_107b449f15fclevel0_row1\" class=\"row_heading level0 row1\" >книга</th> \n",
       "        <td id=\"T_e1608b0d_f1bc_11e9_a6fb_107b449f15fcrow1_col0\" class=\"data row1 col0\" >0.00575</td> \n",
       "    </tr>    <tr> \n",
       "        <th id=\"T_e1608b0d_f1bc_11e9_a6fb_107b449f15fclevel0_row2\" class=\"row_heading level0 row2\" >культура</th> \n",
       "        <td id=\"T_e1608b0d_f1bc_11e9_a6fb_107b449f15fcrow2_col0\" class=\"data row2 col0\" >0.00368</td> \n",
       "    </tr>    <tr> \n",
       "        <th id=\"T_e1608b0d_f1bc_11e9_a6fb_107b449f15fclevel0_row3\" class=\"row_heading level0 row3\" >говорить</th> \n",
       "        <td id=\"T_e1608b0d_f1bc_11e9_a6fb_107b449f15fcrow3_col0\" class=\"data row3 col0\" >0.00361</td> \n",
       "    </tr>    <tr> \n",
       "        <th id=\"T_e1608b0d_f1bc_11e9_a6fb_107b449f15fclevel0_row4\" class=\"row_heading level0 row4\" >россия</th> \n",
       "        <td id=\"T_e1608b0d_f1bc_11e9_a6fb_107b449f15fcrow4_col0\" class=\"data row4 col0\" >0.00331</td> \n",
       "    </tr>    <tr> \n",
       "        <th id=\"T_e1608b0d_f1bc_11e9_a6fb_107b449f15fclevel0_row5\" class=\"row_heading level0 row5\" >представление</th> \n",
       "        <td id=\"T_e1608b0d_f1bc_11e9_a6fb_107b449f15fcrow5_col0\" class=\"data row5 col0\" >0.00325</td> \n",
       "    </tr>    <tr> \n",
       "        <th id=\"T_e1608b0d_f1bc_11e9_a6fb_107b449f15fclevel0_row6\" class=\"row_heading level0 row6\" >стать</th> \n",
       "        <td id=\"T_e1608b0d_f1bc_11e9_a6fb_107b449f15fcrow6_col0\" class=\"data row6 col0\" >0.0032</td> \n",
       "    </tr>    <tr> \n",
       "        <th id=\"T_e1608b0d_f1bc_11e9_a6fb_107b449f15fclevel0_row7\" class=\"row_heading level0 row7\" >миф</th> \n",
       "        <td id=\"T_e1608b0d_f1bc_11e9_a6fb_107b449f15fcrow7_col0\" class=\"data row7 col0\" >0.0031</td> \n",
       "    </tr>    <tr> \n",
       "        <th id=\"T_e1608b0d_f1bc_11e9_a6fb_107b449f15fclevel0_row8\" class=\"row_heading level0 row8\" >знать</th> \n",
       "        <td id=\"T_e1608b0d_f1bc_11e9_a6fb_107b449f15fcrow8_col0\" class=\"data row8 col0\" >0.00308</td> \n",
       "    </tr>    <tr> \n",
       "        <th id=\"T_e1608b0d_f1bc_11e9_a6fb_107b449f15fclevel0_row9\" class=\"row_heading level0 row9\" >метр</th> \n",
       "        <td id=\"T_e1608b0d_f1bc_11e9_a6fb_107b449f15fcrow9_col0\" class=\"data row9 col0\" >0.00292</td> \n",
       "    </tr></tbody> \n",
       "</table> "
      ]
     },
     "metadata": {},
     "output_type": "display_data"
    },
    {
     "data": {
      "text/html": [
       "<b> ацтекская империя </b><br /> историк дмитрий беляев о тройственном союзе ацтеков, формировании империи в теночтитлане и военно-религиозной идеологии"
      ]
     },
     "metadata": {},
     "output_type": "display_data"
    },
    {
     "data": {
      "text/html": [
       "<b> особенности либерализма в россии </b><br /> историк кирилл соловьев о первых русских либералах, поддержке самодержавия и политической программе кадетов"
      ]
     },
     "metadata": {},
     "output_type": "display_data"
    },
    {
     "data": {
      "text/html": [
       "<b> faqэрос в античной культуре </b><br /> 7 фактов об одном из самых загадочных персонажей греческой мифологии"
      ]
     },
     "metadata": {},
     "output_type": "display_data"
    },
    {
     "data": {
      "text/html": [
       "<b> современная аналитическая философия </b><br /> философ дмитрий иванов о венском кружке, возрождении метафизики и метаэтике"
      ]
     },
     "metadata": {},
     "output_type": "display_data"
    },
    {
     "data": {
      "text/html": [
       "<b> россия и казацкая украина </b><br /> историк кирилл кочегаров об истории запорожской сечи, восстании богдана хмельницкого и угасании казацкой автономии"
      ]
     },
     "metadata": {},
     "output_type": "display_data"
    },
    {
     "data": {
      "text/html": [
       "<b> логика мифа </b><br /> филолог гасан гусейнов о праповествовании о мире, объяснении мироздания в мифе и отличии мифа от логоса"
      ]
     },
     "metadata": {},
     "output_type": "display_data"
    },
    {
     "data": {
      "text/html": [
       "<b> эрос в античной культуре </b><br /> филолог гасан гусейнов о происхождении эрота, слепоте любви и панк-культуре"
      ]
     },
     "metadata": {},
     "output_type": "display_data"
    },
    {
     "data": {
      "text/html": [
       "<b> 5 книг об античной мифологии </b><br /> что читать о греческих и римских мифах, рекомендует доктор филологических наук гасан гусейнов"
      ]
     },
     "metadata": {},
     "output_type": "display_data"
    },
    {
     "data": {
      "text/html": [
       "<b> русский европеец как явление культуры </b><br /> историк владимир кантор о противостоянии философии западников и славянофилов, русском самосознании и критике европы"
      ]
     },
     "metadata": {},
     "output_type": "display_data"
    },
    {
     "data": {
      "text/html": [
       "<b> 5 книг об ирландии </b><br /> что читать об истории и культуре ирландии, рекомендует кандидат культурологии светлана кузнецова"
      ]
     },
     "metadata": {},
     "output_type": "display_data"
    },
    {
     "data": {
      "text/html": [
       "<style  type=\"text/css\" >\n",
       "</style>  \n",
       "<table id=\"T_e1608b0e_f1bc_11e9_a6fb_107b449f15fc\" style='display:inline'> \n",
       "<thead>    <tr> \n",
       "        <th class=\"blank level0\" ></th> \n",
       "        <th class=\"col_heading level0 col0\" >topic_3 @2gramm</th> \n",
       "    </tr></thead> \n",
       "<tbody>    <tr> \n",
       "        <th id=\"T_e1608b0e_f1bc_11e9_a6fb_107b449f15fclevel0_row0\" class=\"row_heading level0 row0\" >мировой_война</th> \n",
       "        <td id=\"T_e1608b0e_f1bc_11e9_a6fb_107b449f15fcrow0_col0\" class=\"data row0 col0\" >0.01432</td> \n",
       "    </tr>    <tr> \n",
       "        <th id=\"T_e1608b0e_f1bc_11e9_a6fb_107b449f15fclevel0_row1\" class=\"row_heading level0 row1\" >римский_право</th> \n",
       "        <td id=\"T_e1608b0e_f1bc_11e9_a6fb_107b449f15fcrow1_col0\" class=\"data row1 col0\" >0.0127</td> \n",
       "    </tr>    <tr> \n",
       "        <th id=\"T_e1608b0e_f1bc_11e9_a6fb_107b449f15fclevel0_row2\" class=\"row_heading level0 row2\" >xvii_век</th> \n",
       "        <td id=\"T_e1608b0e_f1bc_11e9_a6fb_107b449f15fcrow2_col0\" class=\"data row2 col0\" >0.00913</td> \n",
       "    </tr>    <tr> \n",
       "        <th id=\"T_e1608b0e_f1bc_11e9_a6fb_107b449f15fclevel0_row3\" class=\"row_heading level0 row3\" >католический_церковь</th> \n",
       "        <td id=\"T_e1608b0e_f1bc_11e9_a6fb_107b449f15fcrow3_col0\" class=\"data row3 col0\" >0.00858</td> \n",
       "    </tr>    <tr> \n",
       "        <th id=\"T_e1608b0e_f1bc_11e9_a6fb_107b449f15fclevel0_row4\" class=\"row_heading level0 row4\" >xviii_век</th> \n",
       "        <td id=\"T_e1608b0e_f1bc_11e9_a6fb_107b449f15fcrow4_col0\" class=\"data row4 col0\" >0.00821</td> \n",
       "    </tr>    <tr> \n",
       "        <th id=\"T_e1608b0e_f1bc_11e9_a6fb_107b449f15fclevel0_row5\" class=\"row_heading level0 row5\" >право_собственность</th> \n",
       "        <td id=\"T_e1608b0e_f1bc_11e9_a6fb_107b449f15fcrow5_col0\" class=\"data row5 col0\" >0.00662</td> \n",
       "    </tr>    <tr> \n",
       "        <th id=\"T_e1608b0e_f1bc_11e9_a6fb_107b449f15fclevel0_row6\" class=\"row_heading level0 row6\" >речь_идти</th> \n",
       "        <td id=\"T_e1608b0e_f1bc_11e9_a6fb_107b449f15fcrow6_col0\" class=\"data row6 col0\" >0.00654</td> \n",
       "    </tr>    <tr> \n",
       "        <th id=\"T_e1608b0e_f1bc_11e9_a6fb_107b449f15fclevel0_row7\" class=\"row_heading level0 row7\" >дать_случай</th> \n",
       "        <td id=\"T_e1608b0e_f1bc_11e9_a6fb_107b449f15fcrow7_col0\" class=\"data row7 col0\" >0.00533</td> \n",
       "    </tr>    <tr> \n",
       "        <th id=\"T_e1608b0e_f1bc_11e9_a6fb_107b449f15fclevel0_row8\" class=\"row_heading level0 row8\" >веймарский_республика</th> \n",
       "        <td id=\"T_e1608b0e_f1bc_11e9_a6fb_107b449f15fcrow8_col0\" class=\"data row8 col0\" >0.005</td> \n",
       "    </tr>    <tr> \n",
       "        <th id=\"T_e1608b0e_f1bc_11e9_a6fb_107b449f15fclevel0_row9\" class=\"row_heading level0 row9\" >научный_революция</th> \n",
       "        <td id=\"T_e1608b0e_f1bc_11e9_a6fb_107b449f15fcrow9_col0\" class=\"data row9 col0\" >0.00488</td> \n",
       "    </tr></tbody> \n",
       "</table> <style  type=\"text/css\" >\n",
       "</style>  \n",
       "<table id=\"T_e1608b0f_f1bc_11e9_a6fb_107b449f15fc\" style='display:inline'> \n",
       "<thead>    <tr> \n",
       "        <th class=\"blank level0\" ></th> \n",
       "        <th class=\"col_heading level0 col0\" >topic_3 @3gramm</th> \n",
       "    </tr></thead> \n",
       "<tbody>    <tr> \n",
       "        <th id=\"T_e1608b0f_f1bc_11e9_a6fb_107b449f15fclevel0_row0\" class=\"row_heading level0 row0\" >начало_xvii_век</th> \n",
       "        <td id=\"T_e1608b0f_f1bc_11e9_a6fb_107b449f15fcrow0_col0\" class=\"data row0 col0\" >0.09375</td> \n",
       "    </tr>    <tr> \n",
       "        <th id=\"T_e1608b0f_f1bc_11e9_a6fb_107b449f15fclevel0_row1\" class=\"row_heading level0 row1\" >сменять_друг_друг</th> \n",
       "        <td id=\"T_e1608b0f_f1bc_11e9_a6fb_107b449f15fcrow1_col0\" class=\"data row1 col0\" >0.07569</td> \n",
       "    </tr>    <tr> \n",
       "        <th id=\"T_e1608b0f_f1bc_11e9_a6fb_107b449f15fclevel0_row2\" class=\"row_heading level0 row2\" >широкий_смысл_слово</th> \n",
       "        <td id=\"T_e1608b0f_f1bc_11e9_a6fb_107b449f15fcrow2_col0\" class=\"data row2 col0\" >0.0538</td> \n",
       "    </tr>    <tr> \n",
       "        <th id=\"T_e1608b0f_f1bc_11e9_a6fb_107b449f15fclevel0_row3\" class=\"row_heading level0 row3\" >конец_xvii_век</th> \n",
       "        <td id=\"T_e1608b0f_f1bc_11e9_a6fb_107b449f15fcrow3_col0\" class=\"data row3 col0\" >0.05245</td> \n",
       "    </tr>    <tr> \n",
       "        <th id=\"T_e1608b0f_f1bc_11e9_a6fb_107b449f15fclevel0_row4\" class=\"row_heading level0 row4\" >федеративный_республика_германия</th> \n",
       "        <td id=\"T_e1608b0f_f1bc_11e9_a6fb_107b449f15fcrow4_col0\" class=\"data row4 col0\" >0.05048</td> \n",
       "    </tr>    <tr> \n",
       "        <th id=\"T_e1608b0f_f1bc_11e9_a6fb_107b449f15fclevel0_row5\" class=\"row_heading level0 row5\" >конец_xvi_век</th> \n",
       "        <td id=\"T_e1608b0f_f1bc_11e9_a6fb_107b449f15fcrow5_col0\" class=\"data row5 col0\" >0.04688</td> \n",
       "    </tr>    <tr> \n",
       "        <th id=\"T_e1608b0f_f1bc_11e9_a6fb_107b449f15fclevel0_row6\" class=\"row_heading level0 row6\" >твёрдый_бытовой_отход</th> \n",
       "        <td id=\"T_e1608b0f_f1bc_11e9_a6fb_107b449f15fcrow6_col0\" class=\"data row6 col0\" >0.04327</td> \n",
       "    </tr>    <tr> \n",
       "        <th id=\"T_e1608b0f_f1bc_11e9_a6fb_107b449f15fclevel0_row7\" class=\"row_heading level0 row7\" >половина_xviii_век</th> \n",
       "        <td id=\"T_e1608b0f_f1bc_11e9_a6fb_107b449f15fcrow7_col0\" class=\"data row7 col0\" >0.04295</td> \n",
       "    </tr>    <tr> \n",
       "        <th id=\"T_e1608b0f_f1bc_11e9_a6fb_107b449f15fclevel0_row8\" class=\"row_heading level0 row8\" >русский_православный_церковь</th> \n",
       "        <td id=\"T_e1608b0f_f1bc_11e9_a6fb_107b449f15fcrow8_col0\" class=\"data row8 col0\" >0.03967</td> \n",
       "    </tr>    <tr> \n",
       "        <th id=\"T_e1608b0f_f1bc_11e9_a6fb_107b449f15fclevel0_row9\" class=\"row_heading level0 row9\" >священный_римский_империя</th> \n",
       "        <td id=\"T_e1608b0f_f1bc_11e9_a6fb_107b449f15fcrow9_col0\" class=\"data row9 col0\" >0.03603</td> \n",
       "    </tr></tbody> \n",
       "</table> <style  type=\"text/css\" >\n",
       "</style>  \n",
       "<table id=\"T_e1608b10_f1bc_11e9_a6fb_107b449f15fc\" style='display:inline'> \n",
       "<thead>    <tr> \n",
       "        <th class=\"blank level0\" ></th> \n",
       "        <th class=\"col_heading level0 col0\" >topic_3 @post_tag</th> \n",
       "    </tr></thead> \n",
       "<tbody>    <tr> \n",
       "        <th id=\"T_e1608b10_f1bc_11e9_a6fb_107b449f15fclevel0_row0\" class=\"row_heading level0 row0\" >история</th> \n",
       "        <td id=\"T_e1608b10_f1bc_11e9_a6fb_107b449f15fcrow0_col0\" class=\"data row0 col0\" >0.16286</td> \n",
       "    </tr>    <tr> \n",
       "        <th id=\"T_e1608b10_f1bc_11e9_a6fb_107b449f15fclevel0_row1\" class=\"row_heading level0 row1\" >право</th> \n",
       "        <td id=\"T_e1608b10_f1bc_11e9_a6fb_107b449f15fcrow1_col0\" class=\"data row1 col0\" >0.1142</td> \n",
       "    </tr>    <tr> \n",
       "        <th id=\"T_e1608b10_f1bc_11e9_a6fb_107b449f15fclevel0_row2\" class=\"row_heading level0 row2\" >германия</th> \n",
       "        <td id=\"T_e1608b10_f1bc_11e9_a6fb_107b449f15fcrow2_col0\" class=\"data row2 col0\" >0.06108</td> \n",
       "    </tr>    <tr> \n",
       "        <th id=\"T_e1608b10_f1bc_11e9_a6fb_107b449f15fclevel0_row3\" class=\"row_heading level0 row3\" >история_науки</th> \n",
       "        <td id=\"T_e1608b10_f1bc_11e9_a6fb_107b449f15fcrow3_col0\" class=\"data row3 col0\" >0.06096</td> \n",
       "    </tr>    <tr> \n",
       "        <th id=\"T_e1608b10_f1bc_11e9_a6fb_107b449f15fclevel0_row4\" class=\"row_heading level0 row4\" >юриспруденция</th> \n",
       "        <td id=\"T_e1608b10_f1bc_11e9_a6fb_107b449f15fcrow4_col0\" class=\"data row4 col0\" >0.05577</td> \n",
       "    </tr>    <tr> \n",
       "        <th id=\"T_e1608b10_f1bc_11e9_a6fb_107b449f15fclevel0_row5\" class=\"row_heading level0 row5\" >римское_право</th> \n",
       "        <td id=\"T_e1608b10_f1bc_11e9_a6fb_107b449f15fcrow5_col0\" class=\"data row5 col0\" >0.04117</td> \n",
       "    </tr>    <tr> \n",
       "        <th id=\"T_e1608b10_f1bc_11e9_a6fb_107b449f15fclevel0_row6\" class=\"row_heading level0 row6\" >рим</th> \n",
       "        <td id=\"T_e1608b10_f1bc_11e9_a6fb_107b449f15fcrow6_col0\" class=\"data row6 col0\" >0.0345</td> \n",
       "    </tr>    <tr> \n",
       "        <th id=\"T_e1608b10_f1bc_11e9_a6fb_107b449f15fclevel0_row7\" class=\"row_heading level0 row7\" >россия</th> \n",
       "        <td id=\"T_e1608b10_f1bc_11e9_a6fb_107b449f15fcrow7_col0\" class=\"data row7 col0\" >0.02432</td> \n",
       "    </tr>    <tr> \n",
       "        <th id=\"T_e1608b10_f1bc_11e9_a6fb_107b449f15fclevel0_row8\" class=\"row_heading level0 row8\" >первая_мировая_война</th> \n",
       "        <td id=\"T_e1608b10_f1bc_11e9_a6fb_107b449f15fcrow8_col0\" class=\"data row8 col0\" >0.02239</td> \n",
       "    </tr>    <tr> \n",
       "        <th id=\"T_e1608b10_f1bc_11e9_a6fb_107b449f15fclevel0_row9\" class=\"row_heading level0 row9\" >история_россии</th> \n",
       "        <td id=\"T_e1608b10_f1bc_11e9_a6fb_107b449f15fcrow9_col0\" class=\"data row9 col0\" >0.02154</td> \n",
       "    </tr></tbody> \n",
       "</table> <style  type=\"text/css\" >\n",
       "</style>  \n",
       "<table id=\"T_e1608b11_f1bc_11e9_a6fb_107b449f15fc\" style='display:inline'> \n",
       "<thead>    <tr> \n",
       "        <th class=\"blank level0\" ></th> \n",
       "        <th class=\"col_heading level0 col0\" >topic_3 @word</th> \n",
       "    </tr></thead> \n",
       "<tbody>    <tr> \n",
       "        <th id=\"T_e1608b11_f1bc_11e9_a6fb_107b449f15fclevel0_row0\" class=\"row_heading level0 row0\" >право</th> \n",
       "        <td id=\"T_e1608b11_f1bc_11e9_a6fb_107b449f15fcrow0_col0\" class=\"data row0 col0\" >0.00779</td> \n",
       "    </tr>    <tr> \n",
       "        <th id=\"T_e1608b11_f1bc_11e9_a6fb_107b449f15fclevel0_row1\" class=\"row_heading level0 row1\" >закон</th> \n",
       "        <td id=\"T_e1608b11_f1bc_11e9_a6fb_107b449f15fcrow1_col0\" class=\"data row1 col0\" >0.00396</td> \n",
       "    </tr>    <tr> \n",
       "        <th id=\"T_e1608b11_f1bc_11e9_a6fb_107b449f15fclevel0_row2\" class=\"row_heading level0 row2\" >германия</th> \n",
       "        <td id=\"T_e1608b11_f1bc_11e9_a6fb_107b449f15fcrow2_col0\" class=\"data row2 col0\" >0.00392</td> \n",
       "    </tr>    <tr> \n",
       "        <th id=\"T_e1608b11_f1bc_11e9_a6fb_107b449f15fclevel0_row3\" class=\"row_heading level0 row3\" >россия</th> \n",
       "        <td id=\"T_e1608b11_f1bc_11e9_a6fb_107b449f15fcrow3_col0\" class=\"data row3 col0\" >0.00387</td> \n",
       "    </tr>    <tr> \n",
       "        <th id=\"T_e1608b11_f1bc_11e9_a6fb_107b449f15fclevel0_row4\" class=\"row_heading level0 row4\" >музей</th> \n",
       "        <td id=\"T_e1608b11_f1bc_11e9_a6fb_107b449f15fcrow4_col0\" class=\"data row4 col0\" >0.00365</td> \n",
       "    </tr>    <tr> \n",
       "        <th id=\"T_e1608b11_f1bc_11e9_a6fb_107b449f15fclevel0_row5\" class=\"row_heading level0 row5\" >стать</th> \n",
       "        <td id=\"T_e1608b11_f1bc_11e9_a6fb_107b449f15fcrow5_col0\" class=\"data row5 col0\" >0.00345</td> \n",
       "    </tr>    <tr> \n",
       "        <th id=\"T_e1608b11_f1bc_11e9_a6fb_107b449f15fclevel0_row6\" class=\"row_heading level0 row6\" >должный</th> \n",
       "        <td id=\"T_e1608b11_f1bc_11e9_a6fb_107b449f15fcrow6_col0\" class=\"data row6 col0\" >0.00337</td> \n",
       "    </tr>    <tr> \n",
       "        <th id=\"T_e1608b11_f1bc_11e9_a6fb_107b449f15fclevel0_row7\" class=\"row_heading level0 row7\" >история</th> \n",
       "        <td id=\"T_e1608b11_f1bc_11e9_a6fb_107b449f15fcrow7_col0\" class=\"data row7 col0\" >0.00324</td> \n",
       "    </tr>    <tr> \n",
       "        <th id=\"T_e1608b11_f1bc_11e9_a6fb_107b449f15fclevel0_row8\" class=\"row_heading level0 row8\" >вопрос</th> \n",
       "        <td id=\"T_e1608b11_f1bc_11e9_a6fb_107b449f15fcrow8_col0\" class=\"data row8 col0\" >0.00304</td> \n",
       "    </tr>    <tr> \n",
       "        <th id=\"T_e1608b11_f1bc_11e9_a6fb_107b449f15fclevel0_row9\" class=\"row_heading level0 row9\" >наука</th> \n",
       "        <td id=\"T_e1608b11_f1bc_11e9_a6fb_107b449f15fcrow9_col0\" class=\"data row9 col0\" >0.00288</td> \n",
       "    </tr></tbody> \n",
       "</table> "
      ]
     },
     "metadata": {},
     "output_type": "display_data"
    },
    {
     "data": {
      "text/html": [
       "<b> папство и россияистория дипломатических отношений </b><br /> как развивались отношения москвы и святого престола и с какими проблемами им приходилось сталкиваться?"
      ]
     },
     "metadata": {},
     "output_type": "display_data"
    },
    {
     "data": {
      "text/html": [
       "<b> стрелецкие бунты </b><br /> историк александр лаврентьев о бунте 1682 года, царевне софье и утре стрелецкой казни"
      ]
     },
     "metadata": {},
     "output_type": "display_data"
    },
    {
     "data": {
      "text/html": [
       "<b> 5 книг по истории германии в хх веке </b><br /> что читать об историческом развитии германии от веймарской республики до современности, рекомендует кандидат исторических наук илья женин"
      ]
     },
     "metadata": {},
     "output_type": "display_data"
    },
    {
     "data": {
      "text/html": [
       "<b> веймарская  республика </b><br /> историк илья женин о республике без республиканцев, октябрьской революции и социал-демократической партии"
      ]
     },
     "metadata": {},
     "output_type": "display_data"
    },
    {
     "data": {
      "text/html": [
       "<b> причины французской революции </b><br /> историк дмитрий бовыкин об экономическом кризисе во франции накануне революции, необходимости реформ и генеральных штатах"
      ]
     },
     "metadata": {},
     "output_type": "display_data"
    },
    {
     "data": {
      "text/html": [
       "<b> faqдобросовестность </b><br /> 5 фактов об одном из важнейших наследий римского права и его современном понимании"
      ]
     },
     "metadata": {},
     "output_type": "display_data"
    },
    {
     "data": {
      "text/html": [
       "<b> правовые последствия смешения вещей </b><br /> юрист денис новак о смешении однородных вещей, праве собственности на такое имущество и кондикционном иске"
      ]
     },
     "metadata": {},
     "output_type": "display_data"
    },
    {
     "data": {
      "text/html": [
       "<b> римское право </b><br /> 12 лекций о правовой системе древнего рима, отобранных историком права александром мареем"
      ]
     },
     "metadata": {},
     "output_type": "display_data"
    },
    {
     "data": {
      "text/html": [
       "<b> кондикция владения </b><br /> юрист денис новак о защите при неправомерном лишении владения, виндикационном и кондикционном исках и ценности владения имуществом"
      ]
     },
     "metadata": {},
     "output_type": "display_data"
    },
    {
     "data": {
      "text/html": [
       "<b> понятие и система римского права </b><br /> историк александр марей об «институциях» гая, цивильном праве и ульпиане"
      ]
     },
     "metadata": {},
     "output_type": "display_data"
    },
    {
     "data": {
      "text/html": [
       "<style  type=\"text/css\" >\n",
       "</style>  \n",
       "<table id=\"T_e1608b12_f1bc_11e9_a6fb_107b449f15fc\" style='display:inline'> \n",
       "<thead>    <tr> \n",
       "        <th class=\"blank level0\" ></th> \n",
       "        <th class=\"col_heading level0 col0\" >topic_4 @2gramm</th> \n",
       "    </tr></thead> \n",
       "<tbody>    <tr> \n",
       "        <th id=\"T_e1608b12_f1bc_11e9_a6fb_107b449f15fclevel0_row0\" class=\"row_heading level0 row0\" >русский_язык</th> \n",
       "        <td id=\"T_e1608b12_f1bc_11e9_a6fb_107b449f15fcrow0_col0\" class=\"data row0 col0\" >0.04228</td> \n",
       "    </tr>    <tr> \n",
       "        <th id=\"T_e1608b12_f1bc_11e9_a6fb_107b449f15fclevel0_row1\" class=\"row_heading level0 row1\" >английский_язык</th> \n",
       "        <td id=\"T_e1608b12_f1bc_11e9_a6fb_107b449f15fcrow1_col0\" class=\"data row1 col0\" >0.0079</td> \n",
       "    </tr>    <tr> \n",
       "        <th id=\"T_e1608b12_f1bc_11e9_a6fb_107b449f15fclevel0_row2\" class=\"row_heading level0 row2\" >литературный_язык</th> \n",
       "        <td id=\"T_e1608b12_f1bc_11e9_a6fb_107b449f15fcrow2_col0\" class=\"data row2 col0\" >0.00685</td> \n",
       "    </tr>    <tr> \n",
       "        <th id=\"T_e1608b12_f1bc_11e9_a6fb_107b449f15fclevel0_row3\" class=\"row_heading level0 row3\" >разный_язык</th> \n",
       "        <td id=\"T_e1608b12_f1bc_11e9_a6fb_107b449f15fcrow3_col0\" class=\"data row3 col0\" >0.00677</td> \n",
       "    </tr>    <tr> \n",
       "        <th id=\"T_e1608b12_f1bc_11e9_a6fb_107b449f15fclevel0_row4\" class=\"row_heading level0 row4\" >носитель_язык</th> \n",
       "        <td id=\"T_e1608b12_f1bc_11e9_a6fb_107b449f15fcrow4_col0\" class=\"data row4 col0\" >0.0065</td> \n",
       "    </tr>    <tr> \n",
       "        <th id=\"T_e1608b12_f1bc_11e9_a6fb_107b449f15fclevel0_row5\" class=\"row_heading level0 row5\" >дискурсивный_слово</th> \n",
       "        <td id=\"T_e1608b12_f1bc_11e9_a6fb_107b449f15fcrow5_col0\" class=\"data row5 col0\" >0.00591</td> \n",
       "    </tr>    <tr> \n",
       "        <th id=\"T_e1608b12_f1bc_11e9_a6fb_107b449f15fclevel0_row6\" class=\"row_heading level0 row6\" >устный_речь</th> \n",
       "        <td id=\"T_e1608b12_f1bc_11e9_a6fb_107b449f15fcrow6_col0\" class=\"data row6 col0\" >0.00561</td> \n",
       "    </tr>    <tr> \n",
       "        <th id=\"T_e1608b12_f1bc_11e9_a6fb_107b449f15fclevel0_row7\" class=\"row_heading level0 row7\" >индоевропейский_язык</th> \n",
       "        <td id=\"T_e1608b12_f1bc_11e9_a6fb_107b449f15fcrow7_col0\" class=\"data row7 col0\" >0.0054</td> \n",
       "    </tr>    <tr> \n",
       "        <th id=\"T_e1608b12_f1bc_11e9_a6fb_107b449f15fclevel0_row8\" class=\"row_heading level0 row8\" >человеческий_язык</th> \n",
       "        <td id=\"T_e1608b12_f1bc_11e9_a6fb_107b449f15fcrow8_col0\" class=\"data row8 col0\" >0.005</td> \n",
       "    </tr>    <tr> \n",
       "        <th id=\"T_e1608b12_f1bc_11e9_a6fb_107b449f15fclevel0_row9\" class=\"row_heading level0 row9\" >языковой_семья</th> \n",
       "        <td id=\"T_e1608b12_f1bc_11e9_a6fb_107b449f15fcrow9_col0\" class=\"data row9 col0\" >0.00484</td> \n",
       "    </tr></tbody> \n",
       "</table> <style  type=\"text/css\" >\n",
       "</style>  \n",
       "<table id=\"T_e1608b13_f1bc_11e9_a6fb_107b449f15fc\" style='display:inline'> \n",
       "<thead>    <tr> \n",
       "        <th class=\"blank level0\" ></th> \n",
       "        <th class=\"col_heading level0 col0\" >topic_4 @3gramm</th> \n",
       "    </tr></thead> \n",
       "<tbody>    <tr> \n",
       "        <th id=\"T_e1608b13_f1bc_11e9_a6fb_107b449f15fclevel0_row0\" class=\"row_heading level0 row0\" >середина_xx_век</th> \n",
       "        <td id=\"T_e1608b13_f1bc_11e9_a6fb_107b449f15fcrow0_col0\" class=\"data row0 col0\" >0.16439</td> \n",
       "    </tr>    <tr> \n",
       "        <th id=\"T_e1608b13_f1bc_11e9_a6fb_107b449f15fclevel0_row1\" class=\"row_heading level0 row1\" >носитель_русский_язык</th> \n",
       "        <td id=\"T_e1608b13_f1bc_11e9_a6fb_107b449f15fcrow1_col0\" class=\"data row1 col0\" >0.08691</td> \n",
       "    </tr>    <tr> \n",
       "        <th id=\"T_e1608b13_f1bc_11e9_a6fb_107b449f15fclevel0_row2\" class=\"row_heading level0 row2\" >каков_история_развитие</th> \n",
       "        <td id=\"T_e1608b13_f1bc_11e9_a6fb_107b449f15fcrow2_col0\" class=\"data row2 col0\" >0.08691</td> \n",
       "    </tr>    <tr> \n",
       "        <th id=\"T_e1608b13_f1bc_11e9_a6fb_107b449f15fclevel0_row3\" class=\"row_heading level0 row3\" >современный_русский_язык</th> \n",
       "        <td id=\"T_e1608b13_f1bc_11e9_a6fb_107b449f15fcrow3_col0\" class=\"data row3 col0\" >0.08691</td> \n",
       "    </tr>    <tr> \n",
       "        <th id=\"T_e1608b13_f1bc_11e9_a6fb_107b449f15fclevel0_row4\" class=\"row_heading level0 row4\" >русский_литературный_язык</th> \n",
       "        <td id=\"T_e1608b13_f1bc_11e9_a6fb_107b449f15fcrow4_col0\" class=\"data row4 col0\" >0.04345</td> \n",
       "    </tr>    <tr> \n",
       "        <th id=\"T_e1608b13_f1bc_11e9_a6fb_107b449f15fclevel0_row5\" class=\"row_heading level0 row5\" >глагол_совершенный_вид</th> \n",
       "        <td id=\"T_e1608b13_f1bc_11e9_a6fb_107b449f15fcrow5_col0\" class=\"data row5 col0\" >0.03187</td> \n",
       "    </tr>    <tr> \n",
       "        <th id=\"T_e1608b13_f1bc_11e9_a6fb_107b449f15fclevel0_row6\" class=\"row_heading level0 row6\" >начало_xii_век</th> \n",
       "        <td id=\"T_e1608b13_f1bc_11e9_a6fb_107b449f15fcrow6_col0\" class=\"data row6 col0\" >0.03186</td> \n",
       "    </tr>    <tr> \n",
       "        <th id=\"T_e1608b13_f1bc_11e9_a6fb_107b449f15fclevel0_row7\" class=\"row_heading level0 row7\" >институт_русский_язык</th> \n",
       "        <td id=\"T_e1608b13_f1bc_11e9_a6fb_107b449f15fcrow7_col0\" class=\"data row7 col0\" >0.02897</td> \n",
       "    </tr>    <tr> \n",
       "        <th id=\"T_e1608b13_f1bc_11e9_a6fb_107b449f15fclevel0_row8\" class=\"row_heading level0 row8\" >понимать_друг_друг</th> \n",
       "        <td id=\"T_e1608b13_f1bc_11e9_a6fb_107b449f15fcrow8_col0\" class=\"data row8 col0\" >0.02602</td> \n",
       "    </tr>    <tr> \n",
       "        <th id=\"T_e1608b13_f1bc_11e9_a6fb_107b449f15fclevel0_row9\" class=\"row_heading level0 row9\" >история_русский_язык</th> \n",
       "        <td id=\"T_e1608b13_f1bc_11e9_a6fb_107b449f15fcrow9_col0\" class=\"data row9 col0\" >0.02317</td> \n",
       "    </tr></tbody> \n",
       "</table> <style  type=\"text/css\" >\n",
       "</style>  \n",
       "<table id=\"T_e1608b14_f1bc_11e9_a6fb_107b449f15fc\" style='display:inline'> \n",
       "<thead>    <tr> \n",
       "        <th class=\"blank level0\" ></th> \n",
       "        <th class=\"col_heading level0 col0\" >topic_4 @post_tag</th> \n",
       "    </tr></thead> \n",
       "<tbody>    <tr> \n",
       "        <th id=\"T_e1608b14_f1bc_11e9_a6fb_107b449f15fclevel0_row0\" class=\"row_heading level0 row0\" >язык</th> \n",
       "        <td id=\"T_e1608b14_f1bc_11e9_a6fb_107b449f15fcrow0_col0\" class=\"data row0 col0\" >0.23035</td> \n",
       "    </tr>    <tr> \n",
       "        <th id=\"T_e1608b14_f1bc_11e9_a6fb_107b449f15fclevel0_row1\" class=\"row_heading level0 row1\" >лингвистика</th> \n",
       "        <td id=\"T_e1608b14_f1bc_11e9_a6fb_107b449f15fcrow1_col0\" class=\"data row1 col0\" >0.19364</td> \n",
       "    </tr>    <tr> \n",
       "        <th id=\"T_e1608b14_f1bc_11e9_a6fb_107b449f15fclevel0_row2\" class=\"row_heading level0 row2\" >филология</th> \n",
       "        <td id=\"T_e1608b14_f1bc_11e9_a6fb_107b449f15fcrow2_col0\" class=\"data row2 col0\" >0.14498</td> \n",
       "    </tr>    <tr> \n",
       "        <th id=\"T_e1608b14_f1bc_11e9_a6fb_107b449f15fclevel0_row3\" class=\"row_heading level0 row3\" >русский_язык</th> \n",
       "        <td id=\"T_e1608b14_f1bc_11e9_a6fb_107b449f15fcrow3_col0\" class=\"data row3 col0\" >0.07709</td> \n",
       "    </tr>    <tr> \n",
       "        <th id=\"T_e1608b14_f1bc_11e9_a6fb_107b449f15fclevel0_row4\" class=\"row_heading level0 row4\" >грамматика</th> \n",
       "        <td id=\"T_e1608b14_f1bc_11e9_a6fb_107b449f15fcrow4_col0\" class=\"data row4 col0\" >0.02386</td> \n",
       "    </tr>    <tr> \n",
       "        <th id=\"T_e1608b14_f1bc_11e9_a6fb_107b449f15fclevel0_row5\" class=\"row_heading level0 row5\" >речь</th> \n",
       "        <td id=\"T_e1608b14_f1bc_11e9_a6fb_107b449f15fcrow5_col0\" class=\"data row5 col0\" >0.01967</td> \n",
       "    </tr>    <tr> \n",
       "        <th id=\"T_e1608b14_f1bc_11e9_a6fb_107b449f15fclevel0_row6\" class=\"row_heading level0 row6\" >полевая_лингвистика</th> \n",
       "        <td id=\"T_e1608b14_f1bc_11e9_a6fb_107b449f15fcrow6_col0\" class=\"data row6 col0\" >0.01927</td> \n",
       "    </tr>    <tr> \n",
       "        <th id=\"T_e1608b14_f1bc_11e9_a6fb_107b449f15fclevel0_row7\" class=\"row_heading level0 row7\" >диалект</th> \n",
       "        <td id=\"T_e1608b14_f1bc_11e9_a6fb_107b449f15fcrow7_col0\" class=\"data row7 col0\" >0.0156</td> \n",
       "    </tr>    <tr> \n",
       "        <th id=\"T_e1608b14_f1bc_11e9_a6fb_107b449f15fclevel0_row8\" class=\"row_heading level0 row8\" >лингвистическая_компаративистика</th> \n",
       "        <td id=\"T_e1608b14_f1bc_11e9_a6fb_107b449f15fcrow8_col0\" class=\"data row8 col0\" >0.01468</td> \n",
       "    </tr>    <tr> \n",
       "        <th id=\"T_e1608b14_f1bc_11e9_a6fb_107b449f15fclevel0_row9\" class=\"row_heading level0 row9\" >языкознание</th> \n",
       "        <td id=\"T_e1608b14_f1bc_11e9_a6fb_107b449f15fcrow9_col0\" class=\"data row9 col0\" >0.01285</td> \n",
       "    </tr></tbody> \n",
       "</table> <style  type=\"text/css\" >\n",
       "</style>  \n",
       "<table id=\"T_e1608b15_f1bc_11e9_a6fb_107b449f15fc\" style='display:inline'> \n",
       "<thead>    <tr> \n",
       "        <th class=\"blank level0\" ></th> \n",
       "        <th class=\"col_heading level0 col0\" >topic_4 @word</th> \n",
       "    </tr></thead> \n",
       "<tbody>    <tr> \n",
       "        <th id=\"T_e1608b15_f1bc_11e9_a6fb_107b449f15fclevel0_row0\" class=\"row_heading level0 row0\" >язык</th> \n",
       "        <td id=\"T_e1608b15_f1bc_11e9_a6fb_107b449f15fcrow0_col0\" class=\"data row0 col0\" >0.03056</td> \n",
       "    </tr>    <tr> \n",
       "        <th id=\"T_e1608b15_f1bc_11e9_a6fb_107b449f15fclevel0_row1\" class=\"row_heading level0 row1\" >слово</th> \n",
       "        <td id=\"T_e1608b15_f1bc_11e9_a6fb_107b449f15fcrow1_col0\" class=\"data row1 col0\" >0.01732</td> \n",
       "    </tr>    <tr> \n",
       "        <th id=\"T_e1608b15_f1bc_11e9_a6fb_107b449f15fclevel0_row2\" class=\"row_heading level0 row2\" >говорить</th> \n",
       "        <td id=\"T_e1608b15_f1bc_11e9_a6fb_107b449f15fcrow2_col0\" class=\"data row2 col0\" >0.00676</td> \n",
       "    </tr>    <tr> \n",
       "        <th id=\"T_e1608b15_f1bc_11e9_a6fb_107b449f15fclevel0_row3\" class=\"row_heading level0 row3\" >текст</th> \n",
       "        <td id=\"T_e1608b15_f1bc_11e9_a6fb_107b449f15fcrow3_col0\" class=\"data row3 col0\" >0.00553</td> \n",
       "    </tr>    <tr> \n",
       "        <th id=\"T_e1608b15_f1bc_11e9_a6fb_107b449f15fclevel0_row4\" class=\"row_heading level0 row4\" >словарь</th> \n",
       "        <td id=\"T_e1608b15_f1bc_11e9_a6fb_107b449f15fcrow4_col0\" class=\"data row4 col0\" >0.00413</td> \n",
       "    </tr>    <tr> \n",
       "        <th id=\"T_e1608b15_f1bc_11e9_a6fb_107b449f15fclevel0_row5\" class=\"row_heading level0 row5\" >лингвист</th> \n",
       "        <td id=\"T_e1608b15_f1bc_11e9_a6fb_107b449f15fcrow5_col0\" class=\"data row5 col0\" >0.00402</td> \n",
       "    </tr>    <tr> \n",
       "        <th id=\"T_e1608b15_f1bc_11e9_a6fb_107b449f15fclevel0_row6\" class=\"row_heading level0 row6\" >знать</th> \n",
       "        <td id=\"T_e1608b15_f1bc_11e9_a6fb_107b449f15fcrow6_col0\" class=\"data row6 col0\" >0.00367</td> \n",
       "    </tr>    <tr> \n",
       "        <th id=\"T_e1608b15_f1bc_11e9_a6fb_107b449f15fclevel0_row7\" class=\"row_heading level0 row7\" >русский</th> \n",
       "        <td id=\"T_e1608b15_f1bc_11e9_a6fb_107b449f15fcrow7_col0\" class=\"data row7 col0\" >0.00365</td> \n",
       "    </tr>    <tr> \n",
       "        <th id=\"T_e1608b15_f1bc_11e9_a6fb_107b449f15fclevel0_row8\" class=\"row_heading level0 row8\" >предложение</th> \n",
       "        <td id=\"T_e1608b15_f1bc_11e9_a6fb_107b449f15fcrow8_col0\" class=\"data row8 col0\" >0.00345</td> \n",
       "    </tr>    <tr> \n",
       "        <th id=\"T_e1608b15_f1bc_11e9_a6fb_107b449f15fclevel0_row9\" class=\"row_heading level0 row9\" >речь</th> \n",
       "        <td id=\"T_e1608b15_f1bc_11e9_a6fb_107b449f15fcrow9_col0\" class=\"data row9 col0\" >0.00339</td> \n",
       "    </tr></tbody> \n",
       "</table> "
      ]
     },
     "metadata": {},
     "output_type": "display_data"
    },
    {
     "data": {
      "text/html": [
       "<b> «глагольный вид является едва ли не самым сложным для изучения» </b><br /> интервью с лингвистом алексеем шмелевым о предмете изучения аспектологии, ошибках в употреблении глаголов и сложностях русской грамматики"
      ]
     },
     "metadata": {},
     "output_type": "display_data"
    },
    {
     "data": {
      "text/html": [
       "<b> русский диалектный консонантизм </b><br /> лингвист игорь исаев о твердости/мягкости согласных, особенностях артикуляции в говорах и методах фонетического анализа речи"
      ]
     },
     "metadata": {},
     "output_type": "display_data"
    },
    {
     "data": {
      "text/html": [
       "<b> двувидовые глаголы </b><br /> лингвист александр пиперски об особенностях глаголов совершенного и несовершенного вида, интеграции в русский язык заимствованных глаголов и видовых противоречиях в русских словарях"
      ]
     },
     "metadata": {},
     "output_type": "display_data"
    },
    {
     "data": {
      "text/html": [
       "<b> гласные русского языка </b><br /> лингвист игорь исаев об истории гласных в литературном языке, следах утраченных букв и особенностях говоров"
      ]
     },
     "metadata": {},
     "output_type": "display_data"
    },
    {
     "data": {
      "text/html": [
       "<b> faqударение на предлог </b><br /> 7 фактов о системе ударений и памяти языка в поэтической традиции"
      ]
     },
     "metadata": {},
     "output_type": "display_data"
    },
    {
     "data": {
      "text/html": [
       "<b> германские языки </b><br /> лингвист александр пиперски о глагольной системе, фонетике и синтаксисе германских языков"
      ]
     },
     "metadata": {},
     "output_type": "display_data"
    },
    {
     "data": {
      "text/html": [
       "<b> «диалектные черты имеют глубокую историю, но до сих пор сохраняются носителями, живущими в деревнях» </b><br /> интервью с лингвистом игорем исаевым о диалектных особенностях северного наречия русского языка"
      ]
     },
     "metadata": {},
     "output_type": "display_data"
    },
    {
     "data": {
      "text/html": [
       "<b> микросинтаксис русского языка </b><br /> лингвист леонид иомдин об описании микросинтаксических элементов языка, грамматике конструкций и синтаксических корпусах текстов"
      ]
     },
     "metadata": {},
     "output_type": "display_data"
    },
    {
     "data": {
      "text/html": [
       "<b> faqдискурсивные слова </b><br /> 7 фактов о богатстве значений слов-паразитов"
      ]
     },
     "metadata": {},
     "output_type": "display_data"
    },
    {
     "data": {
      "text/html": [
       "<b> faqэволюция языка </b><br /> 6 фактов о языковых изменениях, причинах грамматических трансформаций и новых словах"
      ]
     },
     "metadata": {},
     "output_type": "display_data"
    }
   ],
   "source": [
    "n=5\n",
    "\n",
    "for line, topic_docs in list(zip(first_model_html, first_model_top_doc))[:n]:\n",
    "    display_html(line, raw=True)\n",
    "\n",
    "    for doc_id in topic_docs:\n",
    "        doc_vw = demo_data.get_vw_document(doc_id).values[0][0]\n",
    "        doc_title = get_modality_vw(doc_vw, \"@title\")\n",
    "        doc_snippet = get_modality_vw(doc_vw, \"@snippet\")\n",
    "        display_html(f\"<b>{doc_title}</b><br />{doc_snippet}\", raw=True)"
   ]
  }
 ],
 "metadata": {
  "kernelspec": {
   "display_name": "Environment (conda_artm10)",
   "language": "python",
   "name": "conda_artm10"
  },
  "language_info": {
   "codemirror_mode": {
    "name": "ipython",
    "version": 3
   },
   "file_extension": ".py",
   "mimetype": "text/x-python",
   "name": "python",
   "nbconvert_exporter": "python",
   "pygments_lexer": "ipython3",
   "version": "3.7.4"
  }
 },
 "nbformat": 4,
 "nbformat_minor": 2
}
